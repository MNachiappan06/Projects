{
  "nbformat": 4,
  "nbformat_minor": 0,
  "metadata": {
    "colab": {
      "name": "Untitled1.ipynb",
      "provenance": [],
      "collapsed_sections": []
    },
    "kernelspec": {
      "name": "python3",
      "display_name": "Python 3"
    }
  },
  "cells": [
    {
      "cell_type": "code",
      "metadata": {
        "id": "lRcv_bRqaf8y",
        "colab_type": "code",
        "colab": {
          "base_uri": "https://localhost:8080/",
          "height": 122
        },
        "outputId": "e4fac505-ffbd-46f8-9a1f-643147cbc8b2"
      },
      "source": [
        "from google.colab import drive\n",
        "drive.mount('/content/gdrive')"
      ],
      "execution_count": 2,
      "outputs": [
        {
          "output_type": "stream",
          "text": [
            "Go to this URL in a browser: https://accounts.google.com/o/oauth2/auth?client_id=947318989803-6bn6qk8qdgf4n4g3pfee6491hc0brc4i.apps.googleusercontent.com&redirect_uri=urn%3aietf%3awg%3aoauth%3a2.0%3aoob&response_type=code&scope=email%20https%3a%2f%2fwww.googleapis.com%2fauth%2fdocs.test%20https%3a%2f%2fwww.googleapis.com%2fauth%2fdrive%20https%3a%2f%2fwww.googleapis.com%2fauth%2fdrive.photos.readonly%20https%3a%2f%2fwww.googleapis.com%2fauth%2fpeopleapi.readonly\n",
            "\n",
            "Enter your authorization code:\n",
            "··········\n",
            "Mounted at /content/gdrive\n"
          ],
          "name": "stdout"
        }
      ]
    },
    {
      "cell_type": "code",
      "metadata": {
        "id": "CTYBS6uVdap3",
        "colab_type": "code",
        "colab": {}
      },
      "source": [
        "import pandas as pd"
      ],
      "execution_count": 0,
      "outputs": []
    },
    {
      "cell_type": "code",
      "metadata": {
        "id": "kqtnA77sdjLP",
        "colab_type": "code",
        "colab": {}
      },
      "source": [
        "ratings = pd.read_csv('gdrive/My Drive/AIML/ratings_Electronics_Ver3.csv',encoding = \"ISO-8859-1\",usecols=[0,1,2])"
      ],
      "execution_count": 0,
      "outputs": []
    },
    {
      "cell_type": "code",
      "metadata": {
        "id": "1HHlL7LVhfVh",
        "colab_type": "code",
        "colab": {
          "base_uri": "https://localhost:8080/",
          "height": 204
        },
        "outputId": "c08ab355-430d-46ff-fa79-6974d7a0b531"
      },
      "source": [
        "ratings.head()"
      ],
      "execution_count": 46,
      "outputs": [
        {
          "output_type": "execute_result",
          "data": {
            "text/html": [
              "<div>\n",
              "<style scoped>\n",
              "    .dataframe tbody tr th:only-of-type {\n",
              "        vertical-align: middle;\n",
              "    }\n",
              "\n",
              "    .dataframe tbody tr th {\n",
              "        vertical-align: top;\n",
              "    }\n",
              "\n",
              "    .dataframe thead th {\n",
              "        text-align: right;\n",
              "    }\n",
              "</style>\n",
              "<table border=\"1\" class=\"dataframe\">\n",
              "  <thead>\n",
              "    <tr style=\"text-align: right;\">\n",
              "      <th></th>\n",
              "      <th>userId</th>\n",
              "      <th>productId</th>\n",
              "      <th>ratings</th>\n",
              "    </tr>\n",
              "  </thead>\n",
              "  <tbody>\n",
              "    <tr>\n",
              "      <th>0</th>\n",
              "      <td>A2CX7LUOHB2NDG</td>\n",
              "      <td>0321732944</td>\n",
              "      <td>5.0</td>\n",
              "    </tr>\n",
              "    <tr>\n",
              "      <th>1</th>\n",
              "      <td>A2NWSAGRHCP8N5</td>\n",
              "      <td>0439886341</td>\n",
              "      <td>1.0</td>\n",
              "    </tr>\n",
              "    <tr>\n",
              "      <th>2</th>\n",
              "      <td>A2WNBOD3WNDNKT</td>\n",
              "      <td>0439886341</td>\n",
              "      <td>3.0</td>\n",
              "    </tr>\n",
              "    <tr>\n",
              "      <th>3</th>\n",
              "      <td>A1GI0U4ZRJA8WN</td>\n",
              "      <td>0439886341</td>\n",
              "      <td>1.0</td>\n",
              "    </tr>\n",
              "    <tr>\n",
              "      <th>4</th>\n",
              "      <td>A1QGNMC6O1VW39</td>\n",
              "      <td>0511189877</td>\n",
              "      <td>5.0</td>\n",
              "    </tr>\n",
              "  </tbody>\n",
              "</table>\n",
              "</div>"
            ],
            "text/plain": [
              "           userId   productId  ratings\n",
              "0  A2CX7LUOHB2NDG  0321732944      5.0\n",
              "1  A2NWSAGRHCP8N5  0439886341      1.0\n",
              "2  A2WNBOD3WNDNKT  0439886341      3.0\n",
              "3  A1GI0U4ZRJA8WN  0439886341      1.0\n",
              "4  A1QGNMC6O1VW39  0511189877      5.0"
            ]
          },
          "metadata": {
            "tags": []
          },
          "execution_count": 46
        }
      ]
    },
    {
      "cell_type": "code",
      "metadata": {
        "id": "ipug8mVChREs",
        "colab_type": "code",
        "colab": {
          "base_uri": "https://localhost:8080/",
          "height": 204
        },
        "outputId": "795b7da1-3537-4f8f-d07a-ece9ff43223e"
      },
      "source": [
        "ratings.head()"
      ],
      "execution_count": 6,
      "outputs": [
        {
          "output_type": "execute_result",
          "data": {
            "text/html": [
              "<div>\n",
              "<style scoped>\n",
              "    .dataframe tbody tr th:only-of-type {\n",
              "        vertical-align: middle;\n",
              "    }\n",
              "\n",
              "    .dataframe tbody tr th {\n",
              "        vertical-align: top;\n",
              "    }\n",
              "\n",
              "    .dataframe thead th {\n",
              "        text-align: right;\n",
              "    }\n",
              "</style>\n",
              "<table border=\"1\" class=\"dataframe\">\n",
              "  <thead>\n",
              "    <tr style=\"text-align: right;\">\n",
              "      <th></th>\n",
              "      <th>ratings_Electronics.csv</th>\n",
              "      <th>0132793040</th>\n",
              "      <th>5.0</th>\n",
              "    </tr>\n",
              "  </thead>\n",
              "  <tbody>\n",
              "    <tr>\n",
              "      <th>0</th>\n",
              "      <td>A2CX7LUOHB2NDG</td>\n",
              "      <td>0321732944</td>\n",
              "      <td>5.0</td>\n",
              "    </tr>\n",
              "    <tr>\n",
              "      <th>1</th>\n",
              "      <td>A2NWSAGRHCP8N5</td>\n",
              "      <td>0439886341</td>\n",
              "      <td>1.0</td>\n",
              "    </tr>\n",
              "    <tr>\n",
              "      <th>2</th>\n",
              "      <td>A2WNBOD3WNDNKT</td>\n",
              "      <td>0439886341</td>\n",
              "      <td>3.0</td>\n",
              "    </tr>\n",
              "    <tr>\n",
              "      <th>3</th>\n",
              "      <td>A1GI0U4ZRJA8WN</td>\n",
              "      <td>0439886341</td>\n",
              "      <td>1.0</td>\n",
              "    </tr>\n",
              "    <tr>\n",
              "      <th>4</th>\n",
              "      <td>A1QGNMC6O1VW39</td>\n",
              "      <td>0511189877</td>\n",
              "      <td>5.0</td>\n",
              "    </tr>\n",
              "  </tbody>\n",
              "</table>\n",
              "</div>"
            ],
            "text/plain": [
              "  ratings_Electronics.csv  0132793040  5.0\n",
              "0          A2CX7LUOHB2NDG  0321732944  5.0\n",
              "1          A2NWSAGRHCP8N5  0439886341  1.0\n",
              "2          A2WNBOD3WNDNKT  0439886341  3.0\n",
              "3          A1GI0U4ZRJA8WN  0439886341  1.0\n",
              "4          A1QGNMC6O1VW39  0511189877  5.0"
            ]
          },
          "metadata": {
            "tags": []
          },
          "execution_count": 6
        }
      ]
    },
    {
      "cell_type": "code",
      "metadata": {
        "id": "Xn80Ku1VwgNU",
        "colab_type": "code",
        "colab": {}
      },
      "source": [
        "from IPython.core.interactiveshell import InteractiveShell\n",
        "InteractiveShell.ast_node_interactivity = \"all\""
      ],
      "execution_count": 0,
      "outputs": []
    },
    {
      "cell_type": "markdown",
      "metadata": {
        "id": "oawITTAjw0FS",
        "colab_type": "text"
      },
      "source": [
        "Item based Collaborative Filtering & popularity based filtering"
      ]
    },
    {
      "cell_type": "markdown",
      "metadata": {
        "id": "C_Wt02a5wt2s",
        "colab_type": "text"
      },
      "source": [
        "Load data"
      ]
    },
    {
      "cell_type": "code",
      "metadata": {
        "id": "a1Uh7rtZw6hP",
        "colab_type": "code",
        "colab": {}
      },
      "source": [
        "import pandas as pd\n",
        "import numpy as np\n",
        "import seaborn as sns\n",
        "import matplotlib.pyplot as plt\n",
        "from surprise import Dataset,Reader\n",
        "from surprise import KNNWithMeans\n",
        "from surprise.model_selection import train_test_split\n",
        "from surprise import accuracy\n",
        "from surprise.model_selection import cross_validate\n",
        "from collections import defaultdict\n",
        "from surprise import SVD\n",
        "# Import the libraries\n",
        "import warnings\n",
        "warnings.filterwarnings('ignore')\n",
        "%matplotlib inline\n",
        "import matplotlib.pyplot as plt\n",
        "import seaborn as sns"
      ],
      "execution_count": 0,
      "outputs": []
    },
    {
      "cell_type": "code",
      "metadata": {
        "id": "p2gTeQFHxBCf",
        "colab_type": "code",
        "colab": {
          "base_uri": "https://localhost:8080/",
          "height": 275
        },
        "outputId": "7e4c91a2-7db5-4a9a-a75e-0e26278be19b"
      },
      "source": [
        "!pip install scikit-surprise"
      ],
      "execution_count": 8,
      "outputs": [
        {
          "output_type": "stream",
          "text": [
            "Collecting scikit-surprise\n",
            "\u001b[?25l  Downloading https://files.pythonhosted.org/packages/f5/da/b5700d96495fb4f092be497f02492768a3d96a3f4fa2ae7dea46d4081cfa/scikit-surprise-1.1.0.tar.gz (6.4MB)\n",
            "\u001b[K     |████████████████████████████████| 6.5MB 9.2MB/s \n",
            "\u001b[?25hRequirement already satisfied: joblib>=0.11 in /usr/local/lib/python3.6/dist-packages (from scikit-surprise) (0.14.0)\n",
            "Requirement already satisfied: numpy>=1.11.2 in /usr/local/lib/python3.6/dist-packages (from scikit-surprise) (1.17.4)\n",
            "Requirement already satisfied: scipy>=1.0.0 in /usr/local/lib/python3.6/dist-packages (from scikit-surprise) (1.3.2)\n",
            "Requirement already satisfied: six>=1.10.0 in /usr/local/lib/python3.6/dist-packages (from scikit-surprise) (1.12.0)\n",
            "Building wheels for collected packages: scikit-surprise\n",
            "  Building wheel for scikit-surprise (setup.py) ... \u001b[?25l\u001b[?25hdone\n",
            "  Created wheel for scikit-surprise: filename=scikit_surprise-1.1.0-cp36-cp36m-linux_x86_64.whl size=1678219 sha256=bfc0c533fe6197621214077e7c762e3212d5d4deb4bffdad49f036ce66111c27\n",
            "  Stored in directory: /root/.cache/pip/wheels/cc/fa/8c/16c93fccce688ae1bde7d979ff102f7bee980d9cfeb8641bcf\n",
            "Successfully built scikit-surprise\n",
            "Installing collected packages: scikit-surprise\n",
            "Successfully installed scikit-surprise-1.1.0\n"
          ],
          "name": "stdout"
        }
      ]
    },
    {
      "cell_type": "markdown",
      "metadata": {
        "id": "-xQqvv4uzLS2",
        "colab_type": "text"
      },
      "source": [
        "1. Read and explore the given dataset. ( Rename column/add headers, plot histograms, find data characteristics)"
      ]
    },
    {
      "cell_type": "code",
      "metadata": {
        "id": "Ms1JWMW9zPSU",
        "colab_type": "code",
        "colab": {
          "base_uri": "https://localhost:8080/",
          "height": 204
        },
        "outputId": "dedd6acf-a364-448b-881c-3d29912778c1"
      },
      "source": [
        "## the timestamp cols are of no interest for our current work,so only reading the first 3 columns\n",
        "ratings = pd.read_csv('gdrive/My Drive/AIML/ratings_Electronics_Ver3.csv',encoding = \"ISO-8859-1\",usecols=[0,1,2])\n",
        "ratings.columns = ['userId','productId','ratings']\n",
        "ratings.head()"
      ],
      "execution_count": 10,
      "outputs": [
        {
          "output_type": "execute_result",
          "data": {
            "text/html": [
              "<div>\n",
              "<style scoped>\n",
              "    .dataframe tbody tr th:only-of-type {\n",
              "        vertical-align: middle;\n",
              "    }\n",
              "\n",
              "    .dataframe tbody tr th {\n",
              "        vertical-align: top;\n",
              "    }\n",
              "\n",
              "    .dataframe thead th {\n",
              "        text-align: right;\n",
              "    }\n",
              "</style>\n",
              "<table border=\"1\" class=\"dataframe\">\n",
              "  <thead>\n",
              "    <tr style=\"text-align: right;\">\n",
              "      <th></th>\n",
              "      <th>userId</th>\n",
              "      <th>productId</th>\n",
              "      <th>ratings</th>\n",
              "    </tr>\n",
              "  </thead>\n",
              "  <tbody>\n",
              "    <tr>\n",
              "      <th>0</th>\n",
              "      <td>A2CX7LUOHB2NDG</td>\n",
              "      <td>0321732944</td>\n",
              "      <td>5.0</td>\n",
              "    </tr>\n",
              "    <tr>\n",
              "      <th>1</th>\n",
              "      <td>A2NWSAGRHCP8N5</td>\n",
              "      <td>0439886341</td>\n",
              "      <td>1.0</td>\n",
              "    </tr>\n",
              "    <tr>\n",
              "      <th>2</th>\n",
              "      <td>A2WNBOD3WNDNKT</td>\n",
              "      <td>0439886341</td>\n",
              "      <td>3.0</td>\n",
              "    </tr>\n",
              "    <tr>\n",
              "      <th>3</th>\n",
              "      <td>A1GI0U4ZRJA8WN</td>\n",
              "      <td>0439886341</td>\n",
              "      <td>1.0</td>\n",
              "    </tr>\n",
              "    <tr>\n",
              "      <th>4</th>\n",
              "      <td>A1QGNMC6O1VW39</td>\n",
              "      <td>0511189877</td>\n",
              "      <td>5.0</td>\n",
              "    </tr>\n",
              "  </tbody>\n",
              "</table>\n",
              "</div>"
            ],
            "text/plain": [
              "           userId   productId  ratings\n",
              "0  A2CX7LUOHB2NDG  0321732944      5.0\n",
              "1  A2NWSAGRHCP8N5  0439886341      1.0\n",
              "2  A2WNBOD3WNDNKT  0439886341      3.0\n",
              "3  A1GI0U4ZRJA8WN  0439886341      1.0\n",
              "4  A1QGNMC6O1VW39  0511189877      5.0"
            ]
          },
          "metadata": {
            "tags": []
          },
          "execution_count": 10
        }
      ]
    },
    {
      "cell_type": "code",
      "metadata": {
        "id": "hE8D9zE04U2J",
        "colab_type": "code",
        "colab": {
          "base_uri": "https://localhost:8080/",
          "height": 34
        },
        "outputId": "f20e11a5-8a66-4daa-de48-69bd37fc62b5"
      },
      "source": [
        "ratings.shape"
      ],
      "execution_count": 11,
      "outputs": [
        {
          "output_type": "execute_result",
          "data": {
            "text/plain": [
              "(7824482, 3)"
            ]
          },
          "metadata": {
            "tags": []
          },
          "execution_count": 11
        }
      ]
    },
    {
      "cell_type": "code",
      "metadata": {
        "id": "WO5phJPW4yOI",
        "colab_type": "code",
        "colab": {
          "base_uri": "https://localhost:8080/",
          "height": 153
        },
        "outputId": "7aa725b5-eeda-4a3c-b511-6b0122f5d332"
      },
      "source": [
        "ratings.info()"
      ],
      "execution_count": 12,
      "outputs": [
        {
          "output_type": "stream",
          "text": [
            "<class 'pandas.core.frame.DataFrame'>\n",
            "RangeIndex: 7824482 entries, 0 to 7824481\n",
            "Data columns (total 3 columns):\n",
            "userId       object\n",
            "productId    object\n",
            "ratings      float64\n",
            "dtypes: float64(1), object(2)\n",
            "memory usage: 179.1+ MB\n"
          ],
          "name": "stdout"
        }
      ]
    },
    {
      "cell_type": "code",
      "metadata": {
        "id": "dXEUkCNM5hQM",
        "colab_type": "code",
        "colab": {}
      },
      "source": [
        "ratings.userId=ratings.userId.astype(str)                          #For safer side converting the attributes userId and Product Id into string\n",
        "ratings.productId=ratings.productId.astype(str)\n",
        "#ratings.ratings=ratings.ratings.astype(int)"
      ],
      "execution_count": 0,
      "outputs": []
    },
    {
      "cell_type": "code",
      "metadata": {
        "id": "4DP6J10w5lzR",
        "colab_type": "code",
        "colab": {
          "base_uri": "https://localhost:8080/",
          "height": 153
        },
        "outputId": "a8745a3d-9024-4858-ee82-9ae584aeac2b"
      },
      "source": [
        "ratings.info()"
      ],
      "execution_count": 14,
      "outputs": [
        {
          "output_type": "stream",
          "text": [
            "<class 'pandas.core.frame.DataFrame'>\n",
            "RangeIndex: 7824482 entries, 0 to 7824481\n",
            "Data columns (total 3 columns):\n",
            "userId       object\n",
            "productId    object\n",
            "ratings      float64\n",
            "dtypes: float64(1), object(2)\n",
            "memory usage: 179.1+ MB\n"
          ],
          "name": "stdout"
        }
      ]
    },
    {
      "cell_type": "code",
      "metadata": {
        "id": "p5ogKVhm5454",
        "colab_type": "code",
        "colab": {
          "base_uri": "https://localhost:8080/",
          "height": 80
        },
        "outputId": "c86081a0-d493-43a6-e0ff-96584694a61c"
      },
      "source": [
        "ratings.describe().T"
      ],
      "execution_count": 15,
      "outputs": [
        {
          "output_type": "execute_result",
          "data": {
            "text/html": [
              "<div>\n",
              "<style scoped>\n",
              "    .dataframe tbody tr th:only-of-type {\n",
              "        vertical-align: middle;\n",
              "    }\n",
              "\n",
              "    .dataframe tbody tr th {\n",
              "        vertical-align: top;\n",
              "    }\n",
              "\n",
              "    .dataframe thead th {\n",
              "        text-align: right;\n",
              "    }\n",
              "</style>\n",
              "<table border=\"1\" class=\"dataframe\">\n",
              "  <thead>\n",
              "    <tr style=\"text-align: right;\">\n",
              "      <th></th>\n",
              "      <th>count</th>\n",
              "      <th>mean</th>\n",
              "      <th>std</th>\n",
              "      <th>min</th>\n",
              "      <th>25%</th>\n",
              "      <th>50%</th>\n",
              "      <th>75%</th>\n",
              "      <th>max</th>\n",
              "    </tr>\n",
              "  </thead>\n",
              "  <tbody>\n",
              "    <tr>\n",
              "      <th>ratings</th>\n",
              "      <td>7824481.0</td>\n",
              "      <td>4.012337</td>\n",
              "      <td>1.38091</td>\n",
              "      <td>1.0</td>\n",
              "      <td>3.0</td>\n",
              "      <td>5.0</td>\n",
              "      <td>5.0</td>\n",
              "      <td>5.0</td>\n",
              "    </tr>\n",
              "  </tbody>\n",
              "</table>\n",
              "</div>"
            ],
            "text/plain": [
              "             count      mean      std  min  25%  50%  75%  max\n",
              "ratings  7824481.0  4.012337  1.38091  1.0  3.0  5.0  5.0  5.0"
            ]
          },
          "metadata": {
            "tags": []
          },
          "execution_count": 15
        }
      ]
    },
    {
      "cell_type": "markdown",
      "metadata": {
        "id": "ht7YP8oq7UtH",
        "colab_type": "text"
      },
      "source": [
        "Data Exploration and Transformation\n"
      ]
    },
    {
      "cell_type": "code",
      "metadata": {
        "id": "EnPWaxP67OBL",
        "colab_type": "code",
        "colab": {
          "base_uri": "https://localhost:8080/",
          "height": 85
        },
        "outputId": "0816084d-4050-4335-f83e-0b7a32c45a13"
      },
      "source": [
        "ratings.isna().sum()"
      ],
      "execution_count": 16,
      "outputs": [
        {
          "output_type": "execute_result",
          "data": {
            "text/plain": [
              "userId       0\n",
              "productId    0\n",
              "ratings      1\n",
              "dtype: int64"
            ]
          },
          "metadata": {
            "tags": []
          },
          "execution_count": 16
        }
      ]
    },
    {
      "cell_type": "code",
      "metadata": {
        "id": "V6SyM7dq7wRa",
        "colab_type": "code",
        "colab": {
          "base_uri": "https://localhost:8080/",
          "height": 85
        },
        "outputId": "ed90c859-bdd7-4d1f-c1cf-bcab66e39641"
      },
      "source": [
        "ratings.isnull().any()"
      ],
      "execution_count": 17,
      "outputs": [
        {
          "output_type": "execute_result",
          "data": {
            "text/plain": [
              "userId       False\n",
              "productId    False\n",
              "ratings       True\n",
              "dtype: bool"
            ]
          },
          "metadata": {
            "tags": []
          },
          "execution_count": 17
        }
      ]
    },
    {
      "cell_type": "code",
      "metadata": {
        "id": "WdLikY5M70uE",
        "colab_type": "code",
        "colab": {}
      },
      "source": [
        "ratings_1 = ratings.dropna()    "
      ],
      "execution_count": 0,
      "outputs": []
    },
    {
      "cell_type": "code",
      "metadata": {
        "id": "orhmzy7q79-s",
        "colab_type": "code",
        "colab": {
          "base_uri": "https://localhost:8080/",
          "height": 34
        },
        "outputId": "c2145fee-bc06-4033-cae2-5483db77face"
      },
      "source": [
        "ratings.shape"
      ],
      "execution_count": 19,
      "outputs": [
        {
          "output_type": "execute_result",
          "data": {
            "text/plain": [
              "(7824482, 3)"
            ]
          },
          "metadata": {
            "tags": []
          },
          "execution_count": 19
        }
      ]
    },
    {
      "cell_type": "code",
      "metadata": {
        "id": "8BgiSifW8GhY",
        "colab_type": "code",
        "colab": {
          "base_uri": "https://localhost:8080/",
          "height": 34
        },
        "outputId": "926144dd-fd74-4317-c932-16bc465854bd"
      },
      "source": [
        "ratings_1.shape #null values Dropped"
      ],
      "execution_count": 20,
      "outputs": [
        {
          "output_type": "execute_result",
          "data": {
            "text/plain": [
              "(7824481, 3)"
            ]
          },
          "metadata": {
            "tags": []
          },
          "execution_count": 20
        }
      ]
    },
    {
      "cell_type": "code",
      "metadata": {
        "id": "HLu3Uqb98LaM",
        "colab_type": "code",
        "colab": {
          "base_uri": "https://localhost:8080/",
          "height": 34
        },
        "outputId": "da025194-354c-4a5a-84b4-c84e6d5fbb39"
      },
      "source": [
        "print(\"Total Unique userid :\", len(ratings_1[\"userId\"].unique()))"
      ],
      "execution_count": 21,
      "outputs": [
        {
          "output_type": "stream",
          "text": [
            "Total Unique userid : 4201696\n"
          ],
          "name": "stdout"
        }
      ]
    },
    {
      "cell_type": "markdown",
      "metadata": {
        "id": "BgJ6j8fe-Tjg",
        "colab_type": "text"
      },
      "source": [
        "Q: Who are the users with maximum no of products purchased?"
      ]
    },
    {
      "cell_type": "code",
      "metadata": {
        "id": "6H1SoV43-WBe",
        "colab_type": "code",
        "colab": {
          "base_uri": "https://localhost:8080/",
          "height": 221
        },
        "outputId": "808d8dca-4a28-487d-aded-4eb4f818e62d"
      },
      "source": [
        "ratingscount = ratings_1[\"userId\"].value_counts() #From this we can find the users who have maximum number of purchase in the amazon site\n",
        "ratingscount"
      ],
      "execution_count": 22,
      "outputs": [
        {
          "output_type": "execute_result",
          "data": {
            "text/plain": [
              "A5JLAU2ARJ0BO     520\n",
              "ADLVFFE4VBT8      501\n",
              "A3OXHLG6DIBRW8    498\n",
              "A6FIAB28IS79      431\n",
              "A680RUE1FDO8B     406\n",
              "                 ... \n",
              "AJQPPXG6YHPTV       1\n",
              "A3QYYMJLL7SKQK      1\n",
              "A11VOZW49MXNZC      1\n",
              "A3C8BW8P0RL6Z3      1\n",
              "A35H600VAZ967Q      1\n",
              "Name: userId, Length: 4201696, dtype: int64"
            ]
          },
          "metadata": {
            "tags": []
          },
          "execution_count": 22
        }
      ]
    },
    {
      "cell_type": "markdown",
      "metadata": {
        "id": "kkdn-SN2J90G",
        "colab_type": "text"
      },
      "source": [
        "#As per the criteria considering the users who have done purchase for more than 50 products"
      ]
    },
    {
      "cell_type": "code",
      "metadata": {
        "id": "CD-FpaKCKIoB",
        "colab_type": "code",
        "colab": {
          "base_uri": "https://localhost:8080/",
          "height": 153
        },
        "outputId": "285d1046-6077-4a04-9c3c-5caa91c52ce9"
      },
      "source": [
        "greaterthanfiftyusers = ratingscount[ratingscount >=50].index\n",
        "greaterthanfiftyusers"
      ],
      "execution_count": 23,
      "outputs": [
        {
          "output_type": "execute_result",
          "data": {
            "text/plain": [
              "Index(['A5JLAU2ARJ0BO', 'ADLVFFE4VBT8', 'A3OXHLG6DIBRW8', 'A6FIAB28IS79',\n",
              "       'A680RUE1FDO8B', 'A1ODOGXEYECQQ8', 'A36K2N527TXXJN', 'A2AY4YUOX2N1BQ',\n",
              "       'AWPODHOB4GFWL', 'A25C2M3QF9G7OQ',\n",
              "       ...\n",
              "       'A319Y83RT0MRVR', 'A2NYOY6H42SORF', 'A3LSEIG2PIJYBL', 'A7Z2J9V37ABCO',\n",
              "       'A3JAH5WW61N2EK', 'A19N3S7CBSU6O7', 'A21S26XYPGXJZX', 'A1EOTB1WHLSW6G',\n",
              "       'A3VZH0PWLQ9BB1', 'AXU8RH1DEV21H'],\n",
              "      dtype='object', length=1540)"
            ]
          },
          "metadata": {
            "tags": []
          },
          "execution_count": 23
        }
      ]
    },
    {
      "cell_type": "code",
      "metadata": {
        "id": "_VhtuKV8PEa0",
        "colab_type": "code",
        "colab": {
          "base_uri": "https://localhost:8080/",
          "height": 34
        },
        "outputId": "6e1d2b45-2cc0-47a3-be96-d041a83b1dc4"
      },
      "source": [
        "len(greaterthanfiftyusers.unique())"
      ],
      "execution_count": 24,
      "outputs": [
        {
          "output_type": "execute_result",
          "data": {
            "text/plain": [
              "1540"
            ]
          },
          "metadata": {
            "tags": []
          },
          "execution_count": 24
        }
      ]
    },
    {
      "cell_type": "code",
      "metadata": {
        "id": "A0-QojypPcCF",
        "colab_type": "code",
        "colab": {
          "base_uri": "https://localhost:8080/",
          "height": 221
        },
        "outputId": "c305cecc-d1d0-4e32-ea1f-947a4c78bcc5"
      },
      "source": [
        "##to find highest purchased product\n",
        "ratings_1.productId.value_counts()"
      ],
      "execution_count": 25,
      "outputs": [
        {
          "output_type": "execute_result",
          "data": {
            "text/plain": [
              "B0074BW614    18244\n",
              "B00DR0PDNE    16454\n",
              "B007WTAJTO    14172\n",
              "B0019EHU8G    12285\n",
              "B006GWO5WK    12226\n",
              "              ...  \n",
              "B00EV3O2BK        1\n",
              "B0093TE5LO        1\n",
              "B000OY68JY        1\n",
              "B00326NS4Y        1\n",
              "B002RL8UDO        1\n",
              "Name: productId, Length: 476001, dtype: int64"
            ]
          },
          "metadata": {
            "tags": []
          },
          "execution_count": 25
        }
      ]
    },
    {
      "cell_type": "markdown",
      "metadata": {
        "id": "NZlQVw1_UCd0",
        "colab_type": "text"
      },
      "source": [
        "Maximum number of products purchased"
      ]
    },
    {
      "cell_type": "code",
      "metadata": {
        "id": "8e0bORIRUGuz",
        "colab_type": "code",
        "colab": {
          "base_uri": "https://localhost:8080/",
          "height": 34
        },
        "outputId": "ed8dc07c-aecc-4558-f039-9664e67ea261"
      },
      "source": [
        "ratings_1.shape"
      ],
      "execution_count": 26,
      "outputs": [
        {
          "output_type": "execute_result",
          "data": {
            "text/plain": [
              "(7824481, 3)"
            ]
          },
          "metadata": {
            "tags": []
          },
          "execution_count": 26
        }
      ]
    },
    {
      "cell_type": "markdown",
      "metadata": {
        "id": "JAWYQKs_hM1l",
        "colab_type": "text"
      },
      "source": [
        "Distribution with respect to Ratings and user"
      ]
    },
    {
      "cell_type": "code",
      "metadata": {
        "id": "N8OXrJYMhahP",
        "colab_type": "code",
        "colab": {
          "base_uri": "https://localhost:8080/",
          "height": 315
        },
        "outputId": "1b62605e-1ca9-41eb-f5f8-eb8cb5d65a6a"
      },
      "source": [
        "ratings_1.hist('ratings',bins = 5)"
      ],
      "execution_count": 27,
      "outputs": [
        {
          "output_type": "execute_result",
          "data": {
            "text/plain": [
              "array([[<matplotlib.axes._subplots.AxesSubplot object at 0x7f03c61ac160>]],\n",
              "      dtype=object)"
            ]
          },
          "metadata": {
            "tags": []
          },
          "execution_count": 27
        },
        {
          "output_type": "display_data",
          "data": {
            "image/png": "[encoded data removed]",
            "text/plain": [
              "<Figure size 432x288 with 1 Axes>"
            ]
          },
          "metadata": {
            "tags": []
          }
        }
      ]
    },
    {
      "cell_type": "code",
      "metadata": {
        "id": "oaFFUyPFhiTq",
        "colab_type": "code",
        "colab": {
          "base_uri": "https://localhost:8080/",
          "height": 315
        },
        "outputId": "948f6f6d-c111-4cf7-e38c-16cb623b99e3"
      },
      "source": [
        "ratings_1.hist('ratings',bins = 10)"
      ],
      "execution_count": 28,
      "outputs": [
        {
          "output_type": "execute_result",
          "data": {
            "text/plain": [
              "array([[<matplotlib.axes._subplots.AxesSubplot object at 0x7f03c62012e8>]],\n",
              "      dtype=object)"
            ]
          },
          "metadata": {
            "tags": []
          },
          "execution_count": 28
        },
        {
          "output_type": "display_data",
          "data": {
            "image/png": "[encoded data removed]",
            "text/plain": [
              "<Figure size 432x288 with 1 Axes>"
            ]
          },
          "metadata": {
            "tags": []
          }
        }
      ]
    },
    {
      "cell_type": "code",
      "metadata": {
        "id": "eAEqFppKjV5A",
        "colab_type": "code",
        "colab": {
          "base_uri": "https://localhost:8080/",
          "height": 315
        },
        "outputId": "2c40778c-072a-4a09-ad52-540768d99df8"
      },
      "source": [
        "ratings_1.hist('ratings')"
      ],
      "execution_count": 29,
      "outputs": [
        {
          "output_type": "execute_result",
          "data": {
            "text/plain": [
              "array([[<matplotlib.axes._subplots.AxesSubplot object at 0x7f03a7842358>]],\n",
              "      dtype=object)"
            ]
          },
          "metadata": {
            "tags": []
          },
          "execution_count": 29
        },
        {
          "output_type": "display_data",
          "data": {
            "image/png": "[encoded data removed]",
            "text/plain": [
              "<Figure size 432x288 with 1 Axes>"
            ]
          },
          "metadata": {
            "tags": []
          }
        }
      ]
    },
    {
      "cell_type": "markdown",
      "metadata": {
        "id": "AH6HAcFNmiDd",
        "colab_type": "text"
      },
      "source": [
        "From the histogram we conclude that we have many products with rating 5, secondly we have second highest products with rating 4, few products we have 3 and we have very few products on rating 2 and we have more number of products with 1 rating when compared with rating 2 products, which are very low"
      ]
    },
    {
      "cell_type": "markdown",
      "metadata": {
        "id": "M2dWDMKbP_id",
        "colab_type": "text"
      },
      "source": [
        "Ratings Distribution with respect to Product"
      ]
    },
    {
      "cell_type": "code",
      "metadata": {
        "id": "iWOsfoqiRCtS",
        "colab_type": "code",
        "colab": {
          "base_uri": "https://localhost:8080/",
          "height": 450
        },
        "outputId": "749d84d5-0dcc-4b47-a6d2-ea32cd03fddb"
      },
      "source": [
        "ratings_1.groupby('productId').count()\n",
        " #the product correspoding count is displayed, e.g product id 0321732944 has 1 userid count, hence rating count is 1, \n",
        " #i.e. product column is grouped by and the count with respect to other attributes are displayed "
      ],
      "execution_count": 30,
      "outputs": [
        {
          "output_type": "execute_result",
          "data": {
            "text/html": [
              "<div>\n",
              "<style scoped>\n",
              "    .dataframe tbody tr th:only-of-type {\n",
              "        vertical-align: middle;\n",
              "    }\n",
              "\n",
              "    .dataframe tbody tr th {\n",
              "        vertical-align: top;\n",
              "    }\n",
              "\n",
              "    .dataframe thead th {\n",
              "        text-align: right;\n",
              "    }\n",
              "</style>\n",
              "<table border=\"1\" class=\"dataframe\">\n",
              "  <thead>\n",
              "    <tr style=\"text-align: right;\">\n",
              "      <th></th>\n",
              "      <th>userId</th>\n",
              "      <th>ratings</th>\n",
              "    </tr>\n",
              "    <tr>\n",
              "      <th>productId</th>\n",
              "      <th></th>\n",
              "      <th></th>\n",
              "    </tr>\n",
              "  </thead>\n",
              "  <tbody>\n",
              "    <tr>\n",
              "      <th>0321732944</th>\n",
              "      <td>1</td>\n",
              "      <td>1</td>\n",
              "    </tr>\n",
              "    <tr>\n",
              "      <th>0439886341</th>\n",
              "      <td>3</td>\n",
              "      <td>3</td>\n",
              "    </tr>\n",
              "    <tr>\n",
              "      <th>0511189877</th>\n",
              "      <td>6</td>\n",
              "      <td>6</td>\n",
              "    </tr>\n",
              "    <tr>\n",
              "      <th>0528881469</th>\n",
              "      <td>27</td>\n",
              "      <td>27</td>\n",
              "    </tr>\n",
              "    <tr>\n",
              "      <th>0558835155</th>\n",
              "      <td>1</td>\n",
              "      <td>1</td>\n",
              "    </tr>\n",
              "    <tr>\n",
              "      <th>...</th>\n",
              "      <td>...</td>\n",
              "      <td>...</td>\n",
              "    </tr>\n",
              "    <tr>\n",
              "      <th>BT008G3W52</th>\n",
              "      <td>1</td>\n",
              "      <td>1</td>\n",
              "    </tr>\n",
              "    <tr>\n",
              "      <th>BT008SXQ4C</th>\n",
              "      <td>1</td>\n",
              "      <td>1</td>\n",
              "    </tr>\n",
              "    <tr>\n",
              "      <th>BT008T2BGK</th>\n",
              "      <td>1</td>\n",
              "      <td>1</td>\n",
              "    </tr>\n",
              "    <tr>\n",
              "      <th>BT008UKTMW</th>\n",
              "      <td>15</td>\n",
              "      <td>15</td>\n",
              "    </tr>\n",
              "    <tr>\n",
              "      <th>BT008V9J9U</th>\n",
              "      <td>1</td>\n",
              "      <td>1</td>\n",
              "    </tr>\n",
              "  </tbody>\n",
              "</table>\n",
              "<p>476001 rows × 2 columns</p>\n",
              "</div>"
            ],
            "text/plain": [
              "            userId  ratings\n",
              "productId                  \n",
              "0321732944       1        1\n",
              "0439886341       3        3\n",
              "0511189877       6        6\n",
              "0528881469      27       27\n",
              "0558835155       1        1\n",
              "...            ...      ...\n",
              "BT008G3W52       1        1\n",
              "BT008SXQ4C       1        1\n",
              "BT008T2BGK       1        1\n",
              "BT008UKTMW      15       15\n",
              "BT008V9J9U       1        1\n",
              "\n",
              "[476001 rows x 2 columns]"
            ]
          },
          "metadata": {
            "tags": []
          },
          "execution_count": 30
        }
      ]
    },
    {
      "cell_type": "code",
      "metadata": {
        "id": "rIvhbk0vQDCx",
        "colab_type": "code",
        "colab": {
          "base_uri": "https://localhost:8080/",
          "height": 238
        },
        "outputId": "0a5ee52e-b36f-477a-bb07-beb9768bf045"
      },
      "source": [
        "ratings_1.groupby('productId')['ratings'].count() #product ratings and count is showing ascending order"
      ],
      "execution_count": 31,
      "outputs": [
        {
          "output_type": "execute_result",
          "data": {
            "text/plain": [
              "productId\n",
              "0321732944     1\n",
              "0439886341     3\n",
              "0511189877     6\n",
              "0528881469    27\n",
              "0558835155     1\n",
              "              ..\n",
              "BT008G3W52     1\n",
              "BT008SXQ4C     1\n",
              "BT008T2BGK     1\n",
              "BT008UKTMW    15\n",
              "BT008V9J9U     1\n",
              "Name: ratings, Length: 476001, dtype: int64"
            ]
          },
          "metadata": {
            "tags": []
          },
          "execution_count": 31
        }
      ]
    },
    {
      "cell_type": "code",
      "metadata": {
        "id": "ffUpwCbjQhzO",
        "colab_type": "code",
        "colab": {
          "base_uri": "https://localhost:8080/",
          "height": 359
        },
        "outputId": "d6ad1a63-61fc-42d0-b7eb-aa4e1874ddc2"
      },
      "source": [
        "ratings_1.groupby('productId')['ratings'].count().reset_index().sort_values('ratings', ascending=False)[:10] \n",
        "#resetting the index as we are doing a group by operation and displaying the first top products"
      ],
      "execution_count": 32,
      "outputs": [
        {
          "output_type": "execute_result",
          "data": {
            "text/html": [
              "<div>\n",
              "<style scoped>\n",
              "    .dataframe tbody tr th:only-of-type {\n",
              "        vertical-align: middle;\n",
              "    }\n",
              "\n",
              "    .dataframe tbody tr th {\n",
              "        vertical-align: top;\n",
              "    }\n",
              "\n",
              "    .dataframe thead th {\n",
              "        text-align: right;\n",
              "    }\n",
              "</style>\n",
              "<table border=\"1\" class=\"dataframe\">\n",
              "  <thead>\n",
              "    <tr style=\"text-align: right;\">\n",
              "      <th></th>\n",
              "      <th>productId</th>\n",
              "      <th>ratings</th>\n",
              "    </tr>\n",
              "  </thead>\n",
              "  <tbody>\n",
              "    <tr>\n",
              "      <th>308397</th>\n",
              "      <td>B0074BW614</td>\n",
              "      <td>18244</td>\n",
              "    </tr>\n",
              "    <tr>\n",
              "      <th>429571</th>\n",
              "      <td>B00DR0PDNE</td>\n",
              "      <td>16454</td>\n",
              "    </tr>\n",
              "    <tr>\n",
              "      <th>327307</th>\n",
              "      <td>B007WTAJTO</td>\n",
              "      <td>14172</td>\n",
              "    </tr>\n",
              "    <tr>\n",
              "      <th>102803</th>\n",
              "      <td>B0019EHU8G</td>\n",
              "      <td>12285</td>\n",
              "    </tr>\n",
              "    <tr>\n",
              "      <th>296624</th>\n",
              "      <td>B006GWO5WK</td>\n",
              "      <td>12226</td>\n",
              "    </tr>\n",
              "    <tr>\n",
              "      <th>178600</th>\n",
              "      <td>B003ELYQGG</td>\n",
              "      <td>11617</td>\n",
              "    </tr>\n",
              "    <tr>\n",
              "      <th>178812</th>\n",
              "      <td>B003ES5ZUU</td>\n",
              "      <td>10276</td>\n",
              "    </tr>\n",
              "    <tr>\n",
              "      <th>323012</th>\n",
              "      <td>B007R5YDYA</td>\n",
              "      <td>9907</td>\n",
              "    </tr>\n",
              "    <tr>\n",
              "      <th>289774</th>\n",
              "      <td>B00622AG6S</td>\n",
              "      <td>9823</td>\n",
              "    </tr>\n",
              "    <tr>\n",
              "      <th>30275</th>\n",
              "      <td>B0002L5R78</td>\n",
              "      <td>9487</td>\n",
              "    </tr>\n",
              "  </tbody>\n",
              "</table>\n",
              "</div>"
            ],
            "text/plain": [
              "         productId  ratings\n",
              "308397  B0074BW614    18244\n",
              "429571  B00DR0PDNE    16454\n",
              "327307  B007WTAJTO    14172\n",
              "102803  B0019EHU8G    12285\n",
              "296624  B006GWO5WK    12226\n",
              "178600  B003ELYQGG    11617\n",
              "178812  B003ES5ZUU    10276\n",
              "323012  B007R5YDYA     9907\n",
              "289774  B00622AG6S     9823\n",
              "30275   B0002L5R78     9487"
            ]
          },
          "metadata": {
            "tags": []
          },
          "execution_count": 32
        }
      ]
    },
    {
      "cell_type": "markdown",
      "metadata": {
        "id": "icUle1WnSMAZ",
        "colab_type": "text"
      },
      "source": [
        "product id B0074BW614 has highest number of ratings"
      ]
    },
    {
      "cell_type": "code",
      "metadata": {
        "id": "vOhRYlkQSDCm",
        "colab_type": "code",
        "colab": {
          "base_uri": "https://localhost:8080/",
          "height": 204
        },
        "outputId": "9830c393-01f3-41df-c58f-2ed8651c16ec"
      },
      "source": [
        "ratings_1.head()"
      ],
      "execution_count": 33,
      "outputs": [
        {
          "output_type": "execute_result",
          "data": {
            "text/html": [
              "<div>\n",
              "<style scoped>\n",
              "    .dataframe tbody tr th:only-of-type {\n",
              "        vertical-align: middle;\n",
              "    }\n",
              "\n",
              "    .dataframe tbody tr th {\n",
              "        vertical-align: top;\n",
              "    }\n",
              "\n",
              "    .dataframe thead th {\n",
              "        text-align: right;\n",
              "    }\n",
              "</style>\n",
              "<table border=\"1\" class=\"dataframe\">\n",
              "  <thead>\n",
              "    <tr style=\"text-align: right;\">\n",
              "      <th></th>\n",
              "      <th>userId</th>\n",
              "      <th>productId</th>\n",
              "      <th>ratings</th>\n",
              "    </tr>\n",
              "  </thead>\n",
              "  <tbody>\n",
              "    <tr>\n",
              "      <th>0</th>\n",
              "      <td>A2CX7LUOHB2NDG</td>\n",
              "      <td>0321732944</td>\n",
              "      <td>5.0</td>\n",
              "    </tr>\n",
              "    <tr>\n",
              "      <th>1</th>\n",
              "      <td>A2NWSAGRHCP8N5</td>\n",
              "      <td>0439886341</td>\n",
              "      <td>1.0</td>\n",
              "    </tr>\n",
              "    <tr>\n",
              "      <th>2</th>\n",
              "      <td>A2WNBOD3WNDNKT</td>\n",
              "      <td>0439886341</td>\n",
              "      <td>3.0</td>\n",
              "    </tr>\n",
              "    <tr>\n",
              "      <th>3</th>\n",
              "      <td>A1GI0U4ZRJA8WN</td>\n",
              "      <td>0439886341</td>\n",
              "      <td>1.0</td>\n",
              "    </tr>\n",
              "    <tr>\n",
              "      <th>4</th>\n",
              "      <td>A1QGNMC6O1VW39</td>\n",
              "      <td>0511189877</td>\n",
              "      <td>5.0</td>\n",
              "    </tr>\n",
              "  </tbody>\n",
              "</table>\n",
              "</div>"
            ],
            "text/plain": [
              "           userId   productId  ratings\n",
              "0  A2CX7LUOHB2NDG  0321732944      5.0\n",
              "1  A2NWSAGRHCP8N5  0439886341      1.0\n",
              "2  A2WNBOD3WNDNKT  0439886341      3.0\n",
              "3  A1GI0U4ZRJA8WN  0439886341      1.0\n",
              "4  A1QGNMC6O1VW39  0511189877      5.0"
            ]
          },
          "metadata": {
            "tags": []
          },
          "execution_count": 33
        }
      ]
    },
    {
      "cell_type": "markdown",
      "metadata": {
        "id": "YPAWq-QZqlEO",
        "colab_type": "text"
      },
      "source": [
        "Ratings Distribution with respect to user_id"
      ]
    },
    {
      "cell_type": "code",
      "metadata": {
        "id": "SHTzFusjnZJN",
        "colab_type": "code",
        "colab": {
          "base_uri": "https://localhost:8080/",
          "height": 359
        },
        "outputId": "11eab9aa-df3f-4224-97d7-4f97a437bd23"
      },
      "source": [
        "ratings_1.groupby('userId')['ratings'].count().reset_index().sort_values('ratings', ascending=False)[:10]"
      ],
      "execution_count": 34,
      "outputs": [
        {
          "output_type": "execute_result",
          "data": {
            "text/html": [
              "<div>\n",
              "<style scoped>\n",
              "    .dataframe tbody tr th:only-of-type {\n",
              "        vertical-align: middle;\n",
              "    }\n",
              "\n",
              "    .dataframe tbody tr th {\n",
              "        vertical-align: top;\n",
              "    }\n",
              "\n",
              "    .dataframe thead th {\n",
              "        text-align: right;\n",
              "    }\n",
              "</style>\n",
              "<table border=\"1\" class=\"dataframe\">\n",
              "  <thead>\n",
              "    <tr style=\"text-align: right;\">\n",
              "      <th></th>\n",
              "      <th>userId</th>\n",
              "      <th>ratings</th>\n",
              "    </tr>\n",
              "  </thead>\n",
              "  <tbody>\n",
              "    <tr>\n",
              "      <th>3263531</th>\n",
              "      <td>A5JLAU2ARJ0BO</td>\n",
              "      <td>520</td>\n",
              "    </tr>\n",
              "    <tr>\n",
              "      <th>3512451</th>\n",
              "      <td>ADLVFFE4VBT8</td>\n",
              "      <td>501</td>\n",
              "    </tr>\n",
              "    <tr>\n",
              "      <th>2989526</th>\n",
              "      <td>A3OXHLG6DIBRW8</td>\n",
              "      <td>498</td>\n",
              "    </tr>\n",
              "    <tr>\n",
              "      <th>3291008</th>\n",
              "      <td>A6FIAB28IS79</td>\n",
              "      <td>431</td>\n",
              "    </tr>\n",
              "    <tr>\n",
              "      <th>3284634</th>\n",
              "      <td>A680RUE1FDO8B</td>\n",
              "      <td>406</td>\n",
              "    </tr>\n",
              "    <tr>\n",
              "      <th>755206</th>\n",
              "      <td>A1ODOGXEYECQQ8</td>\n",
              "      <td>380</td>\n",
              "    </tr>\n",
              "    <tr>\n",
              "      <th>2424036</th>\n",
              "      <td>A36K2N527TXXJN</td>\n",
              "      <td>314</td>\n",
              "    </tr>\n",
              "    <tr>\n",
              "      <th>1451394</th>\n",
              "      <td>A2AY4YUOX2N1BQ</td>\n",
              "      <td>311</td>\n",
              "    </tr>\n",
              "    <tr>\n",
              "      <th>4100926</th>\n",
              "      <td>AWPODHOB4GFWL</td>\n",
              "      <td>308</td>\n",
              "    </tr>\n",
              "    <tr>\n",
              "      <th>3935038</th>\n",
              "      <td>ARBKYIVNYWK3C</td>\n",
              "      <td>296</td>\n",
              "    </tr>\n",
              "  </tbody>\n",
              "</table>\n",
              "</div>"
            ],
            "text/plain": [
              "                 userId  ratings\n",
              "3263531   A5JLAU2ARJ0BO      520\n",
              "3512451    ADLVFFE4VBT8      501\n",
              "2989526  A3OXHLG6DIBRW8      498\n",
              "3291008    A6FIAB28IS79      431\n",
              "3284634   A680RUE1FDO8B      406\n",
              "755206   A1ODOGXEYECQQ8      380\n",
              "2424036  A36K2N527TXXJN      314\n",
              "1451394  A2AY4YUOX2N1BQ      311\n",
              "4100926   AWPODHOB4GFWL      308\n",
              "3935038   ARBKYIVNYWK3C      296"
            ]
          },
          "metadata": {
            "tags": []
          },
          "execution_count": 34
        }
      ]
    },
    {
      "cell_type": "markdown",
      "metadata": {
        "id": "WzRhNwzNvyjB",
        "colab_type": "text"
      },
      "source": [
        "Most of the users in the data gave 0-1 ratings, the most productive user have given 520 ratings."
      ]
    },
    {
      "cell_type": "markdown",
      "metadata": {
        "id": "ZQYNTdUhwhV-",
        "colab_type": "text"
      },
      "source": [
        "2.Take a subset of the dataset to make it less sparse/ denser. ( For example, keep the users only who has given 50 or more number of ratings )"
      ]
    },
    {
      "cell_type": "markdown",
      "metadata": {
        "id": "wyPuNYzSwjyh",
        "colab_type": "text"
      },
      "source": [
        "To reduce the dimensionality of the data set, and avoid running into “memory error”, we are considering the products that are frequently purchased and frequently purchasing user and filter out rarely rated products and rarely rating user"
      ]
    },
    {
      "cell_type": "code",
      "metadata": {
        "id": "WzTJtnTwwrAS",
        "colab_type": "code",
        "colab": {
          "base_uri": "https://localhost:8080/",
          "height": 51
        },
        "outputId": "37854ed5-e8d6-435a-c06d-602369d81b84"
      },
      "source": [
        "min_product_ratings = 50\n",
        "filter_products = ratings_1['productId'].value_counts() >= min_product_ratings  #considering the products which are bought more than 50 times\n",
        "filter_products = filter_products[filter_products].index.tolist()\n",
        "\n",
        "min_user_ratings = 50\n",
        "filter_users = ratings_1['userId'].value_counts() >= min_user_ratings           #considering the users who have done more that 50 purchases\n",
        "filter_users = filter_users[filter_users].index.tolist()\n",
        "\n",
        "df_new = ratings_1[(ratings_1['productId'].isin(filter_products)) & (ratings_1['userId'].isin(filter_users))]\n",
        "print('The original data frame shape:\\t{}'.format(ratings_1.shape))\n",
        "print('The new data frame shape:\\t{}'.format(df_new.shape))"
      ],
      "execution_count": 37,
      "outputs": [
        {
          "output_type": "stream",
          "text": [
            "The original data frame shape:\t(7824481, 3)\n",
            "The new data frame shape:\t(79182, 3)\n"
          ],
          "name": "stdout"
        }
      ]
    },
    {
      "cell_type": "markdown",
      "metadata": {
        "id": "CabETMmxeUT8",
        "colab_type": "text"
      },
      "source": [
        "Transforming data to surprise format"
      ]
    },
    {
      "cell_type": "code",
      "metadata": {
        "id": "0QlEivKpcTy-",
        "colab_type": "code",
        "colab": {
          "base_uri": "https://localhost:8080/",
          "height": 204
        },
        "outputId": "149fc15a-626f-448c-ce2c-dce183774755"
      },
      "source": [
        "df_new.head()"
      ],
      "execution_count": 47,
      "outputs": [
        {
          "output_type": "execute_result",
          "data": {
            "text/html": [
              "<div>\n",
              "<style scoped>\n",
              "    .dataframe tbody tr th:only-of-type {\n",
              "        vertical-align: middle;\n",
              "    }\n",
              "\n",
              "    .dataframe tbody tr th {\n",
              "        vertical-align: top;\n",
              "    }\n",
              "\n",
              "    .dataframe thead th {\n",
              "        text-align: right;\n",
              "    }\n",
              "</style>\n",
              "<table border=\"1\" class=\"dataframe\">\n",
              "  <thead>\n",
              "    <tr style=\"text-align: right;\">\n",
              "      <th></th>\n",
              "      <th>userId</th>\n",
              "      <th>productId</th>\n",
              "      <th>ratings</th>\n",
              "    </tr>\n",
              "  </thead>\n",
              "  <tbody>\n",
              "    <tr>\n",
              "      <th>491</th>\n",
              "      <td>A3CLWR1UUZT6TG</td>\n",
              "      <td>0972683275</td>\n",
              "      <td>5.0</td>\n",
              "    </tr>\n",
              "    <tr>\n",
              "      <th>630</th>\n",
              "      <td>A3TAS1AG6FMBQW</td>\n",
              "      <td>0972683275</td>\n",
              "      <td>5.0</td>\n",
              "    </tr>\n",
              "    <tr>\n",
              "      <th>1002</th>\n",
              "      <td>A2Y4H3PXB07WQI</td>\n",
              "      <td>0972683275</td>\n",
              "      <td>4.0</td>\n",
              "    </tr>\n",
              "    <tr>\n",
              "      <th>1137</th>\n",
              "      <td>A25RTRAPQAJBDJ</td>\n",
              "      <td>0972683275</td>\n",
              "      <td>5.0</td>\n",
              "    </tr>\n",
              "    <tr>\n",
              "      <th>1309</th>\n",
              "      <td>A3LDPF5FMB782Z</td>\n",
              "      <td>1400501466</td>\n",
              "      <td>5.0</td>\n",
              "    </tr>\n",
              "  </tbody>\n",
              "</table>\n",
              "</div>"
            ],
            "text/plain": [
              "              userId   productId  ratings\n",
              "491   A3CLWR1UUZT6TG  0972683275      5.0\n",
              "630   A3TAS1AG6FMBQW  0972683275      5.0\n",
              "1002  A2Y4H3PXB07WQI  0972683275      4.0\n",
              "1137  A25RTRAPQAJBDJ  0972683275      5.0\n",
              "1309  A3LDPF5FMB782Z  1400501466      5.0"
            ]
          },
          "metadata": {
            "tags": []
          },
          "execution_count": 47
        }
      ]
    },
    {
      "cell_type": "code",
      "metadata": {
        "id": "4QkfALuievmJ",
        "colab_type": "code",
        "colab": {
          "base_uri": "https://localhost:8080/",
          "height": 34
        },
        "outputId": "5adbc9b9-1626-432b-c6b8-3e918492a213"
      },
      "source": [
        "df_new[\"ratings\"].unique()"
      ],
      "execution_count": 48,
      "outputs": [
        {
          "output_type": "execute_result",
          "data": {
            "text/plain": [
              "array([5., 4., 1., 3., 2.])"
            ]
          },
          "metadata": {
            "tags": []
          },
          "execution_count": 48
        }
      ]
    },
    {
      "cell_type": "code",
      "metadata": {
        "id": "pLyHnp-8fJd0",
        "colab_type": "code",
        "colab": {}
      },
      "source": [
        "reader = Reader(rating_scale=(1, 5))"
      ],
      "execution_count": 0,
      "outputs": []
    },
    {
      "cell_type": "code",
      "metadata": {
        "id": "8rimortVfRpQ",
        "colab_type": "code",
        "colab": {}
      },
      "source": [
        "##loading data using surprise package\n",
        "data = Dataset.load_from_df(df_new[['userId','productId', 'ratings']], reader)"
      ],
      "execution_count": 0,
      "outputs": []
    },
    {
      "cell_type": "code",
      "metadata": {
        "id": "2WE2XLOMffbz",
        "colab_type": "code",
        "colab": {
          "base_uri": "https://localhost:8080/",
          "height": 34
        },
        "outputId": "dc07ea3d-9b89-403f-c767-ca560212fd2b"
      },
      "source": [
        "data"
      ],
      "execution_count": 51,
      "outputs": [
        {
          "output_type": "execute_result",
          "data": {
            "text/plain": [
              "<surprise.dataset.DatasetAutoFolds at 0x7f03a7169240>"
            ]
          },
          "metadata": {
            "tags": []
          },
          "execution_count": 51
        }
      ]
    },
    {
      "cell_type": "markdown",
      "metadata": {
        "id": "Z9HsZDJHfnAV",
        "colab_type": "text"
      },
      "source": [
        "3. Split the data randomly into train and test dataset. ( For example, split it in 70/30 ratio)"
      ]
    },
    {
      "cell_type": "code",
      "metadata": {
        "id": "vR7T7zdcfpJy",
        "colab_type": "code",
        "colab": {}
      },
      "source": [
        "from surprise.model_selection import train_test_split\n",
        "trainset, testset = train_test_split(data, test_size=.30,random_state=0)  #splitting the data 70/30"
      ],
      "execution_count": 0,
      "outputs": []
    },
    {
      "cell_type": "code",
      "metadata": {
        "id": "hCKHxDUgf2ax",
        "colab_type": "code",
        "colab": {
          "base_uri": "https://localhost:8080/",
          "height": 34
        },
        "outputId": "23727ac0-5edd-4b2b-fdb9-ba4fc5ff7ace"
      },
      "source": [
        "type(trainset)"
      ],
      "execution_count": 53,
      "outputs": [
        {
          "output_type": "execute_result",
          "data": {
            "text/plain": [
              "surprise.trainset.Trainset"
            ]
          },
          "metadata": {
            "tags": []
          },
          "execution_count": 53
        }
      ]
    },
    {
      "cell_type": "markdown",
      "metadata": {
        "id": "rvdBw1BwhT0n",
        "colab_type": "text"
      },
      "source": [
        "So far we have picked the users who purchased more than 50 time and products that are purchased more than 50 times\n",
        "\n",
        "Now are doing a popularity based model - where in a situation where one user can rate a product 5 and other user can rate the same product as 4 and other user can rate the same product as 3, In order to find out products that is highly rated we have to take the mean of the ratings for the corresponding products\n"
      ]
    },
    {
      "cell_type": "code",
      "metadata": {
        "id": "wMrKY_o3n8ye",
        "colab_type": "code",
        "colab": {
          "base_uri": "https://localhost:8080/",
          "height": 238
        },
        "outputId": "c910438f-e917-4f53-ccfe-f20699ed190d"
      },
      "source": [
        "df_new.groupby('productId')['ratings'].count()"
      ],
      "execution_count": 56,
      "outputs": [
        {
          "output_type": "execute_result",
          "data": {
            "text/plain": [
              "productId\n",
              "0972683275     4\n",
              "1400501466     6\n",
              "1400501520     1\n",
              "1400501776     2\n",
              "1400532620     2\n",
              "              ..\n",
              "B00K91DB7Y    26\n",
              "B00KFAGCUM     7\n",
              "B00KINSDK8     1\n",
              "B00KWHMR6G     2\n",
              "B00L3YHF6O    14\n",
              "Name: ratings, Length: 16993, dtype: int64"
            ]
          },
          "metadata": {
            "tags": []
          },
          "execution_count": 56
        }
      ]
    },
    {
      "cell_type": "code",
      "metadata": {
        "id": "vLL5YkV8oM0q",
        "colab_type": "code",
        "colab": {
          "base_uri": "https://localhost:8080/",
          "height": 450
        },
        "outputId": "9f8f7daa-d911-4028-c147-4b6a07977efd"
      },
      "source": [
        "df_new.groupby('productId').count()"
      ],
      "execution_count": 57,
      "outputs": [
        {
          "output_type": "execute_result",
          "data": {
            "text/html": [
              "<div>\n",
              "<style scoped>\n",
              "    .dataframe tbody tr th:only-of-type {\n",
              "        vertical-align: middle;\n",
              "    }\n",
              "\n",
              "    .dataframe tbody tr th {\n",
              "        vertical-align: top;\n",
              "    }\n",
              "\n",
              "    .dataframe thead th {\n",
              "        text-align: right;\n",
              "    }\n",
              "</style>\n",
              "<table border=\"1\" class=\"dataframe\">\n",
              "  <thead>\n",
              "    <tr style=\"text-align: right;\">\n",
              "      <th></th>\n",
              "      <th>userId</th>\n",
              "      <th>ratings</th>\n",
              "    </tr>\n",
              "    <tr>\n",
              "      <th>productId</th>\n",
              "      <th></th>\n",
              "      <th></th>\n",
              "    </tr>\n",
              "  </thead>\n",
              "  <tbody>\n",
              "    <tr>\n",
              "      <th>0972683275</th>\n",
              "      <td>4</td>\n",
              "      <td>4</td>\n",
              "    </tr>\n",
              "    <tr>\n",
              "      <th>1400501466</th>\n",
              "      <td>6</td>\n",
              "      <td>6</td>\n",
              "    </tr>\n",
              "    <tr>\n",
              "      <th>1400501520</th>\n",
              "      <td>1</td>\n",
              "      <td>1</td>\n",
              "    </tr>\n",
              "    <tr>\n",
              "      <th>1400501776</th>\n",
              "      <td>2</td>\n",
              "      <td>2</td>\n",
              "    </tr>\n",
              "    <tr>\n",
              "      <th>1400532620</th>\n",
              "      <td>2</td>\n",
              "      <td>2</td>\n",
              "    </tr>\n",
              "    <tr>\n",
              "      <th>...</th>\n",
              "      <td>...</td>\n",
              "      <td>...</td>\n",
              "    </tr>\n",
              "    <tr>\n",
              "      <th>B00K91DB7Y</th>\n",
              "      <td>26</td>\n",
              "      <td>26</td>\n",
              "    </tr>\n",
              "    <tr>\n",
              "      <th>B00KFAGCUM</th>\n",
              "      <td>7</td>\n",
              "      <td>7</td>\n",
              "    </tr>\n",
              "    <tr>\n",
              "      <th>B00KINSDK8</th>\n",
              "      <td>1</td>\n",
              "      <td>1</td>\n",
              "    </tr>\n",
              "    <tr>\n",
              "      <th>B00KWHMR6G</th>\n",
              "      <td>2</td>\n",
              "      <td>2</td>\n",
              "    </tr>\n",
              "    <tr>\n",
              "      <th>B00L3YHF6O</th>\n",
              "      <td>14</td>\n",
              "      <td>14</td>\n",
              "    </tr>\n",
              "  </tbody>\n",
              "</table>\n",
              "<p>16993 rows × 2 columns</p>\n",
              "</div>"
            ],
            "text/plain": [
              "            userId  ratings\n",
              "productId                  \n",
              "0972683275       4        4\n",
              "1400501466       6        6\n",
              "1400501520       1        1\n",
              "1400501776       2        2\n",
              "1400532620       2        2\n",
              "...            ...      ...\n",
              "B00K91DB7Y      26       26\n",
              "B00KFAGCUM       7        7\n",
              "B00KINSDK8       1        1\n",
              "B00KWHMR6G       2        2\n",
              "B00L3YHF6O      14       14\n",
              "\n",
              "[16993 rows x 2 columns]"
            ]
          },
          "metadata": {
            "tags": []
          },
          "execution_count": 57
        }
      ]
    },
    {
      "cell_type": "code",
      "metadata": {
        "id": "mkvh4g7Ooy2a",
        "colab_type": "code",
        "colab": {
          "base_uri": "https://localhost:8080/",
          "height": 173
        },
        "outputId": "7498129c-daeb-41cc-eb3f-0f095b07a22d"
      },
      "source": [
        "df_new[df_new.productId == '0972683275'] \n",
        "\n",
        "#here you can see the product 0972683275 was bought by 4 user but 3 users have given 5 rating and 1 user is given 4, hence the mean rating is 4.75\n",
        "#Note :- But as per product these is bought only 4 times, but as per users we have many records"
      ],
      "execution_count": 59,
      "outputs": [
        {
          "output_type": "execute_result",
          "data": {
            "text/html": [
              "<div>\n",
              "<style scoped>\n",
              "    .dataframe tbody tr th:only-of-type {\n",
              "        vertical-align: middle;\n",
              "    }\n",
              "\n",
              "    .dataframe tbody tr th {\n",
              "        vertical-align: top;\n",
              "    }\n",
              "\n",
              "    .dataframe thead th {\n",
              "        text-align: right;\n",
              "    }\n",
              "</style>\n",
              "<table border=\"1\" class=\"dataframe\">\n",
              "  <thead>\n",
              "    <tr style=\"text-align: right;\">\n",
              "      <th></th>\n",
              "      <th>userId</th>\n",
              "      <th>productId</th>\n",
              "      <th>ratings</th>\n",
              "    </tr>\n",
              "  </thead>\n",
              "  <tbody>\n",
              "    <tr>\n",
              "      <th>491</th>\n",
              "      <td>A3CLWR1UUZT6TG</td>\n",
              "      <td>0972683275</td>\n",
              "      <td>5.0</td>\n",
              "    </tr>\n",
              "    <tr>\n",
              "      <th>630</th>\n",
              "      <td>A3TAS1AG6FMBQW</td>\n",
              "      <td>0972683275</td>\n",
              "      <td>5.0</td>\n",
              "    </tr>\n",
              "    <tr>\n",
              "      <th>1002</th>\n",
              "      <td>A2Y4H3PXB07WQI</td>\n",
              "      <td>0972683275</td>\n",
              "      <td>4.0</td>\n",
              "    </tr>\n",
              "    <tr>\n",
              "      <th>1137</th>\n",
              "      <td>A25RTRAPQAJBDJ</td>\n",
              "      <td>0972683275</td>\n",
              "      <td>5.0</td>\n",
              "    </tr>\n",
              "  </tbody>\n",
              "</table>\n",
              "</div>"
            ],
            "text/plain": [
              "              userId   productId  ratings\n",
              "491   A3CLWR1UUZT6TG  0972683275      5.0\n",
              "630   A3TAS1AG6FMBQW  0972683275      5.0\n",
              "1002  A2Y4H3PXB07WQI  0972683275      4.0\n",
              "1137  A25RTRAPQAJBDJ  0972683275      5.0"
            ]
          },
          "metadata": {
            "tags": []
          },
          "execution_count": 59
        }
      ]
    },
    {
      "cell_type": "code",
      "metadata": {
        "id": "GBzOKWpzn3mQ",
        "colab_type": "code",
        "colab": {
          "base_uri": "https://localhost:8080/",
          "height": 136
        },
        "outputId": "f86ed7a8-2fd1-41f9-c224-41744a5222dc"
      },
      "source": [
        "df_new.groupby('productId')['ratings'].mean().head()"
      ],
      "execution_count": 54,
      "outputs": [
        {
          "output_type": "execute_result",
          "data": {
            "text/plain": [
              "productId\n",
              "0972683275    4.750000\n",
              "1400501466    3.333333\n",
              "1400501520    5.000000\n",
              "1400501776    4.500000\n",
              "1400532620    3.000000\n",
              "Name: ratings, dtype: float64"
            ]
          },
          "metadata": {
            "tags": []
          },
          "execution_count": 54
        }
      ]
    },
    {
      "cell_type": "code",
      "metadata": {
        "id": "wVgaWZYwpRCR",
        "colab_type": "code",
        "colab": {
          "base_uri": "https://localhost:8080/",
          "height": 136
        },
        "outputId": "eeaf97f7-171f-45c7-f60f-7278da48fddc"
      },
      "source": [
        "#sorting the ratings in reverse order\n",
        "df_new.groupby('productId')['ratings'].mean().sort_values(ascending=False).head()"
      ],
      "execution_count": 61,
      "outputs": [
        {
          "output_type": "execute_result",
          "data": {
            "text/plain": [
              "productId\n",
              "B00L3YHF6O    5.0\n",
              "B002JCSV5I    5.0\n",
              "B002J47Q3O    5.0\n",
              "B002IY598O    5.0\n",
              "B002IXZ5DE    5.0\n",
              "Name: ratings, dtype: float64"
            ]
          },
          "metadata": {
            "tags": []
          },
          "execution_count": 61
        }
      ]
    },
    {
      "cell_type": "markdown",
      "metadata": {
        "id": "pcGQLJSvw3iP",
        "colab_type": "text"
      },
      "source": [
        "Now there is mislead here, we are getting ratings as 5 for the product B00L3YHF60, the question is how many users have given the rating as 5 here, say for example - like in previous case if the product is bought less( 3 or 4) in numbers and the users who bought this product along with the other products are more then they may come into picture here.\n",
        "\n",
        "If 4 users have bought the product and have given 5 rating then this is a good product\n",
        "\n",
        "But our case is we need to find more number of products bought by more number of users and have given good rating "
      ]
    },
    {
      "cell_type": "code",
      "metadata": {
        "id": "yC4gjgEuyi8B",
        "colab_type": "code",
        "colab": {
          "base_uri": "https://localhost:8080/",
          "height": 136
        },
        "outputId": "d67dc6fc-04d6-4155-c599-f2acc63c46ab"
      },
      "source": [
        "df_new.groupby('productId')['ratings'].count().sort_values(ascending=False).head()"
      ],
      "execution_count": 62,
      "outputs": [
        {
          "output_type": "execute_result",
          "data": {
            "text/plain": [
              "productId\n",
              "B0088CJT4U    206\n",
              "B003ES5ZUU    184\n",
              "B000N99BBC    167\n",
              "B007WTAJTO    164\n",
              "B00829TIEK    149\n",
              "Name: ratings, dtype: int64"
            ]
          },
          "metadata": {
            "tags": []
          },
          "execution_count": 62
        }
      ]
    },
    {
      "cell_type": "markdown",
      "metadata": {
        "id": "V49eZkXuyqxl",
        "colab_type": "text"
      },
      "source": [
        "Here we can see that product B0088CJT4U is bought by more users and have given the rating, On continuation with the previous point we need to enhance the mean of the rating for the product and display in the reverse order"
      ]
    },
    {
      "cell_type": "code",
      "metadata": {
        "id": "qmQKwoQdzMb8",
        "colab_type": "code",
        "colab": {}
      },
      "source": [
        "ratings_mean_count = pd.DataFrame(df_new.groupby('productId')['ratings'].mean()) # Here the rating mean as calculated and accomodated in a dataset"
      ],
      "execution_count": 0,
      "outputs": []
    },
    {
      "cell_type": "code",
      "metadata": {
        "id": "6JZEcxXa0Cwi",
        "colab_type": "code",
        "colab": {
          "base_uri": "https://localhost:8080/",
          "height": 235
        },
        "outputId": "e90ba1e9-ee49-4c8b-8baa-cb650fdf16bd"
      },
      "source": [
        "ratings_mean_count.head()"
      ],
      "execution_count": 64,
      "outputs": [
        {
          "output_type": "execute_result",
          "data": {
            "text/html": [
              "<div>\n",
              "<style scoped>\n",
              "    .dataframe tbody tr th:only-of-type {\n",
              "        vertical-align: middle;\n",
              "    }\n",
              "\n",
              "    .dataframe tbody tr th {\n",
              "        vertical-align: top;\n",
              "    }\n",
              "\n",
              "    .dataframe thead th {\n",
              "        text-align: right;\n",
              "    }\n",
              "</style>\n",
              "<table border=\"1\" class=\"dataframe\">\n",
              "  <thead>\n",
              "    <tr style=\"text-align: right;\">\n",
              "      <th></th>\n",
              "      <th>ratings</th>\n",
              "    </tr>\n",
              "    <tr>\n",
              "      <th>productId</th>\n",
              "      <th></th>\n",
              "    </tr>\n",
              "  </thead>\n",
              "  <tbody>\n",
              "    <tr>\n",
              "      <th>0972683275</th>\n",
              "      <td>4.750000</td>\n",
              "    </tr>\n",
              "    <tr>\n",
              "      <th>1400501466</th>\n",
              "      <td>3.333333</td>\n",
              "    </tr>\n",
              "    <tr>\n",
              "      <th>1400501520</th>\n",
              "      <td>5.000000</td>\n",
              "    </tr>\n",
              "    <tr>\n",
              "      <th>1400501776</th>\n",
              "      <td>4.500000</td>\n",
              "    </tr>\n",
              "    <tr>\n",
              "      <th>1400532620</th>\n",
              "      <td>3.000000</td>\n",
              "    </tr>\n",
              "  </tbody>\n",
              "</table>\n",
              "</div>"
            ],
            "text/plain": [
              "             ratings\n",
              "productId           \n",
              "0972683275  4.750000\n",
              "1400501466  3.333333\n",
              "1400501520  5.000000\n",
              "1400501776  4.500000\n",
              "1400532620  3.000000"
            ]
          },
          "metadata": {
            "tags": []
          },
          "execution_count": 64
        }
      ]
    },
    {
      "cell_type": "code",
      "metadata": {
        "id": "2KvyRYHp0RC2",
        "colab_type": "code",
        "colab": {}
      },
      "source": [
        "ratings_mean_count['rating count'] = pd.DataFrame(df_new.groupby('productId')['ratings'].count()) "
      ],
      "execution_count": 0,
      "outputs": []
    },
    {
      "cell_type": "code",
      "metadata": {
        "id": "oioYtiH30y4u",
        "colab_type": "code",
        "colab": {
          "base_uri": "https://localhost:8080/",
          "height": 235
        },
        "outputId": "aa895a0b-cd4d-495c-9cb1-b32d6570db0d"
      },
      "source": [
        "ratings_mean_count.head()"
      ],
      "execution_count": 66,
      "outputs": [
        {
          "output_type": "execute_result",
          "data": {
            "text/html": [
              "<div>\n",
              "<style scoped>\n",
              "    .dataframe tbody tr th:only-of-type {\n",
              "        vertical-align: middle;\n",
              "    }\n",
              "\n",
              "    .dataframe tbody tr th {\n",
              "        vertical-align: top;\n",
              "    }\n",
              "\n",
              "    .dataframe thead th {\n",
              "        text-align: right;\n",
              "    }\n",
              "</style>\n",
              "<table border=\"1\" class=\"dataframe\">\n",
              "  <thead>\n",
              "    <tr style=\"text-align: right;\">\n",
              "      <th></th>\n",
              "      <th>ratings</th>\n",
              "      <th>rating count</th>\n",
              "    </tr>\n",
              "    <tr>\n",
              "      <th>productId</th>\n",
              "      <th></th>\n",
              "      <th></th>\n",
              "    </tr>\n",
              "  </thead>\n",
              "  <tbody>\n",
              "    <tr>\n",
              "      <th>0972683275</th>\n",
              "      <td>4.750000</td>\n",
              "      <td>4</td>\n",
              "    </tr>\n",
              "    <tr>\n",
              "      <th>1400501466</th>\n",
              "      <td>3.333333</td>\n",
              "      <td>6</td>\n",
              "    </tr>\n",
              "    <tr>\n",
              "      <th>1400501520</th>\n",
              "      <td>5.000000</td>\n",
              "      <td>1</td>\n",
              "    </tr>\n",
              "    <tr>\n",
              "      <th>1400501776</th>\n",
              "      <td>4.500000</td>\n",
              "      <td>2</td>\n",
              "    </tr>\n",
              "    <tr>\n",
              "      <th>1400532620</th>\n",
              "      <td>3.000000</td>\n",
              "      <td>2</td>\n",
              "    </tr>\n",
              "  </tbody>\n",
              "</table>\n",
              "</div>"
            ],
            "text/plain": [
              "             ratings  rating count\n",
              "productId                         \n",
              "0972683275  4.750000             4\n",
              "1400501466  3.333333             6\n",
              "1400501520  5.000000             1\n",
              "1400501776  4.500000             2\n",
              "1400532620  3.000000             2"
            ]
          },
          "metadata": {
            "tags": []
          },
          "execution_count": 66
        }
      ]
    },
    {
      "cell_type": "markdown",
      "metadata": {
        "id": "aOPyo0Ym3Al0",
        "colab_type": "text"
      },
      "source": [
        "Top 5 recommendations using popularity based model"
      ]
    },
    {
      "cell_type": "code",
      "metadata": {
        "id": "DHkF4aEm3CGu",
        "colab_type": "code",
        "colab": {
          "base_uri": "https://localhost:8080/",
          "height": 235
        },
        "outputId": "de316d7e-2848-4645-c2e6-e7a9ff10655b"
      },
      "source": [
        "ratings_mean_count.sort_values(['rating count'], ascending=[False]).head() \n",
        "#here we are considering the entire dataset 'ratings_mean_count' in that we are considering and manipulating 'rating count' values to \n",
        "#display in descending order"
      ],
      "execution_count": 77,
      "outputs": [
        {
          "output_type": "execute_result",
          "data": {
            "text/html": [
              "<div>\n",
              "<style scoped>\n",
              "    .dataframe tbody tr th:only-of-type {\n",
              "        vertical-align: middle;\n",
              "    }\n",
              "\n",
              "    .dataframe tbody tr th {\n",
              "        vertical-align: top;\n",
              "    }\n",
              "\n",
              "    .dataframe thead th {\n",
              "        text-align: right;\n",
              "    }\n",
              "</style>\n",
              "<table border=\"1\" class=\"dataframe\">\n",
              "  <thead>\n",
              "    <tr style=\"text-align: right;\">\n",
              "      <th></th>\n",
              "      <th>ratings</th>\n",
              "      <th>rating count</th>\n",
              "    </tr>\n",
              "    <tr>\n",
              "      <th>productId</th>\n",
              "      <th></th>\n",
              "      <th></th>\n",
              "    </tr>\n",
              "  </thead>\n",
              "  <tbody>\n",
              "    <tr>\n",
              "      <th>B0088CJT4U</th>\n",
              "      <td>4.218447</td>\n",
              "      <td>206</td>\n",
              "    </tr>\n",
              "    <tr>\n",
              "      <th>B003ES5ZUU</th>\n",
              "      <td>4.864130</td>\n",
              "      <td>184</td>\n",
              "    </tr>\n",
              "    <tr>\n",
              "      <th>B000N99BBC</th>\n",
              "      <td>4.772455</td>\n",
              "      <td>167</td>\n",
              "    </tr>\n",
              "    <tr>\n",
              "      <th>B007WTAJTO</th>\n",
              "      <td>4.701220</td>\n",
              "      <td>164</td>\n",
              "    </tr>\n",
              "    <tr>\n",
              "      <th>B00829TIEK</th>\n",
              "      <td>4.436242</td>\n",
              "      <td>149</td>\n",
              "    </tr>\n",
              "  </tbody>\n",
              "</table>\n",
              "</div>"
            ],
            "text/plain": [
              "             ratings  rating count\n",
              "productId                         \n",
              "B0088CJT4U  4.218447           206\n",
              "B003ES5ZUU  4.864130           184\n",
              "B000N99BBC  4.772455           167\n",
              "B007WTAJTO  4.701220           164\n",
              "B00829TIEK  4.436242           149"
            ]
          },
          "metadata": {
            "tags": []
          },
          "execution_count": 77
        }
      ]
    },
    {
      "cell_type": "markdown",
      "metadata": {
        "id": "IF6tfsXgUIS2",
        "colab_type": "text"
      },
      "source": [
        "The above gives the top 5 list of products that has good number of ratings as well as popular bought by the users"
      ]
    },
    {
      "cell_type": "markdown",
      "metadata": {
        "id": "JHTNfw3nVGQX",
        "colab_type": "text"
      },
      "source": [
        "Based on the spilt of training set and test set, we can get the count of number of users against the their ratings"
      ]
    },
    {
      "cell_type": "code",
      "metadata": {
        "id": "udl1rmBPVaPG",
        "colab_type": "code",
        "colab": {
          "base_uri": "https://localhost:8080/",
          "height": 34
        },
        "outputId": "31735e44-f819-457f-a6b6-062513dc372f"
      },
      "source": [
        "# user item rating data can be obtained as follows\n",
        "user_records = trainset.ur\n",
        "type(user_records)"
      ],
      "execution_count": 78,
      "outputs": [
        {
          "output_type": "execute_result",
          "data": {
            "text/plain": [
              "collections.defaultdict"
            ]
          },
          "metadata": {
            "tags": []
          },
          "execution_count": 78
        }
      ]
    },
    {
      "cell_type": "code",
      "metadata": {
        "id": "JziJh3xKVePZ",
        "colab_type": "code",
        "colab": {
          "base_uri": "https://localhost:8080/",
          "height": 578
        },
        "outputId": "295a45a4-d13e-435e-f072-b0fde23bd4ea"
      },
      "source": [
        "user_records[0]"
      ],
      "execution_count": 85,
      "outputs": [
        {
          "output_type": "execute_result",
          "data": {
            "text/plain": [
              "[(0, 5.0),\n",
              " (813, 4.0),\n",
              " (5409, 4.0),\n",
              " (1277, 4.0),\n",
              " (64, 5.0),\n",
              " (747, 5.0),\n",
              " (534, 5.0),\n",
              " (4093, 2.0),\n",
              " (4546, 5.0),\n",
              " (1198, 5.0),\n",
              " (1794, 5.0),\n",
              " (8182, 5.0),\n",
              " (326, 2.0),\n",
              " (5632, 4.0),\n",
              " (1363, 3.0),\n",
              " (2247, 5.0),\n",
              " (181, 4.0),\n",
              " (3134, 3.0),\n",
              " (1923, 4.0),\n",
              " (1151, 4.0),\n",
              " (4931, 3.0),\n",
              " (1028, 4.0),\n",
              " (1027, 4.0),\n",
              " (10252, 5.0),\n",
              " (11097, 5.0),\n",
              " (360, 5.0),\n",
              " (934, 5.0),\n",
              " (2706, 5.0),\n",
              " (547, 5.0),\n",
              " (3186, 5.0),\n",
              " (291, 4.0),\n",
              " (843, 5.0),\n",
              " (8968, 4.0)]"
            ]
          },
          "metadata": {
            "tags": []
          },
          "execution_count": 85
        }
      ]
    },
    {
      "cell_type": "code",
      "metadata": {
        "id": "3lbfbqYuVpkz",
        "colab_type": "code",
        "colab": {
          "base_uri": "https://localhost:8080/",
          "height": 51
        },
        "outputId": "7a618dad-5e81-4fc7-886b-bab9f36329ca"
      },
      "source": [
        "# However the ids are the inner ids and not the raw ids\n",
        "# raw ids can be obatined as follows\n",
        "\n",
        "print(trainset.to_raw_uid(0))\n",
        "print(trainset.to_raw_iid(344))"
      ],
      "execution_count": 86,
      "outputs": [
        {
          "output_type": "stream",
          "text": [
            "AWH2AY17ZU7W2\n",
            "B003ES5ZR8\n"
          ],
          "name": "stdout"
        }
      ]
    },
    {
      "cell_type": "code",
      "metadata": {
        "id": "YoJOC1sCk6wv",
        "colab_type": "code",
        "colab": {
          "base_uri": "https://localhost:8080/",
          "height": 34
        },
        "outputId": "372d3520-bd10-485f-be93-8d9dd7fd2695"
      },
      "source": [
        "print(trainset.to_raw_uid(0)) # u id values - raw uid values gives the inner uid value"
      ],
      "execution_count": 98,
      "outputs": [
        {
          "output_type": "stream",
          "text": [
            "AWH2AY17ZU7W2\n"
          ],
          "name": "stdout"
        }
      ]
    },
    {
      "cell_type": "code",
      "metadata": {
        "id": "pRLbRFYpk-r0",
        "colab_type": "code",
        "colab": {
          "base_uri": "https://localhost:8080/",
          "height": 34
        },
        "outputId": "227e33d3-c50b-4e1e-f028-77e3ef10f7f0"
      },
      "source": [
        "trainset.to_inner_uid(\"AWH2AY17ZU7W2\") #u id values - inner uid values gives the raw uid values"
      ],
      "execution_count": 99,
      "outputs": [
        {
          "output_type": "execute_result",
          "data": {
            "text/plain": [
              "0"
            ]
          },
          "metadata": {
            "tags": []
          },
          "execution_count": 99
        }
      ]
    },
    {
      "cell_type": "code",
      "metadata": {
        "id": "Qru4nh_8lYRK",
        "colab_type": "code",
        "colab": {
          "base_uri": "https://localhost:8080/",
          "height": 34
        },
        "outputId": "218510fc-8240-4b57-cdbb-d8a3cccfd496"
      },
      "source": [
        "print(trainset.to_raw_iid(344))"
      ],
      "execution_count": 100,
      "outputs": [
        {
          "output_type": "stream",
          "text": [
            "B003ES5ZR8\n"
          ],
          "name": "stdout"
        }
      ]
    },
    {
      "cell_type": "code",
      "metadata": {
        "id": "EzABX-TmlxPj",
        "colab_type": "code",
        "colab": {
          "base_uri": "https://localhost:8080/",
          "height": 34
        },
        "outputId": "0da61678-7688-4eec-c6e2-428b483f9582"
      },
      "source": [
        "trainset.to_inner_iid(\"B003ES5ZR8\") "
      ],
      "execution_count": 102,
      "outputs": [
        {
          "output_type": "execute_result",
          "data": {
            "text/plain": [
              "344"
            ]
          },
          "metadata": {
            "tags": []
          },
          "execution_count": 102
        }
      ]
    },
    {
      "cell_type": "markdown",
      "metadata": {
        "id": "M_H5aYgoYWk1",
        "colab_type": "text"
      },
      "source": [
        "Build Collaborative Filtering model"
      ]
    },
    {
      "cell_type": "markdown",
      "metadata": {
        "id": "3vy71_u6YZAv",
        "colab_type": "text"
      },
      "source": [
        "ITEM-ITEM COLLABORATIVE FILTERING"
      ]
    },
    {
      "cell_type": "markdown",
      "metadata": {
        "id": "xOk2g7_EYfTb",
        "colab_type": "text"
      },
      "source": [
        "Since our goal is to recommend new products to each user based on his/her habits we go for item based one. e.g This can bring out a brand based products i.e. particular company`s product, if the user purchases many samsung mobiles, the new samsung mobiles only will be recommened to the user\n",
        "\n",
        "user based collaborativefiltering will be used when we want to predict the user rating for a particular product. E.g This is generic method where if a users gives 5 rating for all types of toys and 2 rating for all types of soap, Then all types of toys with 5 ratings(by other users) will be displayed"
      ]
    },
    {
      "cell_type": "markdown",
      "metadata": {
        "id": "A4LmLMnyYpaM",
        "colab_type": "text"
      },
      "source": [
        "We are implementing the model using KNNwithmeans algorithm for the current work"
      ]
    },
    {
      "cell_type": "code",
      "metadata": {
        "id": "lDZy3trsYy37",
        "colab_type": "code",
        "colab": {
          "base_uri": "https://localhost:8080/",
          "height": 153
        },
        "outputId": "60d982a8-bee0-40b1-b08e-95023e39153d"
      },
      "source": [
        "algo = KNNWithMeans(k=50, sim_options={'name': 'pearson_baseline', 'user_based': False})\n",
        "algo.fit(trainset)\n",
        "\n",
        "# run the trained model against the testset\n",
        "test_pred = algo.test(testset)\n",
        "\n",
        "# get RMSE\n",
        "print(\"Item-based Model : Test Set\")\n",
        "accuracy.rmse(test_pred, verbose=True)\n",
        "\n",
        "# if you wanted to evaluate on the trainset\n",
        "print(\"Item-based Model : Training Set\")\n",
        "train_pred = algo.test(trainset.build_testset())\n",
        "accuracy.rmse(train_pred)"
      ],
      "execution_count": 87,
      "outputs": [
        {
          "output_type": "stream",
          "text": [
            "Estimating biases using als...\n",
            "Computing the pearson_baseline similarity matrix...\n",
            "Done computing similarity matrix.\n"
          ],
          "name": "stdout"
        },
        {
          "output_type": "execute_result",
          "data": {
            "text/plain": [
              "<surprise.prediction_algorithms.knns.KNNWithMeans at 0x7f03a63514a8>"
            ]
          },
          "metadata": {
            "tags": []
          },
          "execution_count": 87
        },
        {
          "output_type": "stream",
          "text": [
            "Item-based Model : Test Set\n",
            "RMSE: 1.1360\n"
          ],
          "name": "stdout"
        },
        {
          "output_type": "execute_result",
          "data": {
            "text/plain": [
              "1.1359978091309944"
            ]
          },
          "metadata": {
            "tags": []
          },
          "execution_count": 87
        },
        {
          "output_type": "stream",
          "text": [
            "Item-based Model : Training Set\n",
            "RMSE: 0.0187\n"
          ],
          "name": "stdout"
        },
        {
          "output_type": "execute_result",
          "data": {
            "text/plain": [
              "0.018661735297796852"
            ]
          },
          "metadata": {
            "tags": []
          },
          "execution_count": 87
        }
      ]
    },
    {
      "cell_type": "markdown",
      "metadata": {
        "id": "3jdkae4icGTm",
        "colab_type": "text"
      },
      "source": [
        "6.Evaluate both the models. ( Once the model is trained on the training data, it can be used to compute the error (like RMSE) on predictions made on the test data.) You can also use a different method to evaluate the models."
      ]
    },
    {
      "cell_type": "markdown",
      "metadata": {
        "id": "5CnVJXMZcNi2",
        "colab_type": "text"
      },
      "source": [
        "Evaluating Model Performance:we evaluate only collaborative filtering model as we did only a group by recommendation for popularity based"
      ]
    },
    {
      "cell_type": "markdown",
      "metadata": {
        "id": "W5bfCruhcR7F",
        "colab_type": "text"
      },
      "source": [
        "As seen above the rmse of train data is 0.019 whereas in test it is 1.13,which implies the model has not performed very well"
      ]
    },
    {
      "cell_type": "code",
      "metadata": {
        "id": "SmJASYf2hguH",
        "colab_type": "code",
        "colab": {}
      },
      "source": [
        "SVD Model"
      ],
      "execution_count": 0,
      "outputs": []
    },
    {
      "cell_type": "code",
      "metadata": {
        "id": "H2YhJwrPhn_y",
        "colab_type": "code",
        "colab": {
          "base_uri": "https://localhost:8080/",
          "height": 34
        },
        "outputId": "c24edaf5-72da-4bf8-d5d1-bd17991390c7"
      },
      "source": [
        "svd_model = SVD(n_factors=50,reg_all=0.01)\n",
        "svd_model.fit(trainset)\n"
      ],
      "execution_count": 89,
      "outputs": [
        {
          "output_type": "execute_result",
          "data": {
            "text/plain": [
              "<surprise.prediction_algorithms.matrix_factorization.SVD at 0x7f03a64db2e8>"
            ]
          },
          "metadata": {
            "tags": []
          },
          "execution_count": 89
        }
      ]
    },
    {
      "cell_type": "code",
      "metadata": {
        "id": "Rr7o1Io0hyVc",
        "colab_type": "code",
        "colab": {
          "base_uri": "https://localhost:8080/",
          "height": 51
        },
        "outputId": "81a81992-76b8-4cb5-d46a-a19c35e92e4b"
      },
      "source": [
        "accuracy.rmse(test_pred)"
      ],
      "execution_count": 90,
      "outputs": [
        {
          "output_type": "stream",
          "text": [
            "RMSE: 1.1360\n"
          ],
          "name": "stdout"
        },
        {
          "output_type": "execute_result",
          "data": {
            "text/plain": [
              "1.1359978091309944"
            ]
          },
          "metadata": {
            "tags": []
          },
          "execution_count": 90
        }
      ]
    },
    {
      "cell_type": "markdown",
      "metadata": {
        "id": "EsGD2ARJh62k",
        "colab_type": "text"
      },
      "source": [
        "Using SVD also we got rmse as 1.13,now lets try Parameter tuning of SVD Recommendation system"
      ]
    },
    {
      "cell_type": "code",
      "metadata": {
        "id": "uAt51MnXiAUr",
        "colab_type": "code",
        "colab": {}
      },
      "source": [
        "from surprise.model_selection import GridSearchCV\n",
        "param_grid = {'n_factors' : [5,10,15], \"reg_all\":[0.01,0.02]}\n",
        "svd_tuned = GridSearchCV(SVD, param_grid, measures=['rmse'], cv=3,refit = True)"
      ],
      "execution_count": 0,
      "outputs": []
    },
    {
      "cell_type": "code",
      "metadata": {
        "id": "Ct68IXIBiQRp",
        "colab_type": "code",
        "colab": {}
      },
      "source": [
        "svd_tuned.fit(data)"
      ],
      "execution_count": 0,
      "outputs": []
    },
    {
      "cell_type": "code",
      "metadata": {
        "id": "lYZ2RkLRimG6",
        "colab_type": "code",
        "colab": {
          "base_uri": "https://localhost:8080/",
          "height": 119
        },
        "outputId": "71619291-93aa-45a6-c7f9-67804096c747"
      },
      "source": [
        "svd_tuned.param_combinations"
      ],
      "execution_count": 93,
      "outputs": [
        {
          "output_type": "execute_result",
          "data": {
            "text/plain": [
              "[{'n_factors': 5, 'reg_all': 0.01},\n",
              " {'n_factors': 5, 'reg_all': 0.02},\n",
              " {'n_factors': 10, 'reg_all': 0.01},\n",
              " {'n_factors': 10, 'reg_all': 0.02},\n",
              " {'n_factors': 15, 'reg_all': 0.01},\n",
              " {'n_factors': 15, 'reg_all': 0.02}]"
            ]
          },
          "metadata": {
            "tags": []
          },
          "execution_count": 93
        }
      ]
    },
    {
      "cell_type": "code",
      "metadata": {
        "id": "PUXCzSwSiu9_",
        "colab_type": "code",
        "colab": {
          "base_uri": "https://localhost:8080/",
          "height": 34
        },
        "outputId": "896a0648-f78d-427f-b3f9-8946def8e43d"
      },
      "source": [
        "svd_tuned.best_params"
      ],
      "execution_count": 94,
      "outputs": [
        {
          "output_type": "execute_result",
          "data": {
            "text/plain": [
              "{'rmse': {'n_factors': 5, 'reg_all': 0.02}}"
            ]
          },
          "metadata": {
            "tags": []
          },
          "execution_count": 94
        }
      ]
    },
    {
      "cell_type": "code",
      "metadata": {
        "id": "GFlEQr1eiyv-",
        "colab_type": "code",
        "colab": {}
      },
      "source": [
        "test_predict_svd_tuned= svd_tuned.test(testset)"
      ],
      "execution_count": 0,
      "outputs": []
    },
    {
      "cell_type": "code",
      "metadata": {
        "id": "a2Q-lx2Fi3mL",
        "colab_type": "code",
        "colab": {
          "base_uri": "https://localhost:8080/",
          "height": 102
        },
        "outputId": "fa55eb14-4a61-40f4-a54a-8f0aaf377605"
      },
      "source": [
        "test_predict_svd_tuned[0:5]"
      ],
      "execution_count": 96,
      "outputs": [
        {
          "output_type": "execute_result",
          "data": {
            "text/plain": [
              "[Prediction(uid='A28UMA3GW9L124', iid='B001GX6MJ8', r_ui=3.0, est=3.480739182853493, details={'was_impossible': False}),\n",
              " Prediction(uid='A38NHXL5257E3B', iid='B001D60LG8', r_ui=5.0, est=4.4370048200068215, details={'was_impossible': False}),\n",
              " Prediction(uid='A36IHC0K68NS2', iid='B005DKZTNK', r_ui=3.0, est=3.667188362856892, details={'was_impossible': False}),\n",
              " Prediction(uid='A231WM2Z2JL0U3', iid='B00005ARK3', r_ui=4.0, est=4.119383098879968, details={'was_impossible': False}),\n",
              " Prediction(uid='A2AC6GQ24S45GA', iid='B001S2RCWI', r_ui=5.0, est=4.617365248189364, details={'was_impossible': False})]"
            ]
          },
          "metadata": {
            "tags": []
          },
          "execution_count": 96
        }
      ]
    },
    {
      "cell_type": "code",
      "metadata": {
        "id": "VGHqN1Swi67d",
        "colab_type": "code",
        "colab": {
          "base_uri": "https://localhost:8080/",
          "height": 51
        },
        "outputId": "d7822c36-9909-49bc-bb1c-5d6569db4b54"
      },
      "source": [
        "accuracy.rmse(test_predict_svd_tuned)"
      ],
      "execution_count": 97,
      "outputs": [
        {
          "output_type": "stream",
          "text": [
            "RMSE: 0.8579\n"
          ],
          "name": "stdout"
        },
        {
          "output_type": "execute_result",
          "data": {
            "text/plain": [
              "0.8579425466242709"
            ]
          },
          "metadata": {
            "tags": []
          },
          "execution_count": 97
        }
      ]
    },
    {
      "cell_type": "markdown",
      "metadata": {
        "id": "TIQGyunAjDPy",
        "colab_type": "text"
      },
      "source": [
        "As seen above the rmse is reduced fairly in SVD after parameter tuning,so we shall use this to generate recommendations to users"
      ]
    },
    {
      "cell_type": "markdown",
      "metadata": {
        "id": "NwYXldvFjG_H",
        "colab_type": "text"
      },
      "source": [
        "7. Get top - K ( K = 5) recommendations. Since our goal is to recommend new products to each user based on his/her habits, we will recommend 5 new products."
      ]
    },
    {
      "cell_type": "code",
      "metadata": {
        "id": "HmAsniVpjIoS",
        "colab_type": "code",
        "colab": {}
      },
      "source": [
        "def get_top_n(predictions, n):\n",
        "    '''Return the top-N recommendation for each user from a set of predictions.\n",
        "\n",
        "    Args:\n",
        "        predictions(list of Prediction objects): The list of predictions, as\n",
        "            returned by the test method of an algorithm.\n",
        "        n(int): The number of recommendation to output for each user. Default\n",
        "            is 10.\n",
        "\n",
        "    Returns:\n",
        "    A dict where keys are user (raw) ids and values are lists of tuples:\n",
        "        [(raw item id, rating estimation), ...] of size n.\n",
        "    '''\n",
        "\n",
        "    # First map the predictions to each user.\n",
        "    top_n = defaultdict(list)\n",
        "    for uid, iid, true_r, est, _ in predictions:\n",
        "        top_n[uid].append((iid, est))\n",
        "\n",
        "    # Then sort the predictions for each user and retrieve the k highest ones.\n",
        "    for uid, user_ratings in top_n.items():\n",
        "        user_ratings.sort(key=lambda x: x[1], reverse=True)\n",
        "        top_n[uid] = user_ratings[:n]\n",
        "\n",
        "    return top_n"
      ],
      "execution_count": 0,
      "outputs": []
    },
    {
      "cell_type": "code",
      "metadata": {
        "id": "sG3M751lm-PO",
        "colab_type": "code",
        "colab": {
          "base_uri": "https://localhost:8080/",
          "height": 1000
        },
        "outputId": "e3520575-8a40-4ee3-d804-9665226abd77"
      },
      "source": [
        "top_n = get_top_n(test_predict_svd_tuned,5)\n",
        "for uid, user_ratings in top_n.items():\n",
        "    print(uid, [iid for (iid, _) in user_ratings])"
      ],
      "execution_count": 104,
      "outputs": [
        {
          "output_type": "stream",
          "text": [
            "A28UMA3GW9L124 ['B0002D6QJO', 'B008JJLW4M', 'B000N99BBC', 'B000VX6XL6', 'B002IO2UM2']\n",
            "A38NHXL5257E3B ['B003SGCO3E', 'B00BOHNYU6', 'B004J3ZV62', 'B004Q3R9AQ', 'B00CB2F65O']\n",
            "A36IHC0K68NS2 ['B004ING996', 'B00ATM1MGA', 'B00HMREOLK', 'B001FAACHK', 'B009N8M2P6']\n",
            "A231WM2Z2JL0U3 ['B00008OE6I', 'B00006HZ0L', 'B00005LB8P', 'B00008OE5G', 'B0000658CG']\n",
            "A2AC6GQ24S45GA ['B001TOD7ME', 'B009VV56TY', 'B009E6J1BU', 'B001S2RCWI', 'B000PGHCG4']\n",
            "A3OXHLG6DIBRW8 ['B001T9NUJE', 'B00BCA41PW', 'B00461E7JE', 'B002VPE1X4', 'B001ID829O']\n",
            "A2XA8CW5DF4MNZ ['B000TKHBDK', 'B001TOD7ME', 'B00387EW1K', 'B000P6R6CY', 'B000AP05BO']\n",
            "AG35JCCQWDRCS ['B000068O16', 'B0036Q7MV0', 'B001MSVPM6', 'B00AXTQQDS', 'B0045TYDNC']\n",
            "A2X3L31KCXBHCL ['B00829THEG', 'B0044DEDC0', 'B00DQZQ5T6', 'B000B63KSM', 'B005EM6IAA']\n",
            "A33YZNZIRA3H97 ['B00006I5J7', 'B00BOHNYTW', 'B00AXTQQDS', 'B00HFRWWAM', 'B00BFO14W8']\n",
            "AX05DBU8IRUWY ['B006W8U2MU', 'B007WTAJTO', 'B001FO4QHI', 'B00FISD9DO', 'B00IKCQ0EK']\n",
            "A296QED1MV1V0J ['B0058G40O8', 'B001S2PPT0', 'B008AST7R6', 'B00AXTQQDS', 'B005BOMTT0']\n",
            "A1CPRP3VFJRS1R ['B003CFATT2', 'B004HO58SO', 'B002HWRJY4', 'B0007QKXYU', 'B008C1JC4O']\n",
            "AB094YABX21WQ ['B001TH7GUU', 'B002Y6CJJ8', 'B0002Y5WZM', 'B000S5Q9CA', 'B000O5N5AI']\n",
            "A1MEISNED4NP7U ['B007R5YDYA', 'B007PJ4P4G', 'B00834SJSK', 'B00483WRZ6', 'B009NHAEXE']\n",
            "A3LGT6UZL99IW1 ['B003CFATT2', 'B000V5P90K', 'B001M4HXB2', 'B004CLYEDC', 'B000VUIXOO']\n",
            "A1PPS91NLI7KEH ['B00CD8ADKO', 'B00AAHT8JC', 'B00E0EY7Z6', 'B00A0LVPL2', 'B0064EL2DK']\n",
            "A1VJ0V58N0698J ['B00328HR7G', 'B000MUV6BA', 'B004TB70Y0', 'B0075SUK14', 'B004VM0SE6']\n",
            "A196JN53PG0C7R ['B003ES5ZUU', 'B008JJLW4M', 'B001TH7T2U', 'B001FVI91U', 'B001AYGDCE']\n",
            "A1901NTE8LFJF6 ['B000M2TAN4', 'B0011U65F2', 'B0036AZA6A', 'B002P3KMXA', 'B005DKZTMG']\n",
            "A3TAS1AG6FMBQW ['B00COF7DGS', 'B002WE6D44', 'B000HPV3RW', 'B001TH7GSW', 'B00D6XW62I']\n",
            "A362FM6FYA1SYS ['B005ES0YYA', 'B000VDCT3C', 'B00E3W15P0', 'B0045KGZOG', 'B007WTAJTO']\n",
            "A3D0UM4ZD2CMAW ['B003AVMRQG', 'B004W2T2TM', 'B009O7YU56', 'B004FA8NOQ', 'B005J7YA4G']\n",
            "A6FIAB28IS79 ['B000089GN3', 'B003ZKG10K', 'B0097BEF1S', 'B004VM1T5S', 'B0048IATQ0']\n",
            "A2X695AM08AIN1 ['B002WE6D44', 'B007WTAJTO', 'B004C3AW40', 'B003YKG2UK', 'B0075SUK14']\n",
            "A2NOW4U7W3F7RI ['B00017LSPI', 'B007WTAJTO', 'B001W28L2Y', 'B00HHRP11C', 'B000ANCPNM']\n",
            "A2W2ODLRQ2L8LE ['B006FNCWSY', 'B000V7AF8E', 'B000LD14PQ', 'B000JJM8XE', 'B000FOYMKU']\n",
            "AR6APXLK7TJU2 ['B000AZ57M6', 'B003SX0P1A', 'B001G5ZTLS', 'B00009UTLM', 'B001IF252C']\n",
            "A1V4A5U5O3TMMD ['B007FGYZFI', 'B00009XVCZ', 'B001EAQTRI', 'B000F2BLTM', 'B0009H5VVM']\n",
            "A110PC8C5Y7MQD ['B005DQG5SC', 'B005J4C820', 'B003LSTD38', 'B005EOWBKE', 'B0013J0502']\n",
            "A5MCDQ60DWUEV ['B001MSU1FS', 'B002WE6D44', 'B002ZIMEMW', 'B0007U00X0', 'B0002D03ZW']\n",
            "ASCBJEPXTOU0V ['B003ES5ZUU', 'B006WAGG14', 'B000QUUFRW', 'B004W2JKWG', 'B0088PUEPK']\n",
            "A2294LS59GC5K7 ['B002V88HFE', 'B001J8BPYM', 'B003YNQ6MG', 'B0093HGD2K', 'B003ZSHNE0']\n",
            "A34UVV757IKPVB ['B003XM1WE0', 'B000EPHR0C', 'B000F49RAA', 'B008MF3X9K', 'B0082DCPQ4']\n",
            "A10O7THJ2O20AG ['B007PJ4P4G', 'B000ABB4HC', 'B00005N6KG', 'B00017LSPI', 'B000QUUFRW']\n",
            "A2NYK9KWFMJV4Y ['B000VX6XL6', 'B00HG1L334', 'B00DTZYHX4', 'B004IK2EAW', 'B009UNZ5WQ']\n",
            "A3TBMAWIIHKHFN ['B000167OAC', 'B000MVBHRW', 'B0015HYPOO', 'B000WOVD1Y', 'B004YIFKRM']\n",
            "A1ODOGXEYECQQ8 ['B001TH7GUK', 'B00E3FHXYO', 'B001RCTA8I', 'B008R7EWEI', 'B00A35WYBA']\n",
            "A1MFVAHTT2BHM0 ['B007WTAJTO', 'B000S5Q9CA', 'B00005T3G0', 'B005NGKR54', 'B00006B7DA']\n",
            "A18HE80910BTZI ['B00EO302SO', 'B002WE4HE2', 'B0001G6U4S', 'B003LPUWT0', 'B004G6002M']\n",
            "AEZJTA4KDIWY8 ['B00E3W15P0', 'B000HPV3RW', 'B001ID829O', 'B003LR7ME6', 'B000O8I474']\n",
            "A19EKT8H85AKO5 ['B00834SJSK', 'B004CLYEFK', 'B0079UAT0A', 'B0013VFI34', 'B005XPFYBM']\n",
            "A141OPVE376YFI ['B0000BZL1P', 'B000067RT6', 'B0056YNA1Q', 'B002JP92K8', 'B002TKS0S8']\n",
            "A17HMM1M7T9PJ1 ['B0000BZL1P', 'B0010Z28XG', 'B0012IJYZ6', 'B001KELVS0', 'B00FZ9SM4M']\n",
            "A28RSMADFCBJDT ['B000M2TAN4', 'B000N7VPRW', 'B005DKZTMG', 'B000M2GYF6', 'B002IKLJVE']\n",
            "AV9PIER7NE448 ['B00E3W15P0', 'B0045TYDNC', 'B000HPV3RW', 'B008JJLW4M', 'B00F0DD0I6']\n",
            "ADOR3TR7GDF68 ['B003UH0Z9Q', 'B007WTAJTO', 'B004XC6GJ0', 'B001O4EPHA', 'B009DMFOVG']\n",
            "A316XO4RWX21YN ['B00D5Q75RC', 'B00FPKDPZC', 'B002S53LJ2', 'B001CROHX6', 'B00F6PRSMW']\n",
            "ARBKYIVNYWK3C ['B0052SCU8U', 'B000TKHBDK', 'B00007IFED', 'B00006HSML', 'B006EKIQYM']\n",
            "A1AQ8JT2A3UWMY ['B000NP3DJW', 'B00E3W15P0', 'B00007E89K', 'B000NP46K2', 'B003VAK16O']\n",
            "A680RUE1FDO8B ['B0019EHU8G', 'B005LDLP8W', 'B0012Y2LLE', 'B00E0HITQ6', 'B006JH8T3S']\n",
            "A38NELQT98S4H8 ['B00DT04I9W', 'B0041D81WQ', 'B004MF11MU', 'B003AHID7M', 'B006BUN5YQ']\n",
            "A26SO3TOT2TLJE ['B00BOHNYU6', 'B00EHZYWGM', 'B008PQAFR4', 'B00ATM1MHO', 'B00CD1FB26']\n",
            "A3TR3KLL5PXSZ8 ['B004WB8EYM', 'B0048IW030', 'B0090BSSZO', 'B005KEL4NI', 'B000A1SZ2Y']\n",
            "A3AYSYSLHU26U9 ['B0019EHU8G', 'B00IX2VGFA', 'B001FA1NZK', 'B00B9KOCYA', 'B00F0DD0I6']\n",
            "A13BX9O5UDBILC ['B002V88HFE', 'B00015GYU4', 'B009YQ8BTI', 'B002K9IHGI', 'B000E6NGBU']\n",
            "AVFJ327UXPXLF ['B006LW0W5Y', 'B00BOHNYU6', 'B004N3BH0C', 'B006K553LU', 'B000J1DA3Y']\n",
            "AX7317G153T8W ['B00BOHNYU6', 'B001OOZ1X2', 'B00080G0BK', 'B0002L5R78', 'B00139JBU2']\n",
            "A38RMU1Y5TDP9 ['B003U7SR0U', 'B004MF11MU', 'B001E1Y5O6', 'B003ZG9T62', 'B009X01C64']\n",
            "A2858RV2VLI14X ['B004QBUL1C', 'B0007TOR08', 'B007R67FNA', 'B00847TOLC', 'B004NY9UV4']\n",
            "AWPODHOB4GFWL ['B00DTZYHX4', 'B001TH7GSW', 'B003NR57BY', 'B002Y6CJJ8', 'B00BERGFV6']\n",
            "ACH055GTTIGC9 ['B0002LHSFW', 'B00FDUHD2K', 'B00585CLVS', 'B0001HA8WW', 'B0002VO8GE']\n",
            "A1C5WS021EL3WO ['B001TH7GUU', 'B003ES5ZR8', 'B000CRFOMK', 'B0002Y5WZM', 'B000ENUCR4']\n",
            "A100WO06OQR8BQ ['B0002LEMWE', 'B000VX6XL6', 'B001342KM8', 'B001AW8W7A', 'B0096LZ5QI']\n",
            "A3GQY0TFRG0MPZ ['B0040IO1RQ', 'B004J6BIJ8', 'B007R1FH3K', 'B002J9HBIO', 'B006ZH0JQM']\n",
            "A2GMZZ6TDYOHY7 ['B000QUUFRW', 'B007WTAJTO', 'B007R5YDYA', 'B00475K64E', 'B003O1UYHG']\n",
            "AGEKVD8JPZQMT ['B004286VMW', 'B00A0ABQLM', 'B008MF3X9K', 'B008R39FKS', 'B0012QN3AA']\n",
            "A2N3JSOIQ6ZNFL ['B00461E7JE', 'B002POBS46', 'B008RJZQSW', 'B007RIFKTY', 'B004GELHJO']\n",
            "A19W47CXJJP1MI ['B001TH7GUA', 'B000HPV3RW', 'B0007A1IRC', 'B00DR6DQZA', 'B0034CL2ZI']\n",
            "A3BI8BKIHESDNQ ['B004TLIVB6', 'B00000J1SC', 'B001LK6ZDY', 'B000FV8P24', 'B000WNG0MW']\n",
            "AW68KVDV7BBRS ['B000VDCTCI', 'B002QUZM0U', 'B000BYCKU8', 'B00006HOAE', 'B00140DBRY']\n",
            "A27ADCSD15F3GL ['B006WAGG14', 'B001MSU1FS', 'B003CFATT2', 'B008EC4O76', 'B005E8MVV4']\n",
            "A2G563AC1HME2R ['B003FVJYF8', 'B005IMFX2K', 'B003BKW2K2', 'B0079MX4Q4', 'B00483WRZ6']\n",
            "APMYPD97EHUUZ ['B008EQZ25K', 'B001OOZ1X2', 'B00829TIEK', 'B00CRJWW2G', 'B004R6NWBC']\n",
            "A1VUN4JU731CBH ['B006W8U2MU', 'B001DBF07I', 'B000096B01', 'B00483WRZ6', 'B003FZA1O2']\n",
            "A15XI2BEGGFEOW ['B001ELK2NY', 'B009VV56TY', 'B00829TIA4', 'B00A0JUNWQ', 'B0002L5R78']\n",
            "A16CVJUQOB6GIB ['B000OGX5AM', 'B003XUM3NQ', 'B00596CP9E']\n",
            "A20UU20K7M9ZPF ['B009NHWVIA', 'B003ZTWYXY', 'B006JTUM72', 'B004M5H660', 'B00AGAS6XW']\n",
            "AR18DH5SL9F73 ['B000WH6H1M', 'B001NJ0D0Y', 'B004MU8VCS', 'B004EGI3CI', 'B004LPY204']\n",
            "A2EZTM9WY5B5IL ['B002WE0QN8', 'B001S2PPT0', 'B00001WRSJ', 'B004AZ38Z0', 'B0043ZLFXE']\n",
            "A26EQ8U96JA92T ['B000BQ7GW8', 'B004HIN7SI', 'B00E9YIFKA', 'B001PIBE8I', 'B005H3I38G']\n",
            "A1WUQF5HWBAQJU ['B0058G40O8', 'B00G4UQ6U8', 'B009SGB3KI', 'B007PJ4PKK', 'B00JF0D7RE']\n",
            "A3F9CBHV4OHFBS ['B0012Y6HC8', 'B000IJY8DS', 'B005EOWBKE', 'B001SJVU24', 'B000A3WS20']\n",
            "A250AXLRBVYKB4 ['B004CLYEDC', 'B000MX48VM', 'B000VE2RP6', 'B002UVNW5W', 'B0002EQU6C']\n",
            "AETQIN7OH0RL9 ['B008JJLW4M', 'B008AST7R6', 'B000E65HXA', 'B009B0MZ8U', 'B002ZIMEMW']\n",
            "A2DG63DN704LOI ['B001OI2YNS', 'B0094S35W4', 'B0000BZL28', 'B007BZRXK2', 'B00HFRWWAM']\n",
            "A10H24TDLK2VDP ['B009NHWVIA', 'B00BYRPM9M', 'B0093H4WT6', 'B009Z7KMUM', 'B0011Z44UA']\n",
            "A3UKWQS8SRW6IO ['B004HHICKC', 'B004SBBD8U', 'B00D429Y12', 'B00829THVO', 'B0052SCU8U']\n",
            "A2H4OMJLE7JFM2 ['B0012Y2LLE', 'B002M3SOCE', 'B001E1Y5O6', 'B000CSOXTO', 'B00CP0I474']\n",
            "A3F7USIDJBR8WU ['B0001ZA4PA', 'B00007EDZG', 'B003FW2EFO', 'B000MUV6BA', 'B0007TJ5AK']\n",
            "A3IY316DRNF5F2 ['B004MMEHH4', 'B0002ZAILY', 'B0011Z2402', 'B0047E8DN6', 'B004PNZFZ8']\n",
            "A3RGJ1FXOB1ZLL ['B005ES0YYA', 'B0025VKUQQ', 'B0013AV4M4', 'B009O7YUF6', 'B0055QYKQO']\n",
            "A2Q204DY2L7YRP ['B003ES5ZUU', 'B008LCYIEI', 'B0079M711S', 'B008FJJ66C', 'B001F7AJKI']\n",
            "A34BZM6S9L7QI4 ['B003ZTKFEE', 'B009NHWVIA', 'B004IK2EAW', 'B004SBBD8U', 'B0079UAT0A']\n",
            "AWNBZSEZ9P8BE ['B0035FZJHQ', 'B00HVT27B8', 'B005DSPLCQ', 'B008X1BV2Y', 'B003M0NURK']\n",
            "AR3EVUQF0AC7R ['B00EOE4G4E', 'B00IRRDHUI', 'B000O8WE66', 'B00829THEG', 'B00020S7XK']\n",
            "A1HFT68GJ42LTM ['B00C20KWP4', 'B002TLSOG0', 'B002K9IHGI', 'B002P3KH80', 'B0081FLFQE']\n",
            "A1TY97ZGQT5FGF ['B000WXSO76', 'B002XVTDNO', 'B0012YHQVE', 'B0041OSQ9I', 'B000EVOOO8']\n",
            "A4D5B7Q8A7PA6 ['B003CFATT2', 'B003CJTQJC', 'B009NHWVIA', 'B001TH7GT6', 'B0034CL2ZI']\n",
            "A3T8WOFS5RD2IR ['B004CLYEDC', 'B000WOIFO2', 'B000EOMXM0', 'B009SS0FZK', 'B000NONHYY']\n",
            "A2PMR2PIGWKCQ9 ['B0090Z3QG6', 'B008L1OCF4', 'B00D695GS8', 'B004GUT1QO', 'B000P0528K']\n",
            "AGXV8E7XK9J6H ['B00007GQLU', 'B000AZ57M6', 'B000FKQ8LA', 'B0000CD0B7', 'B00065ANYW']\n",
            "A2XIOXRRYX0KZY ['B009NHWVIA', 'B004CLYEDC', 'B00E0EY7Z6', 'B00FRMAOIO', 'B00BXF7I9M']\n",
            "A17NVM7IAPF2NS ['B00D6XW62I', 'B00829THEG', 'B00EF1OGOG', 'B003Y5H17I', 'B0032FPVKE']\n",
            "A2TN0U8173HM7A ['B007Q45EF4', 'B006L8TX94', 'B004YDUZ22', 'B000HPV3RW', 'B0002KVQBA']\n",
            "ACQYIC13JXAOI ['B000N99BBC', 'B00HVT27B8', 'B005LAIFE2', 'B001S4OTS6', 'B0040JHVC2']\n",
            "A3TRY87JJCA5Y8 ['B005EOWBKE', 'B002SIMPXM', 'B003AI272I', 'B003UI62AG', 'B005DKZTMG']\n",
            "AYB4ELCS5AM8P ['B000BQ7GW8', 'B004CLYEDC', 'B00G4UQ6U8', 'B00G4V0QSK', 'B004CLYEFK']\n",
            "A2T689YVOAYGGD ['B002YU83YO', 'B005JN9310', 'B001UNI80A', 'B0034CL2ZI', 'B0012YFXSW']\n",
            "ADLVFFE4VBT8 ['B001TH7GUA', 'B003HFCDLY', 'B0019EHU8G', 'B00L3YHF6O', 'B005IMFX2K']\n",
            "A1MFAPVBW9BEGD ['B0016D1I0G', 'B001S4OTS6', 'B008S15XA0', 'B003FVI2KQ', 'B00IDG3IDO']\n",
            "A1Z16630QMH8Q6 ['B004CLYEDC', 'B000Q82PIQ', 'B000HPV3RW', 'B00JC5Y6WM', 'B000V1R96Q']\n",
            "A1XXMNLOLKNO0I ['B008RDI0TU', 'B007WTAJTO', 'B001TH7T2U', 'B007PTCFFW', 'B008PO5CSI']\n",
            "A105TOJ6LTVMBG ['B00029U1DK', 'B005J4C820', 'B006JINHYS', 'B001J8BPYM', 'B001MX5YWI']\n",
            "A33CNFK776MTWR ['B005DKIID8', 'B001FA1NK0', 'B005450ZUG', 'B008Y8E25Y', 'B005HGBEZ2']\n",
            "A30KPB2ILF6K6J ['B001P05NBA', 'B005ELBSWO', 'B00IF0JAIU', 'B00829THVO', 'B0081FLFQE']\n",
            "A3QNQQKJTL76H0 ['B00DT04I9W', 'B00BOHNYTW', 'B008HK3QII', 'B000O8WE66', 'B000HPZ97W']\n",
            "AOEAD7DPLZE53 ['B00BW6KCTU', 'B000VX6XL6', 'B001DL9WDG', 'B0002IWC9C', 'B00B1862X4']\n",
            "A2RN2AO4BE6F4K ['B005DSPLCQ', 'B005ELBSWO', 'B00A0JUNWQ', 'B0001GRTK2', 'B003XM9774']\n",
            "A5JLAU2ARJ0BO ['B0007QKMQY', 'B00008OE6I', 'B00006IJO4', 'B0002KQR3M', 'B00006B7HB']\n",
            "A11ED8O95W2103 ['B00006HSYC', 'B00007IFED', 'B000EMWBV0', 'B00000J061', 'B000EVSLRO']\n",
            "AKSQNMIKOU01H ['B002V88HFE', 'B0036AWR8E', 'B0000WKYU4', 'B0079M711S', 'B002D2VS9U']\n",
            "A3BACUOZV1M0WM ['B000VX6XL6', 'B00009R6WO', 'B001NS828K', 'B004R7P28W', 'B005AY9278']\n",
            "AR8LWDT6TUKNZ ['B003T0EYVE', 'B008B14VAK', 'B00E83XHXM', 'B005H4Y6U4', 'B0056KEPVO']\n",
            "A13QOK3SKIT9QL ['B002WE6D44', 'B0013FSKSA', 'B000ID37EA', 'B006UMM1PO', 'B000I98ZYG']\n",
            "A1KXJCXS6HFRQZ ['B003ES5ZUU', 'B004CLYEDC', 'B004FHO5Y6', 'B0025VKUQQ', 'B00007FGU7']\n",
            "AR74YY08IP2WE ['B00FR6VL50', 'B00BOHNYU6', 'B002BH3Z8E', 'B008D2POAS', 'B004O0PAKW']\n",
            "ATOKT8QYK967L ['B00829TIA4', 'B00125Y0NU', 'B00GO1UV4E', 'B009JP461G', 'B00FA4Y7N2']\n",
            "AXR3CV6A4FMBG ['B000MUP69I', 'B0033PROOY', 'B004VR7XCG', 'B003K1EYM6', 'B001U0O5QO']\n",
            "A328S9RN3U5M68 ['B00BLCVD9I', 'B00EDCF0MY', 'B00IX2VGFA', 'B00HG1L334', 'B00FW6T36Y']\n",
            "A2IFKH3TJ10387 ['B000N99BBC', 'B002K9IHGI', 'B005FE7URM', 'B00834SJNA', 'B00D68ZVY8']\n",
            "A3N0P5AAMP6XD2 ['B002V8C3W2', 'B00834SJNA', 'B0041Q9PZ0', 'B000NQ16NG', 'B00C28L6EW']\n",
            "A3V7D0LH8L7BG0 ['B00BOHNYU6', 'B00829THO6', 'B00DR6DQZA', 'B00BOHNYTW', 'B00829TIA4']\n",
            "A3R1WFO4KIUQXZ ['B002V88HFE', 'B005EOWBKE', 'B00FRDUZXM', 'B002LE8D2A', 'B00GMEFGRK']\n",
            "A1F1A0QQP2XVH5 ['B000HPV3RW', 'B003HFCDLY', 'B008RM235I', 'B004Q3R9AQ', 'B00AJHDZSI']\n",
            "A3W4D8XOGLWUN5 ['B000M17AVO', 'B00BOHNYTW', 'B007WTAJTO', 'B000BONJXU', 'B00E0EY7Z6']\n",
            "AM3XNQU9TZBD8 ['B002TLTE6O', 'B00DR6DQZA', 'B0041OUA38', 'B00JC5Y6WM', 'B0058NN6CS']\n",
            "A1A306IAZ3TM1 ['B000LY4FLA', 'B001FBL2SW', 'B0014IYZDK', 'B00065XSP8']\n",
            "A25QJBK33C4O0R ['B00CKAOJA0', 'B00BOHNYU6', 'B00B3PDH5G', 'B0081FLFQE', 'B009GF6F9U']\n",
            "A2Z1R98M2XOCEJ ['B005ELBSWO', 'B00C28L138', 'B009SYZ8OC', 'B00067LYFW', 'B00IQBSW28']\n",
            "A26BDXG9KVH7SU ['B00HWMPSF6', 'B002K9IHGI', 'B00483WRZ6', 'B00HFRWWAM', 'B00HR7FWUC']\n",
            "A368IPE6EW0GZL ['B0016D1I0G', 'B002ZIMEMW', 'B000P1R9QM', 'B00DIFIM36', 'B00028VKLI']\n",
            "A2KYRPDKVBI2R4 ['B0034CL2ZI', 'B0013FRNKG', 'B008LTBITY', 'B000N99BBC', 'B001PS9UKW']\n",
            "A3QUDXLOJTKEP9 ['B002V88HFE', 'B00BOHNYTW', 'B00B7E1D7W', 'B00006B7DA', 'B005L38VPC']\n",
            "APG2BHOAXPNEQ ['B008AST7R6', 'B002UOR17Y', 'B002KO5XVU', 'B009JZ09PI', 'B002ZWU33U']\n",
            "ANRS196NKFVUU ['B004QGXOOI', 'B003T5KXJQ', 'B009BKVYZK', 'B002KO5XVU', 'B002HKHLDK']\n",
            "A19X4BF861LQST ['B000BQ7GW8', 'B000MX48VM', 'B000EOMXM0', 'B000HZGQ9C', 'B005IHAIDO']\n",
            "A17Z0LVY96TO53 ['B004HO58SO', 'B00894YP00', 'B002YTDE5I', 'B00EH5UGR6', 'B001JHXOTW']\n",
            "A1QVFHPY8418HC ['B00009EHJV', 'B00005NIMJ', 'B002EEP3MK', 'B00077AA5Q', 'B0082E9K7U']\n",
            "AJX9A4Q19UTJU ['B008EQZ25K', 'B000N99BBC', 'B00IVFDZBC', 'B008EQYRRY', 'B00829TIEK']\n",
            "AUCIFMWP3DU8R ['B002SIMPXM', 'B009UEAZ84', 'B00CB2F65O', 'B0058P0I2C', 'B00198MYB0']\n",
            "A11OTLEDSW8ZXD ['B00BW6KCTU', 'B002LTWDSK', 'B001FA09WI', 'B0082E9K7U', 'B00894YP00']\n",
            "A3U41ZL33SS92P ['B002V88HFE', 'B003VANO7C', 'B0018M256G', 'B00AJHDZSI', 'B009F7IBZK']\n",
            "A1FLJCHN5CG5M5 ['B000QUUFRW', 'B001ENW61I', 'B005IMFX2K', 'B0000BZL0G', 'B003O8682Y']\n",
            "A3T7V207KRDE2O ['B003HFCDLY', 'B0034XRDU0', 'B004VM1T5S', 'B0011ZCDKS', 'B000N7VPRW']\n",
            "AZMY6E8B52L2T ['B001MSU1FS', 'B00DTZYHX4', 'B001TH7GUK', 'B00E3FHXYO', 'B000VX6XL6']\n",
            "A3IJ4Z18FTIIP ['B009NB8WR0', 'B00CAAJDP6', 'B0036Q7MV0', 'B0043T34RK', 'B0002A9RFM']\n",
            "A3OYO7B6SS7QLH ['B0074FGLUM', 'B000BQ7GW8', 'B005J7YA4G', 'B0056TYRMW', 'B005BI5WMW']\n",
            "A3M7BCQKSQAK4L ['B004CLYEDC', 'B00HVT27B8', 'B00D1GYNT4', 'B009X3UW2G', 'B007GMPZ9Q']\n",
            "AVPNQUVZWMDSX ['B001TH7GSW', 'B000MP831G', 'B00834SJSK', 'B007WTAJTO', 'B001TOD7ME']\n",
            "A1ZU55TM45Y2R8 ['B0017H4G0A', 'B00006B81E', 'B00DB3SH2G', 'B004D2AZ06', 'B003MQO96U']\n",
            "A1U5IJHJK84S54 ['B003NR57BY', 'B002WE6D44', 'B00006I5J7', 'B00BQ8RFAI', 'B001F51G16']\n",
            "ATZJNEXX7LWD3 ['B002V8C3W2', 'B006W8U2MU', 'B00829THEG', 'B005DSPLCQ', 'B00CGVF8E4']\n",
            "A1H4IVXNXWWBLV ['B0052SCU8U', 'B003MQWN40', 'B005IHAIC0', 'B005IY2OD4', 'B003LYKLCO']\n",
            "A23E9QQHJLNGUI ['B0013FSKSA', 'B000EOMXM0', 'B009F7IBZK', 'B00894YP00', 'B00BP5KOPA']\n",
            "A1OA2ZW406NQXM ['B007PJ4P4G', 'B001P05NBA', 'B002TLTE6O', 'B005X64MN2', 'B001S0PWWC']\n",
            "A1DTCJV6KOMJOA ['B00IVPU7DG', 'B009A6CZ30', 'B00FFJ0HUE', 'B0090A8TWW', 'B006WHPQCC']\n",
            "ARX0KOX5Q01BJ ['B001UI2FPE', 'B0012X43P2', 'B004RORMF6', 'B00483WRZ6', 'B003WGJYCY']\n",
            "A27H0T39U3FZB5 ['B003L1ZYZ6', 'B00DR6DQZA', 'B00475K64E', 'B004TBBSNY', 'B00829TIA4']\n",
            "A4WEZJOIZIV4U ['B009NB8WR0', 'B00CKAOJA0', 'B00EO302SO', 'B00G6IJ5NI', 'B001W28L2Y']\n",
            "AH3LF9RAD1O2V ['B00834SJSK', 'B001CCAISE', 'B0049XGNKK', 'B00160MV8W', 'B00746O3X8']\n",
            "AGXMC3ITWZASE ['B002JCSV5I', 'B0002XQDSS', 'B005O9YMM4', 'B004BFXBXI', 'B00004SQET']\n",
            "A23NSKTMSPPBTR ['B00BQ4F9ZA', 'B00HG1L334', 'B00B9KOCYA', 'B000M17AVO', 'B0027AGK3M']\n",
            "A3NKRH3TJ4DPVI ['B003ES5ZUU', 'B000067RVL', 'B001C271MA', 'B003WGJYCY', 'B000LRMS66']\n",
            "A1KD8NJPZ01R37 ['B00001W0DI', 'B005MLAZ8Y', 'B000AP05BO', 'B0014YGAN2', 'B003ZBZ64Q']\n",
            "A1FOSIV4TWZFR7 ['B009ZGK6QS', 'B00A4V22G0', 'B002Q0W816', 'B003VVYL46', 'B00026BQJ6']\n",
            "A2WDCAMKCCP1UR ['B002WE6D44', 'B003MTTJOY', 'B005HNHRA6', 'B00000K13L', 'B005CLMJLU']\n",
            "AHIK7BUXFRMT8 ['B0074FGLUM', 'B002K9IHGI', 'B0003009AI', 'B00109Y2DQ', 'B00007KDVJ']\n",
            "AOTZOHB2LZGYR ['B003PJ6QVU', 'B009O7YUF6', 'B0036Q7MV0', 'B004SUO068', 'B00746YHV6']\n",
            "A1HBI9BBQIG1NH ['B00ATM1MHO', 'B0016BVKAQ', 'B004NY9UUK', 'B001B11GTQ', 'B00126R3P6']\n",
            "A2PREU4LOFQRB1 ['B000N99BBC', 'B004UHY8SO', 'B0077E48A0', 'B00HC0ZDOE', 'B00DR9V1T0']\n",
            "A2WLNSZ9U0T1S3 ['B0012Y2LLE', 'B000VX6XL6', 'B002K9IHGI', 'B001OI2YNS', 'B0015YJOK2']\n",
            "A2FZQF0MH29VYN ['B002V88HFE', 'B002WE6D44', 'B003WV5DJC', 'B004C9P9TM', 'B000L47AHG']\n",
            "AO8NH0BV82XIE ['B005DQG5SC', 'B000AYKUUQ', 'B002FB684E', 'B007BZRXK2', 'B002IC0YL8']\n",
            "A3HPCRD9RX351S ['B0029N3U8K', 'B005HQ50SO', 'B007OY5V68', 'B00330O2U8', 'B00006HOKR']\n",
            "A324X7RVDAV3FT ['B004Y1AYAC', 'B000ZMCILW', 'B000IF51UQ', 'B0042L5H1A', 'B001BSQK8Q']\n",
            "A2B7BUH8834Y6M ['B002NEGTTW', 'B004JZI78O', 'B003XIJ3MW', 'B005L38VPC', 'B003FHNDF4']\n",
            "A3TPNC3TKGCCEI ['B005FE7URM', 'B00BWF5U0M', 'B00FRMAOIO', 'B003M0NURK', 'B0042FZ50O']\n",
            "A1S27P7KJO9I96 ['B0099SMFP2', 'B009A6CZ30', 'B00F3F0EIU', 'B00171V6BS', 'B0002A0206']\n",
            "A30J7WQV0ZNRXG ['B007PJ4P4G', 'B00COEBCXY', 'B00ISIG690', 'B00003G1RG', 'B002S53IG8']\n",
            "A3PD8JD9L4WEII ['B009USAJCC', 'B003CJTQJC', 'B006ZT4VA0', 'B002VPE1X4', 'B0082E9K7U']\n",
            "AI2AOCTC8BQVZ ['B001342KM8', 'B000CKVOOY', 'B007WTAJTO', 'B002WM8ZV0', 'B001702I16']\n",
            "A2KOV8XWZOZ0FQ ['B003ES5ZUU', 'B001IEZX3G', 'B00BCA41PW', 'B0031RG29M', 'B007P71IM0']\n",
            "A3LDPF5FMB782Z ['B002V88HFE', 'B000QUUFRW', 'B001QFZMBU', 'B001SER48S', 'B001F50UHM']\n",
            "A2DF62DP20RIXF ['B001F51G16', 'B00000J1TX', 'B000MQK6BK', 'B009Z7KMUM', 'B0013ITQA8']\n",
            "A215IN14OKAE2T ['B0002D6QJO', 'B00B588HY2', 'B0017JY5FE', 'B001LYUG3A', 'B0019WF4FE']\n",
            "A17O9AHKHK66AI ['B004QGXOOI', 'B00DZTVST0', 'B004H8FNBC', 'B008TCUXLW', 'B0089WY3NQ']\n",
            "A2S26YGSVXBCFL ['B001FA1NZK', 'B00B3PDHBU', 'B002TLTE7I', 'B000LRMS66', 'B00F3F0EIU']\n",
            "A1O229NVVDJUX2 ['B001TH7GSW', 'B006W8U2MU', 'B005IMFX2K', 'B002NEGTTW', 'B000EMWBV0']\n",
            "A195EZSQDW3E21 ['B003ES5ZUU', 'B0035FZJHQ', 'B006K553LU', 'B005IY2OD4', 'B003L139HG']\n",
            "A35W3JQYP0M655 ['B00G4V0QSK', 'B001MXLD4G', 'B005EWB396', 'B000P1R9QM', 'B00EPCN9O8']\n",
            "A35A2RWUMC737N ['B003MTTJOY', 'B005GI2VMG', 'B000E9U9GC', 'B004JISIE4', 'B000Q8UAWY']\n",
            "ATDE9JYCPI0L1 ['B00029U1DK', 'B000VQ3R44', 'B001NTDGQC', 'B000ETY3LO']\n",
            "A3F3B6HY9RJI04 ['B004ELA0SS', 'B002DUCMQU', 'B004CLYEDC', 'B000UIA6YM', 'B000068O34']\n",
            "A1NQFT941TOTT7 ['B000QUUFRW', 'B002WE4HE2', 'B009NB8WRU', 'B00198DM2K', 'B000UY3NR8']\n",
            "A2XRMQA6PJ5ZJ8 ['B00L3YHF6O', 'B007R5YDYA', 'B0000BZL1P', 'B000BY52NK', 'B004GF8TIK']\n",
            "A2J7FHZFKOKGZ6 ['B00629NHW6', 'B002OOWC3S', 'B0002WPSBC', 'B003U8CP84', 'B007TG5EG8']\n",
            "A1143YEAZYMYHJ ['B00BQ4F9ZA', 'B000N99BBC', 'B000M17AVO', 'B001EYV9TM', 'B000066JQU']\n",
            "A1522TN5FVJL0Y ['B0034CL2ZI', 'B003W9B4H4', 'B00004VX3T', 'B0000658CH']\n",
            "ALDAF4VVLFRHP ['B004CLYEDC', 'B0013FRNKG', 'B004CLYEFK', 'B00829THEG', 'B00829TIEK']\n",
            "A3R4794K2RVU1S ['B00461E7JE', 'B00006B7HB', 'B001S2PPT0', 'B004HHICKC', 'B005UBNKWO']\n",
            "A2SH7OWE8QJYNC ['B000089GN3', 'B0051G5SBY', 'B000JSFT0Y', 'B001C9KW88', 'B002CWZ29S']\n",
            "A2Y29IRSI08F0I ['B0045KGZOG', 'B000EH6GKM', 'B002CA19W4', 'B002VPE1QG', 'B004ZGN6MY']\n",
            "A3S3R88HA0HZG3 ['B0011ZK6PC', 'B005NGQWL2', 'B000JMJWV2', 'B00EDCF0MY', 'B005FDXZJU']\n",
            "A32HSNCNPRUMTR ['B002IJ95ZM', 'B0041RSPRS', 'B0011B9F1M', 'B002HWRJBM', 'B001UGMTKC']\n",
            "A2SNE4QQGVP13U ['B000N99BBC', 'B009O7YUF6', 'B00DSUTVK4', 'B00461E7JE', 'B001E1Y5O6']\n",
            "A26KXNN6H1IL0I ['B0016D1I0G', 'B004Q3R9AQ', 'B008OEHPKM', 'B0012Y541S', 'B005BON4K8']\n",
            "A2BYV7S1QP2YIG ['B0002WPREU', 'B003WUBIZQ', 'B003ZUIHY8', 'B00AANQLRI', 'B004RDWVUS']\n",
            "A2ZY3S7SD3QO8Z ['B00E0HITQ6', 'B00GO4GMAI', 'B00829THK0', 'B0088CJT4U', 'B003ZQYVVK']\n",
            "A20VG5W98SX99L ['B001OOZ1X2', 'B00834SJSK', 'B003YGMECE', 'B001AGM2VI', 'B00834SJNA']\n",
            "A2V5M5EJPOD2IU ['B00E0HITQ6', 'B00B588HY2', 'B00D5Q75RC', 'B004NHCGJO', 'B00HFRWWAM']\n",
            "A1QOK9LU90ACF7 ['B000F7QRTG', 'B001IEZX3G', 'B002SFDJMQ', 'B000MX48VM', 'B000OLDG60']\n",
            "AMZCZBK1EF1PV ['B003S5SOLG', 'B004CLYEDC', 'B0015YJOK2', 'B000I04WWY', 'B00CD778LC']\n",
            "A2F7CSE6KT7NI4 ['B004ELA0SS', 'B001FVI91U', 'B004CLYEDC', 'B00HHRP11C', 'B00578KYZG']\n",
            "A1ZCSSCAGBCD49 ['B004CLYEDC', 'B006EKIQYM', 'B002MPPHKY', 'B003LR7ME6', 'B009SYZ8OC']\n",
            "A2L4W1M5YU5QX3 ['B001TH7GUU', 'B0012Y2LLE', 'B00E9YIFKA', 'B00CM0XHNS', 'B005FYNSPK']\n",
            "A21GW4L8FO307V ['B0088PUEPK', 'B000CRFOMK', 'B004S4R5CK', 'B0086A7AB8', 'B0036E8V08']\n",
            "A3J2YU2D9BH2J7 ['B0052SCU8U', 'B001TH7GUA', 'B004SBBD8U', 'B0006I1TRY', 'B004NNRQVQ']\n",
            "A1T7EHCMZ92TKC ['B008PQAFR4', 'B001ENOZY4', 'B00EN27SHY', 'B005HMBQR2', 'B00429N160']\n",
            "A2RU4U1JZ3DMP5 ['B00017LSPI', 'B00007E89K', 'B005LFT3GG', 'B003LR7ME6', 'B004AGX4YO']\n",
            "A21KNRUAA5RK5E ['B002MZUNXU', 'B00DQKQ7U8', 'B002IJA1EG', 'B0036R9YA6', 'B00B4OCWE8']\n",
            "A11I1I9QLMAM1A ['B00D5Q75RC', 'B00E3RH5W2', 'B00F0DD0I6', 'B00BCA41PW', 'B00IF4OATU']\n",
            "A1E55W6ES0FY17 ['B00007GQLS', 'B00IVPU7DG', 'B003BKW2K2', 'B0010YWPZ8', 'B000TDCJHK']\n",
            "A2HRHF83I3NDGT ['B000M2TAN4', 'B00A9NE84C', 'B007WTAJTO', 'B005LJQMCK', 'B001W26TIW']\n",
            "A2AFTRU43PY9P5 ['B0046TJG1U', 'B001TH7GSW', 'B0093F4ROI', 'B006VFQ74G', 'B007X6FCWA']\n",
            "A2GOHNFBHUU3UI ['B00AEKEA48', 'B000KJQ1DG', 'B000HGIWN4', 'B000EON3WY', 'B001F8SCRE']\n",
            "AWJWCKB92RJX2 ['B000A5T7AO', 'B002EVP85K', 'B000U5TUWE', 'B004I55670', 'B004ZXZK4O']\n",
            "A209G57KXCBF4C ['B00COHALOM', 'B0007M610Y', 'B00CJKW4WQ', 'B0013A1XDE', 'B00385XYU2']\n",
            "A2Y4H3PXB07WQI ['B003ES5ZUU', 'B000CRFOMK', 'B003AVMRQG', 'B007PJ4PKK', '0972683275']\n",
            "A11YOTONCPRQ9S ['B000VX6XL6', 'B000UHQVOW', 'B007WTAJTO', 'B0031RG29M', 'B000233WJ6']\n",
            "A2E1EFNIZL2FVA ['B00834SJSK', 'B006ZBWV0K', 'B00BWL33H8', 'B005DKZTNK', 'B00JC5Y6YA']\n",
            "A1P0JSFW184ZXJ ['B0034CL2ZI', 'B00ESYW40S', 'B008C1JC4O', 'B00EMHVVNM', 'B008ULPAT2']\n",
            "A1SB9BNNGKNX2Z ['B000HPV3RW', 'B001PIBE8I', 'B000CKVOOY', 'B00017LSPI', 'B005HSDLCO']\n",
            "AT28RL25Q2OLK ['B0000BZL1P', 'B00IX2VGFA', 'B00005NIMJ', 'B004XC6GJ0', 'B000L9OIQ2']\n",
            "A200DY76VXVGP9 ['B003LVZO8S', 'B002V88HFE', 'B004GF8TIK', 'B0052SCU8U', 'B005755U0I']\n",
            "AZ515FFZ7I2P7 ['B00DR6DQZA', 'B006JINHYS', 'B00740MR78', 'B0002ZAILY', 'B00829THEG']\n",
            "AYP0YPLSP9ISM ['B000F7QRTG', 'B001TOD7ME', 'B0002L5R78', 'B005AY01RI', 'B002IXZ5DE']\n",
            "A2PSD2R9A1CXG7 ['B0012Y2LLE', 'B001TUYTZM', 'B000AZ57M6', 'B005JW6WQU', 'B000OLDG60']\n",
            "A7QMQBGJ2TCQG ['B001BTCSI6', 'B00015GYU4', 'B000EOSHGQ', 'B000VDF5RO', 'B000O161X0']\n",
            "A1T1YSCDW0PD25 ['B005ES0YYA', 'B004S4R5CK', 'B002WE6D44', 'B00IX2VGFA', 'B000CKVOOY']\n",
            "A1JZFGZEZVWQPY ['B00DB9WCR6', 'B006ZBWV0K', 'B007I5JT4S', 'B001A5FH9S', 'B002S53LJ2']\n",
            "A32LX4XJ2LU740 ['B005KFONIU', 'B00006B9CR', 'B004HHICKC', 'B0054L8MR8', 'B00001P505']\n",
            "A2A4X545ERLS7H ['B0052SCU8U', 'B00081A2KY', 'B008LTBITY', 'B007WTAJTO', 'B004R0RQ8S']\n",
            "A2NXRD80LWHUOP ['B007I5JT4S', 'B000FBK3QK', 'B002MUYP3E', 'B001XHBNN2', 'B00B99JU5M']\n",
            "A2L36AGL8CKY3D ['B002WE6D44', 'B000233WJ6', 'B0083XTQ42', 'B0062HIQLU', 'B004Q81CKY']\n",
            "A2XPK6XCL0UH1S ['B002EEP3MK', 'B003JV3XZ6', 'B000EMU4HS', 'B00267S7UK', 'B00AJG3NK4']\n",
            "A1YVO5V1SO18DZ ['B009NHWVIA', 'B00CD8ADKO', 'B00HWMPRKM', 'B00CB2F65O', 'B0032FPVKE']\n",
            "A3A4ZAIBQWKOZS ['B00COF7DGS', 'B007BXD66E', 'B00HZWJGS8', 'B006EKIQYM', 'B005IMFX2K']\n",
            "ASFP250F22MDZ ['B001KJ91V4', 'B003XIJ3MW', 'B000PNGM18', 'B002HWRJBM', 'B003YKG2XM']\n",
            "A2OOLI2WFY4L2 ['B003ES5ZUU', 'B004YLAYHA', 'B000HDJT4S', 'B002ROHZ50', 'B0016RNX2I']\n",
            "A3EFSLEMHNPP6A ['B001TH7GSW', 'B002DW99H8', 'B00176TEGM', 'B00FNPD1OY', 'B001XUQPB4']\n",
            "A20DDH4NT6Q1E8 ['B00FR6VL50', 'B00BW6KCTU', 'B001OOZ1X2', 'B009JPBPWO', 'B00BP5KOPA']\n",
            "AI0BCEWRE04G0 ['B000L47AHG', 'B009SGB3KI', 'B0013LQD7Y', 'B0002RBQO0', 'B00E87OITK']\n",
            "AMO1MLSIJSQOF ['B00CRJWW2G', 'B00390JT1O', 'B0054L8MR8', 'B004XNLR16', 'B000FJUMWC']\n",
            "AMUP8DYE7EAN2 ['B000N99BBC', 'B0009K9FZW', 'B001DJ64D4', 'B000Q82PIQ', 'B00829TIA4']\n",
            "AENULRBQ2IE5I ['B004XC6GJ0', 'B001TSMJDS', 'B003BLQHN4', 'B000W8JFPG', 'B005QI5DZI']\n",
            "A3G5MOHY1U635N ['B00005T3G0', 'B004G6002M', 'B004HIN7SI', 'B00081NX5U', 'B00007FWP2']\n",
            "ACY9QYNDFLVBI ['B003ZSHNGS', 'B003MTTJOY', 'B007SZ0E1K', 'B002IO2UM2', 'B004Z0S6RU']\n",
            "ANEXFROORI6F6 ['B0010Z294O', 'B0016SN49Y', 'B001Q2FM5E', 'B0029F21LA', 'B000MY02LQ']\n",
            "A1ZA5SXZS8Z3CK ['B002OFP6QW', 'B007PJVB3Y', 'B0000BVYTV', 'B004O0PAKW', 'B007QWIA52']\n",
            "A30R8VFR16RE32 ['B003ES5ZUU', 'B0019EHU8G', 'B000JLP5UK', 'B00829THVO', 'B000M3ILF6']\n",
            "AFR9GYKAHM37U ['B000S5Q9CA', 'B005J7YA4G', 'B000KO0GY6', 'B0002EQU6C', 'B002QG2H7K']\n",
            "A8P6GIIQ6YQV8 ['B001MSU1HG', 'B00609B3J2', 'B000AAN76Y', 'B008Y2SPE4', 'B00BY3XOSW']\n",
            "A2PJH18W4XHTZW ['B000M2TAN4', 'B003L1ZYZ6', 'B006U3O566', 'B002WE6D44', 'B0009K9FZW']\n",
            "A2ZY49IDE6TY5I ['B004RDWVUS', 'B00746YZS6', 'B008ULPA2O', 'B008B1125W', 'B004UHWZDY']\n",
            "AGOH8N902URMW ['B000N99BBC', 'B005DIQ2OC', 'B005JW6WQU', 'B006TAP096', 'B001DJ64C0']\n",
            "A2VCXIAWCPQ13P ['B0010Z28XG', 'B001MSU1FS', 'B004G6002M', 'B000L9635G', 'B002IJA1EG']\n",
            "A2CIQEY05SPHTZ ['B002V88HFE', 'B001QTXL82', 'B002LEVGMO', 'B001TANZ0W', 'B000O8WE66']\n",
            "A2N75ADJSRW0AH ['B000VUIXOO', 'B00CDS9HTM', 'B001KELVS0', 'B005EJH6Z4', 'B001RB24PK']\n",
            "A1VHCO8RQFIGQJ ['B00007GQLU', 'B002LTWDSK', 'B003SQEAY0', '9983891212', 'B002K42W4Q']\n",
            "A5A4374R8I7NB ['B001ELK2NY', 'B004LNXO28', 'B004YPK5ZW', 'B00494XZ1Y', 'B001B0Z4CM']\n",
            "A39137LW12KK7B ['B003ES5ZUU', 'B00829THO6', 'B004G6002M', 'B0093H4WT6', 'B007OY5V68']\n",
            "A3IRA0BHI9NE9U ['B0036Q7MV0', 'B003VAHYNC', 'B000067SG2', 'B005PYD2RE', 'B000FBK3QK']\n",
            "A14I1F2H7NOYDC ['B00029U1DK', 'B003L1ZYZ6', 'B001KB6Z2U', 'B002ZRQ3PW', 'B0034XIL60']\n",
            "A3QDY9I0CNMD2W ['B001TH7GUU', 'B001SJVU24', 'B0009PAVI2', 'B00092GM0Q', 'B007Q5JMQA']\n",
            "A2V2URLB31HG59 ['B007PJ4P4G', 'B009YQ8BTI', 'B002TLTE6Y', 'B00COEBCXY', 'B000IELOY4']\n",
            "A1Z4GII5CHCDG7 ['B006QB1RPY', 'B004QQY2JO', 'B00834SJNA', 'B00006BBAC', 'B000E6G9RI']\n",
            "A3S5WYWYKSAI9C ['B0002SQ2P2', 'B00B99JU5M', 'B005T25ZQS', 'B006WHPQD6', 'B007KZQM9G']\n",
            "AG6TX1ZJHLMO7 ['B00C20KWP4', 'B00EHZYWGM', 'B000FJJASO', 'B0015VW3BM', 'B000Y8I3NY']\n",
            "A6VPK7X53QNAQ ['B003WKOENO', 'B000RZQZM0', 'B0013FRNKG', 'B003LSTD38', 'B0079UAT0A']\n",
            "A1GW7V6S6XSXX3 ['B006DDT6JO', 'B00HFRWWAM', 'B00834SJSK', 'B00C28L138', 'B00546JKJC']\n",
            "A1KDUQ2HU0WD68 ['B00IVFDZBC', 'B005KAK2FI', 'B00B3PDHBU', 'B00DR6DQZA', 'B007X3VC7W']\n",
            "A2503LT8PZIHAD ['B0079UAT0A', 'B003XIJ3MW', 'B008MF3X9K', 'B000ANOYMC', 'B006K5505E']\n",
            "A3V15SFD7918WZ ['B001ELK2NY', 'B006JINHYS', 'B005C95NCY', 'B001T9NX9Q', 'B00006346W']\n",
            "A1QRST0A3IQIEF ['B007R67FNA', 'B000HKDA0U', 'B004Q81CKY', 'B009SIJ7G8', 'B00B2X0SME']\n",
            "A32O5FZH994CNY ['B003L1ZYZ6', 'B000ZMCILW', 'B000B6D39I', 'B0041D81WQ', 'B00D1GYNT4']\n",
            "A149RNR5RH19YY ['B000089GN3', 'B001OOZ1X2', 'B001F51G16', 'B00005NBR6', 'B00001P4ZH']\n",
            "A3RGHO0Q938FRS ['B000N99BBC', 'B0000B006W', 'B000OFWJO6', 'B00EOI2SR2', 'B002HWRJY4']\n",
            "A3AGQAXTX6VRJ3 ['B0007QKMQY', 'B0019EHU8G', 'B000N99BBC', 'B001KUL012', 'B0002Y5WZM']\n",
            "A2X06FP2PQ6EK0 ['B006W8U2MU', 'B003ES5ZUU', 'B004LSNF04', 'B000VE2RP6', 'B0055FZIX4']\n",
            "A27H61OHW44XA7 ['B001TH7GSW', 'B004Q3R9AQ', 'B000H0IF2S', 'B000MF4N42', 'B003VAK89O']\n",
            "ABDR6IJ93HFIO ['B000HDJT4S', 'B000N4Z4JK', 'B00CSMYBFS', 'B00FUV7OP8', 'B004G8QO5C']\n",
            "AJL3U764D7NI3 ['B005ES0YYA', 'B007SZ0E1K', 'B000CKVOOY', 'B003LPUWT0', 'B000UO6C5S']\n",
            "AT09WGFUM934H ['B008EQYRRY', 'B007WTAJTO', 'B002OJN250', 'B00006B7DA', 'B008Y8PON8']\n",
            "AGR1V15L6FLMA ['B009OBCAW2', 'B004S4R5CK', 'B004N3BH0C', 'B003WOL4VK', 'B002RM08RE']\n",
            "A2CWIYIETNBAK3 ['B00FZ9SMVU', 'B00BOHNYTW', 'B00834SJSK', 'B00829THEG', 'B002J9HCV0']\n",
            "A2UCDLO7V7DG6 ['B001O4EPHA', 'B000T93UR2', 'B003Y322RO', 'B00009R9EO', 'B001JD3R7U']\n",
            "A3LPL35P7FH78Y ['B003N8GVUY', 'B009WA115M', 'B00KFAGCUM', 'B003FVJYF8', 'B006W8U2MU']\n",
            "A30XZK10EZN9V4 ['B003L1ZYZ6', 'B000QUUFRW', 'B004Q3R9AQ', 'B004AGX4YO', 'B0002L5R78']\n",
            "AHF4I1FSIHABC ['B00009XVCZ', 'B002NEGTTW', 'B00006I53W', 'B0002Y5WZM', 'B00139W0XM']\n",
            "AO2EURP2Y4JZM ['B0034CL2ZI', 'B00829TIEK', 'B001CIREXA', 'B000LB7G00', 'B002ZCXJZE']\n",
            "A3EWJX7W1X7E79 ['B003CJTQJC', 'B005X64MN2', 'B000NB05MO', 'B0002E51CQ', 'B006GDY57O']\n",
            "A3GX0FAMEXV6FB ['B000QUUFRW', 'B005S0XYKK', 'B001G4QXLE', 'B005DLDTAE', 'B00079SWNQ']\n",
            "A1NGFGBX2VCQS8 ['B004W2JKWG', 'B004CLYEDC', 'B000BSN4UY', 'B008HO9DIG', 'B009YQ8BTI']\n",
            "A3D5B2CBFNJB0K ['B009YT6PPC', 'B009WA115M', 'B003B3P2CE', 'B00FRMAOIO', 'B007PTCFFW']\n",
            "AOEDWQLH2WKKW ['B00BQ4F9ZA', 'B005ES0YYA', 'B00HFRWWAM', 'B004C9M7UG', 'B0028N7442']\n",
            "A2WB7LZ595CR50 ['B001TH7T2U', 'B001TH7GUU', 'B001OI2Z4Q', 'B00429N18S', 'B0031RG29M']\n",
            "A2MOJANFPX353G ['B009USAJCC', 'B0035FZJHQ', 'B001UHOX2S', 'B0093HMKVI', 'B000VZCEUI']\n",
            "A3SU7JSTPH9CC9 ['B003ZTKFEE', 'B0034WR71G', 'B002ZIVKAE', 'B00CFCTDD6', 'B003TLSXMO']\n",
            "AVBLGXSWRN666 ['B000F7QRTG', 'B005JN9310', 'B001N9X4CS', 'B00EO96W2I', 'B0013FRNKG']\n",
            "AA3FTJYJYX55C ['B003FVVMS0', 'B0041OYS36', 'B0060B7NCG', 'B00BV9TY8I', 'B0031ESKJA']\n",
            "A379DLIAF0MFM5 ['B000N99BBC', 'B001OOZ1X2', 'B001TH7GSW', 'B001SJVU24', 'B000DZMC3K']\n",
            "A3J8A5L5AF5TX9 ['B000OGX5AM', 'B000JMJWV2', 'B001W28L2Y', 'B00001P4ZH', 'B0009Y7APU']\n",
            "A1HYH206E18XVC ['B002M3SOC4', 'B00EO96W2I', 'B00FZ9SJLS', 'B001I45BQK', 'B000VJWJW2']\n",
            "A2FRKEXDXDN1KI ['B008EQZ25K', 'B000RZQZM0', 'B0002Y5WZC', 'B00FAYL1YU', 'B000VZS2EU']\n",
            "A3V0YR50F1XSKP ['B0088PUEPK', 'B000OGX5AM', 'B005LIDU5S', 'B0002VAQR4', 'B00BWF5U0M']\n",
            "A1F7YU6O5RU432 ['B0044YPN0A', 'B00GO4GMAI', 'B001AW8W7A', 'B002K9IHGI', 'B002IO2UM2']\n",
            "A2NB2E5DXE319Z ['B005ES0YYA', 'B0052SCU8U', 'B0000BZL1P', 'B007R5YDYA', 'B0093HGD2K']\n",
            "A17W0GMB0YY83M ['B001CIREXA', 'B003XM73P2', 'B004ABO7QI', 'B0007LJHVA', 'B003YH9DWC']\n",
            "AS269J1OGZT1V ['B002YU83YO', 'B0011U65F2', 'B0056TYRMW', 'B003NUNKU6', 'B0058AH2US']\n",
            "A2CWUM49ZWMGEY ['B005ARQV6U', 'B000050AUJ', 'B009A6PJKQ', 'B0040G5KY6', 'B00DJAAFVW']\n",
            "AGGAQLXPVGM5D ['B001A4LVYY', 'B000VR3P9K', 'B0011Z44UA', 'B00006L4FX', 'B005D5M136']\n",
            "A2AEZQ3DGBBLPR ['B00006JU62', 'B000068MP5', 'B00004Y7CF', 'B000A3WS20', 'B005MZU0R6']\n",
            "A3VBZDYGHF4NK8 ['B002MCZJ78', 'B0018P0S1M', 'B00AXVXXNC', 'B005EWB37S', 'B005YR0X4W']\n",
            "A37IRE9GZ0CZ7I ['B003ES5ZUU', 'B00CI3BIWQ', 'B000JE7GPY', 'B003LSTD38', 'B000067RC4']\n",
            "ADZF3QDGSZE7K ['B0076W9Q5A', 'B001TH7GSW', 'B001TANZ0W', 'B0093HGD2K', 'B00C13ON7K']\n",
            "A3J029KBNG5MNP ['B00D5Q75RC', 'B009YT6PPC', 'B0034CL2ZI', 'B00D429Y12', 'B00BWHILCY']\n",
            "AT8V3JOZD3KWK ['B002WE6D44', 'B00889ST2G', 'B004Y1AYAC', 'B001144JQU', 'B00768SBAU']\n",
            "A2ARDVMUGDFED6 ['B002TMRZOQ', 'B001ENW61I', 'B0016XIQ1U', 'B001M4HXB2', 'B001FWBUUG']\n",
            "A28N2AWOVO2PB ['B009YT6PPC', 'B000O8WE66', 'B0090IA4FO', 'B002YOENAS', 'B000V9T2JA']\n",
            "A110VKXAVLAYKY ['B004G6002M', 'B002ZIMEMW', 'B001UE6N6A', 'B003WPTBAK', 'B00009VQJ7']\n",
            "A213J54E63SYOP ['B001MSU1FS', 'B000CRFOMK', 'B002V88HFE', 'B0088PUEPK', 'B008ZGKWQI']\n",
            "A18A5VSD0IPN14 ['B0049SCB2Y', 'B003VSTDFG', 'B008ZGKWQI', 'B00CALM17C', 'B00358PRCA']\n",
            "A3JUHP1E3WUHEA ['B003ES5ZUU', 'B004CLYEDC', 'B002K9IHGI', 'B00829TIA4', 'B004BLK24S']\n",
            "A1VQHH85U7PX0 ['B00IVFDZBC', 'B000NP3DJW', 'B003CJTQJC', 'B0000BZL5A', 'B005KAK2FI']\n",
            "A1Z3598J0371ND ['B0019EHU8G', 'B000WXSO76', 'B004IEALDK', 'B00EZ2E8KC', 'B005JE3VYY']\n",
            "A3QRW0UJPKIAX7 ['B007KZQM8W', 'B0019M6GP6', 'B00578KYZG', 'B009WG6JF8', 'B0093H4VBU']\n",
            "A1MCH5RXDOH87H ['B008EQZ25K', 'B00006B7HB', 'B00CK4OZGO', 'B003ES5ZSW', 'B005KP473Q']\n",
            "A2XCCN239AR1XK ['B001TH7GSW', 'B008LTBITY', 'B004CLYEFK', 'B00FFJ0HUE', 'B004CLYEH8']\n",
            "A2ZGDHLJ85T6AD ['B0034CL2ZI', 'B001TH7GVE', 'B00EU9V3S0', 'B009VV56TY', 'B0025VKUQQ']\n",
            "A2IFGGXG3YV3Y6 ['B003ES5ZUU', 'B0035FZJHQ', 'B00D5Q75RC', 'B009B0MZ8U', 'B004AK154Q']\n",
            "A1ZPUEHF4AES86 ['B005ES0YYA', 'B0019EHU8G', 'B0015YJOK2', 'B005U0M9B8', 'B00746LVOM']\n",
            "A1G3DKT38DNZJP ['B001TH7GUU', 'B00004YZLX', 'B004ABQAFO', 'B002SZEOLG']\n",
            "A1EH2S92FHWZRP ['B003ES5ZUU', 'B000M2GYF6', 'B004HIN7SI', 'B001PIBE8I', 'B004JMZPJQ']\n",
            "A1EVV74UQYVKRY ['B006ZT4VA0', 'B00E3FHXYO', 'B001F7AHOG', 'B00CHH0JF0', 'B00A35WYBA']\n",
            "A1DQHS7MOVYYYA ['B00387EW1K', 'B000VJRUKS', 'B000EXS1BS', 'B000PCX780', 'B007PJ4PLO']\n",
            "A2LF07KCXDR70D ['B00548SKMI', 'B0077QTSQM', 'B0002Z240M', 'B0074BW614', 'B0002GX1XA']\n",
            "A3MU9G6YWKTGTA ['B000092TT0', 'B003N12TSY', 'B005HMKKH4', 'B001UADEPC', 'B0057V9HQ0']\n",
            "A1F0KPA232MTYC ['B001QUA6RA', 'B0002LEMWE', 'B004QXFHJG', 'B00829TIEK', 'B00005115S']\n",
            "A1V4VVBQBFXRHC ['B003SGCO3E', 'B00APCMMDG', 'B000KO0GY6', 'B0001XGQTA', 'B0027CTQC2']\n",
            "A8FKL1DHTHC12 ['B002NO7PWC', 'B000V5P90K', 'B004LTEUDO', 'B0062EUE54', 'B0043RS864']\n",
            "A34VRVI4CSI5RQ ['B00D429Y12', 'B00IRRDHUI', 'B00CE590Z0', 'B009AU2JT6', 'B006NNWZSI']\n",
            "A2YW6XOID7GV6G ['B002WE6D44', 'B001EYV9TM', 'B00449F6I4', 'B0058FAYPI', 'B0017KH6OU']\n",
            "ANTGGAQYPSWHF ['B006EKIQYM', 'B004Q3R9AQ', 'B004J3V7RO', 'B0055YB5IC', 'B00BBAFWLK']\n",
            "AGVWTYW0ULXHT ['B00BOHNYU6', 'B005FDXZJU', 'B001FA1NZK', 'B00B588HY2', 'B004I5FL1G']\n",
            "A2LW5AL0KQ9P1M ['B004SGJCCO', 'B00EOE4G4E', 'B00DQZSFSA', 'B008X9Z8NE', 'B00DQZQCUI']\n",
            "A16J281SJ9QXIQ ['B000O8I474', 'B00FNPD1VW', 'B007KEZMX4', 'B009W8EWOG', 'B003XIJ3MW']\n",
            "AHR86ZEYETLJI ['B006W8U2MU', 'B007VGGFZU', 'B004LVMCMS', 'B00AXTQQDS', 'B0002EQU6C']\n",
            "A2UOHALGF2X77Q ['B00FR6VL50', 'B001BM5XB2', 'B002WE6D44', 'B005DIQ2OC', 'B002V88HFE']\n",
            "AFNG8O2DXRCUV ['B001TH7GUU', 'B000M17AVO', 'B007WTAJTO', 'B00CKK8GEU', 'B0053OLY9O']\n",
            "A2YEZ8Z3BW2SKG ['B00017LSPI', 'B004CLYEFK', 'B0043EV20Q', 'B000AOTLP6', 'B003ES5ZSW']\n",
            "A3A15L96IYUO6V ['B001DJ64C0', 'B005L38VPC', 'B004XZHY34', 'B000KBG51W', 'B00001P4XA']\n",
            "A8WEXFRWX1ZHH ['B00006B9CR', 'B009APBY0G', 'B002BNLYFY', 'B00FGOTA6K', 'B00H09BB16']\n",
            "A2LLSFQO8O8XNW ['B00429N18S', 'B002Z2QDNE', 'B0033BU0F8', 'B005OJRGYA', 'B000BC7QMM']\n",
            "A32QOZWIKQDNZX ['B003ES5ZUU', 'B001SJVU24', 'B0000C8817', 'B0002WPSBC', 'B0019I1K0G']\n",
            "A3EZEP0FX5BC1P ['B00FR6VL50', 'B00005LEN4', 'B00FJRS5BA', 'B00030DEQE', 'B003JZU8DC']\n",
            "AK3GKIV8DEY8B ['B00009R6JT', 'B000J5LA9Q', 'B0009Y7APU', 'B000NBBWNU', 'B001CCLBSU']\n",
            "A2TVJ0YDW3QO63 ['B004CLYE8C', 'B00829TIEK', 'B004GUT1QO', 'B00005S8KM', 'B00858I4F2']\n",
            "A23R3EOZ837242 ['B0052SCU8U', 'B0034CL2ZI', 'B0049SCB2Y', 'B003CJTQJW', 'B005IHAIKM']\n",
            "A361U4SXK7FCQE ['B00BOHNYU6', 'B005KFONIU', 'B00D1GYNT4', 'B000B9RI14', 'B002FU5QMA']\n",
            "A11EYMH9UV9XG7 ['B000N99BBC', 'B00093IIRA', 'B000165AOY', 'B005EM6IAA', 'B005DIPWFC']\n",
            "A2L9OPJAAEK08Q ['B007PJ4P4G', 'B000089GN3', 'B001UNI80A', 'B001207YMY', 'B0016MF7W2']\n",
            "AC1YLEFC9AN5X ['B0034CL2ZI', 'B005HSDLCO', 'B001TOD7ME', 'B007K3SB6K', 'B004G8QO8E']\n",
            "A3M82NO6OU1FHS ['B006W8U2MU', 'B0093HKFYW', 'B00006B7DA', 'B006ZZQ5EY', 'B003S8WVKS']\n",
            "A2WCFDOCS73PNB ['B006EKIQYM', 'B007KZQM8W', 'B001EYV9TM', 'B00BOHNYTW', 'B0034CL2ZI']\n",
            "A1M7HP5CHDXXOU ['B008LTBITY', 'B008OEHPKM', 'B00D429Y12', 'B008RM235I', 'B008BUIKD0']\n",
            "A3963R7EPE3A7E ['B001BM5XB2', 'B000HPV3RW', 'B00D5Q75RC', 'B007X3VC7W', 'B000UN8MKM']\n",
            "A2LEIANN1UZTHP ['B00212NO6W', 'B004Q3R9AQ', 'B000067SG2', 'B00E055H5O', 'B002LVUN6M']\n",
            "A16RI68PS6T5CA ['B000N99BBC', 'B0099SMFVQ', 'B001DJ64D4', 'B00CI3BIWQ', 'B000M2GYF6']\n",
            "A5KMMY627T3W ['B003ZSHNGS', 'B00006I53X', 'B000BY52NK', 'B005DIQ2OC', 'B000MP831G']\n",
            "AEL6CQNQXONBX ['B0040723AO', 'B002VPE1X4', 'B0034XRDU0', 'B00JX1ZS5O', 'B004SKBJYE']\n",
            "A24HWYHR28JJ7A ['B000V5P90K', 'B004S4R5CK', 'B0016D1I0G', 'B000CKVOOY', 'B0036AWR8E']\n",
            "A2V0I904FH7ABY ['B003L1ZYZ6', 'B001TH7GSW', 'B001DJ64D4', 'B009YQ8BTI', 'B005ELBSWO']\n",
            "A3SMD3T0QTN109 ['B001UI2FPE', 'B0012Y2LLE', 'B006EKIQYM', 'B002TLTE6O', 'B004Q3R9AQ']\n",
            "AW6J9IILGOZY3 ['B003NR57BY', 'B009F7IBZK', 'B00DTPYQBM', 'B0081FLFQE', 'B00CO1HUGU']\n",
            "AEJAGHLC675A7 ['B0016D1I0G', 'B003ZKG10K', 'B004CLYEDC', 'B004Q3R9AQ', 'B003ZYF3M8']\n",
            "A1GYEGLX3P2Y7P ['B000VX6XL6', 'B004CLYEDC', 'B002K9IHGI', 'B00JC5Y6WM', 'B00284ALF0']\n",
            "A2LTYEYGKBYXRR ['B008YRG5JQ', 'B00ISGCAJM', 'B00H7PBWK8', 'B00J5174TU', 'B00CAMCCLQ']\n",
            "A38V76R24EJSHA ['B000WH6H1M', 'B0026IBI1O', 'B00HQZGZ38', 'B00713DPM4', 'B004LPY204']\n",
            "ABE5E8B3J7MKY ['B00007FGU7', 'B0019EHU8G', 'B000QUUFRW', 'B00006B81E', 'B003UI62AG']\n",
            "A23WPWLYT3P1CZ ['B002UVNW5W', 'B008OHNZI0', 'B002MCZJ78', 'B001F7AJKI', 'B00AEKTGTC']\n",
            "A25FL6VLD7S23S ['B001144JQU', 'B00494XZ1Y', 'B00180LGX6', 'B00D429Y12', 'B00006JN3G']\n",
            "A233TZONT1OGR0 ['B00005T3G0', 'B000OG88KY', 'B0001XGQTA', 'B003P2V52M', 'B0002MQGOA']\n",
            "AQ2FC1DLKVD8H ['B0002J2TLC', 'B002WE4HE2', 'B001WM73P0', 'B00006RVPW', 'B00JF0D7RE']\n",
            "A2QNS95WGN35G9 ['B000JLK5PK', 'B003WUBIZQ', 'B0013FLTNS', 'B002J9HCV0', 'B0036WT4EW']\n",
            "A2FWZ58M6IQMD7 ['B000N99BBC', 'B007R5YDYA', 'B004XC6GJ0', 'B002HTHFLY', 'B000VVVMQY']\n",
            "A1R377IPZOKLMM ['B00007IFED', 'B002K9IHGI', 'B003XDU2Y0', 'B008HK3QII', 'B0002IWC9C']\n",
            "A1IG1I6MR3HAWA ['B00316263Y', 'B002HWRJY4', 'B001QUA6R0', 'B0001VQEYY', 'B000U5TUWE']\n",
            "AUITG1DJ3QUGK ['B0058UUR6E', 'B004HO59M4', 'B00ATE7SZM', 'B00829TIEK', 'B003LPTAYI']\n",
            "A2NLI1M5K2MQ5E ['B00AAIPT76', 'B00FRHTSMW', 'B007IVDBTG', 'B003WGNSTE', 'B003XCDA9A']\n",
            "A6VXZ1EEPRTLV ['B001F7AHOG', 'B000UHQVOW', 'B00CIZ2238', 'B0011ZCDKS', 'B002QEBMAK']\n",
            "A1CM4HI4S5P0WO ['B000Q5APCC', 'B000RHZJN4', 'B000069EUW', 'B001FWYLLG', 'B00066Z9XG']\n",
            "A28LUOEY0ECT9G ['B001CZLLXW', 'B003CKC8W8', 'B009G4M20M', 'B0096TK6MI', 'B000BSHI4C']\n",
            "AL9WKVMRI6GFB ['B00CKAOJA0', 'B003ES5ZUU', 'B00G4UQ6U8', 'B00475K64E', 'B00FPKDPZC']\n",
            "A3NHUQ33CFH3VM ['B00BOHNYU6', 'B003S5SOLG', 'B00HZWJGS8', 'B009YQ8BTI', 'B009NHWVIA']\n",
            "A1C47ROOK7BSVL ['B00454YCWY', 'B005Q5TP5U', 'B001VFUN82', 'B0041UJVI2', 'B007RFW1NA']\n",
            "A3LDLV1GWQJLEQ ['B00BOHNYTW', 'B00DT04I9W', 'B002PAX9QU', 'B00346I5LI', 'B00829TIEK']\n",
            "A23ONMGKEWDG4M ['B00006B7DA', 'B0002SQ2P2', 'B00009USW3', 'B0007G6RZE', 'B000EXRSVM']\n",
            "A186697K4XKXQL ['B0052SCU8U', 'B00CALM17C', 'B00829TIEK', 'B003Y3BFB8', 'B001S4OTS6']\n",
            "AQR4HPVSOPS08 ['B003L1ZYZ6', 'B003FVVMS0', 'B001TOD7ME', 'B000068O34', 'B0016SN49Y']\n",
            "AQIJ3ZEEVCIKU ['B003CFATT2', 'B005J31BCO', 'B004CLYEDC', 'B00FZ9SMVU', 'B002JQNXZC']\n",
            "A5CDMTW6JKV5G ['B0019EHU8G', 'B00BOHNYTW', 'B00A9NE84C', 'B00829TIA4', 'B001UEBN42']\n",
            "A3P1508PZ0UADD ['B005HY4U46', 'B00170MYIS', 'B000KIDBO4', 'B000I1ZWRC', 'B0015VW3BM']\n",
            "A1B4MIXYVIKMU2 ['B00BOHNYTW', 'B00CD8ADKO', 'B00EVIBN8U', 'B00AAHT8JC', 'B003N2POXK']\n",
            "A11FX8HL2ANK6T ['B00D6XW62I', 'B003ES5ZUU', 'B001F7AHOG', 'B003VANOI6', 'B0048IW030']\n",
            "A4IEUHNRFZO0 ['B003FVVMS0', 'B003ZUIHY8', 'B0084OIY0M', 'B0074024XU', 'B0031GK3OI']\n",
            "AN81JUYW2SL24 ['B003ES5ZUU', 'B000S5Q9CA', 'B00A9NE84C', 'B004CLYEDC', 'B000E65HXA']\n",
            "ANW6EGY12V5XS ['B00IVPU7DG', 'B000F2BLTM', 'B003BKW2K2', 'B002PAX9QU', 'B0006VT1TY']\n",
            "A3KZEGBTPH6MMF ['B00DR6DQZA', 'B000FBK3QK', 'B004N627KS', 'B0088CJT4U', 'B003LRY9Q0']\n",
            "A31N0XY2UTB25C ['B008LTBITY', 'B000Q85WRC', 'B000M2TAN4', 'B00029U1DK', 'B002WE0QN8']\n",
            "A3F7F7QKQP2FKT ['B0060GEZ0E', 'B000SMVQK8', 'B000FML9NA', 'B006U5W49O', 'B002C7481G']\n",
            "A1OMXVXXP07F05 ['B0046TJG1U', 'B0002LEMWE', 'B004Q3R9AQ', 'B002RWJHBM', 'B0079UAT0A']\n",
            "A1DO9LRCO23EOM ['B001T9NUJE', 'B00006HSML', 'B00DR9V1T0', 'B001SEQPHE', 'B000K2NWLC']\n",
            "A2XU6J41ZQOJ2V ['B000F0ELOG', 'B003M2YT96', 'B0009VT9OS', 'B000BONJXU', 'B001F7AJKI']\n",
            "AFICF7DKHTQ87 ['B009YQ8BTI', 'B0076AYNXM', 'B0018ZDGAC', 'B0002ILKWM', 'B00FRKOFIQ']\n",
            "A3EZFFPVS34AMO ['B001KELVS0', 'B000EW9Y4M', 'B009A6CZ30', 'B0093HMKVI', 'B00EMHM622']\n",
            "A1B6O7SAIYG2N0 ['B002TLTE6O', 'B008PQAFR4', 'B00829TIEK', 'B008RF7I5K', 'B00BEHRQB4']\n",
            "A1F9Z42CFF9IAY ['B000M17AVO', 'B002EEP3MK', 'B00008OE6I', 'B00006B7DA', 'B002SFDJMQ']\n",
            "A124WZCUIH2T7W ['B003RRFWRY', 'B0002L5R78', 'B001C6IWME', 'B000PTF66Y', 'B001TP6TDW']\n",
            "A1G5MI2KREPEIB ['B00006HSML', 'B003NR57BY', 'B00212NO6W', 'B000JE7GPY', 'B000UO6C5S']\n",
            "A2BCDZO1XQLDH ['B000GABCY2', 'B000VDF5RO', 'B0013A1XDY', 'B000RHZJN4', 'B00005QFZF']\n",
            "A2GKMXRLI7KLFP ['B002SQ9ZX2', 'B001U3S5S0', 'B00426C56U', 'B004M8SBD4', 'B003807GK6']\n",
            "A2J3VCGBNDLAKF ['B000QUUFRW', 'B007RZB3KM', 'B005NC8BF6', 'B009SS0FZK', 'B0041MY32Y']\n",
            "A10ZBR6O8S8OCY ['B00FISD9DO', 'B00E87E1OM', 'B0015AARJI', 'B00834SJSK', 'B002FU5QMA']\n",
            "AEWYUPCNDV7HY ['B004CLYEDC', 'B0006I1TRY', 'B00006B7DA', 'B00BWHILCY', 'B0009YDP7W']\n",
            "A23QII83UGZP5U ['B0034CL2ZI', 'B009VV56TY', 'B008O515CK', 'B0073K64NM', 'B008RVJJZG']\n",
            "A2QI2JHSIQ3SN3 ['B0019EHU8G', 'B006U3O566', 'B007R1FH3K', 'B001F6YRNO', 'B002XN3OL4']\n",
            "AFH97KY1SBP2C ['B005058B56', 'B001LQSFKY', 'B000R5LWRI', 'B007B8S4JI', 'B002OMB7FE']\n",
            "A2NVQZ4Y7Y0J1R ['B002VPE21A', 'B000EMWBV0', 'B0002SQ2P2', 'B000O8WE66', 'B0039BPG1U']\n",
            "A335QXPTV1RIV1 ['B002EEP3MK', 'B005CWHZP4', 'B005OA3BSY', 'B002LARRDA', 'B000IHGJ50']\n",
            "A328GLDSDNFYII ['B005K7192G', 'B0015AARJI', 'B002ZCXJZE', 'B002OOWC3S', 'B002RM08RE']\n",
            "A2WW57XX2UVLM6 ['B0045TYDNC', 'B002G1YPH0', 'B0007GIXS8', 'B001JEPBTQ', 'B0047ZGIUK']\n",
            "AT53ZTTO707MB ['B00GJYJFKM', 'B0082E9K7U', 'B00ISGCAJM', 'B004I5FL1G', 'B00JF0D7RE']\n",
            "AHQRU3MRORIWQ ['B0025VKUQQ', 'B00EMHVVNM', 'B00CB2F65O', 'B00GWNWDEK', 'B0017HF3XO']\n",
            "A22CW0ZHY3NJH8 ['B00FR6VL50', 'B00CSDMWGW', 'B00BERGFV6', 'B0010Z294O', 'B005FDXZJU']\n",
            "A1HSM98KUGTHNY ['B007VGGFZU', 'B000RZQZM0', 'B00102ZOQC', 'B000JLKIHA', 'B002J9HBIO']\n",
            "A203OCQQ12MAVT ['B000S5Q9CA', 'B000068O16', 'B00310PJM0', 'B000068O1A', 'B0013LQD7Y']\n",
            "A2D1LPEUCTNT8X ['B0010Y414Q', 'B002Y6CJJ8', 'B003OBUJIK', 'B00AASPQLU', 'B004M8ST36']\n",
            "AMKNPIDFLRFMP ['B004CADY9I', 'B00E3W15P0', 'B0036WT3RU', 'B000TAEGMO', 'B0097GCUT2']\n",
            "A1AH8033GWKBY7 ['B000BTL0OA', 'B00FNPD1VW', 'B009MAKWC0', 'B00E98O7GC', 'B0018782QI']\n",
            "A3GVXKCTFN3YDN ['B001TOD7ME', 'B00834SJSK', 'B00HFRWWAM', 'B006JINHYS', 'B00BOHNYTW']\n",
            "A357B3PUHSVQA ['B00077AA5Q', 'B00834SJSK', 'B009F7IBZK', 'B005HEUUEA', 'B008X1BV2Y']\n",
            "ATS2855497V0I ['B0010Y414Q', 'B000N99BBC', 'B000O8WE66', 'B00005LB8P', 'B002QQ8H8I']\n",
            "A377LPVLLAI42D ['B000JLP5UK', 'B0002XQJFA', 'B0001G6U5W', 'B0002YE6G8', 'B00292BS12']\n",
            "A194Y47BF3CUTJ ['B001E1Y5O6', 'B0031RFVJ4', 'B000KU5CN0', 'B001EM9JXC', 'B007M4Z60Q']\n",
            "A3MQ15651KGVLJ ['B006DDT6JO', 'B004CLYEFK', 'B0009MX5R4', 'B0079UAT0A', 'B007YXA5TC']\n",
            "A1MZL91Z44RN06 ['B002WE6D44', 'B00006HSYC', 'B009NHWVIA', 'B004CLYEDC', 'B0002WPREU']\n",
            "AL1XV4L25FZ2S ['B000N99BBC', 'B002Y6CJJ8', 'B004TBBSNY', 'B0002D03ZW', 'B001QUA6R0']\n",
            "A1FDV3WPOHREY9 ['B000P1O73A', 'B005IMFX2K', 'B000F34FVM', 'B000NHZSHK', 'B0019I1K0G']\n",
            "A2BLFCOPSMBOZ9 ['B006LW0W5Y', 'B003ES5ZQE', 'B00GJYJFKM', 'B003HFCDLY', 'B00EHZYWGM']\n",
            "A3AVJCB1ZD6ZY5 ['B00D1GYNT4', 'B003M0NURK', 'B00GHY5F3K', 'B00I027GPC', 'B006MRAVFE']\n",
            "A2YEOR4XJ8N3QE ['B002JQNXZC', 'B004N3BH0C', 'B00834SJNA', 'B003O1UYHG', 'B008C1JC4O']\n",
            "A12R3YGEHW7D8G ['B0099SMFVQ', 'B007WTAJTO', 'B0099SMFP2', 'B00489SLEQ', 'B004R6NWBC']\n",
            "AU3GYRAKBUAEU ['B006LW0W5Y', 'B004HIN7SI', 'B001AAOZHI', 'B004HW7KBY', 'B009CP99GK']\n",
            "A8CKH8XB33XGN ['B001QUA6RA', 'B001TH7GUU', 'B002V8C3W2', 'B000ID7QNI', 'B007P71IM0']\n",
            "A1L5TA5UQF7EWE ['B00A9NE84C', 'B00CKK8GEU', 'B0003QER8C', 'B00CSIOLXY', 'B00FFJ0HUE']\n",
            "A2J8DE8R94ZB02 ['B008EQZ25K', 'B00IVPU786', 'B003VAHYNC', 'B0054JJ0QW', 'B006YQBKE4']\n",
            "A1UQBFCERIP7VJ ['B00GO4GMAI', 'B00GMTN96U', 'B0079UAT0A', 'B004CLYEFK', 'B00AEGFFM8']\n",
            "A2C8I2RQ0WG940 ['B000VDCTCI', 'B007CS9WYI', 'B00144KS6W', 'B003S68Q0Y', 'B0049WBZEK']\n",
            "A33775AIB1A664 ['B000N99BBC', 'B0041OUA38', 'B002QEBMAK', 'B000V1PB2K', 'B0091UHMHO']\n",
            "A1NMM0RDRF6R84 ['B00007IFED', 'B0040JHVC2', 'B008RPGP9K', 'B002KETE24', 'B002J9HBIO']\n",
            "A1VVRA3P6G1TWH ['B000EXRSVM', 'B0014Z3XMC', 'B000I1ZWRC', 'B000PNGM18', 'B0006GCCWW']\n",
            "A3KZ7OH4VRL048 ['B008PQAFR4', 'B004CLYE8C', 'B0034CL2ZI', 'B000A2BLEC', 'B003M0NURK']\n",
            "ACHTDPEQYSEQL ['B000V5P90K', 'B004065DAC', 'B00D429Y12', 'B0021AFZOI', 'B006TF37H8']\n",
            "A3F8T3BRXRX5P3 ['B001UI2FPE', 'B001PS9E5I', 'B000M17AVO', 'B000Q82PIQ', 'B002IO2UM2']\n",
            "A1PN2U0AWXGVML ['B000V5P90K', 'B000JMJWV2', 'B0021AFZOI', 'B004Q0PT3I', 'B004J3ZV62']\n",
            "A3K91X9X2ARDOK ['B006LW0W5Y', 'B00G6IJ5NI', 'B00B3PDHBU', 'B0015AARJI', 'B000F34FVM']\n",
            "AEAFHD09X8044 ['B0017H4G0A', 'B000IJY8DS', 'B0001XGQTA', 'B0031U1AT6', 'B004VM1T5S']\n",
            "A3S0EHEIR52HP1 ['B007PRHNHO', 'B003VAGXZC', 'B006GHYBGK', 'B0000510T7', 'B0061RJSWC']\n",
            "AWNJAY0M5UI70 ['B000S5Q9CA', 'B002RCNX8K', 'B0036Q7MV0', 'B00A9NE84C', 'B001TH7GUU']\n",
            "A141R97FHSSUQ0 ['B000FFISV8', 'B003M0NURK', 'B000Z80ICM', 'B004ZMV2GA', 'B001HZUPD4']\n",
            "A2ZWJVKITA32OV ['B003CJTQJC', 'B004XC6GJ0', 'B005FMM3Y4', 'B004W9BKE0', 'B00EZWVZ44']\n",
            "A31RULW0KNYJ5H ['B0025VKUQQ', 'B004QK5N5W', 'B0040723AE', 'B00744QNA6', 'B004YW7WCY']\n",
            "A1E3OB6QMBKRYZ ['B001I45T9O', 'B00DT04I9W', 'B007VL8Y2C', 'B000V01RLK', 'B0072XQI2W']\n",
            "A2J0IBS4PFRO2C ['B002TMRZOQ', 'B004CLYJ0K', 'B000A3WS84', 'B0000C4G79', 'B004TS2AP2']\n",
            "A3CW0ZLUO5X2B1 ['B003ES5ZUU', 'B006LW0W5Y', 'B00L3YHF6O', 'B000ENUCR4', 'B003OBUJIK']\n",
            "A21S26XYPGXJZX ['B00EO302SO', 'B001TOD7ME', 'B001XURPQI', 'B005IHAIC0', 'B002GP7ZT6']\n",
            "A11KZ906QD08C5 ['B000JV9LUK', 'B00IVFDZBC', 'B000NP3DJW', 'B00B4GGW5Q', 'B007WTAJTO']\n",
            "A32NEDX6UVV8DE ['B003FVVMS0', 'B000092TT0', 'B0079M711S', 'B000LRMS66', 'B004AP9FSE']\n",
            "A3BVN2QBNPBHCR ['B000WXSO76', 'B009NHWVIA', 'B000VE2RP6', 'B00CRJWW2G', 'B00EOI2SR2']\n",
            "A1BVE2ZIBKJ7YI ['B00889ST2G', 'B000YEMKGY', 'B001PIBE8I', 'B00AXTQQDS', 'B005HQ50SO']\n",
            "A1ZPY91VE3IDN1 ['B003CJTQJW', 'B00834SJNA', 'B002C1BHIO', 'B000NLLXVQ', 'B000H84LBE']\n",
            "A3LQUEB84IR3VO ['B0046TJG1U', 'B007WTAJTO', 'B002OJN250', 'B001UEBN42', 'B005U0M9B8']\n",
            "A3SQCTNYQFVBWM ['B007WTAJTO', 'B00CRY250U', 'B00006JPWW', 'B00803N2AY', 'B00585CLSQ']\n",
            "A1H7Y5XKPGT0OS ['B00EOE4G4E', 'B003M0NURK', 'B002VPE1YS', 'B00A81ICCE', 'B0021AFWL4']\n",
            "A2BX8DDQGCCG2J ['B00746W3HG', 'B003TFDUJ6', 'B003GIJTR8', 'B004UR16ES', 'B001FA1O0O']\n",
            "A3HH340REI4J47 ['B000BQ7GW8', 'B004XFYGNK', 'B004BBC2RS', 'B005AZ7B4S', 'B005ZUTAUG']\n",
            "A105S56ODHGJEK ['B00IVFDZBC', 'B002TLTE6Y', 'B001NTFATI', 'B0044DEDC0', 'B0015HYPOO']\n",
            "A2IMLOJ2Z2QEU2 ['B0036V9AGU', 'B00AJHDZSI', 'B004CLYEFK', 'B003KPBRRW', 'B00CYX26BC']\n",
            "AROQO2VDODT7 ['B0000BZL1P', 'B001F51G16', 'B00009R6WU', 'B00007B4DM', 'B00166EUI0']\n",
            "A15CL28ALB7MTZ ['B0052SCU8U', 'B008ALA6DW', 'B000JMJWV2', 'B00HFRWWAM', 'B000O161X0']\n",
            "ABXANRX4GPYRZ ['B00746W3HG', 'B0000CFYM9', 'B005I6EU48', 'B0010WG2H2', 'B0007MGFI2']\n",
            "A2R1HUYHXV7H18 ['B006JH8T3S', 'B004CLYEFK', 'B0079UAT0A', 'B002ZIN9DU', 'B00HSQAIQU']\n",
            "A30X750M8V1XXW ['B0000BZL1P', 'B001TUYTZM', 'B001XURPQI', 'B005KAK2FI', 'B001OI2YNS']\n",
            "A1MNN0ZMHYPJDU ['B00B588HY2', 'B004TPPWT6', 'B007BXD6DW', 'B008TT7CXW', 'B000ZD067Y']\n",
            "A2UTZ4O5E2W4DK ['B004W2JKWG', 'B007WTAJTO', 'B0010Z28XG', 'B001H8DF0G', 'B000PKX2KA']\n",
            "A30C8WHQ2CYFO4 ['B0033PRWSW', 'B001BTCSI6', 'B0040JHVC2', 'B000053HBB', 'B004X1SFTA']\n",
            "ADKZOXAOV8EXD ['B002RCNX8K', 'B000ZMCILW', 'B003WO7MZC', 'B003YL412A', 'B005IHAI8O']\n",
            "A5Q1FK0FWU7DH ['B000LRMS66', 'B00005N6KG', 'B001KP3NZS', 'B001FA1O0E', 'B00093IIRA']\n",
            "A2LXX47A0KMJVX ['B00CSDMWGW', 'B000VX6XL6', 'B00BERGFV6', 'B001SJVU24', 'B000L9OIQ2']\n",
            "A1W415JP5WEAJK ['B00DTZYHX4', 'B003GALRIA', 'B0082E9K7U', 'B002VPE21A', 'B002TA7VO2']\n",
            "AVJORH3ACR2A5 ['B0019EHU8G', 'B00081A2KY', 'B003ES5ZUU', 'B000MX48VM', 'B001RB21IK']\n",
            "AHNHLGKIZ2N3B ['B00BOHNYTW', 'B00AJHDZSI', 'B0043M668G', 'B001NJ0WCS', 'B004TM1JBE']\n",
            "APOGXH3A74CM3 ['B002SFDJMQ', 'B001TOD7ME', 'B00829TIA4', 'B00BP5KOPA', 'B00006B7DA']\n",
            "AQNSQW4495SG0 ['B001M4HXB2', 'B00009XVCZ', 'B00004XOM3', 'B00EN27SHY', 'B00FNPD1VW']\n",
            "A1NNMOD9H36Q8E ['B001TUYTZM', 'B00006B9H8', 'B00119T6NQ', 'B00007EDZG', 'B002K4512Q']\n",
            "A17UNMURMLX0ZE ['B00FR6VL50', 'B00C20KWP4', 'B009NHWVIA', 'B009YQ8BTI', 'B009YT6PPC']\n",
            "A3FS3FJPD3RJTD ['B004CLYEH8', 'B0035ERKYW', 'B008X1BV2Y', 'B00009RDIF', 'B003UYU16G']\n",
            "AJEOFP6ZWY0MK ['B00017LSPI', 'B000JE7GPY', 'B00603RTC8', 'B0041Q38NU', 'B0042RA8C2']\n",
            "A3NYBI5VMVEEIK ['B004SUO068', 'B002BZFSYA', 'B0028AVGEO', 'B005Q6MX7G', 'B000FKP7TY']\n",
            "AU627A4UGIW6V ['B0058G40O8', 'B00006I5J7', 'B009SGB3KI', 'B002T4I4US', 'B001G4NBSC']\n",
            "AIBRTGBN07D6A ['B00COF7DGS', 'B002VPE21A', 'B001EPVOQY', 'B0002L5R78', 'B0002WPSBC']\n",
            "AAR7CEPXYJA0T ['B003HIXOOG', 'B003N7NMO8', 'B0030MITDK', 'B002QEBMAK', 'B001D7REIK']\n",
            "A2J96FILPQA01 ['B008C1JC4O', 'B003819S8S', 'B00CJLEHPM', 'B004WQVTLC', 'B00DIFIM36']\n",
            "A2X8KN82L07RSK ['B007PJ4P4G', 'B00GO4GMAI', 'B000IMSK8Y', 'B004VM1T5S', 'B005PUZOYM']\n",
            "A3775OP5VTX5ON ['B001TH7GUU', 'B000CRFOMK', 'B00006B81E', 'B000WOIFO2', 'B000JMJWV2']\n",
            "A3NG7X4APIV649 ['B000N99BBC', 'B0027AGK3M', 'B00310PJM0', 'B00829TIA4', 'B0057UUB1G']\n",
            "AZ8XSDMIX04VJ ['B000QUUFRW', 'B0047T79M2', 'B000096B01', 'B0018MPQBM', 'B005FYNSPK']\n",
            "A25WJCAP606YMP ['B002DUCMQU', 'B009YT6PPC', 'B000LRMR26', 'B0034CL2ZI', 'B004XW2NEW']\n",
            "AFM7FK7NFEKFZ ['B008ZGKWQI', 'B003QHXZM4', 'B000X1S3VO', 'B0000642RX', 'B0000C6E3P']\n",
            "A2SKEQT0WTB954 ['B004Y1AYAC', 'B000EGI7V4', 'B00B8L36A6', 'B00CRXZPA8', 'B006UMM2BW']\n",
            "A2PZXXPGLXXKZU ['B0054JJ0QW', 'B0013FRNKG', 'B004X355Y6', 'B000GISUAS', 'B005ONMDYE']\n",
            "A3HXGSMCIOZEW8 ['B003ES5ZR8', 'B003WV5DJC', 'B003OC6LWM', 'B006Y44DAY', 'B001XHBNN2']\n",
            "A3EP26M3QHINXT ['B00IVPU786', 'B005SPQ8XK', 'B00013J89K', 'B005749HQC', 'B006DUDWXI']\n",
            "ARC5ASW9CUAGP ['B00E3W15P0', 'B00483WRZ6', 'B005TQES58', 'B002UBPBTC', 'B000EVLS4C']\n",
            "AUK79PXTAOJP9 ['B003GSCS3U', 'B001CIREXA', 'B007I5JT4S', 'B004C8I88W', 'B005553J4Y']\n",
            "A3HSDV9Y0TV5Z2 ['B001MSU1FS', 'B009OBCAW2', 'B001RCTA8I', 'B0011U65F2', 'B000CKVOOY']\n",
            "AWSK1ZAEU1KFL ['B000067RT6', 'B007WTAJTO', 'B004JISIE4', 'B004T4FAZI', 'B0000C6E3P']\n",
            "A10PEXB6XAQ5XF ['B007R5YDYA', 'B000ID7QNI', 'B0050IE1O8', 'B00APCMMDG', 'B00829TIA4']\n",
            "A14NA0W8ESGDSI ['B008EWNVI4', 'B008F537KC', 'B000FOYMKU', 'B008WXKYX0', 'B004UKRRD4']\n",
            "A2JWF9IG8PJAOA ['B004Q0PT3I', 'B005TUQV0E', 'B001FA1O1S', 'B00698WP50', 'B00B4QESVQ']\n",
            "A1J75JJ0Q2OEJN ['B00DT04I9W', 'B002M3SOC4', 'B009VV56TY', 'B0034CL2ZI', 'B0015L0T3G']\n",
            "A10AFVU66A79Y1 ['B002Y6CJJ8', 'B0074FGLUM', 'B002HEWA28', 'B0081FLFQE', 'B00603RTC8']\n",
            "A3DWO5RJDA430F ['B006W8U2MU', 'B000VX6XL6', 'B000L47AHG', 'B004I4BS1E', 'B002RM08RE']\n",
            "A36K2N527TXXJN ['B002TMRZOQ', 'B001FA1NZK', 'B00CHH0JF0', 'B00BOHNYTW', 'B00DK2JQOQ']\n",
            "A21T0D2F7SKG5S ['B00007GQLS', 'B00006I53X', 'B000AZ57M6', 'B000FKQ8LA', 'B000I1YIDQ']\n",
            "A3CG93783LP0FO ['B006LW0W5Y', 'B002V88HFE', 'B00DTZYHX4', 'B00F0DD0I6', 'B000067RT6']\n",
            "AW5JSQCHC2ZJO ['B000JMJWV2', 'B00EOI2SYK', 'B00139JBU2', 'B008MF3X9K', 'B00006JPWT']\n",
            "A3FOSLM5G1BO63 ['B009NHWVIA', 'B0034CL2ZI', 'B00JC5Y6WM', 'B0057UUB1G', 'B009WZRAQQ']\n",
            "A1WG97A0EFHYXN ['B000Q85WRC', 'B000097O5F', 'B005LIDU5S', 'B0095VPBM2', 'B007B5YUMQ']\n",
            "A2RIXSMGE9VIBG ['B000UZCR56', 'B009NHAEXE', 'B0098QSTFK', 'B00D5T3QK4', 'B001FA1NVE']\n",
            "A2HMF8ZR67BNZS ['B002TMRZOQ', 'B001TH7GUA', 'B002WE4HE2', 'B000J47W12', 'B000MX48VM']\n",
            "A376OJHLE6SU9Q ['B001342KM8', 'B002TLTE6O', 'B0002XQJFA', 'B00HFRWWAM', 'B004CLYEDC']\n",
            "A1BJOHHLG0D965 ['B00CKAOJA0', 'B004CLYEDC', 'B00AJHDZSI', 'B001L1H0SC', 'B001E1Y5O6']\n",
            "A253IOATGMT2UP ['B0000BZL1P', 'B007R5YDYA', 'B002IKLJVE', 'B0048IW030', 'B000L47AHG']\n",
            "A3S5EXYZDEBF3K ['B004ELA0SS', 'B00CKAOJA0', 'B006EKIQYM', 'B009YT6PPC', 'B003WUBIZQ']\n",
            "AE88D7OM7YU99 ['B00CKAOJA0', 'B002LEVGMO', 'B001S0PWWC', 'B000Q8UAWY', 'B003SX0NFI']\n",
            "A10ZFE6YE0UHW8 ['B000N99BBC', 'B008EQYRRY', 'B003LVZO8S', 'B005AY01RI', 'B009SYZ8OC']\n",
            "A32AK8FOAZEPE2 ['B004LNXO28', 'B0007LJHVA', 'B001XURP7W', 'B005BNWKD6', 'B001U3YIT0']\n",
            "A28P7V9KI7MXP ['B00AAIPT76', 'B003U7SR0U', 'B002ZIMEMW', 'B0058AH2US', 'B004GITBSE']\n",
            "A3NCIN6TNL0MGA ['B005LS2GPI', 'B000MUXJCO', 'B00008W2LC', 'B0002OZXGU', 'B001GS8G24']\n",
            "A1BT6TL7UCIC5Y ['B002TLTE6Y', 'B002K9IHGI', 'B00IVPU7DG', 'B004CLYEFK', 'B006ZBWV0K']\n",
            "A3CMO216CWOF5N ['B00006IS4X', 'B001GS8G0Q', 'B0015LOWD4', 'B002MAPRYU', 'B00006HOLO']\n",
            "A2UQK3DAZ8NO2T ['B0009OAFI4', 'B000LXZKQK', 'B000DZDTKU', 'B00007E7JU', 'B0009GZSSO']\n",
            "A1MFPAM9TTRTXN ['B003WGJYCY', 'B008EC4O76', 'B0065DUJ0C', 'B00B4GGW5Q', 'B000O8I474']\n",
            "A3SVYWA9O1KUQV ['B002M3SOCE', 'B00425S1H8', 'B0012JCZYM', 'B00DQZSFSA', 'B0007Y79AI']\n",
            "A25KKXUQQ0OLWB ['B00829THVO', 'B0074BW614', 'B008GGH5HQ', 'B004RO9L4Q', 'B001FA1NFA']\n",
            "ACJT8MUC0LRF0 ['B00FSA8VQ2', 'B0036AWR8E', 'B00HZWJGS8', 'B0057UUB1G', 'B0071BTJPI']\n",
            "A3OZA8HNJM26DC ['B001TUYTZM', 'B004I4BS1E', 'B00834SJNA', 'B0083EZE4M', 'B0056TYTV6']\n",
            "AY4EXFOO43C3S ['B008ZGKWQI', 'B004GF8TIK', 'B006Z0Q2SI', 'B001EWEIOW', 'B0058UUR6E']\n",
            "A38KK0SZYEH5UD ['B00429N18S', 'B002IO2UM2', 'B001BTG3OQ', 'B001FWBUUG', 'B00DMCVKMU']\n",
            "A3KCKECEO3E2AN ['B002FB684E', 'B002MCZJ78', 'B007R8U5R6', 'B004GUT1QO', 'B003VAHYTG']\n",
            "A3872Y2XH0YDX1 ['B007KEZMX4', 'B000VWKSHM', 'B0036V9AGU', 'B00511PS3C', 'B0013ITQA8']\n",
            "ABIVKBMSIPEDY ['B0034CL2ZI', 'B0039VYN1Y', 'B0009HTB0Y', 'B009LL9VDG', 'B004N625BO']\n",
            "A3QJU4FEN8PQSZ ['B001OI2YNS', 'B00CD8ADKO', 'B0016BVKAQ', 'B005NCLDEC', 'B007GMPZ9Q']\n",
            "A2YRX8J4WM5BRX ['B00CMMG7I8', 'B001TZWNF0', 'B005J2E2US', 'B005MTME3U', 'B005DKZTMG']\n",
            "A3SOJO7Z7R9WIA ['B002QUZM0U', 'B002WE4HE2', 'B0025EWXEU', 'B000LWJ1ES', 'B00104XCVO']\n",
            "A2SATO5BNKWY3Y ['B000M2TAN4', 'B003FVVMS0', 'B004ING996', 'B000O5N5AI', 'B003Z4G3I6']\n",
            "A2PSC7LUNIDEAH ['B001ELK2NY', 'B00AQUO5RI', 'B003VAK16O', 'B001NJ0WCS', 'B002VPDM2A']\n",
            "A3E3EQ39FZTZEK ['B001TH7T2U', 'B005PQTYHE', 'B009YCASK2', 'B00065L5TE', 'B003DZ1684']\n",
            "A1ASWDAEDTTY5I ['B000EXS1BS', 'B001F7AJKI', 'B0092THNDW', 'B000JFJZGG', 'B00GWBBWOY']\n",
            "A3MMR2WDKAK0PA ['B006ZH0KVG', 'B001I45T9O', 'B009P7JJEC', 'B007PJ4PKK', 'B003VJF63I']\n",
            "A2L42QEWR77PKZ ['B001QUA6RA', 'B0002D6QJO', 'B0027IVMBY', 'B001FN3ZRQ', 'B0041Q38NU']\n",
            "AT6CZDCP4TRGA ['B009NB8WR0', 'B002JQNXZC', 'B002WE4HE2', 'B002DUCMQU', 'B0000511U7']\n",
            "A3OA4DV4L81N1D ['B002WE0QN8', 'B002JQNXZC', 'B006JINHYS', 'B002WE4HE2', 'B001CCAISE']\n",
            "A1C82BC5GNABOA ['B003L1ZYZ6', 'B00009XVCZ', 'B000AZ57M6', 'B0013FRNKG', 'B004LEAYXY']\n",
            "A2ZRMCRLDSUX6R ['B000N99BBC', 'B000067RT6', 'B00829TIA4', 'B001GTT0VO', 'B0032HM6JG']\n",
            "A1NJHKPHD4YWZV ['B0019CSVMW', 'B002R0JJYO', 'B00158OJ9O', 'B004XNLR16', 'B003QLE4M0']\n",
            "A2I2KPNJDQ9SL0 ['B003ES5ZUU', 'B0000TSJVI', 'B004EFH6L8', 'B004F5ET62', 'B00007FGUF']\n",
            "A18S2VGUH9SCV5 ['B003ES5ZUU', 'B006LW0W5Y', 'B0001DBEM4', 'B005DIQ2OC', 'B001RNOHDU']\n",
            "A17V9XL4CWTQ6G ['B001ENOZY4', 'B0082E9K7U', 'B00A81SXHI', 'B0099XGZXA', 'B0051BG48U']\n",
            "A2Y739CRM15WDL ['B001T9NUJE', 'B0016BVKAQ', 'B000TKHGL2', 'B001HSOFI2', 'B0042FZ50O']\n",
            "A3VI2VETB90ZG5 ['B00IVFDZBC', 'B003CFATT2', 'B002YU83YO', 'B00JC5Y6WM', 'B004CLYEFK']\n",
            "A1PVX61PRPVX27 ['B000U0S304', 'B002FA5WE2', 'B00009RA60', 'B005WX50DM', 'B007TYUUPK']\n",
            "A2JRDFIGWTX50J ['B0002ZW5W4', 'B0009HGVZW', 'B000BI1XNE', 'B0002JY6TK', 'B0002QWU3W']\n",
            "A3G007LQX6KGOD ['B00834SJSK', 'B001TANZ0W', 'B000O8WE66', 'B002MCZJ78', 'B00EOI2SR2']\n",
            "A37CEYB95LK6R6 ['B00429N18S', 'B000CRFOMK', 'B00009XVCZ', 'B000067RT6', 'B00894YP00']\n",
            "A21I62TCDL4754 ['B000LRMS66', 'B004R6NWBC', 'B001S2RCWI', 'B008OZF9SQ', 'B00FAMAQQG']\n",
            "A3U029B8Z5WGI2 ['B004Q3R9AQ', 'B007KEZMX4', 'B004JMZPJQ', 'B000ZSUQ9M', 'B000NDBRJC']\n",
            "A2MOD50IHEDH3G ['B0019EHU8G', 'B001IEXU68', 'B006ZH0KVG', 'B0028AD7BE', 'B0002IWC9C']\n",
            "A2AX2UGB167J31 ['B000N99BBC', 'B000EVSLRO', 'B004C9P9TM', 'B00CIY0KOM', 'B0019WDZUU']\n",
            "A15J9K7O10A3M6 ['B00969J3EU', 'B004SBBD8U', 'B009WU5XUG', 'B0037ECAQ8', 'B001F8SCRE']\n",
            "A1VLE2SH9J8WYS ['B001MSU1FS', 'B00D6WF80G', 'B002M3SOBU', 'B005FYNSPK', 'B003VTZE0I']\n",
            "A1QOIHVQC5XWCJ ['B001TKE25E', 'B00126V8WU', 'B002J9HBIO', 'B0015AE4CE', 'B001TK89L2']\n",
            "A1NRMTQ5SZPZA ['B005J31BCY', 'B00139W0XM', 'B00CDS9HTM', 'B005DKIID8', 'B008MWBY6W']\n",
            "A32482Z7XIKDQX ['B00009XVCZ', 'B000S5Q9CA', 'B00GTGETFG', 'B00A9NE84C', 'B009NHAEXE']\n",
            "A1OH33MR6K4G5J ['B0025UHKNS', 'B0074BW614', 'B002WVMHDI', 'B000X9O8SI', 'B00IAAALFG']\n",
            "A11R5VW7IM6ISQ ['B001TH7GUU', 'B006QB1RPY', 'B001SJVU24', 'B0000AI0N1', 'B0041OSQ9I']\n",
            "AYNAH993VDECT ['B00CD8ADKO', 'B004SBBD8U', 'B009LL9VDG', 'B002VJL0OS', 'B00F6E8OUS']\n",
            "A2TKWMX4563NR6 ['B006W8U2MU', 'B003LR7ME6', 'B000S5Q9CA', 'B00A35WYBA', 'B009NHAEXE']\n",
            "A2L90SGUP36KGA ['B00029U1DK', 'B000I1X3W8', 'B004GF8TIK', 'B000L47AHG', 'B005BI5WMW']\n",
            "A1PM7HH4F77NEH ['B00080G0BK', 'B000A36XZS', 'B004R7A9NU', 'B0028N78HA', 'B001E5CDSW']\n",
            "A20DZX38KRBIT8 ['B000EPHP4U', 'B00D68ZVY8', 'B001FA1NRI', 'B000J47W12', 'B0009WKBGC']\n",
            "A3D2VIUT2HWP0Z ['B00834SJSK', 'B000204SWE', 'B000SDW84K', 'B001NJ3H0C', 'B0063E3ZPO']\n",
            "A1BBYSMT9YCODI ['B00IVPU786', 'B00A83I8G2', 'B004SBBD1C', 'B006DEBYWU', 'B00CF7E0R0']\n",
            "A3UW23DBF2KHWC ['B0082E9K7U', 'B0002JY712', 'B00F3F0EIU', 'B00BQHD4B8', 'B0026ZPFCK']\n",
            "A17BUUBOU0598B ['B001DJ64D4', 'B000JMJWV2', 'B004CLYEFK', 'B000VIHFZ4', 'B009JPBPWO']\n",
            "AC6Z7DP1Z5GHD ['B000ANCPNM', 'B002UVNW5W', 'B0009H5VVM', 'B001E3XLZS', 'B00007EDZG']\n",
            "AOQLV2LSI9B2W ['B001F7AHOG', 'B001TZWNF0', 'B0026650XS', 'B004RCHX0W', 'B002S3YL3Y']\n",
            "A370XYLIZCSK1Y ['B001QUA6RA', 'B000IJY8DS', 'B001MSU1FS', 'B003FVJYF8', 'B00077AA5Q']\n",
            "ABVYGB2TKBO8F ['B002WE6D44', 'B00BOHNYU6', 'B000BOLHH0', 'B0007NWL70', 'B0000BZYPD']\n",
            "A1TQZUSOU22E9M ['B00HZWJGS8', 'B001OI2YNS', 'B00FPKDPZC', 'B0062XB9FE', 'B0031RG2JC']\n",
            "A1VFX417XDNWIU ['B002TLTE6O', 'B007EM7NES', 'B00B99JU5M', 'B0055QZ216', 'B00CUIVSNS']\n",
            "AVTJEWTCJ3PBE ['B0002GRUV4', 'B004BBC2RS', 'B002QC6RI4', 'B0001GAMQK', 'B003L137Y6']\n",
            "A3E9O1VNJ3U324 ['B0019EHU8G', 'B000QBPUKS', 'B0017KZ8Y0', 'B001DZ6CDU', 'B003JH7KT0']\n",
            "A1I96OYAUJ3HQE ['B000GX484U', 'B00007B4DM', 'B001UE6N6A', 'B002SSL920', 'B0083Z6R4W']\n",
            "A2ROZACRW31PC2 ['B001QUA6RA', 'B003WUX6PG', 'B005LIDU5S', 'B009H0XQPA', 'B004UBU3SY']\n",
            "A2HKUM9OEBQKDW ['B00029U1DK', 'B00B4GGW5Q', 'B000BSN4UY', 'B00609B3J2', 'B001E1Y5O6']\n",
            "A9DYWY9VOSP1P ['B007PJ4P4G', 'B002Y6CJJ8', 'B004J3ZV62', 'B000CP4ML6', 'B001FA1NK0']\n",
            "A3D1TZH619NKHN ['B001TH7GSW', 'B000Q82PIQ', 'B00HVT27B8', 'B00834SJSK', 'B0093HMKVI']\n",
            "AW6A4PPENVZY3 ['B005LDLP8W', 'B000VDCT3C', 'B00B7E1D7W', 'B001G5ZTLS', 'B0002ER2YQ']\n",
            "A3V6Z4RCDGRC44 ['B000V5P90K', 'B000M17AVO', 'B001FA1NZK', 'B0007CZ70Y', 'B007PY3ZPG']\n",
            "A3VONQL7YW8UPM ['B007WTAJTO', 'B008LCYIEI', 'B009K62HQ0', 'B0074BW614', 'B001K5R38Q']\n",
            "A1R6RKKE44AYA8 ['B003WUBIZQ', 'B0043WJRRS', 'B000QUUFRW', 'B002IKLJU0', 'B00BRI4YM4']\n",
            "A2WJ5XSE4I9F55 ['B007WTAJTO', 'B002W2Y8PC', 'B008M9U3BM', 'B005IQSSJG', 'B00001P4XA']\n",
            "A3V5F050GVZ56Q ['B0052SCU8U', 'B003NR57BY', 'B00DTZYHX4', 'B002V88HFE', 'B00IX2VGFA']\n",
            "AOMEH9W6LHC4S ['B0076W9Q5A', 'B00D1GYNT4', 'B00E3RH5W2', 'B002TLTE6Y', 'B002VPE1X4']\n",
            "A24P4E3RJ6AX94 ['B003XM1WE0', 'B002V88HFE', 'B00DTZYHX4', 'B003NR57BY', 'B000067RT6']\n",
            "A2NP9CGUSFP22E ['B0052SCU8U', 'B000F9YN22', 'B00081A2KY', 'B0036Q7MV0', 'B00DW374W4']\n",
            "A27M75LRSJ788H ['B007M506WS', 'B002RCNX8K', 'B002NO7PWC', 'B009SYZ8OC', 'B00007IFED']\n",
            "A30UP2KKD5IQEP ['B003ES5ZUU', 'B000TKHBDK', 'B001TH7GSW', 'B005KAK2FI', 'B000QWEN5K']\n",
            "A36MP37DITBU6F ['B00D6XSRL2', 'B0034CL2ZI', 'B004CLYEFK', 'B008MF3X9K', 'B004GUT1QO']\n",
            "A35KBAQ4VBNQ6L ['B000QUUFRW', 'B001C271MA', 'B0079M711S', 'B0051XDOZO', 'B0096TO26E']\n",
            "A15TABNGK6L4N3 ['B001ISKNKA', 'B001N9X4CS', 'B003HFCDLY', 'B004Q3R9AQ', 'B0083EZE4M']\n",
            "A3N4VTNFPMTHEF ['B006DDT6JO', 'B001NTFAOS', 'B004CLYE8C', 'B00C28L138', 'B009SYZ8OC']\n",
            "A2AF0NOCM71J0B ['B002V8C3W2', 'B00BW6KCTU', 'B004CLYEDC', 'B007WTAJTO', 'B00CB2F65O']\n",
            "A3L9E0YI7C5G0W ['B000QUUFRW', 'B003FVVMS0', 'B00DK2JQOQ', 'B004C9P9TM', 'B0081ER9KG']\n",
            "AUUV3XDYB16X5 ['B005LFT3GG', 'B00AAU54TW', 'B0016120M8', 'B0007UQNV8', 'B004T1YAEI']\n",
            "A3BNMHRW2R35LK ['B009OBCAW2', 'B002K9IHGI', 'B0007G6RZE', 'B00CAAJDP6', 'B00EO96W2I']\n",
            "AAQ9NJ480N9W5 ['B000NP3DJW', 'B0043WJRRS', 'B000QUUFRW', 'B000MX48VM', 'B0001VQEYY']\n",
            "A2OWR5G2OAQF7C ['B004SCSV2U', 'B001UEBN42', 'B003TXRTNG', 'B003SX0NG2', 'B00829THVO']\n",
            "A36A1ZYZH8568P ['B000AYJDD6', 'B002V88HFE', 'B00077AA5Q', 'B002WE4HE2', 'B004J3ZV62']\n",
            "A1VEELTKS8NLZB ['B005HMBQR2', 'B00CSMYBFS', 'B009RQEDXS', 'B004ANHC6S', 'B005HP3PNM']\n",
            "AYOMAHLWRQHUG ['B002K9IHGI', 'B009YT6PPC', 'B004Q3R9B0', 'B007F9XHAY', 'B00B3PDH5G']\n",
            "A386LG0LRWKJZP ['B001QUA6RA', 'B00299G80Q', 'B000BV8604', 'B000QFIS12', 'B000TYL27M']\n",
            "A353U0L2HAMSHV ['B00316263Y', 'B002TLTE6Y', 'B001TOD7ME', 'B000JE7GPY', 'B0043M668G']\n",
            "A35HUT8MQMT21L ['B0012Y2LLE', 'B000CKVOOY', 'B005LZR0DO', 'B000IF51UQ', 'B00DUN2PBQ']\n",
            "AATWFX0ZZSE6C ['B000CSWCQA', 'B002EVP85K', 'B00358PRCA', 'B000RZNI4S', 'B0002BEQJ8']\n",
            "A22S7D0LP8GRDH ['B002MZUNXU', 'B00AAHT8JC', 'B000EGI7V4', 'B005KWHJES', 'B009E6J1BU']\n",
            "A2HNH4PKE5DPSI ['B0012Y6HC8', 'B001OI2YNS', 'B000FQ2JLW', 'B00829THVO', 'B004HO59M4']\n",
            "A204K1OFE8OB9Y ['B000FBK3QK', 'B002T45WXU', 'B002HWJT1A', 'B0007U00X0', 'B001B7H39W']\n",
            "A1CYTBE7LLUQ8F ['B0002IWC9C', 'B000MP831G', 'B000H6CBA4', 'B00622AG6S', 'B002QEBMAK']\n",
            "A2VJ5ALN1BIV3B ['B007WTAJTO', 'B002WE4HE2', 'B002HWRJY4', 'B0012845AA', 'B00829THK0']\n",
            "A4U27URFECK1U ['B000N99BBC', 'B00BOHNYU6', 'B000A0CV9S', 'B0099SMFP2', 'B00KFAGCUM']\n",
            "A274MXTX3DYLUV ['B005NGQWL2', 'B002B8WVVU', 'B007YXA5TC', 'B000SDZ0K4', 'B005DCP280']\n",
            "A3MQAQT8C6D1I7 ['B0012GK3MQ', 'B000N99BBC', 'B00006RVPW', 'B000092TT0', 'B001FBJJQ4']\n",
            "A11IXJ8M1JO296 ['B004LSNF04', 'B000A0CV9S', 'B004QGXOOI', 'B005IHAIKM', 'B009SYZ8OC']\n",
            "A1IBKN1GXYJ3K4 ['B009NHWVIA', 'B00829THK0', 'B004I44EXI', 'B009CQNPYQ', 'B0002DG9XW']\n",
            "A2XAKGRUHIE2ZA ['B000CRFOMK', 'B001P05NKG', 'B001PIBE8I', 'B0002SQ2P2', 'B0015YJOK2']\n",
            "A145B8OHVNNFAJ ['B0052SCU8U', 'B003ES5ZUU', 'B006LW0W5Y', 'B0082E9K7U', 'B00G4UQ6U8']\n",
            "A1BC62X6HZJGZR ['B00BQ4F9ZA', 'B000QUUFRW', 'B005DKZTMG', 'B00004Z5P4', 'B0067I4Z6O']\n",
            "A2IIAQ7VVAHXTD ['B001TH7T2U', 'B003FVVMS0', 'B000VX6XL6', 'B00894YP00', 'B00007E7K1']\n",
            "A2JMJVNTBL7K7E ['B008LTBITY', 'B00DQKQ7U8', 'B009F7IBZK', 'B005L38VPC', 'B00DSGLM50']\n",
            "A1RPTVW5VEOSI ['B001QTXL82', 'B00000J061', 'B001TZWNF0', 'B0002ZAILY', 'B001ISKNKA']\n",
            "A365PBEOWM7EI7 ['B001MSU1FS', 'B001TH7GUA', 'B001RNOHDU', 'B0043CG3QG', 'B009NHAF5G']\n",
            "A2F92M62KN324B ['B005DSPLCQ', 'B000NQ16NG', 'B002N2EHVQ', 'B002QQ8H8I', 'B0093H8H8I']\n",
            "ABQWMANK4AR63 ['B004RORMF6', 'B002YU83YO', 'B002WE6D44', 'B007KZQM8W', 'B008ALAHA4']\n",
            "A3E049PVKG7NDK ['B00DTPYRTI', 'B0031ESKJA', 'B00FX9WJNO', 'B007R3Z44U', 'B004PGMFG2']\n",
            "A215WH6RUDUCMP ['B0082E9K7U', 'B009NHWVIA', 'B00EDCF0MY', 'B0079UAT0A', 'B008MF3X9K']\n",
            "AGATRDOFW48DK ['B000KZ70JE', 'B001E0RZ3U', 'B0013WM0BQ', 'B00B46XUQU', 'B00427ZLRO']\n",
            "A3VC74TJ06WDDD ['B000O8I474', 'B000FAKUE6', 'B000O5N5AI', 'B004CRSM4I', 'B002EOD52A']\n",
            "AYMD77ITD15PT ['B00006B9H8', 'B004CLYE8C', 'B0002A9RFM', 'B000031KIM', 'B007R8U5R6']\n",
            "A3P4T1DKRWTL36 ['B006H06TVG', 'B005TUQV0E', 'B006IC3GHS', 'B009SYZ8OC', 'B007SVHFXO']\n",
            "A2IT7S59GSASN7 ['B00D5Q75RC', 'B003ES5ZUU', 'B004CLYEDC', 'B0002ZAILY', 'B00829TIEK']\n",
            "A1BXVZSQOJE6UE ['B0062XB9FE', 'B0092KRAVQ', 'B00117LECY', 'B00ESW4JSK', 'B007SHJIO2']\n",
            "A3MFORLOKIOEQY ['B003SGCO3E', 'B003L1ZYZ6', 'B00HVT27B8', 'B007GNN0AG', 'B004OR14HI']\n",
            "A2WF58BAWLVI95 ['B00CM0XHNS', 'B00DIFIM36', 'B00F6AVFK8', 'B0075SUK14', 'B0057AVXP4']\n",
            "A2OKRGHIYTBQ6P ['B002NO7PWC', 'B004ELA0SS', 'B003MTTJOY', 'B005GGTTZ0', 'B005IMFX2K']\n",
            "A16WP8NTPYB0ZM ['B006Z0Q2SI', 'B000LP4RMG', 'B0092HP3GS', 'B000BSJFJS']\n",
            "A25C2M3QF9G7OQ ['B001UI2FPE', 'B002WE6D44', 'B00CHH0JF0', 'B00004XOM3', 'B001ELK2NY']\n",
            "A18FLOC8YQY0P8 ['B001FA09WI', 'B006W8U2MU', 'B00EL93M3S', 'B00BP5KOPA', 'B005WXQO3W']\n",
            "A39K52QDP4C3ZS ['B004RORMF6', 'B005LS2GPI', 'B001CIREXA', 'B003A7C9WM', 'B0058AH2US']\n",
            "A33HIV8RXRDM88 ['B0000BZL1P', 'B00005LEN4', 'B009YT6PPC', 'B002WE4HE2', 'B00EOE4G4E']\n",
            "A3R33KMESG0XGQ ['B000VX6XL6', 'B002HWRJBC', 'B000IF51UQ', 'B00G024X32', 'B00019OWU4']\n",
            "A1YEPFLLH42OU1 ['B0052SCU8U', 'B00BOHNYU6', 'B0043WJRRS', 'B0034CL2ZI', 'B0089WY3NQ']\n",
            "A11LNPG39A2ZV4 ['B0041OSAZ8', 'B00434OWDA', 'B004H3XNB4', 'B004KU0RJK', 'B001PN37LA']\n",
            "A2NU9H8H5MJZSL ['B00B25P27S', 'B000083CUA', 'B000WG6XW6', 'B000LD25MC', 'B0002AHRVI']\n",
            "A1KKE6VX8VPWZK ['B002TLTE6Y', 'B0015AARJI', 'B000RZ8WHG', 'B001FWBUUG', 'B0019MEIOM']\n",
            "A291XTI6NO7DEG ['B0009WKBGC', 'B0002O77T6', 'B000N254LU', 'B0039SM0AS', 'B000ANRP82']\n",
            "A3TA1UJWRJF9NC ['B001B8EUEW', 'B00008VFBE', 'B0015ACUKC', 'B000CMS0XU', 'B000AM6QHE']\n",
            "ARIDN94LOCQFD ['B007WTAJTO', 'B00B588HY2', 'B0002IWC9C', 'B000JE7GPY', 'B0002CPBUK']\n",
            "A3T4OHEAHOJ700 ['B001TOD7ME', 'B0011Z2402', 'B004FHO5Y6', 'B006ZZ2V9M', 'B0090IA4FO']\n",
            "AFHYEO3Y1IIDD ['B003LVZO8S', 'B004TS2AP2', 'B004N625B4', 'B00006HMPK', 'B002UEC3AY']\n",
            "A16HXVNPU5TCGE ['B000YB862E', 'B004N627KS', 'B000OPB4U6', 'B0038ND4A4', 'B00DZYEXPQ']\n",
            "A1TR1R2QKWRSRA ['B004CLYEDC', 'B00829THEG', 'B009X01C64', 'B004CLYEH8', 'B0036R9YA6']\n",
            "A1PEXTGNF36I1Q ['B001TH7T2U', 'B00139VKU6', 'B002K4E7TE', 'B0014Z29OU', 'B000CNPK3M']\n",
            "A1L0P1ZP5FD6EC ['B0000BZL5A', 'B0000AI0N1', 'B00BC4SJEC', 'B007NJ0S1W', 'B002VGWFF4']\n",
            "A1ZBEIL78MLR9Z ['B001QTXL82', 'B003TXRTNG', 'B00139JBU2', 'B003YKG2UK', 'B00GO1UV4E']\n",
            "ABMN74TBW5UWE ['B00009XVCZ', 'B0041MY32Y', 'B004HREPCQ', 'B003EWGD1Q', 'B00009UTZA']\n",
            "A4UGMKUSX9XHI ['B00COF7DGS', 'B003DZJQQI', 'B0036Q7MV0', 'B0010YWPZ8', 'B002JP92K8']\n",
            "A2NT3W1F1XYBFZ ['B004HO59M4', 'B00CFCTDD6', 'B002NEGTTM', 'B0007QU6WY', 'B005OGR3DM']\n",
            "A3IK2VCQ007CJ ['B00429N18S', 'B00IRRDHUI', 'B0058AH2US', 'B007BJHETS', 'B003GZ828I']\n",
            "AHS6PX6H22WW1 ['B001OC6DCW', 'B00006HSYC', 'B00JC5Y6WM', 'B00007FGU7', 'B002GP7ZTQ']\n",
            "A37D1ZP8GBHE38 ['B001OI2Z4Q', 'B00BOHNYU6', 'B0043M668G', 'B00834SJNA', 'B003AM8S3G']\n",
            "A2UKE7GIVC7XFW ['B001TOD7ME', 'B00KFAGCUM', 'B004FHO5Y6', 'B00FRMAOIO', 'B009IKCKME']\n",
            "AXP8GO5Q3AXSA ['B003ES5ZUU', 'B000N99BBC', 'B000204SWE', 'B0093H4WT6', 'B00AE0IEHM']\n",
            "A3JNBO7H2SPL44 ['B003ES5ZUU', 'B005GGTTZ0', 'B004C9P9TM', 'B0079MX4Q4', 'B005KWHJES']\n",
            "A28621TSIR5EOG ['B004Q3R9AQ', 'B000TXEE14', 'B007WTAJTO', 'B007GFX0PY', 'B002V88HFE']\n",
            "A1TDR7Y90SVCHL ['B000F9YN22', 'B003HFCDLY', 'B003N8GVUY', 'B002JQNXZC', 'B004N3BH0C']\n",
            "AV10H5K6VPQIJ ['B00029U1DK', 'B00316263Y', 'B000HPV3RW', 'B001TOD7ME', 'B002K8H7XS']\n",
            "A1LYMYNURB9EWW ['B000N99BBC', 'B003CFATT2', 'B002DUCMQU', 'B00ISIG690', 'B002FU5QMK']\n",
            "A1VGXHHR08G044 ['B001F51G16', 'B005EOWBKE', 'B000JMJWV2', 'B00B7X2OTY', 'B006OOKT3Y']\n",
            "A1IU7S4HCK1XK0 ['B00BW6KCTU', 'B003S5SOLG', 'B003NR57BY', 'B00JC5Y6WM', 'B0002INUIY']\n",
            "A178M2AHNWQZB0 ['B0007Y794O', 'B00C28L6EW', 'B007IV7KRU', 'B004AX6Z3Y', 'B009DMFOVG']\n",
            "A2NSMJVQY0RV9S ['B000NP3DJW', 'B000QUUFRW', 'B004FA8NOQ', 'B002V88HFE', 'B000KO0GY6']\n",
            "AG5WSXI52FPKH ['B004EBUXHQ', 'B004W2JKWG', 'B0088PUEPK', 'B000LRMR26', 'B0058UUR6E']\n",
            "A2PY5ED630H0QJ ['B001QUA6RA', 'B00009XVCZ', 'B006EKIQYM', 'B0009H5VVM', 'B000I97FJ2']\n",
            "A20WUUD9EDWY4N ['B005LFT3GG', 'B007R9M6PO', 'B0064P5I1G', 'B002BZFSYA', 'B006NYJNTG']\n",
            "A1UCAVBNJUZMPR ['B0002J2P2A', 'B0017JY5FE', 'B00DBA9YD0', 'B0084OIY0M', 'B002J9HBIO']\n",
            "A1U5NWJOYH2QQH ['B002W4M0DW', 'B001AZUTCS', 'B008L1OCF4', 'B0001Y7UAI', 'B001JTQUYG']\n",
            "A3JAH5WW61N2EK ['B001CCAISE', 'B001EYV9TM', 'B0016P5ASK', 'B002RCLYXG', 'B008TYKEWS']\n",
            "A2DXENZNO2JT4F ['B00CI3BIWQ', 'B00BOHNYTW', 'B009F7IBZK', 'B00CRJWW2G', 'B00ESYW40S']\n",
            "ARXU3FESTWMJJ ['B00D6XW62I', 'B001P05NBA', 'B000053HC5', 'B000M5U9GI', 'B00390JT1O']\n",
            "A3V6QSTG2T9MIO ['B006W8U2MU', 'B004CLYEDC', 'B00840353W', 'B00067LYFW', 'B0058SRNZ4']\n",
            "A2JCJJNY43QQIV ['B001HSOFI2', 'B005SNPTRS', 'B0015EWMX8', 'B000ETY3LO', 'B00JP12170']\n",
            "A1CMD08Z49PGKQ ['B004286VMW', 'B004XC6GJ0', 'B007R5YDYA', 'B0015YJOK2', 'B0015EA3NO']\n",
            "A24J2Y1O22JYZX ['B00077AA5Q', 'B008L1OCF4', 'B0017I1PVC', 'B005P91CQM', 'B00451ZTBA']\n",
            "A2WYF4POBUXL2O ['B001ENW61I', 'B000BYCKU8', 'B0013AV4M4', 'B000CNPK3M', 'B0000BZLBA']\n",
            "ABMNX856X89CS ['B00IVFDZBC', 'B001FWBUUG', 'B001VZ1W5U', 'B008DWCRQW', 'B0079TOI8K']\n",
            "A2TMFC9O3ZCNKE ['B003ES5ZUU', 'B001W28L2Y', 'B00609B3J2', 'B002S53LJ2', 'B0037ECAQ8']\n",
            "A27QXQQOLAMRRR ['B003L1ZYZ6', 'B001TUYTZM', 'B002K9IHGI', 'B00HVT27B8', 'B0039VYN1Y']\n",
            "A16SRDVPBXN69C ['B00007GQLS', 'B000I1X3W8', 'B000FKQ8LA', 'B0084FM5JC', 'B001TIHVHC']\n",
            "ACSX5AIZE3MJ9 ['B004CLYEDC', 'B00EHZYWGM', 'B000ZSUQ9M', 'B003M0NURK', 'B000V01RLK']\n",
            "AEN44U6T9R93 ['B0007TOR08', 'B002KETE24', 'B002BFA91C', 'B006FKR1PG', 'B007YKUWN4']\n",
            "A247L282PID4PE ['B00A35WYBA', 'B003NUIK4M', 'B0037U95U6', 'B004I0FK6M', 'B00FEA01O6']\n",
            "AW6FQE5QRF2LM ['B006W8U2MU', 'B00APCMMDG', 'B009USAJCC', 'B000UHQVOW', 'B003Z4G3I6']\n",
            "A22I55P15NSAOX ['B00COF7DGS', 'B001TOD7ME', 'B002TLTE6O', 'B0039BPG1U', 'B004BDOGL6']\n",
            "A19HT7YC1UW3D6 ['B002WE6D44', 'B000HPV3RW', 'B004V4IWHY', 'B000S5Q9CA', 'B003ZYF3M8']\n",
            "A2RIL2NXHE00AQ ['B001ENW61I', 'B00009R6WO', 'B000UMX7FI', 'B000SB9K5W', 'B002NEGTSI']\n",
            "A2SZLNSI5KOQJT ['B00HWMPRKM', 'B003WJR694', 'B005J31BDS', 'B004H8FNBC', 'B002SZEOLG']\n",
            "A3RMEU4GNP60BM ['B0077CR5RK', 'B0051A8TG6', 'B004SBI2MU', 'B003BQ1D4C', 'B00DR0C96S']\n",
            "A3IJL9A50KVVZ1 ['B007WTAJTO', 'B00AQUMZRA', 'B002NEGTTW', 'B002QAUN2M', 'B00068YUN4']\n",
            "A3977M5S0GIG5H ['B000BTL0OA', 'B002V88HFE', 'B000J47W12', 'B005CWHZP4', 'B001FWBUUG']\n",
            "AY3D7DG5L5WCK ['B004CLYE8C', 'B0058FAYPI', 'B004BDOGL6', 'B00BWHILCY', 'B0061HMRA2']\n",
            "A3L6L5O89JTX2T ['B0049H8W1Y', 'B004J3V7RO', 'B00328HR7G', 'B0001LRIT4', 'B000N254LU']\n",
            "A19UTUEBWKIZFT ['B00BOHNYU6', 'B004CLYEDC', 'B003VAHYNC', 'B004CLYEFK', 'B00829THVO']\n",
            "ASJSX783R5HTZ ['B001BTCSI6', 'B001TH7GVE', 'B0065DUJ0C', 'B001GCVA0U', 'B002HWRJY4']\n",
            "A38Z6QG6988WS7 ['B001TH7GSW', 'B003ES5ZUU', 'B009EADB2Q', 'B005VFG06W', 'B000VX6XL6']\n",
            "A2PL06HW6KZH2 ['B008EQYRRY', 'B006W8U2MU', 'B0036V9AGU', 'B003LSTD38', 'B001E1Y5O6']\n",
            "A3EXWV8FNSSFL6 ['B001UI2FPE', 'B0000BZL1P', 'B00009EHJV', 'B00006I53X', 'B00CHH0JF0']\n",
            "A3KTWUXXB8KKC7 ['B006DDT6JO', 'B000RZQZM0', 'B000EWHH7I', 'B000EDK8V4', 'B00063G0BO']\n",
            "A16QODENBJVUI1 ['B00EO302SO', 'B005ELBSWO', 'B00829TIA4', 'B002FU5QMA', 'B004CLYEH8']\n",
            "ANXEW7IDYDJEH ['B006W8U2MU', 'B00GTGETFG', 'B000S5Q9CA', 'B00HVT27B8', 'B00006JN3G']\n",
            "A2W9GX82SLKROQ ['B001TH7T2U', 'B00007GQLS', 'B00004XOM3', 'B001NTFAOS', 'B004WB8EYM']\n",
            "A32JCI4AK2JTTG ['B00007IFED', 'B000F0ELOG', 'B003EEMDMC', 'B00AF22NTY', 'B001JT346I']\n",
            "A3077MQTAKOVFZ ['B003ES5ZUU', 'B0088PUEPK', 'B001F7AHOG', 'B005HSDLCO', 'B005JACJ50']\n",
            "A3TNM3C9ENUCFW ['B0038KN114', 'B00FPKDPZC', 'B007PTCFFW', 'B008X1BV2Y', 'B003X26LYG']\n",
            "A54S9CIUV5VNB ['B001TH7T2U', 'B003XM1WE0', 'B00APCMMDG', 'B00429N18S', 'B000RZQZM0']\n",
            "A2BUQ240COLAOP ['B007SVHFXO', 'B0025PKFUI', 'B004OOQ8CW', 'B000WEFIE2', 'B005CFLMNC']\n",
            "A100UD67AHFODS ['B005PQTYHE', 'B00108UNEY', 'B003O8682Y', 'B0071BTJPI', 'B00A39PPCG']\n",
            "A3FEGTOLCWXSV4 ['B008EQZ25K', 'B003ZSHNGS', 'B003ES5ZUU', 'B001ENW61I', 'B005J31BCO']\n",
            "A1RL1OTV8IJMVD ['B00D6XW62I', 'B005ELBSWO', 'B005DQG5SC', 'B005KFONIU', 'B004C13VWC']\n",
            "A3R1GJY2MY8041 ['B000QUUFRW', 'B000GHD73Y', 'B00006IW1X', 'B0014DURIW', 'B000F6MOQM']\n",
            "A3QQCEQ33O0GJU ['B004SUO068', 'B000O8I474', 'B004ALYGI2', 'B001CY0P7G', 'B000JQ17WK']\n",
            "A1C5TCCR2IGKBU ['B0019EHU8G', 'B001HSOFI2', 'B004TJ6JH6', 'B0011Z44UA', 'B000FJEZ0C']\n",
            "A2MSBIA18RXYQC ['B00JLADOGW', 'B005GREK8K', 'B003LT8OPU', 'B00719CH0O', 'B0002KKIUA']\n",
            "AZOK5STV85FBJ ['B00104XCVO', 'B000O5N5AI', 'B00068YUN4', 'B000GL3MOY', 'B00A85ANCW']\n",
            "A38C12950IM24P ['B00DTZYHX4', 'B00G4UQ6U8', 'B005GI18EI', 'B00BCGRTFK', 'B0074BW614']\n",
            "A22MANL4US4RMY ['B0052SCU8U', 'B00FJRS5BA', 'B004YKXGIK', 'B0036Q7MV0', 'B000FFQ1VM']\n",
            "A1EKSETIBS9ETQ ['B00005LEN4', 'B000VX6XL6', 'B000M17AVO', 'B005755U0I', 'B0015MFTE4']\n",
            "AP53MVRC8ZEW2 ['B000VX6XL6', 'B002NEGTTW', 'B000UHQVOW', 'B007SZ0EHE', 'B006EKIQYM']\n",
            "ALRCAGJOJ9583 ['B00CD8ADKO', 'B0036Q7MV0', 'B004LNXO28', 'B009SYZ8OC', 'B000NOEDGK']\n",
            "AEFTIUQHSVUFX ['B0000BZL1P', 'B007WTAJTO', 'B0002Y5WZM', 'B009B0MZ8U', 'B001CCAISE']\n",
            "A2MCRCK1V61FWQ ['B0002Y5WZM', 'B00862522A', 'B000219896', 'B0042RUSY0', 'B003INFE16']\n",
            "A35Q0RBM3YNQNF ['B0002LEMWE', 'B00G4UQ6U8', 'B004CLYE8C', 'B00310PJM0', 'B0079UAT0A']\n",
            "A3AG5QAT8L0I3R ['B00D1GYNT4', 'B0058SRNZ4', 'B000WGSITC', 'B007LLYAIO', 'B00D96LZ6K']\n",
            "A185O1MX1RP964 ['B005GGTTZ0', 'B008HK50ZA', 'B001BHQSCK', 'B007136BMA', 'B004ZMG55I']\n",
            "A1XB7JGJ459ERP ['B000CRFOMK', 'B0049SCB2Y', 'B009SYZ8OC', 'B004433ZG0', 'B0098O9TRO']\n",
            "A3PU3EDJ2FG1AW ['B001MSVPM6', 'B004THA2OE', 'B001NJ0WCS', 'B003ELVLKU', 'B001CBPWT0']\n",
            "A9ELHLPXF7JKD ['B000N99BBC', 'B000WOIFO2', 'B0034CL2ZI', 'B00829THEG', 'B00BWHILCY']\n",
            "A212MDP6K4VJS5 ['B003ES5ZUU', 'B001OC6DCW', 'B004LSNF04', 'B009A6CZ30', 'B002QEBMAK']\n",
            "A3BKNXX8QFIXIV ['B002VPE1X4', 'B001TH7GSW', 'B001AGM2VI', 'B000MF4N42', 'B005N3TPJQ']\n",
            "A2V1J3JT5OOZFO ['B001FWBUUG', 'B000P6M6HY', 'B00CEZBKTO', 'B00FAYL1YU', 'B002ISZD2C']\n",
            "A2NN1KIYEM2SKS ['B00BQ4F9ZA', 'B0036V9AGU', 'B000S5Q9CA', 'B007WTAJTO', 'B000MX48VM']\n",
            "A1OO9N1MRNQ7K0 ['B003BKW2K2', 'B00193U3O0', 'B005FYNSPK', 'B000BRO3PA', 'B003XMROKG']\n",
            "A2VC48WIMY6L6E ['B000F7QRTG', 'B003ES5ZUU', 'B006DDT6JO', 'B0062AYFWG', 'B001VEAI74']\n",
            "A3B20R4ZAH0Y2Y ['B003ES5ZUU', 'B00DR6DQZA', 'B00DQKQ7U8', 'B008ALAHA4', 'B00829TIEK']\n",
            "A1J87SYB3JPQWH ['B004RORMF6', 'B0036Q7MV0', 'B001AHALEC', 'B000JLK5PK', 'B000I04WWY']\n",
            "A2BMZRO0H7TFCS ['B0036Q7MV0', 'B002K9IHGI', 'B009NHWVIA', 'B00IVPU7DG', 'B0090Z3QG6']\n",
            "APBB297H3ZA5E ['B000089GN3', 'B001PIBE8I', 'B002NU5UW8', 'B003ZBZ64Q', 'B000HDFXU2']\n",
            "A1IDAKX7OM3QIE ['B004YHXXKO', 'B009TCCTSQ', 'B009CN8VNY', 'B000I6JZGQ', 'B002JMYCTC']\n",
            "A96JD9312DHWC ['B00CKAOJA0', 'B009NHWVIA', 'B00829THVO', 'B00CB2F65O', 'B005GJC01C']\n",
            "A3M7R4PD0FEPUB ['B002TLTE6O', 'B00829THK0', 'B001SER460', 'B00634PLTW', 'B005DOUJL8']\n",
            "A35SNSDRNE9P8Q ['B005JN9310', 'B007QOX5A0', 'B0043M6F14', 'B005BOMTT0', 'B00740MR78']\n",
            "A259MPG6SOL02P ['B002WE4HE2', 'B00007M1TZ', 'B001IEXU68', 'B00006RVPW', 'B009SYZ8OC']\n",
            "A2UEB48LAWFUCW ['B009YT6PPC', 'B001L1H0SC', 'B0013LRLUM', 'B00829THK0', 'B005HMKKH4']\n",
            "A2PK64OVZA1U8Z ['B001OC6DCW', 'B000M17AVO', 'B00829THH8', 'B004SGJCCO', 'B000OG6I6A']\n",
            "A12LH2100CKQO ['B000VX6XL6', 'B00007IFED', 'B002M3SOC4', 'B003BLQHN4', 'B0002IP2TY']\n",
            "AQ3IN3MRXQ5KH ['B001O4EPHA', 'B000E6NGBU', 'B0055QZ216', 'B004CLYEH8', 'B000U5TUWE']\n",
            "A1EXGL6L0QQ0M5 ['B008EQZ25K', 'B003ES5ZR8', 'B0034CL2ZI', 'B004CLYE8C', 'B004Z0S6RU']\n",
            "AUCISQA1YXX86 ['B001GIPSAW', 'B000MX48VM', 'B000MWVMRG', 'B0002INUIY', 'B00066EK2W']\n",
            "APGQTZZ4ZFPHO ['B000CKVOOY', 'B000TYR5R8', 'B0036E8V08', 'B003DSCU72', 'B0053NBLFW']\n",
            "AONUCJBC85BL ['B000XUMR6C', 'B005J31BDS', 'B000094Q77', 'B0039BPG1U', 'B00829TIEK']\n",
            "A3O4OIBCML0683 ['B002RCNX8K', 'B005KQ0S8S', 'B004Z0S6RU', 'B001E1Y5O6', 'B000KUQ8FG']\n",
            "A3VL4RXCWNSR3H ['B00A81SXHI', 'B0035APGP6', 'B0000ALPBA', 'B00F4MELE0']\n",
            "A198CCH4NNLI2E ['B002C744K6', 'B0002ZW5W4', 'B001OI2YZQ', 'B0006VJ7TI', 'B001D7NL5U']\n",
            "ACP9S40H3SHY1 ['B00836JHVQ', 'B005XEE5IG', 'B0074WDDN8', 'B004V6BQ3O', 'B00B7N9BRW']\n",
            "A1Y85GQ09Y95JL ['B00B4GGW5Q', 'B000CKVOOY', 'B00007IFED', 'B000RZ8WHG', 'B001AYGDCE']\n",
            "A1BZIM4WGZ6DZP ['B003MVZ60S', 'B001QUA6R0', 'B005F778JO', 'B007B60SCG', 'B005GJC01C']\n",
            "A32O98PFC3OP7K ['B003LSTD38', 'B004TS2AP2', 'B002M3SOBU', 'B000F2PHDI', 'B003DTLV8K']\n",
            "A37PV5GMP2ILJC ['B000TKHBDK', 'B001BTG3OQ', 'B003HC8V9A', 'B00176TEGM', 'B000FJ2OSM']\n",
            "A1FMU4CJLIDHR9 ['B0054JJ0QW', 'B000AP05BO', 'B004VM0SE6', 'B000J43HJ8', 'B000RQHAUA']\n",
            "A27AF4DLLOBQDQ ['B002M3SOCE', 'B006TT91TW', 'B001FA1O1S', 'B00E055H5O', 'B003L76BJS']\n",
            "A3LWC833HQIG7J ['B001T9NUJE', 'B002MPPHKY', 'B00EVIBN8U', 'B001U3Y6AQ', 'B000VWKSFE']\n",
            "A11P105WVK5240 ['B001T9NUJE', 'B00006RVPW', 'B003FMUMN0', 'B0002TPFTA', 'B005ONMDYE']\n",
            "A3FPSY1M6G7XIB ['B003ZSHNGS', 'B000BY52NK', 'B000144I2Q', 'B000HJPK2C', 'B0029ZA78O']\n",
            "A3LDFTSXU3UPBO ['B003YFE1H6', 'B009X3UW2G', 'B00722JCMQ', 'B004NBZ8DQ', 'B00B8F4CK0']\n",
            "A34JKODTSKCGEN ['B000I5JHB0', 'B002TG3K14', 'B0012WDMNC', 'B0002KKIUA', 'B002BW6DBU']\n",
            "APQQK1V695AUE ['B00140DBRY', 'B000HDJT4S', 'B000BYVA8Q', 'B000G6M916', 'B0018QQDII']\n",
            "A16C19G0I2DE8S ['B00DBA9YD0', 'B005ONMDYE', 'B003WGJYCY', 'B00D856NOG', 'B001Q3MA80']\n",
            "A2NJQF2UI60VGT ['B0010Y414Q', 'B004GF8TIK', 'B001J8BPYM', 'B007BWTOHU', 'B005DKZTMG']\n",
            "A319Y83RT0MRVR ['B00D96LZ6K', 'B008X9ZBVI', 'B0046HAO40', 'B0097CZHAU', 'B00E6ONJJU']\n",
            "A1NZLRAZJGD99W ['B001OC6DCW', 'B0012GK3MQ', 'B008C1JC4O', 'B000AYGDIO', 'B004M8ST36']\n",
            "A2K6CDQ9HZ359G ['B0007Y791C', 'B007IV7KRU', 'B003LSTD38', 'B00114PN1U', 'B001212ELY']\n",
            "A1XK4VP74IB9TQ ['B001F7AHOG', 'B0001Y7UAI', 'B001PI9AAC', 'B002N2EHVQ', 'B0039825LM']\n",
            "A27GITTN6AVW5I ['B009YT6PPC', 'B001OI2YNS', 'B006Z0Q2SI', 'B001L6G326', 'B007B5POVC']\n",
            "AV8MDYLHHTUOY ['B004CLYEDC', 'B0034CL2ZI', 'B00829TIA4', 'B001T9NX9Q', 'B007PTCFFW']\n",
            "A2W9I628I6SE1U ['B000TKHBDK', 'B000ANCPNM', 'B0082E9K7U', 'B000R805L4', 'B00CIY0KOM']\n",
            "A2XXBZPQT5EXHV ['B003DZJQQI', 'B001TH7GSW', 'B000VE2RP6', 'B004FA8NOQ', 'B0013FRNKG']\n",
            "A35OIWPVTGW3UC ['B004MSMCSO', 'B00722JCMQ', 'B005TOU804', 'B00B7SMR3C', 'B0011Z44UA']\n",
            "A3TP31S61PPE3G ['B00BFO14W8', 'B000ID37EA', 'B001FA1NUU', 'B008OHNZI0', 'B00A6EV6TY']\n",
            "A1X3DA7C61WZLQ ['B0015AARJI', 'B00000J061', 'B003O8682Y', 'B00408K36Y', 'B000065CE1']\n",
            "A3CJ7MHAS9IMAM ['B00009R6WO', 'B001CCAISE', 'B001G5ZTPY', 'B00065ANYW', 'B00006JN3G']\n",
            "A2ZFFSJ0VM6KSJ ['B004LEAYXY', 'B004AZ38Z0', 'B000BNY64C', 'B002RCLYXG', 'B000IDCDZY']\n",
            "ASJLXOX1VD4DF ['B00G4UQ6U8', 'B004CLYEFK', 'B00E87E1OM', 'B00EOE4G4E', 'B005IHAIDO']\n",
            "A1SDPA1J98UP4L ['B00029U1DK', 'B002WE6D44', 'B00B588HY2', 'B000MX48VM', 'B004SUO068']\n",
            "A33ZYFE8XMKKR1 ['B009UEAZ84', 'B001UHOR88', 'B001LYUG3A', 'B00081A2DQ', 'B000AY2L3U']\n",
            "A20H1M28WLI9J2 ['B00180LGX6', 'B005KQ0S8S', 'B0002L5R78', 'B002V5OYHC', 'B001212ELY']\n",
            "A4S2WAQVQR6PI ['B002YU83YO', 'B0006I1TRY', 'B005CWIVYI', 'B0028R3NCU', 'B0019X20R8']\n",
            "A3NEAETOSXDBOM ['B001TH7GUK', 'B004GF8TIK', 'B0002CPBUK', 'B000F9YN22', 'B000CSWCQA']\n",
            "A3QQGPI3CTV9SX ['B000HJPK2C', 'B0009Q4PH4', 'B0013BT8US', 'B000O161X0', 'B000LU8A7E']\n",
            "A240FRPD4MEXND ['B00DTZYHX4', 'B00834SJSK', 'B007OY5V68', 'B00GO1UV4E', 'B0026L7FGI']\n",
            "A1MRRMHGV3PN5W ['B000N99BBC', 'B003HIXOOG', 'B001S2PPT0', 'B0009GZAGO', 'B00829THEG']\n",
            "A3PJJTAKISAFI9 ['B009SYZ8OC', 'B002GU5XKE', 'B00824948U', 'B003XTRU58', 'B004QVPGXK']\n",
            "AMFXXAOVV4CPJ ['B001QUA6RA', 'B003CP0KCS', 'B004VBEI0M', 'B00005TQKQ', 'B003GDHI12']\n",
            "A3V2EZ6MA32FF6 ['B008LCYIEI', 'B002S53LJ2', 'B00A9NE84C', 'B002FB684E', 'B0058NN6CS']\n",
            "A2RWHTNM5P3I8Y ['B005HSDLCO', 'B00EVIBN8U', 'B004XZHY34', 'B00829TIEK', 'B003DTLV8K']\n",
            "AM9APPMIE1BHZ ['B004S4R5CK', 'B001OOZ1X2', 'B004CLYEDC', 'B00CD1FB26', 'B00ESYW40S']\n",
            "A2WXURU33RBGQS ['B00B4GGW5Q', 'B0013AV4M4', 'B001EH8FZA', 'B00505EZZ6', 'B003F8UWUM']\n",
            "A28I5UM0FT3I6T ['B00CPGYNV4', 'B003WV5DJC', 'B00006HOAQ', 'B002YPS6T6', 'B003BLB2T8']\n",
            "A3QU3O79AGNWCY ['B001W26TIW', 'B000E5CYW8', 'B003FMUP3M', 'B00007E7JU', 'B003BLQKI6']\n",
            "A12EVK82QUTSA6 ['B003ES5ZUU', 'B002WE6D44', 'B001KB6Z2U', 'B002YU83YO', 'B007IV7KRU']\n",
            "A2DKQQIZ793AV5 ['B00DLZOG2E', 'B009USAJCC', 'B007WTAJTO', 'B004XW2NEW', 'B00GO4GMAI']\n",
            "A359MYLPLEOF7N ['B009NE7B06', 'B00067OLOS', 'B0056BPUQC', 'B00006I5SQ', 'B009YONZEG']\n",
            "A2QDOJFFLFGF18 ['B001TH7GVE', 'B0002L5R78', 'B004CLYEH8', 'B0007Y79AI', 'B0072LEKMO']\n",
            "A27T4RQ3XA661C ['B001GIPSAW', 'B00FGOTBQO', 'B0051UWCVO', 'B002PY7P2K', 'B003E7ES4A']\n",
            "A2EN82VBJT44QP ['B00017LSPI', 'B001PIBE8I', 'B005HQ50SO', 'B001KZ6C74', 'B000F6MOQM']\n",
            "A3SRDVCD2ATIIS ['B003ZSHNGS', 'B000JMJWV2', 'B004TA0AUW', 'B007I5JT4S', 'B001HB9YXK']\n",
            "A18YMFFJW974QS ['B00CSDMWGW', 'B00E1CZRHY', 'B00E6N9GS4', 'B00DUKJ5CQ', 'B001DJ9GOS']\n",
            "A11T807LX2EF00 ['B00BOHNYU6', 'B001QUA6RA', 'B004CLYEDC', 'B009SYZ8OC', 'B0025VKUPW']\n",
            "A1DB5QPH7WO488 ['B0012Y6HC8', 'B000N99BBC', 'B007VL8Y2C', 'B000EW8074', 'B004QK7HI8']\n",
            "A14MZJTZAQS6CV ['B007FGYZFI', 'B00B4GGW5Q', 'B007WTAJTO', 'B00011KM38', 'B000V1R96Q']\n",
            "A3V8P0O224OBDB ['B001OC6DCW', 'B005G3066Y', 'B002QEBMAK', 'B0001JSSLI', 'B003ZDLATE']\n",
            "AGYH5U11ZKPFB ['B006U3O566', 'B002MZUNXU', 'B003X7TRWE', 'B005KSAG3S', 'B0002GX0ZE']\n",
            "AG8YP2XTC5X1I ['B002WE6D44', 'B001H5T7LK', 'B00B5HE3UU', 'B009NHAEXE', 'B005H3Q57M']\n",
            "A33GNK4YENACDJ ['B0058G40O8', 'B000AYJDD6', 'B00B5HE3UU', 'B00B3YSTI2', 'B000EITTLE']\n",
            "A14JBDSWKPKTZA ['B000N99BBC', 'B00IX2VGFA', 'B00007M1TZ', 'B001TH7GVE', 'B0036WT3TS']\n",
            "A2RGA7UGAN3UL7 ['B000OGX5AM', 'B000067RT6', 'B003ZSP0WW', 'B00483WRZ6', 'B004PYD9I2']\n",
            "A2RG1B0K8YBJ4A ['B002YU83YO', 'B000UIA6YM', 'B005JRGOCM', 'B000W3QLLW', 'B005HXEPI8']\n",
            "A2KZOIOFXXMC1H ['B002BH3Z8E', 'B009NHAF5G', 'B0009HTB0Y', 'B00125Y0NU', 'B009NHAEXE']\n",
            "A21INUA35HX4XQ ['B0052SCU8U', 'B007R5YDYA', 'B007IV7KRU', 'B0015AARJI', 'B001E1Y5O6']\n",
            "A303SNZ4AR7TDQ ['B007SZ0EHE', 'B0036Q7MV0', 'B0002SQ2P2', 'B009VV56TY', 'B005LIDU5S']\n",
            "A35HOUWHAYZZN6 ['B00E9YIFKA', 'B001TOD7ME', 'B00829TIEK', 'B007GNN0AG', 'B0054L8MR8']\n",
            "AOJA1LC8PN7K1 ['B002RWJHBM', 'B0002MQGRM', 'B0001GNJWY', 'B005CT56F8', 'B00005T3BD']\n",
            "A3QMJMTLJC34QC ['B005KFONIU', 'B000BQ7GW8', 'B005ELBSWO', 'B000OLDG60', 'B004YKXGIK']\n",
            "A1YE1IK0JYSIIE ['B001TH7GUU', 'B00D18U63O', 'B00GRQ8AQM', 'B0076POAJE', 'B00EB7812C']\n",
            "AVU1ILDDYW301 ['B00310PJM0', 'B00GHY5F3K', 'B0045XV2CI', 'B005O0R99Q', 'B00DIOALPE']\n",
            "AAW7X3GRD8GY9 ['B000CRFOMK', 'B0054JJ0QW', 'B007PRHNHO', 'B008C1JC4O', 'B000EHCYBC']\n",
            "AGEWOMQ90BV8R ['B0012W7HQK', 'B0014Z29OU', 'B00603RTC8', 'B004NY9UUK', 'B00AKO7XOW']\n",
            "A20951I210L0IB ['B005K7192G', 'B00008ZLHG', 'B009GF6F9U', 'B007PPZ2I8', 'B002QEBMAK']\n",
            "A1ZM846Y7AUYD ['B000TKHBDK', 'B000JLP5UK', 'B0008D76L0', 'B0002JY712', 'B0000CCVC9']\n",
            "A34C9AFFZOI45T ['B00305N48C', 'B000PCX780', 'B003WV5DJC', 'B00723KZTY', 'B00080G0BK']\n",
            "A3U6J0DLLDEWM2 ['B007R5YDYA', 'B002DMKPQ2', 'B0002CPBWI', 'B00B3329WA', 'B00829THK0']\n",
            "A3VTOLNB5N6FVP ['B00EOE4G4E', 'B00COEBCXY', 'B00546JKJC', 'B000A3WS84', 'B007X3VC7W']\n",
            "A3FFZQKCA7UOYY ['B001TH7T2U', 'B000OGX5AM', 'B002JQNXZC', 'B000OG88KY', 'B0019EHU8G']\n",
            "ADHA1W879JNT0 ['B000FQ2JLW', 'B001TH7T2U', 'B006U3O566', 'B0013DXVYK', 'B0000DZET4']\n",
            "A18EA7MNLXP9H5 ['B002Y6CJJ8', 'B000067RT6', 'B000UHQVOW', 'B003VAHYNC', 'B0026L7B8K']\n",
            "A2I357I10ZY7CI ['B001TH7GUK', 'B001F51G16', 'B003SQEAY0', 'B00B8L36A6', 'B002S9KTAW']\n",
            "A1X2LENOF84LCQ ['B001TUYTZM', 'B0039BPG1A', 'B0055QZ216', 'B0000A2QBX', 'B0039BPG4C']\n",
            "A3DOPYDOS49I3T ['B001NTBVPA', 'B002K9IHGI', 'B00067OF80', 'B009A6CZ30', 'B000BOLHH0']\n",
            "A2YHXGPCTENZY3 ['B007FEFQDA', 'B000JLI4Q2', 'B00005T3ND', 'B0013FK9U2', 'B000RQHAUA']\n",
            "A1VRANSQ0WF1YS ['B0010Y414Q', 'B0007A1IRC', 'B001S0PWWC', 'B000QJ4ZE2', 'B001WGX15W']\n",
            "A3DGJMO6VPG6FJ ['B003ES5ZUU', 'B000N99BBC', 'B00EO302SO', 'B009B0MZ8U', 'B003QKBVYK']\n",
            "A2PICNZWHEINQC ['B008EQZ25K', 'B005HVPYNU', 'B00006B7DA', 'B0076AYNXM', 'B009SYZ8OC']\n",
            "A1WJ3P43SZUNDM ['B001FVI91U', 'B000067RT6', 'B00ALK3HF4', 'B00310K9VQ', 'B0013CED4I']\n",
            "A1MRPX3RM48T2I ['B001TH7GSW', 'B000VE2RP6', 'B004ZNA3UA', 'B00BEWF4R2', 'B001NJ27QM']\n",
            "A3CIET1UO3G51E ['B0043WJRRS', 'B003M3A1BK', 'B000652SZO', 'B0071BIQZC', 'B003TFO82E']\n",
            "A12O5SEIF162P8 ['B000XUMR6C', 'B001E1Y5O6', 'B00B1862X4', 'B000JLK5NW', 'B000LXZKQK']\n",
            "ARX7Z3NI6O0F7 ['B000AZ57M6', 'B002NEGTTW', 'B0007Y791C', 'B009D79VH4', 'B004SBBD8U']\n",
            "AIJQU979J6UFY ['B001T9NUJE', 'B0016XIQ1U', 'B000HPV3RW', 'B00BOHNYU6', 'B000AZ57M6']\n",
            "A2QRXQPHDMFCQV ['B009NB8WR0', 'B000N99BBC', 'B001OI2Z4Q', 'B00FJRS5BA', 'B0015F0AB8']\n",
            "A2VH0UT5EQFB6P ['B00CDS9HTM', 'B000JE7GPY', 'B000BI2162', 'B001S0PWWC', 'B005EJH6Z4']\n",
            "A25TNBMJ4ZO7RD ['B00IVPU786', 'B003NSC2WU', 'B0054U6CEE', 'B0055PH0XA', 'B00149PA42']\n",
            "A1PI8VBCXXSGC7 ['B00DTZYHX4', 'B00G4UQ6U8', 'B0062XB9FE', 'B009X01C64', 'B004CLYEH8']\n",
            "A32T2H8150OJLU ['B004V4IWHY', 'B00006I5J7', 'B003HIXOOG', 'B000ZMCILW', 'B003ZYF3M8']\n",
            "AZAC8O310IK4E ['B003ZSHNGS', 'B001FWBUUG', 'B0002XQJFA', 'B009SYZ8OC', 'B000P1R9QM']\n",
            "A3DL29NLZ7SXXG ['B0072NPFH6', 'B00D1847NE', 'B00CROTNGO', 'B001IANWCO']\n",
            "A1JUBRIZMO0RJV ['B00CD8ADKO', 'B002P3KH80', 'B008LCYIEI', 'B002QQ8H8I', 'B0002ZAIM8']\n",
            "A24QFMD1RXLJMB ['B001AW8W7A', 'B004VM1T5S', 'B000V7AF8E', 'B002K3Z3DO', 'B001M5BIX0']\n",
            "A1SC5OXLQNGPLN ['B0019EHU8G', 'B009B0MZ8U', 'B000KJQ1DG', 'B006TAP096', 'B0007U00X0']\n",
            "AZCE11PSTCH1L ['B0039825LM', 'B0087OV77G', 'B005869A16', 'B008RJZQSW', 'B000V0IE6G']\n",
            "A22NKFOH9RATRC ['B00029U1DK', 'B004286VMW', 'B000VS4HDM', 'B007RMAS1K', 'B005058B56']\n",
            "A1N5FSCYN4796F ['B002Y6CJJ8', 'B00C28L138', 'B005DSPLCQ', 'B0015L0T68', 'B004XW2NEW']\n",
            "A26LD9FQHTM8ZH ['B00BF9MUAS', 'B004Q3R9B0', 'B002GEQDK4', 'B00GO1UV4E', 'B005HMKKH4']\n",
            "A1E1LEVQ9VQNK ['B005GI2VMG', 'B003ES5ZR8', 'B000VX6XL6', 'B00CPGYNV4', 'B005O9YMM4']\n",
            "A3CKI6VEH0HBMJ ['B001NTFAOS', 'B004SBBD8U', 'B00829THVO', 'B000I04WWY', 'B000NDA5E0']\n",
            "A25UZ7MA72SMKM ['B003DZJQQI', 'B006ZH0KVG', 'B003CFATT2', 'B0002L5R78', 'B0014VY28A']\n",
            "A30ADSBTWCORYC ['B0002L5R78', 'B00604YSNK', 'B004AB4Z10', 'B0081SS5C8', 'B0056KEPVO']\n",
            "A1REY92IEZJUSX ['B00009R6WO', 'B000053HH5', 'B00A35WYBA', 'B0010HE2CY', 'B002W3IXZW']\n",
            "A298GL2D0BHGKZ ['B003ES5ZUU', 'B000S5Q9CA', 'B0015AARJI', 'B004HHICKC', 'B00001WRSJ']\n",
            "A19RW25Q6206I3 ['B002NO7PWC', 'B007WTAJTO', 'B003N2POXK', 'B004OR14GO', 'B000GX31G6']\n",
            "A1ATVMMJZP3Q4X ['B0011Z44UA', 'B00007E7JU', 'B006UMM2BW', 'B000MYPPPE', 'B0039XQQX0']\n",
            "ABSYIF0ONC2AF ['B003ES5ZUU', 'B002YU83YO', 'B00829TIA4', 'B00E98O7GC', 'B0073K64NM']\n",
            "AK9BXHEXOOM6Z ['B006EKIQYM', 'B00000J1UQ', 'B002HFER6O', 'B0001FTVE0', 'B002TNRTSC']\n",
            "A2X78O6G89CB30 ['B003ES5ZUU', 'B001VL572I', 'B0090BSSZO', 'B001EPVOQY', 'B000KZ70JE']\n",
            "A1CST2WUA32GP0 ['B003ES5ZUU', 'B0000X0VCY', 'B000HPV3RW', 'B005HXFARS', 'B0009YJXMS']\n",
            "A23GFTVIETX7DS ['B003DZJQQI', 'B000TKHBDK', 'B00IX2VGFA', 'B00CSDMWGW', 'B003Z4G3I6']\n",
            "A2ED50E3KWKUKW ['B00004XOM3', 'B0046TDJJK', 'B000JLK5PK', 'B004UTQRHW', 'B0015VW3BM']\n",
            "ANEDXRFDZDL18 ['B009NHWVIA', 'B001ELK2NY', 'B00829THEG', 'B0071BTJPI', 'B00EOI2SR2']\n",
            "A2GYV87WW0DMSN ['B003ES5ZUU', 'B008EQYRRY', 'B001E1Y5O6', 'B00D856NOG', 'B000FIDTYG']\n",
            "A1G650TTTHEAL5 ['B004IK2EAW', 'B00G4UQ6U8', 'B009UNZ5WQ', 'B00A35WYBA', 'B00G4V0QSK']\n",
            "A361M14PU2GUEG ['B000QUUFRW', 'B002JQNXZC', 'B000MX48VM', 'B00080G0BK', 'B0015AARJI']\n",
            "AKT8TGIT6VVZ5 ['B000M2GYF6', 'B0007WK8KS', 'B00BOHNYTW', 'B000BY52NK', 'B00004XOM3']\n",
            "A1X3ESYZ79H59E ['B00CD8ADKO', 'B004CLYEFK', 'B00CM0XHNS', 'B00829THEG', 'B005I6EVUG']\n",
            "A257X1MQJO82P2 ['B004W2JKWG', 'B008EC4O76', 'B006M76GWG', 'B009NHAEXE', 'B001GCU0MY']\n",
            "A2KHG3JOFXQ4CE ['B0031RG29M', 'B000RZQZM0', 'B0009ON12G', 'B000IELOY4', 'B00391XGDA']\n",
            "A1VTCSCH8FFC76 ['B002WE6D44', 'B003N7NMO8', 'B000J1DA3Y', 'B000058EGT', 'B003FWEQDM']\n",
            "A1H6SBO7R007I8 ['B008ALA6DW', 'B002MUAEX4', 'B005JLQL26', 'B00AQUO5RI', 'B006ZH0J30']\n",
            "ANYC38I00IRVK ['B00A83I8G2', 'B004C9P9TM', 'B0058P0I2C', 'B000GZ6ZQW', 'B00BHC7ZT4']\n",
            "A2X61KKXXR6WNP ['B001DJ64C0', 'B0000AKVHF', 'B000J43HJ8', 'B001F7HLRC', 'B0089E5R0W']\n",
            "A2HDTOF8222KN3 ['B0009WU65I', 'B003O1UYHG', 'B0007U0IQE', 'B007BYLO4E', 'B006K552AC']\n",
            "A225G2TFM76GYX ['B000NP3DJW', 'B0034CL2ZI', 'B004CLYEDC', 'B00DB3SH2G', 'B001TANZ0W']\n",
            "A32AFX2PUJ82HG ['B00029U1DK', 'B005GGTTZ0', 'B0049SCB2Y', 'B00001WRSJ', 'B0000DD7OH']\n",
            "A1R19YYR5OR26T ['B004ELA0SS', 'B003DZJQQI', 'B003X7TRWE', 'B0099SMFP2', 'B000MDY7K4']\n",
            "A1D9V11QUHXENQ ['B00475K64E', 'B004LSNF04', 'B00GHY5F3K', 'B000QDZ4CU', 'B000UD6E48']\n",
            "AFQBS241UKPAZ ['B0094S35W4', 'B006ZBWV0K', 'B00BFO14W8', 'B003XM73P2', 'B002YOENAS']\n",
            "A34CKIMZ969UW7 ['B001S2PPT0', 'B005HKIDF2', 'B0055QZ216', 'B004OHJ1M8', 'B001XURP7W']\n",
            "A3CLWR1UUZT6TG ['B006QB1RPY', 'B005J4C820', 'B005NC8BF6', 'B0093HGD2K', 'B0097BEFYA']\n",
            "A3JLOIXFM75QNV ['B00IKF2H12', 'B0001F21IS', 'B003CJTR8M', 'B005DOUJL8', 'B001UHOX2I']\n",
            "A1RDHBBZE1NPS3 ['B003ES5ZQE', 'B0087B6SV4', 'B00BUJ6MW0', 'B00G4JZ2T0', 'B00BQ5RY1G']\n",
            "A3UR2N0ATGBCU8 ['B006QB1RPY', 'B00CXACPN0', 'B009HP42HQ', 'B005B3VO24', 'B009UZ3TF4']\n",
            "A3JU990UTN5RQP ['B003VSTDFG', 'B009JZ09PI', 'B001S2PYQY', 'B00083LFW6', 'B001TGUYI2']\n",
            "AGX2K0FMS0IVL ['B002WE6D44', 'B007WTAJTO', 'B0028K2TXQ', 'B005N6ICXS', 'B001U3DZMQ']\n",
            "AL5CUWBFBMWYQ ['B000FITKK8', 'B00EZ9XG5I', 'B00023JJV6', 'B007JUFKLI', 'B008X9ZBVI']\n",
            "AAA0TUKS5VBSA ['B002TLTE6Y', 'B005IMFX2K', 'B00CD8ADKO', 'B0079UAT0A', 'B00E87E1OM']\n",
            "A2Z9S2RQD542CP ['B001F7AHOG', 'B002VPE1WK', 'B0047PGSI2', 'B001D60LG8', 'B000HDZAUA']\n",
            "A1KSNK256G46GX ['B004GW25WY', 'B0020ZDI5C', 'B00BEWF4R2', 'B00752R9PK', 'B00CTUIT20']\n",
            "A2Q7OJTVPIO2XH ['B00017LSPI', 'B0043WJRRS', 'B005TOU804', 'B005KJH8WO', 'B00ATM1MVA']\n",
            "A1QNYLBG73QRNF ['B000092TT0', 'B00AQUO5RI', 'B000EW9Y4M', 'B00AANMVNQ', 'B000NB05MO']\n",
            "A1JBEKU5TYIWE7 ['B0019EHU8G', 'B005J7YA4G', 'B000IMSK8Y', 'B0013AV4M4', 'B009PK9SB8']\n",
            "A3EPJSPH03AS29 ['B000M2GYF6', 'B000EPNES6', 'B009F7IBZK', 'B0037258L4', 'B00013MSUQ']\n",
            "A2D1ZQEFS1NBH2 ['B005J2E2US', 'B0074BW614', 'B000E6G9RI', 'B00A2XKNO8', 'B004RCUUT8']\n",
            "A3NVZTGPORNPRW ['B004S4R5CK', 'B002QAUN2M', 'B001QUA6R0', 'B003VAK16O', 'B004NPH7BI']\n",
            "A28X0LT2100RL1 ['B001TH7GUU', 'B002WE4HE2', 'B000CSOXTO', 'B00009R9A1', 'B0037NX6JY']\n",
            "AELK0E5DK7LIZ ['B000N99BBC', 'B00BOHNYU6', 'B00COF7DGS', 'B005KAK2FI', 'B006EKIQYM']\n",
            "A10X9ME6R66JDX ['B0052SCU8U', 'B002V88HFE', 'B002YU83YO', 'B0012GK3MQ', 'B004SBBD8U']\n",
            "A7EU2BWLLCJY2 ['B003FMUMN0', 'B0058FAYPI', 'B000HDJT4S', 'B00FSA8VQ2', 'B000VW2QPO']\n",
            "A3PGVJF37JSHFO ['B00029U1DK', 'B005LDLP8W', 'B001V9KG0I', 'B00A9NE84C', 'B0042FZ51I']\n",
            "A2XJMQ2COPGWJH ['B0019EHU8G', 'B0000B006W', 'B000J1F1BI', 'B001NPEBEC', 'B0025VKUPW']\n",
            "A38QEATH3NODFM ['B000204SWE', 'B000BONJXU', 'B00142MUEM', 'B000BT2PZS', 'B000LD14PQ']\n",
            "A2LB4FLRZG6CUV ['B00BQ4F9ZA', 'B005OA3BSY', 'B001MSVPM6', 'B00FISD9DO', 'B0077CR5RK']\n",
            "AD9ZL63H0VKCZ ['B00APQA572', 'B0074BW614', 'B003UOIMAS', 'B009DJ1OFY', 'B008B488DI']\n",
            "ALUNVOQRXOZIA ['B002TLTG9E', 'B001D8S9E2', 'B005KWPJ04', 'B00004Y7TC', 'B0001A99MO']\n",
            "A2LF16F0KX9L7P ['B00DT04I9W', 'B00B3PDHBU', 'B00JC5Y6WM', 'B00834SJNA', 'B007HZLLOK']\n",
            "AGHZXQL9F94T9 ['B00004XRED', 'B0002ZAEYA', 'B000BFNT0W', 'B00008L3HY', 'B0001KWGP6']\n",
            "A2SPV96SGOEO2 ['B002NEGTTW', 'B00CI3BIWQ', 'B00834SJSK', 'B000JE7GPY', 'B00BP5KOPA']\n",
            "A33XMCG1UFDSY2 ['B000TKHBDK', 'B0014Z29OU', 'B000TXEE14', 'B003XIJ3MW', 'B0015IV1Q8']\n",
            "A3284KYDZ00BZA ['B000N99BBC', 'B00CI3BIWQ', 'B000BQ7GW8', 'B00BOHNYTW', 'B00EO302SO']\n",
            "A3IMALU0RM8UT9 ['B000QUUFRW', 'B003FVVMS0', 'B006LW0W5Y', 'B003FVJYF8', 'B004YDUZ22']\n",
            "A2JAEZ0FMAMJVW ['B00IVPU7DG', 'B0034CL2ZI', 'B0002SQ2P2', 'B005JLQL26', 'B006TAEH7W']\n",
            "A3J3ZHGDUDPCFL ['B0016P5ASK', 'B00D96LZ6K', 'B005NFG1MS', 'B0012GQZZU', 'B0088CJT4U']\n",
            "A3QAO3QBCQF89T ['B000N99BBC', 'B003N8GVUY', 'B002SY5GRS', 'B008C1JC4O', 'B0018SMVCS']\n",
            "A3EQQHWJ1EEYEU ['B004G6002M', 'B000LRMS66', 'B002IWP87S', 'B000R0FG5W', 'B008MPB9YQ']\n",
            "A2ALRZ0ENQLYY5 ['B002V8C3W2', 'B00005T3G0', 'B00AAIPT76', 'B0041OYS36', 'B000P8X65S']\n",
            "ATFBVUXDIRXT6 ['B00B588HY2', 'B00F0DD0I6', 'B00310PJM0', 'B000HPZ97W', 'B00829THEG']\n",
            "A1P4XD7IORSEFN ['B000OTLU2O', 'B003GAJ67Y', 'B000CP4JMS', 'B00003CWDH', 'B000IMDPS4']\n",
            "A3QD59N3M7O7KB ['B00316263Y', 'B000N99BBC', 'B0036Q7MV0', 'B004CLYE8C', 'B003WJR69E']\n",
            "A1Z7SC7HH1BJKA ['B0000VYJRY', 'B000M2GYF6', 'B0064I1NRG', 'B0034CL2ZI', 'B006OBGEHW']\n",
            "A3TBMGNSEQBWIL ['B004CADY9I', 'B00000K135', 'B000LRMS66', 'B00AYB3OMG', 'B009K6GQEY']\n",
            "A2LFWJ8X817QGX ['B002WE4HE2', 'B006QB1RPY', 'B004QJ9JLW', 'B006ZZQ5EY', 'B004LGNB0A']\n",
            "A1CMWB7AWQUQH4 ['B002BH3Z8E', 'B009ZIILLI', 'B002G1YPH0', 'B0001Y7UAI', 'B003ELVLKU']\n",
            "A1EOTB1WHLSW6G ['B000JE7GPY', 'B000ABB4HC', 'B00829THH8', 'B004M8SWBU', 'B0076POAJE']\n",
            "A2RTVGR9B1M600 ['B002Y6CJJ8', 'B002Z2QDNE', 'B000BH5OW6', 'B000093UDQ', 'B003JTHMSM']\n",
            "A2TA40MV2H4O6F ['B00007GQLU', 'B00007E89K', 'B007BXD66E', 'B006TT91TW', 'B0040JHG86']\n",
            "A1WXG10FJ353K0 ['B00AJHDZSI', 'B0090Z3QG6', 'B00HFRWWAM', 'B0090IA4FO', 'B00BWF5U0M']\n",
            "A19XMHRB3G4DIR ['B005HY4U46', 'B004CLYEFK', 'B0079UAT0A', 'B00155RGYM', 'B0092ML8QW']\n",
            "A1FXT4VNDA25LY ['B0000BZL1P', 'B000CKVOOY', 'B004AGX4YO', 'B0013A1XDY', 'B003U6Y1OC']\n",
            "AN2IZT80ZUNJN ['B003EHCBDA', 'B004TJ6JH6', 'B005TUQU00']\n",
            "A26CPEEWB2WKRE ['B00829TIA4', 'B003XIJ3MW', 'B00004W3ZQ', 'B0091PEC3Q', 'B00EZ9XG5I']\n",
            "A33PVCHCQ2BTN0 ['B002Y6CJJ8', 'B001TH7GSW', 'B00829TIA4', 'B000TXNS6G', 'B00829TIEK']\n",
            "A2J8T58Z4X15IO ['B003CFATT2', 'B000N99BBC', 'B005KFONIU', 'B00D429Y12', 'B00ATM1MHO']\n",
            "A35HNL2VEDK9Z1 ['B000VDCT3C', 'B000VDCTCI', 'B006TAP096', 'B0099XGZXA', 'B00005LEOH']\n",
            "A2QIC4G483SQQA ['B008RJZQSW', 'B0049PQTLQ', 'B0042IEVD8', 'B00005BC0J', 'B005H3Q57M']\n",
            "A3IOQ7NVVLAUEE ['B001TH7T2U', 'B000IF51UQ', 'B002G1YPHA', 'B008RGD114', 'B0058XSZGU']\n",
            "A2JP9E1H0SF392 ['B00009EHJV', 'B000CKVOOY', 'B004JMZPJQ', 'B0002SQ2P2', 'B004CLYJ0K']\n",
            "A26877IWJGISYM ['B004YLCKYA', 'B003AM8S3G', 'B005QUQPDA', 'B00114162K', 'B001SEQN3K']\n",
            "A2T3S3VTW65VO5 ['B001TH7GUU', 'B00212NO6W', 'B001W28L2Y', 'B009O7YUF6', 'B00B588HY2']\n",
            "A23D13HKTA95WX ['B001MSU1FS', 'B0000B006W', 'B000CRFOMK', 'B004IZN3K2', 'B0063K4NN6']\n",
            "AGLT3L7ALL4O4 ['B00316263Y', 'B000L47AHG', 'B005PYD2RE', 'B000VZS2EU', 'B008RBD2YA']\n",
            "A3U5HKDHPYBAK3 ['B00316263Y', 'B0019EHU8G', 'B006LW0W5Y', 'B001XURP7W', 'B00F6E8OUS']\n",
            "A1V3TRGWOMA8LC ['B00DTZYHX4', 'B002Y6CJJ8', 'B0082E9K7U', 'B0001CNMFM', 'B00JC5Y6WM']\n",
            "AKSFZ4G1AXYFC ['B0046TJG1U', 'B000068O16', 'B008XV7VTG', 'B006ZTMEZ4', 'B000CNPK3M']\n",
            "A35C2IVVQR1HTK ['B004RORMF6', 'B0002Y5WZM', 'B00139W0XM', 'B0010HE2CY', 'B0017JY5FE']\n",
            "A2RGWCT6K2C3EZ ['B001RNOHDU', 'B00HYAL84G', 'B005NGKR54', 'B002ZIVKAE', 'B004RE20M6']\n",
            "A1MJMYLRTZ76ZX ['B000031KIM', 'B000021YUO', 'B00005AWBJ', 'B00004T0RC', 'B006U0Z72U']\n",
            "A22R9L5DAVYYWR ['B002WE6D44', 'B001IEXU68', 'B001NJ0D0Y', 'B002IOT5PW', 'B0011ZH0BK']\n",
            "A2TVH2OBNXYXHV ['B00HFRWWAM', 'B00486UR2I', 'B001GAOYCS', 'B000LU8A7E', 'B004GUT1QO']\n",
            "A2FSOHSM9X13JT ['B0045KGZOG', 'B007RZB3KM', 'B000HJPK2C', 'B0036AWR8E', 'B0060B7NCG']\n",
            "A1LHMSY3Q46PJS ['B000WPDKRI', 'B0002V9IKK', 'B005HARR2W', 'B003MB0YDC', 'B00D601UC8']\n",
            "A1U4GOVZWL8ZTL ['B005LFT3GG', 'B0079M711S', 'B004KU0RJK', 'B0088VQEV2', 'B007BY3PBE']\n",
            "AGJRUK27RBVYS ['B008HK3QII', 'B009JPBPWO', 'B007ZZ6OW6', 'B003RAE19Q', 'B00FG38L16']\n",
            "A2OBDNQ5ZYU1L8 ['B0019EHU8G', 'B00BOHNYU6', 'B004286VMW', 'B0082E9K7U', 'B002HEWA28']\n",
            "A1H55L0BLPCWYF ['B000QUUFRW', 'B00BP5KOPA', 'B00489SLEQ', 'B000NB05MO', 'B003JZU8DC']\n",
            "A3O1FVLUD9X1XC ['B004QBUL1C', 'B00461E7JE', 'B001F7AJKI', 'B0080I06WQ', 'B0057FRTPW']\n",
            "A1TQBAHI3M4ZBQ ['B000CRFOMK', 'B0007A1IRC', 'B002V88HFE', 'B00007M1TZ', 'B000JMJWV2']\n",
            "A20L63B48RPSOH ['B002TLTE6O', 'B005IHAIC0', 'B003LSTD38', 'B002TLTE7I', 'B00829THK0']\n",
            "A3CJOB7CHOSZUG ['B000FQ2JLW', 'B002WE4HE2', 'B005NGKR54', 'B001KB21KA', 'B0052RM8T2']\n",
            "A2VODABWSVHV8E ['B00005LEN4', 'B000L9OIQC', 'B005FYNSPK', 'B004RE5ZCI', 'B000H02B6O']\n",
            "A2QI2NTDTMK2FV ['B000N99BBC', 'B004CLYEDC', 'B003X7TRWE', 'B001EYV9TM', 'B002UVNW5W']\n",
            "A226VGZWOEBPGL ['B000N99BBC', 'B002TLTE6Y', 'B00834SJSK', 'B002TLTE6O', 'B000OLDG60']\n",
            "AL42PIIG5DXYD ['B001OOZ1X2', 'B001QUA6R0', 'B000GLIIFW', 'B000AAN76Y', 'B004HKIB6E']\n",
            "A15U64VGUV6RBF ['B004Q3R9AQ', 'B003ES5ZR8', 'B00CPGYNV4', 'B00109Y2DQ', 'B005JACJ50']\n",
            "A7EJERNB7IK3Z ['B002Y6CJJ8', 'B000UIA6YM', 'B000RY2PLQ', 'B0001FTVE0', 'B0000AOWVC']\n",
            "A1B0NL8UWAELI7 ['B000NP3DJW', 'B000BVC0WO', 'B004UTQRHW', 'B002JP92K8', 'B000E9U9GC']\n",
            "A12DQZKRKTNF5E ['B001TH7GUU', 'B000VX6XL6', 'B003LR7ME6', 'B00DK2JQOQ', 'B003N8GVUY']\n",
            "A2OT3PDH1AWLTG ['B00123XZNI', 'B004NBZ98K', 'B001X017G2', 'B000PCH3FI', 'B003NZSX7G']\n",
            "A1R3GN9MEJFXM3 ['B009USAJCC', 'B001QUA6RA', 'B00000JDF5', 'B006GWO7UA', 'B0023NVS30']\n",
            "A3L1VJMHFWONCB ['B004RORMF6', 'B002V88HFE', 'B000HPV3RW', 'B008ZGKWQI', 'B00DTPYRKC']\n",
            "A27B1U3OWCU14J ['B00007IFED', 'B0001G6U4S', 'B005HSDLCO', 'B003YTROIU', 'B005POHB4O']\n",
            "A3KCETSIJNOK56 ['B000067RT6', 'B005UNFRU0', 'B0054YQO5C', 'B003VWU79I', 'B009FD4UDG']\n",
            "AG0PM9IAHQ06C ['B003HC8V9A', 'B0025EWXEU', 'B008TLQ5RY', 'B001CCLBSA', 'B000CS40WY']\n",
            "AKX9EQ37PAYMY ['B00029U1DK', 'B0045KGZOG', 'B0002L5R78', 'B00011KM38', 'B00AAU54TW']\n",
            "A10Y058K7B96C6 ['B00017LSPI', 'B001QUA6RA', 'B007PJ4P4G', 'B001I45T9O', 'B0036AWR8E']\n",
            "A84FLVDK2R5JF ['B002TLTE6O', 'B007ILFFS6', 'B004ROOCO0', 'B0090IA4FO', 'B002C1BHIO']\n",
            "A13WREJ05GMRA6 ['B000MX48VM', 'B005UBNKWO', 'B0044XTJ10', 'B003ULP5PG', 'B0053YM70Y']\n",
            "ABMF4UC4Z00NT ['B001V9KG0I', 'B007WTAJTO', 'B001PIBE8I', 'B000BWACX2', 'B00392CI7E']\n",
            "A2NSXY5L42ZUGO ['B002LTWDSK', 'B001ELK2NY', 'B000092TT0', 'B0012IJYZQ', 'B001E1Y5O6']\n",
            "A74UT8IQCM0I2 ['B006U3O566', 'B00DKBU5W4', 'B000092TT0', 'B008RM235I', 'B00E055H5O']\n",
            "A267FU71Z01CIH ['B004CLYE8C', 'B009X01C64', 'B00EOI2SR2', 'B00ISRUFSY', 'B00829THK0']\n",
            "A2WBVO6X3KPMDT ['B005GGTTZ0', 'B003FVJYF8', 'B008M9U3BM', 'B004Z94BA2', 'B005HFYE1O']\n",
            "A1CSRR7FCKBL9M ['B000CKVOOY', 'B005755U0I', 'B0034CL2ZI', 'B005NGKR54', 'B00CXACPN0']\n",
            "AKCZIJ6ZHE41D ['B0019EHU8G', 'B004CADY9I', 'B000V1XICU', 'B000WOIFO2', 'B0035JJOLE']\n",
            "A2NX6PABLIJLP1 ['B007R5YDYA', 'B0054JJ0QW', 'B0057UUB1G', 'B00013BNLQ', 'B007OY5V68']\n",
            "A20OBCQWBKCGZT ['B00IVFDZBC', 'B001DJ64D4', 'B0043M668G', 'B0058FAYPI', 'B002TLSOGA']\n",
            "AR1T36GLLAFFX ['B004Q3R9B0', 'B004H8FNBC', 'B004YHXXKO', 'B00005NIMR', 'B002HJ9PTO']\n",
            "A3MUSWDCTZINQZ ['B009YQ8BTI', 'B001TOD7ME', 'B0057UUB1G', 'B00834SJNA', 'B008HK3SSG']\n",
            "A314KKDIJWCNMV ['B002V88HFE', 'B004GF8TIK', 'B004LSNF04', 'B00011KM38', 'B004R7P28W']\n",
            "A3F9CMU8KNAY1M ['B001TH7GSW', 'B0079UAT0A', 'B004SGJCCO', 'B002HWRJY4', 'B00HMREOLK']\n",
            "A1V5TRJXTI6F01 ['B002WE6D44', 'B003LSTD38', 'B005NGKR54', 'B0037H8AB4', 'B005TQEP38']\n",
            "A54SG05AV6S4H ['B007SZ0EOW', 'B000E5CYW8', 'B0017JY5FE', 'B0016P5ASK', 'B0031SEMBQ']\n",
            "ASRA2UZ3JV87B ['B001TUYTZM', 'B0028R3NCU', 'B001PTH0VW', 'B00E3RHS6A', 'B003M9RWT8']\n",
            "A3G7BEJJCPD6DS ['B002GP7ZT6', 'B009YT6PPC', 'B00358P3YM', 'B00HRQB28Y', 'B008X9Z9S8']\n",
            "A3INN916E4VION ['B007WTAJTO', 'B000JE7GPY', 'B006TT91TW', 'B00383L02I', 'B007PY3ZPG']\n",
            "AAEVGE52KL0DJ ['B004GF8TIK', 'B002BH3Z8E', 'B00009R6K7', 'B006EWUOL8', 'B00C28L6EW']\n",
            "AG2YXYIQ8TLTA ['B0055QZ216', 'B001GIPSA2', 'B002I3OZB2', 'B003DZ165W', 'B00F3SIQKK']\n",
            "A2JE071UW97J2A ['B003CJTQJC', 'B002Y6CJJ8', 'B003I4FHNA', 'B001G5ZTZO', 'B003LD4T0K']\n",
            "A2R6RA8FRBS608 ['B0000E1717', 'B0012MI7N2', 'B0007SL4IW', 'B000IF51UQ', 'B000RA7IZS']\n",
            "A2RW587355CMVA ['B000RHZJN4', 'B005KSAG3S', 'B002HWRJBM', 'B002SZEOLG', 'B005O88CY4']\n",
            "A2JKM8KF3296CW ['B009NHWVIA', 'B00829TIEK', 'B00EXK1L38', 'B00D3F7D7M', 'B0087TVYP6']\n",
            "A3SX5MZTCZRQLF ['B0007QKMQY', 'B007PJ4P4G', 'B001OI2Z4Q', 'B006EKIQYM', 'B00066FH1U']\n",
            "A2Z2MUP8JRJXEU ['B000ID7QNI', 'B002NEGTTW', 'B001FA1O18', 'B000H0IF2S', 'B00AD5KDQ8']\n",
            "A20G074MWH9U7O ['B0043WJRRS', 'B000QGBC8C', 'B003U7SR0U', 'B00CB2F65O', 'B000OK6T9W']\n",
            "A2TRXEZYU9GYY8 ['B004YLCBRG', 'B003XM1WE0', 'B004GW25WY', 'B003ZM7YTA', 'B004G6002M']\n",
            "A2HV76MYH7UL3S ['B007SZ0EHE', 'B006VCP72W', 'B006588Z7G', 'B00D601UC8', 'B00BZB0I3W']\n",
            "A506HOOCVL8GW ['B003XM1WE0', 'B007WTAJTO', 'B00104XCVO', 'B00483WRZ6', 'B000J45BK6']\n",
            "A1URXSRV6WDHVY ['B008EQYRRY', 'B00GO4GMAI', 'B003GALRIA', 'B006ZH0KVG', 'B00G6IJ5NI']\n",
            "AZNUHQSHZHSUE ['B000N99BBC', 'B000JE7GPY', 'B000E6NGBU', 'B009UEAZ84', 'B002XVUTPK']\n",
            "AIFLY2HF8NS8U ['B00829TIA4', 'B0079UAT0A', 'B00JC5Y6WM', 'B00CQ35C1Q', 'B00BBD7NFU']\n",
            "AY3XPKRAMKKY7 ['B00005NIMJ', 'B0002ZW5W4', 'B000V1XICU', 'B003ES5ZSW', 'B000EVS4YY']\n",
            "A294BKN913UOGP ['B000VDCT3C', 'B00005LEN4', 'B000HJPK2C', 'B000BQ7GW8', 'B009WHV3I0']\n",
            "A2SL5IW096Z2BL ['B000TKHBDK', 'B000CKVOOY', 'B00006B7DA', 'B0018MEBNG', 'B003GIJTR8']\n",
            "ALQ4USPEQ9L5N ['B003WUBIZQ', 'B009APBY0G', 'B004XNLR16', 'B0077SAYY0', 'B00F6E8OUS']\n",
            "A2AY4YUOX2N1BQ ['B0033PRWSW', 'B000F7QRTG', 'B00316263Y', 'B001UNI80A', 'B00JDAIMQ2']\n",
            "AQSV34W54L0VO ['B00E3W15P0', 'B002HWJT1A', 'B005ARQV6U', 'B0083WYD9Q', 'B0031ESKJA']\n",
            "A35IX2GE0VC0JP ['B00D6XSRL2', 'B005X64MN2', 'B001S4OTS6', 'B004BDOGL6', 'B007PRHNHO']\n",
            "ABAPF3XY1W6JX ['B004286VMW', 'B003ZG9T62', 'B00005T3RC', 'B007ILEHNU', 'B003WOWB5S']\n",
            "ATDQ9CGCWTT8D ['B0001VWHH2', 'B007JOO4YS', 'B0034KO59U', 'B003X26VV4', 'B000E4K2GO']\n",
            "A3SDJ70H00OQCJ ['B004XC6GJ0', 'B000YEMKGY', 'B0015F0AB8', 'B002ZLOR56', 'B005CLPP8E']\n",
            "A1L64KDYO5BOJA ['B00009EHJV', 'B0019EHU8G', 'B00DMS0GTC', 'B00180LGX6', 'B0002Y5WZM']\n",
            "ASFW4ZMNZJKDA ['B003ES5ZUU', 'B001TH7GSW', 'B004AK154Q', 'B004IZN3WU', 'B003FSTAFK']\n",
            "A2ZR3YTMEEIIZ4 ['B000N50S5Y', 'B0011Z44UA', 'B000EVT0XS', 'B000GBGPAW', 'B000NKJ2X8']\n",
            "A2WC9NFLG57W4H ['B00829TIEK', 'B000O8WE66', 'B0055QZ216', 'B004HVW0ZQ', 'B005A0B3FG']\n",
            "A3SP7T2PZ3HSDE ['B00COEBCXY', 'B00829TIA4', 'B003CJTQJW', 'B000BWACX2', 'B001U3Y8O0']\n",
            "AG7EF0SVBQOUX ['B000F7QRTG', 'B000067RVL', 'B000WOIFO2', 'B0034CL2ZI', 'B0011ZK6PC']\n",
            "A1GQRGB8FGSLIZ ['B003ES5ZUU', 'B000N99BBC', 'B00284ALF0', 'B00EVIBN8U', 'B00310PJM0']\n",
            "A1Q5P5ML3176C0 ['B0016D1I0G', 'B001CCAISE', 'B0048IATQ0', 'B003TJR2HS', 'B00007E7JU']\n",
            "A2SR7S6ZJJDGNB ['B00CGVF8E4', 'B006JG2IPY', 'B0090I46U8', 'B005LJO7JK', 'B00D02AHEO']\n",
            "A1QLQCJVGCQPP0 ['B002V8C3W2', 'B009SYZ8OC', 'B002Z3D8ZE', 'B0083I7Y8W', 'B0055U6X4M']\n",
            "A1RJKTYC03L0JY ['B003VS9UP4', 'B004MKNJ84', 'B00004WCID', 'B0056KCSCM', 'B007P4YAPK']\n",
            "A3QRR8PSCBI07C ['B002RCNX8K', 'B000BQ7GW8', 'B004JISIE4', 'B000067SG2', 'B004O0PAKW']\n",
            "A15J71JLC29KPW ['B00FJWKYYG', 'B004SGJCCO', 'B000063574', 'B007YXA5TC', 'B0054CFKQI']\n",
            "A3REK3OFONWB1Q ['B007BXD66E', 'B000AZ57M6', 'B0000BZL5A', 'B006ZBWV0K', 'B00009USW3']\n",
            "A9LNWA25IM2DX ['B0052SCU8U', 'B0031RG29M', 'B008LCYIEI', 'B00A0JUNWQ', 'B00829TIEK']\n",
            "AXYM52DNK6NDF ['B002V88HFE', 'B002QAUN2M', 'B006TT91TW', 'B00009VQJZ', 'B002RM08RE']\n",
            "A21VM9WVF8EOSJ ['B000OG88KY', 'B00000K13L', 'B007DJGHF8', 'B001B7V55K', 'B00713DPM4']\n",
            "A1OGCPMSIVK7G4 ['B000QUUFRW', 'B000HPV3RW', 'B00104XCVO', 'B00139W0XM', 'B003CJTQJW']\n",
            "A3639Z6O5JBLIZ ['B00081A2KY', 'B00068YUN4', 'B003TM3EL8', 'B0039L1Z24', 'B001OK24V8']\n",
            "A29GWIJL72GXXZ ['B001DL9WDG', 'B00009W3BQ', 'B001M56DI0', 'B0024I8H42', 'B00000K13A']\n",
            "A3CEUT263RNUDO ['B00007GQLS', 'B00COF7DGS', 'B001ENW61I', 'B00009XVCZ', 'B001CCAISE']\n",
            "A2ME89MSWVG9NF ['B009YT6PPC', 'B00AWRPIWQ', 'B00728Z9JA', 'B001EYU3HG', 'B0001NA3S0']\n",
            "A1WF4QNIE2Z3I7 ['B009O7YUF6', 'B00009UT9B', 'B009VV56TY', 'B00AEGRGNO', 'B009UEAZ84']\n",
            "A34DQINHT6NYJU ['B0099SMFP2', 'B00829TIA4', 'B003FMUMN0', 'B008MWBY6W', 'B0046HAO40']\n",
            "A1YN5I4FINMBTI ['B004W2JKWG', 'B0019EHU8G', 'B0036Q7MV0', 'B001SJVU24', 'B0039SM0AS']\n",
            "A2T24Z5QP2OMXU ['B003ES5ZUU', 'B00D5Q75RC', 'B002YU83YO', 'B008ALAHA4', 'B009WU5XUG']\n",
            "A16RL0RMRF974O ['B007WTAJTO', 'B001A1RMXG', 'B000V9NU2A', 'B0040X4PV8', 'B004FLJVXM']\n",
            "A2VIYTWXANL343 ['B00B588HY2', 'B0013AV4M4', 'B000GBO9IM', 'B002BZA54S', 'B0007PN5N2']\n",
            "ATMQEI1LKR6VB ['B002MPPHKY', 'B00EOE4G4E', 'B009SYZ8OC', 'B001O94GNS', 'B00CB2F65O']\n",
            "A2SYAQXJGRY3XE ['B000144I2Q', 'B0064P5I1G', 'B002YC3K9A', 'B002SXMRTE', 'B001SDU6HK']\n",
            "AGFSSC5DBY2HU ['B00AJHDZSI', 'B00829TIEK', 'B002IKLJVE', 'B00829THK0', 'B0043M66X6']\n",
            "A2HPJKM7L4EOQB ['B00004Y2MM', 'B004PA8706', 'B007B2QDFQ', 'B000A7XSSY', 'B00005UKBD']\n",
            "A87N6UTYA6NOB ['B00029U1DK', 'B002NO7PWC', 'B002NEGTTW', 'B000067RVL', 'B004SBBD8U']\n",
            "A3Q1J68QY1MZQ9 ['B000KJQ1DG', 'B0050IE1O8', 'B00310PJM0', 'B00GO1UV4E', 'B001S0PWV8']\n",
            "AWZR0O65DL2Q ['B00005NIMJ', 'B001GX6MJ8', 'B00395ZQMK', 'B000XY6N5Y']\n",
            "A4GGT6O0GQNV2 ['B000F2BLTM', 'B00004SY4H', 'B002VPE1Q6', 'B00484IEJS', 'B007Q45EF4']\n",
            "A25RTRAPQAJBDJ ['B00BCA41PW', 'B00DUTIZJG', 'B00009WBYL', 'B003YNO0LA']\n",
            "A33152QEGO2MZN ['B008AST7R6', 'B000WKW69Q', 'B00622AG6S', 'B003SX0OU2', 'B004YP3JD2']\n",
            "A2WPL6Y08K6ZQH ['B00HFRWWAM', 'B000U5TUWE', 'B00BGGDVOO', 'B007IS3EMI', 'B00ICDAAXO']\n",
            "A3EK2KTYHJCPB9 ['B008EQZ25K', 'B000N99BBC', 'B0099SMFVQ', 'B005KFONIU', 'B001T9NX9Q']\n",
            "AQCJWSMSURQI2 ['B003CFATT2', 'B004CLYEDC', 'B007PJ4PKK', 'B009Z7KMUM', 'B002R5AM7C']\n",
            "A1435P5AMCPB3X ['B000204SWE', 'B000BT2PZS', 'B000VPC44O', 'B000H7FXHG', 'B000F9LS0W']\n",
            "A1F5O1USOUOOXI ['B000N99BBC', 'B0099SMFP2', 'B00BIP816Q', 'B000FOYMKU', 'B00HSQAIQU']\n",
            "A1VQBEW0G4IH1J ['B00IVFDZBC', 'B0096W1OCG', 'B003IT985S', 'B004YHXXKO', 'B007NSR0AK']\n",
            "AQM0K7MBBT4AY ['B00FR6VL50', 'B0009Q56N6', 'B003VANOI6', 'B000B9RI14', 'B008X1BV2Y']\n",
            "A2NYOY6H42SORF ['B009ISU33E', 'B00CRJVZOM', 'B0069R0R10', 'B0001FV3AK', 'B003SQ1JTY']\n",
            "AMWL7XIWIPXEZ ['B0076W9Q5A', 'B004QBUL1C', 'B002G1YPH0', 'B000P6R6CY', 'B000GQMHBI']\n",
            "A1XEQGYY1IL8CD ['B0056TYRMW', 'B001G4QXLE', 'B002VGWFF4']\n",
            "A8X478DM3KAWM ['B000N99BBC', 'B001UE6N6A', 'B001212ELY', 'B00023433U', 'B004XXMUCQ']\n",
            "A1OES7R7FDAT2L ['B000FQ2JLW', 'B001QUA6RA', 'B001MSU1FS', 'B0000B006W', 'B002VKVZ1A']\n",
            "A2YYHSORXIHZCS ['B008JJLW4M', 'B004FA8NOQ', 'B00COGDERY', 'B000UXZUZC', 'B003ES5ZSW']\n",
            "A2XX2A4OJCDNLZ ['B0019EHU8G', 'B00IX2VGFA', 'B00FSA8VQ2', 'B0011ULQNI', 'B0035ERKYW']\n",
            "A1UL2JH7XOUGM5 ['B002NEGTSI', 'B00004WCGC', 'B0002Y5WXE', 'B00894YWD0', 'B000TG4AGU']\n",
            "A1U11IP6K6NHAK ['B004286VMW', 'B002JCSV5I', 'B00IMZKDOS', 'B003O1UYHG', 'B003WU6KFO']\n",
            "A1H98YV5K5BUX0 ['B0000BZL5A', 'B00009R6N0', 'B000UMX7FI', 'B000NHZSHK', 'B0010HE2CY']\n",
            "A2ULZRSHXS3HL7 ['B008JJLW4M', 'B00CRB9CK4', 'B002ISXBFI', 'B00BU4OV50', 'B004H3US80']\n",
            "ABH9D1TEOJ56E ['B00006LV79', 'B00006JLOS', 'B00008O35W', 'B0000DBJJT', 'B00008PVXA']\n",
            "A4GHPW9AAH1NY ['B000PGDT8O', 'B0011V1KZ6', 'B004GWY5V8', 'B008195P34', 'B00166EUI0']\n",
            "AMRMK86X3PKXD ['B001N85NMI', 'B004TLH6GM', 'B0009S5HQA', 'B002WNAFSU', 'B00EHDZMFO']\n",
            "A2BIJMB2BITQUM ['B0043WJRRS', 'B0013FRNKG', 'B00DB9WCR6', 'B003N2POXK', 'B00AR95FOU']\n",
            "A3H4S6YO9VNGDZ ['B006WAGG14', 'B00212NO6W', 'B004S4R5CK', 'B00BQ8RFAI', 'B005J7YA4G']\n",
            "A7FDGFK0KN7QG ['B0058G40O8', 'B005IMFX2K', 'B00E87OITK', 'B0042X9LC4', 'B0074WDGAI']\n",
            "A2DIQTZPF26T1L ['B002V88HFE', 'B002TA7VO2', 'B0051UWCVO', 'B004GF1PC2', 'B007Q4WMSG']\n",
            "A27TN8D0CZ8LUY ['B003ES5ZUU', 'B003Z4G3I6', 'B009SYZ8OC', 'B0013LWK3A', 'B005L38VPC']\n",
            "A1KI7YHQEOS1RB ['B0019EHU8G', 'B004GF8TIK', 'B004Q3R9AQ', 'B004RDWVUS', 'B005PSQ5TM']\n",
            "A3ER6ARJ23CIN8 ['B008JJLW4M', 'B0099SMFVQ', 'B00G0OYHCW', 'B00A4ZXE40', 'B000WOK2ZM']\n",
            "A21Q9JVG4SII51 ['B003MTTJOY', 'B0019EHU8G', 'B000BTL0OA', 'B003SX0P1A', 'B009VV56TY']\n",
            "A3CFU12GS5CZCN ['B008EQYRRY', 'B000A0CV9S', 'B007WTAJTO', 'B0062EUE54', 'B005ONMDYE']\n",
            "A3AZI828WJN1CD ['B0036V9AGU', 'B00834SJSK', 'B005IHAIC0', 'B00E0EY7Z6', 'B007ILK234']\n",
            "AT2J7H5TRZM8Z ['B000031KIM', 'B00005V619', 'B0000645C8', 'B00006LHO7', 'B00005QFZF']\n",
            "A2MJ8OL2FYN7CW ['B006DDT6JO', 'B00CPGYNV4', 'B006ZBWV0K', 'B004GYVPGE', 'B000QDNPVM']\n",
            "A14X244VGHWPSX ['B009YQ8BTI', 'B009APBY0G', 'B00829TIEK', 'B003M0NT1M', 'B001A4LVYY']\n",
            "A1H0D7635GEEJ1 ['B001P05NBA', 'B0058G40O8', 'B004XC6GJ0', 'B000KUQ8FG', 'B001ISKNKA']\n",
            "A17RFKCYS69M3Y ['B00081A2KY', 'B000EDG6EM', 'B006CQR7CK', 'B0002JKGRQ', 'B004K1EOCA']\n",
            "A1RCGK44YXNBBB ['B000E8OVNK', 'B000FAQ6S0', 'B000FAPY3S', 'B000GBGPAW']\n",
            "A3D6OI36USYOU1 ['B000J47W12', 'B00AWBHFRI', 'B000UWYM5C', 'B004SAR998', 'B000068CNU']\n",
            "A197T2N6RU7K56 ['B001QFZMBU', 'B004QGXOOI', 'B003Q0BPC8', 'B000PH1DL8', 'B002T45WXU']\n",
            "AFFVUZEGP1FDQ ['B00HG1L334', 'B00FJWKYYG', 'B001O94GNS', 'B00G4V0QSK', 'B002C1BHIO']\n",
            "A1PSVZBM894R5H ['B003CJTQJC', 'B000RZQZM0', 'B000IWTHYA', 'B0007GIXS8', 'B00006F2MW']\n",
            "A3BY5KCNQZXV5U ['B000QUUFRW', 'B0071BTJPI', 'B0007Y794O', 'B009LL9VDG', 'B002K450QI']\n",
            "AMVXR3NPL0GWX ['B001XURPQI', 'B0018M256G', 'B001E1Y5O6', 'B005KEL4NI', 'B000YB862E']\n",
            "A1MBXP3NZM2BUO ['B00EO302SO', 'B00829TIEK', 'B009A6CZ30', 'B002RM08RE', 'B00CD1PTF0']\n",
            "A11D1KHM7DVOQK ['B00008VF63', 'B0002I5RHG', 'B000069106', 'B00005QBUU', 'B0009FUFPG']\n",
            "A2FXBWR4T4OFQ ['B000QUUFRW', 'B001EQ4BVI', 'B0001XGQTA', 'B000V06UHQ', 'B004TJ6JH6']\n",
            "A1W4F91DH3XPB2 ['B004GUT1QO', 'B003XU78OU', 'B00A81ICCE', 'B0023B14TK', 'B008ULPE70']\n",
            "A19NP8YYADOOSF ['B00IVFDZBC', 'B00BOHNYU6', 'B002LTWDSK', 'B008X1BV2Y', 'B004GUT1QO']\n",
            "A23ZNGL704AW7O ['B001DJ64D4', 'B00HZWJGS8', 'B004CLYEDC', 'B0081FLFQE', 'B000NLLXVQ']\n",
            "A1ZVFCPHCWFV71 ['B00834SJSK', 'B00740MR78', 'B0079UAT0A', 'B000V1VG2E', 'B008MF3X9K']\n",
            "A1FF2PLA84KNAE ['B00DK2JQOQ', 'B000P5AJXI', 'B003XKWLSS', 'B007MYZE26', 'B004CYE3QC']\n",
            "A18OTCHQ6MXD6X ['B003NR57BY', 'B0090BSSZO', 'B001CCAISE', 'B0049XGNKK', 'B002YTDE5I']\n",
            "AXU8RH1DEV21H ['B00BQ4F9ZA', 'B006B7R9PU', 'B000051299', 'B0001Y7UAI', 'B0009WU65I']\n",
            "A2ZDY0V4Q1SZD7 ['B001TH7GUU', 'B003ES5ZUU', 'B008AST7R6', 'B004C9P9TM', 'B00483WRZ6']\n",
            "A10NMELR4KX0J6 ['B007SZ0EOW', 'B002VKVZ1A', 'B00966IREK', 'B0081CRXGI', 'B004THA2OE']\n",
            "A2I18AO597DSDI ['B006ZT4VA0', 'B004ROGUMC', 'B004GAR91S', 'B000IVDIL4', 'B0032ANC5U']\n",
            "A3HRDRQ5VAFPQS ['B003LSTD38', 'B0007WTHLY', 'B0092ML8QW', 'B00176TEGM', 'B000W09ZTK']\n",
            "A11ULAZ4B5ZXC8 ['B0019EHU8G', 'B007YV0UQW', 'B00698ZWOG', 'B003A4H2LI', 'B0050NF926']\n",
            "A132ETQPMHQ585 ['B000IJY8DS', 'B007BYLO4E', 'B000LRMS66', 'B000BM8RFM', 'B005TN0MMY']\n",
            "A3S0DBBR693O06 ['B000ID7QNI', 'B001MSU1HG', 'B0016LFN2C', 'B0002JTD2K', 'B000067S60']\n",
            "A3Q4TYJVAM4IRM ['B000067RT6', 'B000AZ57M6', 'B002BH3Z8E', 'B003I4FHNA', 'B004CLYE8C']\n",
            "A11EXFO14WEJM1 ['B001TH7T2U', 'B0025VKUQQ', 'B00E87E1OM', 'B003M0NURK', 'B000MANFIC']\n",
            "AQ55H30MZSV0Q ['B007PJ4P4G', 'B003LR7ME6', 'B005S0XYKK', 'B00DQZSFSA', 'B0007LJHVA']\n",
            "AUBEFRFHJR64Y ['B0000X0VCY', 'B004U1Y3IU', 'B004O0PAKW', 'B00B332A24', 'B003FW9T0M']\n",
            "AHROSV6WJOEGY ['B002V8C3W2', 'B0007QKMQY', 'B000EPJL1A', 'B001AOK7KI', 'B002SKAP46']\n",
            "A1ILWPH1GHUXE2 ['B0074FGLUM', 'B001NTFAOS', 'B000I1X3W8', 'B008LCYIEI', 'B0007Y794O']\n",
            "A31HE83MU98GBV ['B004M8ST5Y', 'B004XNLR16', 'B004DI7CW4', 'B000065BPA', 'B0007XXHNW']\n",
            "A2V9DTXTQ5YIMK ['B009NHWVIA', 'B0097BEF1S', 'B0079UAT0A', 'B005I6EU48', 'B0087ND9WS']\n",
            "A1UNJ46NSB352E ['B001BM5XB2', 'B00HFRWWAM', 'B00JC5Y6WM', 'B00BGGDVOO', 'B004M8SBCK']\n",
            "ALHC64J88LVWO ['B00C2P61FO', 'B000J1DA3Y', 'B00E3AKF1C', 'B00E0EY7Z6', 'B006ZRVBV4']\n",
            "A1PS4OYWUB0VX ['B003ES5ZUU', 'B002V88HFE', 'B003NR57BY', 'B007R5YDYA', 'B007P71IM0']\n",
            "A1ZTR0FR5AW9B4 ['B009D79VH4', 'B002K42W50', 'B007FFIF0K', 'B007MDFN50', 'B002RZ3CBU']\n",
            "A2EF8N7ZE7ONWX ['B001OI2Z4Q', 'B0034CL2ZI', 'B0015YJOK2', 'B004J3ZV62', 'B001DJ64C0']\n",
            "AQB4DH57MSZSC ['B00829THVO', 'B0090Z3QG6', 'B002FB684E', 'B002MCZJ78', 'B005NHR6MU']\n",
            "A1DSRM2P0WGQNS ['B000N99BBC', 'B001DJ64D4', 'B0079UAT0A', 'B005O88CUS', 'B000T8CWFE']\n",
            "ASF3J4UYV34KA ['B002V8C3W2', 'B000UTQOEW', 'B001DHLC3S', 'B003YKG9D0', 'B001KLEUOA']\n",
            "A1J5HIF41ENSMZ ['B006U3O566', 'B009D79VH4', 'B00006L4F1', 'B00BLGUKDE', 'B002FYL7PG']\n",
            "A3EX8ZFNVDHGPM ['B007PJ4P4G', 'B005F25IL4', 'B003L4P872', 'B00354MVP0', 'B008TWWLAS']\n",
            "A15QYHQH80W30L ['B000VDCT3C', 'B000TKHBDK', 'B00005LEN4', 'B000VDCTCI', 'B002O3KVSC']\n",
            "A3D01HLSUFEZQY ['B0042IEVD8', 'B0018ZDGAC', 'B0013LRSRS', 'B000AO3L84', 'B000V5K3FG']\n",
            "A1GNYV0RA0EQSS ['B005KFONIU', 'B0079UAT0A', 'B00DR0B7Y8', 'B007P4VOWC', 'B000HS3O2G']\n",
            "AU2UJF4I7KAWL ['B0062EUE54', 'B005BOMTT0', 'B003Y09H8E', 'B004K8WPUQ', 'B00650P2ZC']\n",
            "A2F4HP0J5VNOYR ['B0000BZL1P', 'B0014YGAN2', 'B00009R6WY', 'B003OC6LWM', 'B000LRMS66']\n",
            "A1FDSZISWIXH1A ['B00IVFDZBC', 'B005KQ2O26', 'B0013FRNKG', 'B00EVIBN8U', 'B003LSTD38']\n",
            "AP2NZAALUQKF5 ['B000K4V4X8']\n",
            "A6KL17KKN0A5L ['B004WB8EYM', 'B001SJVU24', 'B000KO0GY6', 'B003Z4G3I6', 'B00009R6WT']\n",
            "A95PWI4S6WHGL ['B00193U3O0', 'B00F3F0EIU', 'B005N4RO4I', 'B0037NX6JY', 'B000O3TFZO']\n",
            "A1R76R4E6A8S3B ['B0046TJG1U', 'B000O8WE66', 'B004LB4MZS', 'B0053T4PHC', 'B0055QYJKG']\n",
            "A3J6Q0Y0SKY7AR ['B000CRFOMK', 'B001DJ64D4', 'B001L1H0SC', 'B007V9SNNY', 'B005HJ38OO']\n",
            "A2I6GN7OHB9JKF ['B002RCNX8K', 'B004C9M7UG', 'B00CU9GOAO', 'B003M8NVFS', 'B005CKQF3E']\n",
            "A1PV5T5S4D5NPI ['B001RNOHDU', 'B002WE6D44', 'B00006I5J7', 'B002ZFVS9A', 'B000UB7WD2']\n",
            "A31HOWJKEIY037 ['B001QUA6RA', 'B001UI2FPE', 'B000FQ2JLW', 'B001O4EPHA', 'B00CD0JSMG']\n",
            "A3OIMUR42XIOFQ ['B004CLYEDC', 'B006EKIQYM', 'B00834SJSK', 'B007BWTOHU', 'B00CB2F65O']\n",
            "A2RS66Y79Q8X0W ['B004S76NH0', 'B0019CSVMW', 'B00009VQJZ', 'B001OI2Z2I', 'B001KELVS0']\n",
            "A1LA4K5JF78BER ['B000WHSFYY', 'B000EPRG6W', 'B00004TX6Z', 'B001UQ6F5M', 'B005M1777G']\n",
            "AHD3NZHDUZ5I6 ['B00B588HY2', 'B0013J0502', 'B0019FJM7W', 'B001L5U16G', 'B001C6IWME']\n",
            "A19RGDJPNZ7NZ ['B006EKIQYM', 'B0049SCB2Y', 'B002OJN250', 'B001NJ3H0C', 'B00CDS9HTM']\n",
            "AYO1146CBIV5C ['B001S4OTS6', 'B00AWRPIWQ', 'B008X9Z8NE', 'B002P8M6DE', 'B008ULPE70']\n",
            "A19XPAWSWDRI3B ['B002QUZM0U', 'B0039BPG1A', 'B00829THH8', 'B00066FH1U', 'B005DKZTMG']\n",
            "A3HQAPXAJV7PRX ['B00CD8ADKO', 'B000GABCY2', 'B005QBK5V2', 'B00EVIBN8U', 'B003ULJU2A']\n",
            "A2O6HZ2B9YSRXR ['B001TH7T2U', 'B000HPV3RW', 'B0036Q7MV0', 'B0053OLY9O', 'B004RFBIUU']\n",
            "AI8EMB0HUC6Z5 ['B001TH7GUU', 'B003ES5ZUU', 'B000N99BBC', 'B003CFATT2', 'B0019EHU8G']\n",
            "A2U3OEIK1CUPIK ['B001AW8W7A', 'B00012FVYC', 'B000W2MW7U', 'B009IZ82DA', 'B000UPJR4A']\n",
            "A12ANFNOSMW5VD ['B0034CL2ZI', 'B008F4NL04', 'B00634PLTW', 'B000089GN2', 'B000BKJZ9Q']\n",
            "A3PDWA32BAMB2Y ['B00104XCVO', 'B008EC4O76', 'B003MQWN40', 'B0002Y5WZC', 'B00834SJNA']\n",
            "A2WA8TDCTGUADI ['B003CFATT2', 'B004CLYEDC', 'B0057AVXP4', 'B009RH9FR6', 'B0015313Q6']\n",
            "A28J3123I1QDKI ['B001TH7GUU', 'B00316263Y', 'B007IV7KRU', 'B0045TYDXC', 'B000GLIIFW']\n",
            "A19FRW264WZTGP ['B001T9NUJE', 'B000QWEN5K', 'B004CLYEFK', 'B00HMREOLK', 'B001S4OTS6']\n",
            "A3D822N1K2IAQD ['B005DSPLCQ', 'B00CD8ADKO', 'B00D1GYNT4', 'B0096LZ5QI', 'B008O515CK']\n",
            "A2JOPUWVV0XQJ3 ['B0052SCU8U', 'B001TH7GSW', 'B00212NO6W', 'B001NJ27QM', 'B00000JDF5']\n",
            "A1PVJICI412IN4 ['B001ID829O', 'B00840353W', 'B00CDIK908', 'B005BGKAGC', 'B001QUA6R0']\n",
            "A3VZH0PWLQ9BB1 ['B00IVPU786', 'B003WU6KFO', 'B00BQ5RY1G', 'B00009R6GE', 'B000PDV0CE']\n",
            "A2SH6A32BE6NEV ['B008EQZ25K', 'B001DJ64D4', 'B0036V9AGU', 'B004CLYEDC', 'B002K9IHGI']\n",
            "A3EHJ5519LG7TR ['B0019D6H2M', 'B00GZNCP3G', 'B000Q3VECE', 'B002SZEOLG', 'B003IE49T8']\n",
            "A1UTM65Y3G9HUL ['B000OGX5AM', 'B007PJVB3Y', 'B009WU5XUG', 'B00BB0ZSIC', 'B004OOQ8CW']\n",
            "A15Q2L6DYRTFIU ['B00483WRZ6', 'B00394T7BW', 'B002SSK9VW', 'B004ZXYU8Q', 'B00796I546']\n",
            "A24ARANWS5E3T8 ['B0058UUR6E', 'B001WM73P0', 'B00139W0XM', 'B0002LHSFW', 'B004TJ6JH6']\n",
            "A307Y3LMCVEZS1 ['B001EPVOQY', 'B001FWKA7A', 'B005KFHVES', 'B001QFZMCO', 'B0055W2XQM']\n",
            "A3FKQQTSMHOCE0 ['B00009XVCZ', 'B003SGCO3E', 'B000053HH5', 'B00505EZYM', 'B001U0OFKU']\n",
            "A2XRIU3SOYZ0ZC ['B00D6XSRL2', 'B003ZTKFEE', 'B0000CFYM9', 'B0006TIEZS', 'B0001LTT64']\n",
            "A1KY5G5FP31F2F ['B0043WJRRS', 'B00EHZYWGM', 'B0000BZL0G', 'B00834SJSK', 'B009SYZ8OC']\n",
            "A1D27BCSYV7VWH ['B00629NHW6', 'B005INZKKE', 'B00003CWDG', 'B005IA843W', 'B00AWYMXZY']\n",
            "A87CILADRIZW0 ['B004GF8TIK', 'B004XC6GJ0', 'B0000AZK4G', 'B005FYNSPK', 'B000Q8UAWY']\n",
            "A15T9G38F589KM ['B007KZQM8W', 'B00A0JUNWQ', 'B00E87E1OM', 'B00834SJNA', 'B004TS2AOS']\n",
            "AD0J5KK4WQXNS ['B00006B9H8', 'B000TXEE14', 'B0002ZAIMI', 'B0002ED4PM', 'B00064V6RG']\n",
            "A2K5RRMPICZ606 ['B000ZSUQ9M', 'B0045XAIFU', 'B0007Z1M50', 'B005SAKW9G', 'B003TFEHMU']\n",
            "ANTN61S4L7WG9 ['B000N99BBC', 'B0099SMFVQ', 'B00HVT27B8', 'B009NHWVIA', 'B00HHRP11C']\n",
            "A13WOT3RSXKRD5 ['B000A0CV9S', 'B0041Q38NU', 'B008SFPMRK', 'B0054JE706', 'B004V4HLCG']\n",
            "A1Z7U9K6X3FEOU ['B000VDCT3C', 'B003GSCS3U', 'B004Q81CKY', 'B0000BZYPD', 'B002WUVAVE']\n",
            "A2SGAJWXG65464 ['B005U0M9B8', 'B007HBLX8I', 'B00C94GTJQ', 'B000U0HRKG', 'B0099PJE7W']\n",
            "A2DS9DLMSU2M2Z ['B0001GMIOE', 'B0019CSVMW', 'B004CLYJ0K', 'B000O8JZIG', 'B0000C4G79']\n",
            "AW3LX47IHPFRL ['B006YLTLUY', 'B0002UBDDG', 'B000IXP932', 'B000WG6XW6', 'B0055D66V4']\n",
            "A3E68EBGXTWDNP ['B000VDF5RO', 'B000062VUO', 'B000E8OVMQ', 'B00004TX71', 'B000VW6KXS']\n",
            "A292TRC6DX2GKK ['B000FBK3QK', 'B00081NX5U', 'B0002Z240M', 'B0017LFSXU', 'B0051CAE1C']\n",
            "AWPN47SSWK1JV ['B009LL9VDG', 'B001NPDKTY', 'B001XURP7W', 'B003Q6CU12', 'B0033QJLQW']\n",
            "AY6A8KPYCE6B0 ['B00834SJSK', 'B00CD8ADKO', 'B0000E1717', 'B001S0PWWC', 'B004Q3R9B0']\n",
            "A3DQWFWINN3V5A ['B000BTL0OA', 'B00004Z5M1', 'B0019MEIOM', 'B00426C57O', 'B00064V6R6']\n",
            "ADKGE078JK8K7 ['B003HIXOOG', 'B0043T34RK', 'B005755U0I', 'B001RB21JY', 'B000095S9V']\n",
            "A19HKRB4LU5YR ['B002TLSOG0', 'B00A0JUNWQ', 'B0052SCTLI', 'B00B981F1U', 'B0000CE1UO']\n",
            "A1GBT4UN2RW7XY ['B00FFJ0HUE', 'B00G1YKHHA', 'B001EYU3LM', 'B007KZQM9G', 'B00HHAJRU0']\n",
            "AZBXKUH4AIW3X ['B008EQZ25K', 'B00316263Y', 'B000VX6XL6', 'B00008AWKZ', 'B006U1YVZ8']\n",
            "A1N3EH28S4DI8L ['B0000BZL1P', 'B002NO7PWC', 'B00007GQLU', 'B00EN27SHY', 'B001KELVS0']\n",
            "A2OTQMC69J8MUI ['B000M2TAN4', 'B00C2P61FO', 'B009D79VH4', 'B007WTAJTO', 'B000UXDHOI']\n",
            "AA8RBTN3J2F5H ['B007BWTOHU', 'B000V1PAWQ', 'B0077M2958', 'B005HMKKH4', 'B00D68UXQE']\n",
            "A1LD5SE8IZ1H70 ['B004W2JKWG', 'B00BG5M93Y', 'B001202C44', 'B00BB0ZSIC', 'B000OG4E1G']\n",
            "A28525P0S5ZVJ3 ['B00FB45SI4', 'B000FITKK8', 'B005M1QP7O', 'B00CRXZPC6', 'B0049S6ZUS']\n",
            "A1VLVWTLV3LVHR ['B00139OIRI', 'B002J9HBIO', 'B003GZ828I', 'B009IKCKME', 'B005G5EAGE']\n",
            "A9J4UURM4OSDW ['B000V5P90K', 'B000UMX7FI', 'B0096W1OCG', 'B0002T74QC', 'B001GIPR5S']\n",
            "A1L1N3J6XNABO2 ['B005J7YA4G', 'B0050RKH2Y', 'B0041Q38NU', 'B007HA3UYE', 'B0032R6CPK']\n",
            "A341HCMGNZCBIT ['B00AR95FOU', 'B000WQ21SQ', 'B0028RXI5W', 'B0032JRRWU', 'B002V92X9Y']\n",
            "A3F3B1JPACN215 ['B001P05NBA', 'B000N99BBC', 'B009YT6PPC', 'B003MVZ60S', 'B009X01C64']\n",
            "A35X2JJI49OBZP ['B003L1ZYZ6', 'B00005NIMJ', 'B000M2GYF6', 'B0037ECAQ8', 'B00EIDWYR2']\n",
            "A34CSXOGVYF94S ['B00HG1L334', 'B00G4UQ6U8', 'B001F51G16', 'B00F0DD0I6', 'B00ATM1MGA']\n",
            "A3R19YKNL641X3 ['B000TKHBDK', 'B00HZWJGS8', 'B00BERGFV6', 'B0082E9K7U', 'B000RZQZM0']\n",
            "A1UEL5C1N6E5SE ['B000VE2RP6', 'B001RB1TIS', 'B00006B7DA', 'B00FB45SI4', 'B001AYCNIW']\n",
            "A3VBXQKRM7A4JR ['B003FVVMS0', 'B0097FZRYI', 'B000BRO3PA', 'B004CLYEH8', 'B001GCQ3KM']\n",
            "A2L4ZGN7GZJ95T ['B000N99BBC', 'B006MPUTBC', 'B008R7EWEI', 'B00EOI2SYK', 'B00JX1ZS5O']\n",
            "A1UMSB7LAW0RIR ['B004GUT1QO', 'B008MF48J4', 'B00A7PPLP2', 'B0095F5ACE']\n",
            "A18NDN2CIG2TKR ['B001BSQK8Q', 'B003QVWJM2', 'B000F2JUOK', 'B00AYK7J9G', 'B005C95NNI']\n",
            "A3NXJDNTQK2YJL ['B00005T3G0', 'B00EDCF0MY', 'B004SBBD8U', 'B003M0NURK', 'B00ELPSEVW']\n",
            "A1RPJHUVVSI98A ['B005LFT3GG', 'B00007M1TZ', 'B00829TIEK', 'B000L47AHG', 'B009UEAZ84']\n",
            "A2MR696ZU17F12 ['B001UI2FPE', 'B00829TIA4', 'B004GW25WY', 'B00006B7DA', 'B002JH3TW8']\n",
            "A5GPH59NDWJRB ['B0002Y5WZM', 'B001TZUS98', 'B005FVNGRI', 'B009LPV766', 'B001ELJO2E']\n",
            "A2CPP7BZKOF9TP ['B004G6002M', 'B003AVMRQG', 'B000RHZJN4', 'B009X3UW2G', 'B007M7RP6Q']\n",
            "A1ITRGMT80D5TK ['B00B3PDHBU', 'B00CD8ADKO', 'B0035JJOLE', 'B004SKBJP8', 'B00CRGJKT2']\n",
            "ACYZXQ2JKPZKT ['B0000BZL1P', 'B003FVVMS0', 'B0000BZL0G', 'B00005LENO', 'B0045TYDNC']\n",
            "A9Y5O2R4D6EH5 ['B006W8U2MU', 'B001TUYTZM', 'B00C20KWP4', 'B0001GMIOE', 'B00AJHDZSI']\n",
            "A2NX6MFZP8TM6S ['B009F7IBZK', 'B00004Z5M1', 'B001O94GNS', 'B006ZW4HY2', 'B0002GDIII']\n",
            "ABUE0ALHKWKHC ['B00CD778LC', 'B003Y3TS4Y', 'B00BOZCUG2', 'B00028VKLI', 'B001V9LQAW']\n",
            "AN9WA4C5E7YY5 ['B000E9VKUQ', 'B00810ICRO', 'B004MG9YYQ', 'B002HK8TE0']\n",
            "AAXAKFQEAQPWC ['B001T9NUJE', 'B000VDCTCI', 'B004SBBD8U', 'B001TH7GVE', 'B000UO6C5S']\n",
            "AULFLNWJP1QXY ['B006JINHYS', 'B004C13VWC', 'B004N625BO', 'B0088CJT4U', 'B00007E7K9']\n",
            "A23ZXHFLC6TBLD ['B000067RT6', 'B004G6002M', 'B0063K4NN6', 'B000V1PAWQ', 'B0000A2QBP']\n",
            "A7Y6AVS576M03 ['B004QR56SE', 'B000ELC0GM', 'B00001OWYM', 'B0007XXU3E', 'B000EDG6EM']\n",
            "A3O5ASFUXC32UA ['B00005LEN4', 'B002JCSV8U', 'B00009R6N0', 'B003OBUJIK', 'B003U2YCZE']\n",
            "A2Y1WNETD9AYHO ['B0007LJHVA', 'B008GVOVK0', 'B00462RMS6', 'B000HVHGI6', 'B0027CTURI']\n",
            "A38CHSS1ZAE51B ['B0046TJG1U', 'B000UO6C5S', 'B005Y5891S', 'B0043T7FXE', 'B00413PHEQ']\n",
            "A1Y051MQ2SVPFI ['B00D5Q75RC', 'B005IHAIC0', 'B000F7JCRA', 'B005FYNSPK', 'B00BC4SL18']\n",
            "A1X1CEGHTHMBL1 ['B000BTL0OA', 'B007VPGL5U', 'B0036WT3TS', 'B009XCCC52', 'B007BJHETS']\n",
            "A1VS1LL905P5L5 ['B0001DBEM4', 'B00006HZ0L', 'B00AAHT8JC', 'B001FA1NZU', 'B00005UKBD']\n",
            "A13EQE9EY2ET93 ['B00FR6VL50', 'B00CXACPN0', 'B00HFRWWAM', 'B00C46K0X0', 'B001CY0P7G']\n",
            "A19N3S7CBSU6O7 ['B001XURPQI', 'B002BXCNDQ', 'B000OG4E2U', 'B004J96SB8', 'B00ID2HGK4']\n",
            "A1PL7QILVQV3IF ['B00029U1DK', 'B00081A2KY', 'B0013AV4M4', 'B000JE7GPY', 'B001HSOFI2']\n",
            "A1VOFY3QFT9WCG ['B006EKIQYM', 'B003MTTJOY', 'B0027AGK3M', 'B004LSNF04', 'B00DBA9YD0']\n",
            "A2D0CO1OA6DSWY ['B002WE6D44', 'B001K9BFB8', 'B000Q8621C', 'B00020S7XK', 'B00113PUJQ']\n",
            "A3QDMDSANPYGUX ['B004MF11MU', 'B00A6HH28U', 'B000KZW9WM', 'B005HGG3NK']\n",
            "AMS2CPERWN7JV ['B0043M668G', 'B005VONPT8', 'B006W3ZWXE', 'B00008ZLHG', 'B000BPRGK6']\n",
            "A3HR0ZZOFKQ97N ['B0088PUEPK', 'B004XC6GJ0', 'B006DDT6JO', 'B00A4ZXE40', 'B00HFRWWAM']\n",
            "A111WCUF5KA2I6 ['B007WTAJTO', 'B004N8ZQKY', 'B00D7CWSCG', 'B006Z95LHW']\n",
            "A2HJY7418G1KV1 ['B0000C4G79', 'B001G5ZTLS', 'B001TOZTCA', 'B003XU78PE', 'B001O9X9EU']\n",
            "A1A5KUIIIHFF4U ['B00007IFED', 'B000HEEG54', 'B002HK5AW4', 'B003VWU79I', 'B0008GMHEI']\n",
            "A2ZFBTGPDP6PH6 ['B000QUUFRW', 'B000EVSLRO', 'B0011NVMO8', 'B002MU1ZRS', 'B000V1O1J4']\n",
            "AVSMRPI23DQI2 ['B006WAGG14', 'B0049H8W1Y', 'B0050YG3CU', 'B003G2ZJTG', 'B001FA1NK0']\n",
            "A34LQ791ACZ0JC ['B000N99BBC', 'B0001Y7UAI', 'B002SIMPXM', 'B000O8JZIG', 'B00336EM0W']\n",
            "A11KQADBYE0UZL ['B000M2TAN4', 'B0036Q7MV0', 'B0058UUR6E', 'B00139VKV0', 'B00539LP34']\n",
            "A3Q6ZPW60CVF2L ['B0065DUJ0C', 'B0017J3XMU', 'B0063W7XJK', 'B009YDO05U', 'B001URWAYG']\n",
            "A2M14CFAMF8J7I ['B0034CL2ZI', 'B008R7EWEI', 'B003CFATT2', 'B000N99BBC', 'B0081FLFQE']\n",
            "A1QQA7Y92L4F9R ['B001C271MA', 'B007WTAJTO', 'B001U02JZ8', 'B00102ZOQC', 'B0002WPSBC']\n",
            "A3223W5IROMYTY ['B00COF7DGS', 'B00B1R8JT0', 'B00D02AHEO', 'B00CRJVZOM', 'B00AVYNS7M']\n",
            "A15G70V9OBTOVO ['B001DL9WDG', 'B003WJR69E', 'B004HO59M4', 'B003T0EYVE', 'B001KELVS0']\n",
            "A2NQMVTQ4PVLL ['B006H06TVG', 'B00834SJNA', 'B00BJ17WKK', 'B0064R9H2A', 'B000JE7GPY']\n",
            "AN0JK8OQLUC55 ['B001L1H0SC', 'B001DKBNMA', 'B000GHVZO2', 'B0047ELBN0', 'B001CN7EQ2']\n",
            "A2XHOLOLKGV1FE ['B001F7AHOG', 'B002ZCXJZE', 'B001D8S9E2', 'B0077R2B9M', 'B004T1YA5W']\n",
            "A356RFKNIG043B ['B003M0NURK', 'B002YOENAS', 'B00HSQAIQU', 'B000EBBJ6Y', 'B002IPH9ZO']\n",
            "A1AZQCVCDBQP6 ['B003MTTJOY', 'B004W2JKWG', 'B000LRMR26', 'B000ANCPNM', 'B005F778JO']\n",
            "A2ZRG5NOFZ47RK ['B002V88HFE', 'B0000BZL1P', 'B0043WJRRS', 'B00009R94Q', 'B004TA0AUW']\n",
            "A1XE3M22N91451 ['B002V8C3W2', 'B001NTFATI', 'B001W26TIW', 'B001MSU1HG', 'B002ZIMEMW']\n",
            "A5QDZEOIMQ4LW ['B00009XVCZ', 'B004ZNA3UA', 'B00009X3UA', 'B0013J0502', 'B0050RKH2Y']\n",
            "A18L9A64XNGVGU ['B001TH7T2U', 'B0056K6TV8', 'B003S6ID20', 'B004M0TVWM', 'B001UJMWZ6']\n",
            "A3EM243NDJ4DF3 ['B00DR6DQZA', 'B0031RG29M', 'B002TLTE6O', 'B005E8MVV4', 'B00BYRPM9M']\n",
            "A64LEAZ2QF8L2 ['B001G5ZTZO', 'B001SER47O', 'B0071BTJPI', 'B002V88HFE', 'B0016SN49Y']\n",
            "A2JXS1JII6SAUD ['B001FA1O18', 'B001NPEBEC', 'B0051G5SBY', 'B008V9959O', 'B00CCEH51Y']\n",
            "A214W7SK2DJQ99 ['B009SJ7UWU', 'B003XCDA9A', 'B004TGZ7WM', 'B00101UHS8', 'B001SVJUPG']\n",
            "A14Z6D3IRJ23F7 ['B000067RT6', 'B00CZDT30S', 'B008YDJHWM', 'B005UUS6MO', 'B0049XV5LM']\n",
            "A2M9ME0N2S3R39 ['B0054L8N7M', 'B008L1OCF4', 'B001VO4MOY', 'B0092MD8OW', 'B001AYW91I']\n",
            "A27Y4OEC9MD9PA ['B00009XVCZ', 'B0039ORBLK', 'B001MT8J4W', 'B002NWO9EG', 'B0001MB7RW']\n",
            "A145LBW8ZHF0TW ['B000067RC4', 'B001TOD7ME', 'B0015YJOK2', 'B000O5TH14', 'B000095S9V']\n",
            "A2OOXVZ6B1VZ9A ['B00452V66G', 'B004VTAVLE', 'B0016BQS12', 'B00004Z5PY', 'B003CP0K9Q']\n",
            "A1LAGS8H4A2DR7 ['B00BWX2OU8', 'B0077V88VI', 'B000BKY3Q6', 'B00142JKSG', 'B0000645RH']\n",
            "A7Z2J9V37ABCO ['B0076W9Q5A', 'B009NB8WR0', 'B002V88HFE', 'B001F51G16', 'B009VV56TY']\n",
            "A1S7BFT0HDF3HA ['B006JINHYS', 'B0015EA3NO', 'B000EXS1BS', 'B0002D03ZW', 'B005SNPTRS']\n",
            "A200RY2ELZL2Q3 ['B006TT91TW', 'B0062EUE54', 'B002LBROAA', 'B00829THK0', 'B003F5NS9W']\n",
            "A3094EPI56GKZ6 ['B00COYOAYW', 'B000BTL0OA', 'B007KZQM9G', 'B000O7PH34', 'B00012F8AY']\n",
            "A12DLJESJKM1OQ ['B0007RALGO', 'B000AYGDWU', 'B0000DBJJT', 'B00006JLOT', 'B000087KY8']\n",
            "AOWF9T81XMX2S ['B008EQZ25K', 'B001TH7GUU', 'B00081A2KY', 'B001342KM8', 'B000WXAX6G']\n",
            "A28BX3MM90A6FI ['B000VX6XL6', 'B007FEFQDA', 'B0001LRIT4', 'B0041MY32Y', 'B005FYNSPK']\n",
            "A1CN1P7147QDJC ['B00BQ4F9ZA', 'B00BQ8RFAI', 'B003WUBIZQ', 'B0010YWPZ8', 'B008F537KC']\n",
            "A2VAD79S4A06DD ['B006LW0W5Y', 'B006MPUTBC', 'B009SYZ8OC', 'B00009X3UA', 'B000FTLSR0']\n",
            "A2F2GLVFRNV7JJ ['B0002Y5WZM', 'B00009R94Q', 'B001EDXPMC', 'B002IKLJVE', 'B007BJHETS']\n",
            "APBDZ88BBTN4F ['B00CKAOJA0', 'B003FVJYF8', 'B000OFWJO6', 'B003N7NMO8', 'B001OI2YNS']\n",
            "A3S3VSXEFXBMRC ['B001TH7GUU', 'B001V9KG0I', 'B0074FGLUM', 'B000MX48VM', 'B001L1H0SC']\n",
            "A1ZXMMQPYC3Z9I ['B00434OWDA', 'B00006B7DA', 'B005GC7YJ2', 'B00004TVSP', 'B0040FHB6C']\n",
            "A33SX0AD5PYD9B ['B001TH7T2U', 'B003CFATT2', 'B003M0NT1M', 'B000AAZQJU', 'B005DOK8NW']\n",
            "A1EQ5D5JRSW23K ['B000JE7GPY', 'B001ELK2NY', 'B004AK154Q', 'B001A4HAFS', 'B0095F5AFG']\n",
            "AGILRZOT49R0V ['B00006RVPW', 'B00BCGRTFK', 'B004GHMU5Q', 'B000WXH1Z2', 'B001NPEC5A']\n",
            "A3D7BGK0P5QY0X ['B00429N18S', 'B003VAHYNC', 'B005LKO230', 'B0001V3AVY', 'B002Q8IHDQ']\n",
            "A3NGOG8Z78AZSD ['B000EXS1BS', 'B003O8682Y', 'B00002EQCW', 'B003LD4T0K', 'B004WK3U9W']\n",
            "A6TBR6L2D4XKC ['B001UDJURU', 'B001F6TXME', 'B003LZYXYU', 'B00003CWDK', 'B00972M942']\n",
            "AOVTLYTHVDNUX ['B009NHWVIA', 'B004YG7JV4', 'B0033VKKB2', 'B00006JPER', 'B00A81ICCE']\n",
            "A2J4XMWKR8PPD0 ['B00B7SMR3C', 'B007261A36', 'B0096YTSL8', 'B005AKRPP8', 'B008RMEXME']\n",
            "A1KWPIORLG2QV ['B0000511U7', 'B003B41XYO', 'B0049SCB2Y', 'B003MOKUIS', 'B00829THK0']\n",
            "AC9QEWWN4W9MC ['B00APCMMDG', 'B007WTAJTO', 'B00GQOZFNQ', 'B00DFEXXPM', 'B00FIYH99I']\n",
            "A2QAOP52OEB5EV ['B000JE7GPY', 'B002LK2QJK', 'B00DVFLJDS', 'B00018MSNI', 'B001UE6PE0']\n",
            "A2V7EO331SFUF6 ['B00005U21H', 'B008XV7VTG', 'B000WXAX6G', 'B0007GIXR4', 'B000XA8766']\n",
            "AN9CP6J4JF91X ['B007WTAJTO', 'B000KO0GY6', 'B003C1FC7K', 'B0000AI0N1', 'B006GDY57O']\n",
            "AA95DWUI3ODU ['B000VWKSHM', 'B002IPHA3A', 'B00BQH8UEY', 'B0023B14TK', 'B00ASLSQHK']\n",
            "AAK6SOEJY30YG ['B0019EHU8G', 'B001W28L2Y', 'B0036Q7MV0', 'B000092TT0', 'B009EADB2Q']\n",
            "A4IL0CLL27Q33 ['B000N99BBC', 'B009YT6PPC', 'B00002EQCW', 'B000AP05BO', 'B00475LJC2']\n",
            "A2L0F2T1DLTNT8 ['B000HJPK2C', 'B001GIPSAW', 'B005VONPT8', 'B0081FLFQE', 'B005L38VPC']\n",
            "A3TCMJ6GKZJFBQ ['B000OFWJO6', 'B0018M256G', 'B002NEGTSI', 'B000CDA802', 'B0019M9EQ4']\n",
            "A3QX0ERX4D03TF ['B00GTGETFG', 'B002Y6CJJ8', 'B005F77Z9C', 'B005EJH6Z4', 'B000TYL27M']\n",
            "AS8C336DDLSO4 ['B00009EHJV', 'B004CLYEDC', 'B009SYZ8OC', 'B001O94GNS', 'B00009R6TA']\n",
            "A1P3DDFL423B3C ['B002MZUNXU', 'B001A4LVYY', 'B000E5GKW8', 'B0025ZH43O', 'B0000U19F0']\n",
            "A11YIHB6IW352W ['B001MSU1HG', 'B007R1FH3K', 'B008HO9DK4', 'B004MB4FEU', 'B0079EVQ2Q']\n",
            "A1MQQEM7W77L62 ['B0097BEF1S', 'B008EC4O76', 'B003L139HG', 'B009YT6PPC', 'B00DBDM934']\n",
            "ANFJYYQ0P35CW ['B0094S35W4', 'B00JF0D7RE', 'B0090Z3QG6', 'B001G5ZTN6', 'B001TICH08']\n",
            "A2EW01G2LNJN06 ['B00017LSPI', 'B0015AARJI', 'B001S0RUFY', 'B00006JPDI', 'B001MT8J4W']\n",
            "A2PC9ZZIFV31B1 ['B001TH7GUU', 'B0052RM8T2', 'B002HWJT1A', 'B005DKIID8', 'B00BQ5KHJW']\n",
            "A3FBM0RMCMAABV ['B0034CL2ZI', 'B006ZBWV0K', 'B002FB684E', 'B0080EBMM8', 'B00DQZQG3G']\n",
            "A2W0XCWOK3MW6F ['B004NY9UUK', 'B003LSTD38', 'B001D8S9E2', 'B008HK3SSG', 'B0013FNZ1M']\n",
            "ASJZT7DM51QEM ['B00BOHNYU6', 'B00IVPU786', 'B00HVT27B8', 'B002MCZJ78', 'B00EH5UGR6']\n",
            "A2NPN06SYI5VL3 ['B001BAW7P4', 'B0089E2FZC', 'B007R67FTY', 'B001RB24S2', 'B000RMPP5Q']\n",
            "AA91O96C1Z18W ['B000QWEN5K', 'B005HY4U5A', 'B009GA6CAW', 'B00CF7E0R0', 'B000A8JYB8']\n",
            "AWHL379EE14K7 ['B00BLCVD9I', 'B0056TYRMW', 'B003VYEYE0', 'B00B2IZ3B0', 'B006ROO1XA']\n",
            "A2HXEJXEQQTM1D ['B002VKVZ1A', 'B0023Y9EQC', 'B001U3Y6AQ', 'B0040IG1A6', 'B005UE894U']\n",
            "A1VYFEJM12ZP11 ['B009QUDLC4', 'B004CLYEH8', 'B008X9Z44M', 'B000SMVQK8', 'B008BN75I8']\n",
            "AYLLSFYS3UP1H ['B002V8C3W2', 'B003NR57BY', 'B0076W9Q5A', 'B000I1YIDQ', 'B003NSC2WU']\n",
            "A3HC7NWLKCPX4X ['B00B1R8JT0', 'B000051299', 'B0041Q38NU', 'B0011FKI3M', 'B000HGMMH6']\n",
            "A3UXW18DP4WSD6 ['B000IJY8DS', 'B0074H3IU6', 'B003WGJYCY', 'B0000AZK4G', 'B004M5H660']\n",
            "A274X54O9CN2SR ['B004286VMW', 'B004XC6GJ0', 'B001PBYQHG', 'B005LJQNQU', 'B000IJV4BC']\n",
            "A3QKIR8J56EUI1 ['B005HY4U46', 'B0039BPG1A', 'B0096W1OCG', 'B0014175E8', 'B005MR4P0W']\n",
            "A18GJ9MYYO6GCQ ['B006ZT4VA0', 'B000EVSLRO', 'B000E65HXA', 'B003M0NURK', 'B004WK3U9W']\n",
            "A3HCMJOGRRSAF2 ['B000BVC0WO', 'B004CADY9I', 'B005CWHZP4', 'B002BWOO0W', 'B000V07N9U']\n",
            "AKBVYIIHWI04B ['B000VX6XL6', 'B00461E7JE', 'B00E055H5O', 'B002A6G3V2', 'B009JPBPWO']\n",
            "A1UQUDT2Q0YENM ['B00D1GYNT4', 'B0093H4WT6', 'B002SZEOLG', 'B00452V66G', 'B00CXADBRY']\n",
            "A25TQLMIAPI1T6 ['B007KEZMX4', 'B004GXKI04', 'B003Y3TS4Y', 'B002BFA91C', 'B00E4AZEFS']\n",
            "A8X8D4BUY5DFU ['B0002VAQR4', 'B000RQSGYO', 'B008KNDTB6', 'B000SE6IV8', 'B003BEDQQM']\n",
            "A31ICLWQ9CSHRS ['B000I1X3W8', 'B000VJX7DW', 'B00009R6WO', 'B007WTAJTO', 'B0093H4WT6']\n",
            "A1USYP4AXF5I1D ['B002UUTCNE', 'B003WV5DJC', 'B002N2EHVQ']\n",
            "A3LSEIG2PIJYBL ['B003VWYBC2', 'B000063TJY', 'B005QT7ZBC', 'B003ZUN2PW', 'B0049LBJ56']\n",
            "AO09RWV40IX78 ['B00142HLV4', 'B0093IZOV0', 'B006GM56N2', 'B00F6E8OUS', 'B00E6ONJJU']\n",
            "A20ZM879PCQQEZ ['B000EON3WY', 'B00AYQ433U', 'B001CY0P7G', 'B000ROQJ1S', 'B000092YQK']\n",
            "A1T9MILRRZ00F8 ['B000V5P90K', 'B000089GN3', 'B000O8WE66', 'B000OE2OPG', 'B008LCYIHK']\n",
            "A1K4G5YJDJQI6Q ['B0049MPQA4', 'B000R8KVJ0', 'B0036WS4CK', 'B002QEBMAK', 'B008FLOWAU']\n",
            "A1B8EJQU73YGL9 ['B002WE0QN8', 'B005GI2VMG', 'B0000CCVC9', 'B00603RTC8', 'B002UKDI84']\n",
            "AJCR7L4AXL2OG ['B001RB1XVG', 'B000069EUW', 'B00B7LQ73U', 'B00AMPIVFO', 'B00427ZLRO']\n",
            "A3JV071KO43Q5X ['B005K7192G', 'B008LCYIEI', 'B001PIBE8I', 'B004XC6GJ0', 'B003LPUWT0']\n",
            "A1SFPA80X7TRBR ['B0002LEMWE', 'B0002Y5WZM', 'B005LJQMCK', 'B0007TOR08', 'B0024TNXNG']\n",
            "A6XLG77BC9R8R ['B002SIMPXM', 'B000VIHFZ4', 'B003ULJU2A', 'B00176NKPS', 'B006J1ZAR2']\n",
            "A1PAGHECG401K1 ['B00BOZCUG2', 'B0039BPG4M', 'B005TI1ILS', 'B003H3A2NM', 'B00028VKLI']\n",
            "A1NAA1R38JSNHV ['B000UHQVOW', 'B001W26TIW', 'B0034XRDU0', 'B000WYVBR0', 'B000I1YU5C']\n",
            "A1AKW788238PWQ ['B0058UUR6E', 'B000V1JUJU', 'B0007MWE28', 'B000LYAZ4G', 'B0002BEQNE']\n",
            "A3NOBH42C7UI5M ['B0010Z28XG', 'B000RZ8WHG', 'B001415FIG', 'B0039BPG1A', 'B004CLYEH8']\n",
            "ASHJAZC9OA9NS ['B00009R896', 'B000GYU9IS', 'B00023KG40', 'B000V1R96G', 'B004AH10K8']\n",
            "A2POXR5VS3PHKR ['B0013LWK3A', 'B0089V4WOC', 'B0043DKBTK', 'B000A5T7AO', 'B004Q0T0LU']\n",
            "AWH2AY17ZU7W2 ['B00EHZYWGM', 'B003ANK9ZA', 'B007BZRXK2', 'B004VM0SE6', 'B004XNLR16']\n",
            "A2IXK5LB4Y0NYV ['B007WTAJTO', 'B00F0DD0I6', 'B007PA1K84', 'B008DVMRXG', 'B003FVU49I']\n",
            "ATNOI7E8GTIVE ['B000VX6XL6', 'B002OJN250', 'B0002TPFTA', 'B0015A8Y3E', 'B000FITKK8']\n",
            "A29KJ32G75L7G9 ['B001TOD7ME', 'B009U7WZCA', 'B005BLO21Q', 'B003N12TSY', 'B0074BW614']\n",
            "A3SL0HA6422W4M ['B00A39PPCG', 'B0030O0Q2U', 'B0091TA5EW', 'B004QMH8KI', 'B004TPPWT6']\n",
            "A781ITP3HE2N5 ['B003UH0Z9Q', 'B009D79VH4', 'B004G6002M', 'B000JE7GPY', 'B001F7AJKI']\n",
            "A1QJ10LEINDRWW ['B000H4CLXS', 'B004AQ95A6', 'B001ISKNKA', 'B0043VE29C', 'B0055MBQOM']\n",
            "A3IUW081KXD3PE ['B001S0PWWC', 'B003KPBRRW', 'B00006L4FX', 'B005I6EU48', 'B005VAORH6']\n",
            "A2KIJBT9HRIOM8 ['B004WB8EYM', 'B005FYNSPK', 'B000EGQS5G', 'B000T8THL6', 'B000LRMS66']\n",
            "A3KNGMX2RVQG91 ['B001ENW61I', 'B001W28L2Y', 'B004SCSV2U', 'B007RMAS1K', 'B0062EUE54']\n",
            "A313H6238N589 ['B007WTAJTO', 'B001DBIT08', 'B0057AVXP4', 'B0001HKIJK', 'B000TXZIDM']\n",
            "ALNE7Q71JFC0F ['B008EQZ25K', 'B001ENW61I', 'B005GGTTZ0', 'B0076AYNXM', 'B001E1Y5O6']\n",
            "A9BWUH9XKZ2DQ ['B000BKUSS8', 'B0032HM6HS', 'B00305N47S', 'B00456V6WG', 'B003NS0UUQ']\n",
            "A2LCE1D0TW2XY0 ['B000053HH5', 'B003G20AAE', 'B000053HBB', 'B00BW6LW7G', 'B006BCKDGW']\n",
            "A3LZA698SQPCXE ['B00IVFDZBC', 'B004V4IWHY', 'B0034CL2ZI', 'B00AR95FOU', 'B00008V6NI']\n",
            "A2HXE29CU1I24Y ['B001NPEB5Q', 'B001NJ0WCS', 'B002EL4M98', 'B0015DYMVO', 'B001U3ZH7W']\n",
            "A1ROUMJOGO4QMB ['B00006HSYC', 'B003ZKG10K', 'B00629NHW6', 'B00198L9RA', 'B00224ZDFY']\n",
            "A1VR1HIOVQWN09 ['B0019EHU8G', 'B0015AARJI', 'B004HW6F9M', 'B001TINUF4', 'B000P0NJPS']\n",
            "A1A535TCGNMVPI ['B004444O4G', 'B0002ER5B6', 'B003FVS8W8', 'B00006B938', 'B0034XRE6S']\n",
            "A1SHHQSPOWR00F ['B001UI2FPE', 'B002V8C3W2', 'B000VJX7DW', 'B0016XIQ1U', 'B00007M1TZ']\n",
            "A2HBOG4LVIY15L ['B005JN9310', 'B005J7YA4G', 'B0093HMKVI', 'B001TZUS98', 'B005YW7OLM']\n",
            "A3QNX5KWHDV0GD ['B001F51G16', 'B000IVDTSG', 'B00005LEOO', 'B001A4HAFS', 'B00728Z8U0']\n",
            "A31RZMVAFMLB8B ['B0056TYRMW', 'B00007E7QS', 'B002SCGY5S', 'B005Q65JHM', 'B006MPRFJQ']\n",
            "A2MIP3AQVSF2SS ['B007WTAJTO', 'B005JN9310', 'B001L1H0SC', 'B0042IBAOG', 'B004H0MQYW']\n",
            "A21NS06GDEA3V0 ['B004SUO068', 'B009A5204K', 'B0049YQVHE', 'B003VAGXZC', 'B002SZEOLG']\n",
            "A7UPJYPAH73NC ['B001BM5XB2', 'B002K9IHGI', 'B005ELBSWO', 'B0099SMFP2', 'B00BWHILCY']\n",
            "A3GFQHHVMEAIO ['B002ZLOR56', 'B00004SB92', 'B00005854B', 'B000H6CBA4', 'B004SBI2PW']\n",
            "A2XQYE6TJYROHQ ['B000HDJT4S', 'B004Q7J4W8', 'B004HIN97M', 'B000N35A0Y', 'B00304DZ7I']\n",
            "AM0QLU79O05JR ['B000AP05BO', 'B00DVHP478', 'B00EZ9XG5I', 'B007IW4X3I', 'B00D02AHEO']\n",
            "A24RCBRDXRXR0Y ['B001T9NX9Q', 'B005I7X3RC', 'B0023B14TK', 'B002R5AM7C', 'B00884WH74']\n",
            "AM8W6Y3HVXLZT ['B004OR14GO', 'B003BLQHN4', 'B00B7X2OW6', 'B0053T4PHC', 'B0038KV2MO']\n",
            "A2Q2A6JKY95RTP ['B00029U1DK', 'B0015AARJI', 'B001S4OTS6', 'B005DKZTMG', 'B00170IBF8']\n",
            "ARW8VGT10JG60 ['B0002YE6FY', 'B002KETE24', 'B0049WBZEK', 'B001GN3SGS']\n",
            "A2EHYCA29NSQLU ['B0012MI7N2', 'B000LRMS66', 'B00FFJ0HUE', 'B0000AHO92', 'B000XY4AD6']\n",
            "A7KBAXO177NND ['B002WE6D44', 'B004V4IWHY', 'B00006I5J7', 'B001ASU1QO', 'B005EP36NY']\n",
            "A3P69DTOXII004 ['B00DXFF6EO', 'B0089WLYQ0', 'B000A6NUU6', 'B00CM1AANW']\n",
            "A2EMUM49CE0JV4 ['B00A9NE84C', 'B000F7JCRA', 'B00076FVP6', 'B004HW7EAG', 'B003D5MY5I']\n",
            "A3RR2P5IS3DGPR ['B007WTAJTO', 'B004MF11MU', 'B0001MQUOC', 'B003BKTJPI', 'B001E2V7R8']\n",
            "A2FHTXLKY1XJDB ['B006X2P00O', 'B007K7JTY4', 'B001W8WEGC', 'B00DAANUVI', 'B0002A9SJ2']\n",
            "A30JPZ9TZ7I61U ['B004CLYEFK', 'B0058FAYPI', 'B00HC0ZDOE', 'B000065BP9', 'B00634PLTW']\n",
            "AFXTKAO0CB354 ['B000067RT6', 'B000Q85WRC', 'B002IJ95ZM', 'B003SW13WQ', 'B00005T3FO']\n",
            "A1AWL9JASMG904 ['B001QATRCA', 'B000IMSK8Y', 'B000E5CYW8', 'B000XMM1FW', 'B004UHDUNI']\n",
            "A1TFDMY4YNTV97 ['B0019EHU8G', 'B002O11LQA', 'B0036R76R4', 'B003962DXE', 'B002PHM0XQ']\n",
            "A1987V5OCO6QHS ['B0019EHU8G', 'B007FGYZFI', 'B000EVSLRO', 'B0093HGD2K', 'B006TF36TM']\n",
            "A2F2F7N94SR1KQ ['B002IO2UM2', 'B00461E7JE', 'B004YDUZ22', 'B005LS2GPI', 'B000F0ELOG']\n",
            "A51OFQVC6O5YL ['B004S4R5CK', 'B006EKIQYM', 'B000JE7GPY', 'B0077QTSQM', 'B007PY3ZPG']\n",
            "A1FR68QH6Z4YZM ['B000BY52NK', 'B000AZ57M6', 'B0007G6RZE', 'B002IKLJU0', 'B001KELVS0']\n",
            "A3VVMIMMTYQV5F ['B001342KM8', 'B0015AARJI', 'B000H4CLXS', 'B003VANOI6', 'B0019M6GP6']\n",
            "A3N8O68DOEQ2FE ['B002WE6D44', 'B001E1Y5O6', 'B000F0ELOG', 'B0001Y7UAI', 'B000HCGAFK']\n",
            "A3JU16JTNLVK1J ['B00AANQLRI', 'B0002Y5WZC', 'B00BEWF4R2', 'B0048IW030', 'B0000BZYPD']\n",
            "A1GWG5CWLKJ7ET ['B00A0JUNWQ', 'B004JU0E2G', 'B0025VKUPW', 'B00D349WB8', 'B005MJU1DA']\n",
            "A206CGM6J75UJY ['B002YU83YO', 'B007PZWYKM', 'B000NGKEH0', 'B00A35WYBA', 'B007PRHNHO']\n",
            "A1IU4UAV9QIJAI ['B0073P32X2', 'B0027Q4HXG', 'B002HZW6WQ', 'B002N3DIC4', 'B002Y2NI4M']\n",
            "A3N4I2KRSMACW8 ['B001X017G2', 'B00IEZGWI2', 'B007JOO4XE', 'B00B11C6HW', 'B003UI62AG']\n",
            "A2THQCHKR89E16 ['B004PAA876', 'B002XJG71M', 'B005HMKKH4', 'B004MNADXK', 'B004NIG1SA']\n",
            "A2NOIWPJDD7WIQ ['B001S2PPT0', 'B000BYCKU8', 'B000HGIWN4', 'B002J9HBIO', 'B003BRURLG']\n",
            "AFM2J3HJNPIHV ['B0019EHU8G', 'B000067SGI', 'B009W34X5O', 'B0016GV1UU', 'B003XQLUGQ']\n",
            "AYCAIHABPYWVJ ['B00139VKU6', 'B003YTROIU', 'B0039NLS4C', 'B00006I53V', 'B002ROGCRC']\n",
            "AXU3VKZE848IY ['B00IF4OATU', 'B001TANZ0W', 'B00104XCVO', 'B000O8WE66', 'B002JM1V6O']\n",
            "A2UWPPU5GZLMQZ ['B00889ST2G', 'B0010Z294O', 'B00BF9MUAS', 'B006TF36TM', 'B0043M6F14']\n",
            "A3H6NNGCINPLEC ['B0054L8N7M', 'B001G5ZTLS', 'B0000TU7IG', 'B002LITT56', 'B003YKG2XM']\n",
            "ARTA78TP6H73D ['B00D429Y12', 'B00005QXWI', 'B002FU5QMA', 'B005XPFYBM', 'B006WHPQUO']\n",
            "AEIB3UR05OP7A ['B002VKVZ1A', 'B0034CL2ZI', 'B00AJHDZSI', 'B009SYZ8OC', 'B007V5A1BK']\n",
            "A1SX9PHJWTDMF9 ['B007R67FNA', 'B0012Y02CE', 'B0055Q9NH0', 'B00004T8R2', 'B00006JQ06']\n",
            "A2Y3WWPUKIJ59I ['B003I4FHNA', 'B00829THVO', 'B0002L5R78', 'B003P2UMQ2', 'B0093IZOV0']\n",
            "AD8DLOGHAXL ['B0012YFXSW', 'B000051299', 'B002R06PGE', 'B00025O7FC']\n",
            "A3PPO2X5PJE1L9 ['B0081ER9KG', 'B000H02B6O', 'B009B0MY6S', 'B00AM7MM4I', 'B003ES61EE']\n",
            "A6XDZ1MJ0B1A2 ['B003N8GVUY', 'B004XC6GJ0', 'B00D7P6176', 'B004R7P28W', 'B007F9XHAY']\n",
            "AYOTEJ617O60K ['B003FVJYF8', 'B0074H3IU6', 'B001LRKB78', 'B002IWP87S', 'B007477COO']\n",
            "AS7J4952JB5XR ['B002V88HFE', 'B005KQ0S8S', 'B00FPKDPZC', 'B0043M6F14', 'B00FNPD1VW']\n",
            "A28CCQNXWV6WA2 ['B0011E4NSO', 'B001OC7IXU', 'B00328HR4Y', 'B001BX6HCU', 'B001PKTR76']\n",
            "A4H4KYSM2KQ85 ['B0009GZAGO', 'B002JCSV8A', 'B008MWBY6W', 'B0054L8N7M', 'B000CSQNL0']\n",
            "A2PB325LKXYDOL ['B003YNQ6MG', 'B006EKIQYM', 'B001XURP7W', 'B000S6E0XY', 'B003NSBF32']\n",
            "A3UW0PQLDUACMH ['B004CLYE8C', 'B0050IE1O8', 'B00FRDUZXM', 'B00FRMAOIO', 'B004TS2AOS']\n",
            "ANSVB7OYSXZSL ['B0043M6F14', 'B0025EWXEU', 'B002TQ6HT6', 'B002ZFVS9A']\n",
            "A31BD4RXCON7QO ['B001KELVS0', 'B00322PYZO', 'B000E5FOYS', 'B00200K9NQ', 'B00GO1UV4E']\n",
            "A2CL818RN52NWN ['B0002LHSG6', 'B0007P4G6M', 'B000BI2180']\n",
            "A1GBU479WXR7UG ['B002ZIMEMW', 'B000WH86BQ', 'B00363EZY0', 'B00486T134', 'B00BI8IT24']\n",
            "A1HBEQWSMVQEWJ ['B003XM1WE0', 'B007IMPMW4', 'B005IHAI8O', 'B004KKGF1O', 'B0072DKWQ0']\n",
            "AH5BCMZELZSKG ['B00D6XSRL2', 'B004ZNA3UA', 'B003LYKLCO', 'B007PFQ0PC', 'B003ISYA6G']\n",
            "A1Y4EWMUTW73GD ['B002IKLJVE', 'B0028MF260', 'B00009V4G9', 'B001FSKDWG', 'B001UE8LRY']\n",
            "A3FEJ8H2VTN0OJ ['B002BH3Z8E', 'B00DSUTVK4', 'B007NZGPAY', 'B00APP6694', 'B004PVW1DY']\n",
            "ADPKRJ2BSFJ0I ['B0029N3U8K', 'B0051PLPM6', 'B002ZJQLZC', 'B006K551WQ']\n",
            "AW63IRQWH10GF ['B0010Y414Q', 'B004G8QETI', 'B000EY5F5C']\n",
            "A57Q87B0TC9IJ ['B000N99BBC', 'B007ZZ6OW6', 'B00002JXFH', 'B002ZV51DI', 'B00GC1ZMYA']\n",
            "A1JWSDDIH5Z7DV ['B0011ZCDKS', 'B000EPNES6', 'B000EPHSLK', 'B000JLWDB4', 'B000HEW0KW']\n",
            "A2OS3TIVAKUAHG ['B003WUX6PG', 'B0050A1O64', 'B002LITI8E', 'B00EUFP39E', 'B003YNO0LA']\n",
            "AYGEKID3G7DPW ['B000LVJ9W8', 'B0001HA8WW', 'B004K1EZDS', 'B0000C1ZNV']\n",
            "A3PCEB9ND82AGE ['B004FPOPXE', 'B00E3W15P0', 'B00A9NE84C', 'B0001FTVDQ', 'B0044DEDC0']\n",
            "AS2II0671KT2C ['B004Q0PT3I', 'B003DXI288', 'B0074BW614', 'B000BTGVUS', 'B0036VO6IC']\n",
            "A2BGZ52M908MJY ['B00005ALB1', 'B00005QJCU']\n",
            "A2I5LVVQ7WXEH6 ['B001TH7T2U', 'B000JE7GPY', 'B001TH7GVE', 'B001E1Y5O6', 'B000I5LACO']\n",
            "A3UQSOJW51UU9T ['B000RZQZM0', 'B002NU5UW8', 'B002K42W4Q', 'B001S2PYQY', 'B00AQ2BWP4']\n",
            "A18U49406IPPIJ ['B000CKVOOY', 'B00G4UQ6U8', 'B00J46VVKE', 'B00FCISG6K', 'B00ESUIX4S']\n",
            "A2ER8G4JJJ7XER ['B000WKTG76', 'B001F7AP1Q']\n",
            "A3CP3J7OEGQMD5 ['B005KQ0S8S', 'B0015C30J0', 'B003U8HV4M', 'B002KO63X2', 'B009KY58FE']\n",
            "A25HBO5V8S8SEA ['B00009R6TA', 'B0001F1ZY4', 'B000068CS0', 'B0007VRPZA']\n",
            "A2VALCFTOWFYXZ ['B00ARB5E8U', 'B00B46XKKQ', 'B004P1IU52', 'B005DDCDH2', 'B008CX2A2I']\n"
          ],
          "name": "stdout"
        }
      ]
    },
    {
      "cell_type": "markdown",
      "metadata": {
        "id": "A4jPdoKlnMg3",
        "colab_type": "text"
      },
      "source": [
        "Summarizing the insights:-\n",
        "\n",
        "we considered three columns userId, productId, and ratings .\n",
        "\n",
        "We analyzed the dataset and plotted the ratings,user based ratings and other needed info\n",
        "\n",
        "To avoid memory issues we considered a subset of data(users who have given atleast 50 ratings/products rated atleast 50 times).\n",
        "\n",
        "\n",
        "We implemented popularity based recommendations by listing out the higly rated products with the highest number of ratings.Always note that popularity based recommendation is same regardless of the user.\n",
        "\n",
        "We implemented item based collaborative filtering model,as our area of interest is to provide product recommendations for the user.\n",
        "\n",
        "\n",
        "For the current work we used KNNwithmeans model and we got a train rmse of 0.019 and test rmse of 1.13 which clearly indicates that the model is not generalized,so we tried implementing SVD and the rmse was 0.85.\n",
        "\n",
        "\n",
        "We formulated top 5 recommendations for each user using SVD parameter tuned model"
      ]
    }
  ]
}