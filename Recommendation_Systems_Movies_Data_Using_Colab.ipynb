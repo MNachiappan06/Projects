{
  "nbformat": 4,
  "nbformat_minor": 0,
  "metadata": {
    "kernelspec": {
      "display_name": "Python 3",
      "language": "python",
      "name": "python3"
    },
    "language_info": {
      "codemirror_mode": {
        "name": "ipython",
        "version": 3
      },
      "file_extension": ".py",
      "mimetype": "text/x-python",
      "name": "python",
      "nbconvert_exporter": "python",
      "pygments_lexer": "ipython3",
      "version": "3.7.3"
    },
    "colab": {
      "name": "Untitled11.ipynb",
      "provenance": [],
      "collapsed_sections": [],
      "machine_shape": "hm"
    }
  },
  "cells": [
    {
      "cell_type": "code",
      "metadata": {
        "id": "Z9GO5XBFWLYd",
        "colab_type": "code",
        "colab": {
          "base_uri": "https://localhost:8080/",
          "height": 122
        },
        "outputId": "4dce2cfc-1fe3-4387-961a-1f1aca637f94"
      },
      "source": [
        "from google.colab import drive\n",
        "drive.mount('/content/gdrive')"
      ],
      "execution_count": 1,
      "outputs": [
        {
          "output_type": "stream",
          "text": [
            "Go to this URL in a browser: https://accounts.google.com/o/oauth2/auth?client_id=947318989803-6bn6qk8qdgf4n4g3pfee6491hc0brc4i.apps.googleusercontent.com&redirect_uri=urn%3aietf%3awg%3aoauth%3a2.0%3aoob&response_type=code&scope=email%20https%3a%2f%2fwww.googleapis.com%2fauth%2fdocs.test%20https%3a%2f%2fwww.googleapis.com%2fauth%2fdrive%20https%3a%2f%2fwww.googleapis.com%2fauth%2fdrive.photos.readonly%20https%3a%2f%2fwww.googleapis.com%2fauth%2fpeopleapi.readonly\n",
            "\n",
            "Enter your authorization code:\n",
            "··········\n",
            "Mounted at /content/gdrive\n"
          ],
          "name": "stdout"
        }
      ]
    },
    {
      "cell_type": "code",
      "metadata": {
        "id": "d8SG2bNgXMw1",
        "colab_type": "code",
        "colab": {}
      },
      "source": [
        "import pandas as pd\n",
        "import numpy as np"
      ],
      "execution_count": 0,
      "outputs": []
    },
    {
      "cell_type": "code",
      "metadata": {
        "id": "C6lWUwI4XSjV",
        "colab_type": "code",
        "colab": {
          "base_uri": "https://localhost:8080/",
          "height": 71
        },
        "outputId": "66797024-41dd-4525-9cde-3d24bd7af2e1"
      },
      "source": [
        "df1 = pd.read_csv('gdrive/My Drive/AIML/movies_metadata.csv')"
      ],
      "execution_count": 3,
      "outputs": [
        {
          "output_type": "stream",
          "text": [
            "/usr/local/lib/python3.6/dist-packages/IPython/core/interactiveshell.py:2718: DtypeWarning: Columns (10) have mixed types. Specify dtype option on import or set low_memory=False.\n",
            "  interactivity=interactivity, compiler=compiler, result=result)\n"
          ],
          "name": "stderr"
        }
      ]
    },
    {
      "cell_type": "code",
      "metadata": {
        "id": "VCQPmVPyXkKP",
        "colab_type": "code",
        "colab": {
          "base_uri": "https://localhost:8080/",
          "height": 34
        },
        "outputId": "2d060e17-f4de-4d32-c6fb-79322fc7a653"
      },
      "source": [
        "df1.shape"
      ],
      "execution_count": 4,
      "outputs": [
        {
          "output_type": "execute_result",
          "data": {
            "text/plain": [
              "(45466, 24)"
            ]
          },
          "metadata": {
            "tags": []
          },
          "execution_count": 4
        }
      ]
    },
    {
      "cell_type": "code",
      "metadata": {
        "id": "SWxRd2GgXztq",
        "colab_type": "code",
        "colab": {
          "base_uri": "https://localhost:8080/",
          "height": 204
        },
        "outputId": "29318104-3f34-460f-8038-5f19f1f4badf"
      },
      "source": [
        "df1[['overview','tagline','budget',\"genres\"]].head()"
      ],
      "execution_count": 6,
      "outputs": [
        {
          "output_type": "execute_result",
          "data": {
            "text/html": [
              "<div>\n",
              "<style scoped>\n",
              "    .dataframe tbody tr th:only-of-type {\n",
              "        vertical-align: middle;\n",
              "    }\n",
              "\n",
              "    .dataframe tbody tr th {\n",
              "        vertical-align: top;\n",
              "    }\n",
              "\n",
              "    .dataframe thead th {\n",
              "        text-align: right;\n",
              "    }\n",
              "</style>\n",
              "<table border=\"1\" class=\"dataframe\">\n",
              "  <thead>\n",
              "    <tr style=\"text-align: right;\">\n",
              "      <th></th>\n",
              "      <th>overview</th>\n",
              "      <th>tagline</th>\n",
              "      <th>budget</th>\n",
              "      <th>genres</th>\n",
              "    </tr>\n",
              "  </thead>\n",
              "  <tbody>\n",
              "    <tr>\n",
              "      <th>0</th>\n",
              "      <td>Led by Woody, Andy's toys live happily in his ...</td>\n",
              "      <td>NaN</td>\n",
              "      <td>30000000</td>\n",
              "      <td>[{'id': 16, 'name': 'Animation'}, {'id': 35, '...</td>\n",
              "    </tr>\n",
              "    <tr>\n",
              "      <th>1</th>\n",
              "      <td>When siblings Judy and Peter discover an encha...</td>\n",
              "      <td>Roll the dice and unleash the excitement!</td>\n",
              "      <td>65000000</td>\n",
              "      <td>[{'id': 12, 'name': 'Adventure'}, {'id': 14, '...</td>\n",
              "    </tr>\n",
              "    <tr>\n",
              "      <th>2</th>\n",
              "      <td>A family wedding reignites the ancient feud be...</td>\n",
              "      <td>Still Yelling. Still Fighting. Still Ready for...</td>\n",
              "      <td>0</td>\n",
              "      <td>[{'id': 10749, 'name': 'Romance'}, {'id': 35, ...</td>\n",
              "    </tr>\n",
              "    <tr>\n",
              "      <th>3</th>\n",
              "      <td>Cheated on, mistreated and stepped on, the wom...</td>\n",
              "      <td>Friends are the people who let you be yourself...</td>\n",
              "      <td>16000000</td>\n",
              "      <td>[{'id': 35, 'name': 'Comedy'}, {'id': 18, 'nam...</td>\n",
              "    </tr>\n",
              "    <tr>\n",
              "      <th>4</th>\n",
              "      <td>Just when George Banks has recovered from his ...</td>\n",
              "      <td>Just When His World Is Back To Normal... He's ...</td>\n",
              "      <td>0</td>\n",
              "      <td>[{'id': 35, 'name': 'Comedy'}]</td>\n",
              "    </tr>\n",
              "  </tbody>\n",
              "</table>\n",
              "</div>"
            ],
            "text/plain": [
              "                                            overview  ...                                             genres\n",
              "0  Led by Woody, Andy's toys live happily in his ...  ...  [{'id': 16, 'name': 'Animation'}, {'id': 35, '...\n",
              "1  When siblings Judy and Peter discover an encha...  ...  [{'id': 12, 'name': 'Adventure'}, {'id': 14, '...\n",
              "2  A family wedding reignites the ancient feud be...  ...  [{'id': 10749, 'name': 'Romance'}, {'id': 35, ...\n",
              "3  Cheated on, mistreated and stepped on, the wom...  ...  [{'id': 35, 'name': 'Comedy'}, {'id': 18, 'nam...\n",
              "4  Just when George Banks has recovered from his ...  ...                     [{'id': 35, 'name': 'Comedy'}]\n",
              "\n",
              "[5 rows x 4 columns]"
            ]
          },
          "metadata": {
            "tags": []
          },
          "execution_count": 6
        }
      ]
    },
    {
      "cell_type": "code",
      "metadata": {
        "id": "lSFA2CyRYfz9",
        "colab_type": "code",
        "colab": {}
      },
      "source": [
        "df1['tagline'] = df1['tagline'].fillna('')"
      ],
      "execution_count": 0,
      "outputs": []
    },
    {
      "cell_type": "code",
      "metadata": {
        "id": "hT-6hfsuYvvk",
        "colab_type": "code",
        "colab": {
          "base_uri": "https://localhost:8080/",
          "height": 185
        },
        "outputId": "6795eea7-a690-42cd-bcaa-2c25815881a2"
      },
      "source": [
        "df1['description'] = df1['overview'] + df1['tagline']\n",
        "df1.head(1)"
      ],
      "execution_count": 8,
      "outputs": [
        {
          "output_type": "execute_result",
          "data": {
            "text/html": [
              "<div>\n",
              "<style scoped>\n",
              "    .dataframe tbody tr th:only-of-type {\n",
              "        vertical-align: middle;\n",
              "    }\n",
              "\n",
              "    .dataframe tbody tr th {\n",
              "        vertical-align: top;\n",
              "    }\n",
              "\n",
              "    .dataframe thead th {\n",
              "        text-align: right;\n",
              "    }\n",
              "</style>\n",
              "<table border=\"1\" class=\"dataframe\">\n",
              "  <thead>\n",
              "    <tr style=\"text-align: right;\">\n",
              "      <th></th>\n",
              "      <th>adult</th>\n",
              "      <th>belongs_to_collection</th>\n",
              "      <th>budget</th>\n",
              "      <th>genres</th>\n",
              "      <th>homepage</th>\n",
              "      <th>id</th>\n",
              "      <th>imdb_id</th>\n",
              "      <th>original_language</th>\n",
              "      <th>original_title</th>\n",
              "      <th>overview</th>\n",
              "      <th>popularity</th>\n",
              "      <th>poster_path</th>\n",
              "      <th>production_companies</th>\n",
              "      <th>production_countries</th>\n",
              "      <th>release_date</th>\n",
              "      <th>revenue</th>\n",
              "      <th>runtime</th>\n",
              "      <th>spoken_languages</th>\n",
              "      <th>status</th>\n",
              "      <th>tagline</th>\n",
              "      <th>title</th>\n",
              "      <th>video</th>\n",
              "      <th>vote_average</th>\n",
              "      <th>vote_count</th>\n",
              "      <th>description</th>\n",
              "    </tr>\n",
              "  </thead>\n",
              "  <tbody>\n",
              "    <tr>\n",
              "      <th>0</th>\n",
              "      <td>False</td>\n",
              "      <td>{'id': 10194, 'name': 'Toy Story Collection', ...</td>\n",
              "      <td>30000000</td>\n",
              "      <td>[{'id': 16, 'name': 'Animation'}, {'id': 35, '...</td>\n",
              "      <td>http://toystory.disney.com/toy-story</td>\n",
              "      <td>862</td>\n",
              "      <td>tt0114709</td>\n",
              "      <td>en</td>\n",
              "      <td>Toy Story</td>\n",
              "      <td>Led by Woody, Andy's toys live happily in his ...</td>\n",
              "      <td>21.9469</td>\n",
              "      <td>/rhIRbceoE9lR4veEXuwCC2wARtG.jpg</td>\n",
              "      <td>[{'name': 'Pixar Animation Studios', 'id': 3}]</td>\n",
              "      <td>[{'iso_3166_1': 'US', 'name': 'United States o...</td>\n",
              "      <td>1995-10-30</td>\n",
              "      <td>373554033.0</td>\n",
              "      <td>81.0</td>\n",
              "      <td>[{'iso_639_1': 'en', 'name': 'English'}]</td>\n",
              "      <td>Released</td>\n",
              "      <td></td>\n",
              "      <td>Toy Story</td>\n",
              "      <td>False</td>\n",
              "      <td>7.7</td>\n",
              "      <td>5415.0</td>\n",
              "      <td>Led by Woody, Andy's toys live happily in his ...</td>\n",
              "    </tr>\n",
              "  </tbody>\n",
              "</table>\n",
              "</div>"
            ],
            "text/plain": [
              "   adult  ...                                        description\n",
              "0  False  ...  Led by Woody, Andy's toys live happily in his ...\n",
              "\n",
              "[1 rows x 25 columns]"
            ]
          },
          "metadata": {
            "tags": []
          },
          "execution_count": 8
        }
      ]
    },
    {
      "cell_type": "code",
      "metadata": {
        "id": "nHDJ5gZFZA_z",
        "colab_type": "code",
        "colab": {
          "base_uri": "https://localhost:8080/",
          "height": 34
        },
        "outputId": "ec883c9d-1588-4f65-8c25-5f0b0cd9f490"
      },
      "source": [
        "df1.shape"
      ],
      "execution_count": 9,
      "outputs": [
        {
          "output_type": "execute_result",
          "data": {
            "text/plain": [
              "(45466, 25)"
            ]
          },
          "metadata": {
            "tags": []
          },
          "execution_count": 9
        }
      ]
    },
    {
      "cell_type": "code",
      "metadata": {
        "id": "Z9uaMNO_ZG4A",
        "colab_type": "code",
        "colab": {
          "base_uri": "https://localhost:8080/",
          "height": 204
        },
        "outputId": "cf2a5039-6e42-4ebe-88d0-85d66e1083b8"
      },
      "source": [
        "df1[[\"overview\",\"tagline\",\"description\"]].head()  "
      ],
      "execution_count": 10,
      "outputs": [
        {
          "output_type": "execute_result",
          "data": {
            "text/html": [
              "<div>\n",
              "<style scoped>\n",
              "    .dataframe tbody tr th:only-of-type {\n",
              "        vertical-align: middle;\n",
              "    }\n",
              "\n",
              "    .dataframe tbody tr th {\n",
              "        vertical-align: top;\n",
              "    }\n",
              "\n",
              "    .dataframe thead th {\n",
              "        text-align: right;\n",
              "    }\n",
              "</style>\n",
              "<table border=\"1\" class=\"dataframe\">\n",
              "  <thead>\n",
              "    <tr style=\"text-align: right;\">\n",
              "      <th></th>\n",
              "      <th>overview</th>\n",
              "      <th>tagline</th>\n",
              "      <th>description</th>\n",
              "    </tr>\n",
              "  </thead>\n",
              "  <tbody>\n",
              "    <tr>\n",
              "      <th>0</th>\n",
              "      <td>Led by Woody, Andy's toys live happily in his ...</td>\n",
              "      <td></td>\n",
              "      <td>Led by Woody, Andy's toys live happily in his ...</td>\n",
              "    </tr>\n",
              "    <tr>\n",
              "      <th>1</th>\n",
              "      <td>When siblings Judy and Peter discover an encha...</td>\n",
              "      <td>Roll the dice and unleash the excitement!</td>\n",
              "      <td>When siblings Judy and Peter discover an encha...</td>\n",
              "    </tr>\n",
              "    <tr>\n",
              "      <th>2</th>\n",
              "      <td>A family wedding reignites the ancient feud be...</td>\n",
              "      <td>Still Yelling. Still Fighting. Still Ready for...</td>\n",
              "      <td>A family wedding reignites the ancient feud be...</td>\n",
              "    </tr>\n",
              "    <tr>\n",
              "      <th>3</th>\n",
              "      <td>Cheated on, mistreated and stepped on, the wom...</td>\n",
              "      <td>Friends are the people who let you be yourself...</td>\n",
              "      <td>Cheated on, mistreated and stepped on, the wom...</td>\n",
              "    </tr>\n",
              "    <tr>\n",
              "      <th>4</th>\n",
              "      <td>Just when George Banks has recovered from his ...</td>\n",
              "      <td>Just When His World Is Back To Normal... He's ...</td>\n",
              "      <td>Just when George Banks has recovered from his ...</td>\n",
              "    </tr>\n",
              "  </tbody>\n",
              "</table>\n",
              "</div>"
            ],
            "text/plain": [
              "                                            overview  ...                                        description\n",
              "0  Led by Woody, Andy's toys live happily in his ...  ...  Led by Woody, Andy's toys live happily in his ...\n",
              "1  When siblings Judy and Peter discover an encha...  ...  When siblings Judy and Peter discover an encha...\n",
              "2  A family wedding reignites the ancient feud be...  ...  A family wedding reignites the ancient feud be...\n",
              "3  Cheated on, mistreated and stepped on, the wom...  ...  Cheated on, mistreated and stepped on, the wom...\n",
              "4  Just when George Banks has recovered from his ...  ...  Just when George Banks has recovered from his ...\n",
              "\n",
              "[5 rows x 3 columns]"
            ]
          },
          "metadata": {
            "tags": []
          },
          "execution_count": 10
        }
      ]
    },
    {
      "cell_type": "code",
      "metadata": {
        "id": "1XJKkzLlZKO8",
        "colab_type": "code",
        "colab": {
          "base_uri": "https://localhost:8080/",
          "height": 459
        },
        "outputId": "0bc23982-e9b7-4fee-efbf-37adaff71d61"
      },
      "source": [
        "df1.isna().sum()"
      ],
      "execution_count": 11,
      "outputs": [
        {
          "output_type": "execute_result",
          "data": {
            "text/plain": [
              "adult                        0\n",
              "belongs_to_collection    40972\n",
              "budget                       0\n",
              "genres                       0\n",
              "homepage                 37684\n",
              "id                           0\n",
              "imdb_id                     17\n",
              "original_language           11\n",
              "original_title               0\n",
              "overview                   954\n",
              "popularity                   5\n",
              "poster_path                386\n",
              "production_companies         3\n",
              "production_countries         3\n",
              "release_date                87\n",
              "revenue                      6\n",
              "runtime                    263\n",
              "spoken_languages             6\n",
              "status                      87\n",
              "tagline                      0\n",
              "title                        6\n",
              "video                        6\n",
              "vote_average                 6\n",
              "vote_count                   6\n",
              "description                954\n",
              "dtype: int64"
            ]
          },
          "metadata": {
            "tags": []
          },
          "execution_count": 11
        }
      ]
    },
    {
      "cell_type": "code",
      "metadata": {
        "id": "1zFOKhC6ZW18",
        "colab_type": "code",
        "colab": {}
      },
      "source": [
        "#We have 954 null values in the description field"
      ],
      "execution_count": 0,
      "outputs": []
    },
    {
      "cell_type": "code",
      "metadata": {
        "id": "stazBwcvZiby",
        "colab_type": "code",
        "colab": {}
      },
      "source": [
        "df1.dropna(subset=['description'], inplace=True)"
      ],
      "execution_count": 0,
      "outputs": []
    },
    {
      "cell_type": "code",
      "metadata": {
        "id": "vzU532f4ZrNq",
        "colab_type": "code",
        "colab": {
          "base_uri": "https://localhost:8080/",
          "height": 34
        },
        "outputId": "4e1c9f07-e83f-4354-cf60-1da69324429d"
      },
      "source": [
        "df1.description.isna().sum()"
      ],
      "execution_count": 13,
      "outputs": [
        {
          "output_type": "execute_result",
          "data": {
            "text/plain": [
              "0"
            ]
          },
          "metadata": {
            "tags": []
          },
          "execution_count": 13
        }
      ]
    },
    {
      "cell_type": "code",
      "metadata": {
        "id": "lC0Lk2fvZu42",
        "colab_type": "code",
        "colab": {
          "base_uri": "https://localhost:8080/",
          "height": 34
        },
        "outputId": "0175e7c5-5a09-4472-d077-cd3ffd604d76"
      },
      "source": [
        "df1.shape"
      ],
      "execution_count": 14,
      "outputs": [
        {
          "output_type": "execute_result",
          "data": {
            "text/plain": [
              "(44512, 25)"
            ]
          },
          "metadata": {
            "tags": []
          },
          "execution_count": 14
        }
      ]
    },
    {
      "cell_type": "code",
      "metadata": {
        "id": "L6jRJKXbZ23N",
        "colab_type": "code",
        "colab": {}
      },
      "source": [
        "df1.drop_duplicates(subset=['title'], keep='first', inplace=True)"
      ],
      "execution_count": 0,
      "outputs": []
    },
    {
      "cell_type": "code",
      "metadata": {
        "id": "400RQ67-Z63d",
        "colab_type": "code",
        "colab": {
          "base_uri": "https://localhost:8080/",
          "height": 34
        },
        "outputId": "a883d147-e688-4645-c002-e7f959318eab"
      },
      "source": [
        "df1.shape"
      ],
      "execution_count": 16,
      "outputs": [
        {
          "output_type": "execute_result",
          "data": {
            "text/plain": [
              "(41372, 25)"
            ]
          },
          "metadata": {
            "tags": []
          },
          "execution_count": 16
        }
      ]
    },
    {
      "cell_type": "code",
      "metadata": {
        "id": "BB9uVkpSZ9kj",
        "colab_type": "code",
        "colab": {}
      },
      "source": [
        "df1.reset_index(drop=True, inplace=True) #Index has been reset without disturbing the existing column shape by adding the parameter has drop = True"
      ],
      "execution_count": 0,
      "outputs": []
    },
    {
      "cell_type": "code",
      "metadata": {
        "id": "lh0i-jQuaEbC",
        "colab_type": "code",
        "colab": {
          "base_uri": "https://localhost:8080/",
          "height": 884
        },
        "outputId": "5bdc0853-c0fe-4ef1-9473-95f97a1e86e6"
      },
      "source": [
        "from sklearn.feature_extraction.text import TfidfVectorizer    #term frequency inverse document frequency\n",
        "tf = TfidfVectorizer(analyzer='word', ngram_range=(1, 3), min_df=0, stop_words='english') #min_df = 0.007 altered due to memory issue\n",
        "tfidf_matrix = tf.fit_transform(df1['description'])\n",
        "print(tfidf_matrix)"
      ],
      "execution_count": 18,
      "outputs": [
        {
          "output_type": "stream",
          "text": [
            "  (0, 1126726)\t0.11233766834628615\n",
            "  (0, 643575)\t0.11233766834628615\n",
            "  (0, 581976)\t0.11233766834628615\n",
            "  (0, 1442903)\t0.11233766834628615\n",
            "  (0, 2185713)\t0.11233766834628615\n",
            "  (0, 263399)\t0.11233766834628615\n",
            "  (0, 1757708)\t0.11233766834628615\n",
            "  (0, 337272)\t0.11233766834628615\n",
            "  (0, 263359)\t0.11233766834628615\n",
            "  (0, 1516369)\t0.11233766834628615\n",
            "  (0, 2185717)\t0.11233766834628615\n",
            "  (0, 896905)\t0.11233766834628615\n",
            "  (0, 87094)\t0.11233766834628615\n",
            "  (0, 1502102)\t0.11233766834628615\n",
            "  (0, 1194138)\t0.11233766834628615\n",
            "  (0, 51985)\t0.11233766834628615\n",
            "  (0, 1722784)\t0.11233766834628615\n",
            "  (0, 1156858)\t0.11233766834628615\n",
            "  (0, 263384)\t0.11233766834628615\n",
            "  (0, 239892)\t0.11233766834628615\n",
            "  (0, 198821)\t0.11233766834628615\n",
            "  (0, 87007)\t0.11233766834628615\n",
            "  (0, 1689112)\t0.11233766834628615\n",
            "  (0, 880561)\t0.11233766834628615\n",
            "  (0, 1168574)\t0.11233766834628615\n",
            "  :\t:\n",
            "  (41371, 802865)\t0.1414267623753692\n",
            "  (41371, 192000)\t0.13211877826835347\n",
            "  (41371, 1303580)\t0.10843628334018819\n",
            "  (41371, 451336)\t0.10922642784978556\n",
            "  (41371, 2060573)\t0.10391793814776853\n",
            "  (41371, 19146)\t0.10598796327108893\n",
            "  (41371, 1039113)\t0.10922642784978556\n",
            "  (41371, 121644)\t0.1414267623753692\n",
            "  (41371, 802848)\t0.11407432534821799\n",
            "  (41371, 1285979)\t0.0963639979380552\n",
            "  (41371, 105289)\t0.10142402013159109\n",
            "  (41371, 662379)\t0.13004875314503309\n",
            "  (41371, 15662)\t0.0889836622879676\n",
            "  (41371, 15651)\t0.08777772327593575\n",
            "  (41371, 18966)\t0.08811136981804465\n",
            "  (41371, 1631223)\t0.08027465078763663\n",
            "  (41371, 301134)\t0.06768116673855888\n",
            "  (41371, 802502)\t0.07871919369535842\n",
            "  (41371, 504962)\t0.0909191762781425\n",
            "  (41371, 528677)\t0.06333787566360202\n",
            "  (41371, 934110)\t0.10631155923080227\n",
            "  (41371, 1283078)\t0.05595718166952893\n",
            "  (41371, 701543)\t0.0846990894259574\n",
            "  (41371, 2180766)\t0.05965952084698328\n",
            "  (41371, 2212786)\t0.04842143949960357\n"
          ],
          "name": "stdout"
        }
      ]
    },
    {
      "cell_type": "code",
      "metadata": {
        "id": "9HAjtip_aUDW",
        "colab_type": "code",
        "colab": {
          "base_uri": "https://localhost:8080/",
          "height": 34
        },
        "outputId": "e983f452-f6b2-4ddc-ff71-7435b2733a35"
      },
      "source": [
        "tfidf_matrix.shape"
      ],
      "execution_count": 19,
      "outputs": [
        {
          "output_type": "execute_result",
          "data": {
            "text/plain": [
              "(41372, 2237767)"
            ]
          },
          "metadata": {
            "tags": []
          },
          "execution_count": 19
        }
      ]
    },
    {
      "cell_type": "code",
      "metadata": {
        "id": "LfdVdBAFaXkr",
        "colab_type": "code",
        "colab": {}
      },
      "source": [
        "from sklearn.feature_extraction.text import TfidfVectorizer\n",
        "tf_idf_vect = TfidfVectorizer(analyzer='word',ngram_range=(1,3),stop_words='english', min_df = 0)\n",
        "tf_idf_vect.fit(df1['description'])\n",
        "title_matrix_2 = tf_idf_vect.transform(df1[\"description\"])"
      ],
      "execution_count": 0,
      "outputs": []
    },
    {
      "cell_type": "code",
      "metadata": {
        "id": "8WQN4w9oc2uo",
        "colab_type": "code",
        "colab": {
          "base_uri": "https://localhost:8080/",
          "height": 34
        },
        "outputId": "db719d21-1c86-4f28-84bd-1c02dd2a3a2f"
      },
      "source": [
        "title_matrix_2.shape"
      ],
      "execution_count": 21,
      "outputs": [
        {
          "output_type": "execute_result",
          "data": {
            "text/plain": [
              "(41372, 2237767)"
            ]
          },
          "metadata": {
            "tags": []
          },
          "execution_count": 21
        }
      ]
    },
    {
      "cell_type": "code",
      "metadata": {
        "id": "XoUy14-qc98R",
        "colab_type": "code",
        "colab": {}
      },
      "source": [
        "from sklearn.metrics.pairwise import cosine_similarity "
      ],
      "execution_count": 0,
      "outputs": []
    },
    {
      "cell_type": "code",
      "metadata": {
        "id": "o7voa1jwdGeb",
        "colab_type": "code",
        "colab": {}
      },
      "source": [
        "cosine_sim_titles = cosine_similarity(title_matrix_2)"
      ],
      "execution_count": 0,
      "outputs": []
    },
    {
      "cell_type": "code",
      "metadata": {
        "id": "_Vfcq87Ae4xw",
        "colab_type": "code",
        "colab": {
          "base_uri": "https://localhost:8080/",
          "height": 34
        },
        "outputId": "f58ec76f-cf31-46b2-e82e-ea42b8764fac"
      },
      "source": [
        "cosine_sim_titles.shape"
      ],
      "execution_count": 24,
      "outputs": [
        {
          "output_type": "execute_result",
          "data": {
            "text/plain": [
              "(41372, 41372)"
            ]
          },
          "metadata": {
            "tags": []
          },
          "execution_count": 24
        }
      ]
    },
    {
      "cell_type": "code",
      "metadata": {
        "id": "iT8Zprwqe8cd",
        "colab_type": "code",
        "colab": {
          "base_uri": "https://localhost:8080/",
          "height": 238
        },
        "outputId": "7337512c-b636-48ed-f6be-5bbc921b67f8"
      },
      "source": [
        "cosine_sim_titles"
      ],
      "execution_count": 25,
      "outputs": [
        {
          "output_type": "execute_result",
          "data": {
            "text/plain": [
              "array([[1.        , 0.00318748, 0.        , ..., 0.        , 0.00148433,\n",
              "        0.        ],\n",
              "       [0.00318748, 1.        , 0.00753371, ..., 0.01049871, 0.00433914,\n",
              "        0.00167192],\n",
              "       [0.        , 0.00753371, 1.        , ..., 0.        , 0.0027614 ,\n",
              "        0.        ],\n",
              "       ...,\n",
              "       [0.        , 0.01049871, 0.        , ..., 1.        , 0.        ,\n",
              "        0.        ],\n",
              "       [0.00148433, 0.00433914, 0.0027614 , ..., 0.        , 1.        ,\n",
              "        0.        ],\n",
              "       [0.        , 0.00167192, 0.        , ..., 0.        , 0.        ,\n",
              "        1.        ]])"
            ]
          },
          "metadata": {
            "tags": []
          },
          "execution_count": 25
        }
      ]
    },
    {
      "cell_type": "code",
      "metadata": {
        "id": "5WgR9FuIe_mA",
        "colab_type": "code",
        "colab": {}
      },
      "source": [
        "def recommend(title_id,cosine_sim_titles):\n",
        "          return df1['title'].iloc[np.flip(np.argsort(cosine_sim_titles[title_id,]),axis=0)[1:11]]"
      ],
      "execution_count": 0,
      "outputs": []
    },
    {
      "cell_type": "code",
      "metadata": {
        "id": "A5gjQkx0grop",
        "colab_type": "code",
        "colab": {
          "base_uri": "https://localhost:8080/",
          "height": 255
        },
        "outputId": "128d6e80-13c7-4c1a-e55a-4260dbf86416"
      },
      "source": [
        "title_id = df1.loc[df1['title'] == 'The Dark Knight Rises']['title'].index\n",
        "print(\"\\n Recomment movies for The Dark Knight Rises \\n\")\n",
        "recommend(title_id[0],cosine_sim_titles)"
      ],
      "execution_count": 33,
      "outputs": [
        {
          "output_type": "stream",
          "text": [
            "\n",
            " Recomment movies for The Dark Knight Rises \n",
            "\n"
          ],
          "name": "stdout"
        },
        {
          "output_type": "execute_result",
          "data": {
            "text/plain": [
              "12041                                      The Dark Knight\n",
              "149                                         Batman Forever\n",
              "1311                                        Batman Returns\n",
              "3042                          Batman: Mask of the Phantasm\n",
              "583                                                 Batman\n",
              "20234                      Batman: Mystery of the Batwoman\n",
              "14858                           Batman: Under the Red Hood\n",
              "8966                    Batman Beyond: Return of the Joker\n",
              "23685                                    Batman vs Dracula\n",
              "20042    Batman Unmasked: The Psychology of the Dark Kn...\n",
              "Name: title, dtype: object"
            ]
          },
          "metadata": {
            "tags": []
          },
          "execution_count": 33
        }
      ]
    },
    {
      "cell_type": "code",
      "metadata": {
        "id": "gwFi3chIhhWc",
        "colab_type": "code",
        "colab": {
          "base_uri": "https://localhost:8080/",
          "height": 255
        },
        "outputId": "39499d51-b648-4530-fadc-8bb8f31f8080"
      },
      "source": [
        "title_id = df1.loc[df1['title'] == 'The Godfather']['title'].index\n",
        "print(\"\\n Recomment movies for The Godfather \\n\")\n",
        "recommend(title_id[0],cosine_sim_titles)"
      ],
      "execution_count": 34,
      "outputs": [
        {
          "output_type": "stream",
          "text": [
            "\n",
            " Recomment movies for The Godfather \n",
            "\n"
          ],
          "name": "stdout"
        },
        {
          "output_type": "execute_result",
          "data": {
            "text/plain": [
              "40138    The Godfather Trilogy: 1972-1990\n",
              "1162               The Godfather: Part II\n",
              "29583                    Honor Thy Father\n",
              "21784                          Blood Ties\n",
              "11574          The Cave of the Yellow Dog\n",
              "34854            A Mother Should Be Loved\n",
              "17426                     The Outside Man\n",
              "10925                    Household Saints\n",
              "4259                                 Made\n",
              "29                         Shanghai Triad\n",
              "Name: title, dtype: object"
            ]
          },
          "metadata": {
            "tags": []
          },
          "execution_count": 34
        }
      ]
    }
  ]
}