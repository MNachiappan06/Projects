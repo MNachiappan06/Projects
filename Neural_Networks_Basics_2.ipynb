{
 "cells": [
  {
   "cell_type": "markdown",
   "metadata": {
    "colab_type": "text",
    "id": "zUZjPnVXGz0Z"
   },
   "source": [
    "# The Iris Dataset\n",
    "The data set consists of 50 samples from each of three species of Iris (Iris setosa, Iris virginica and Iris versicolor). Four features were measured from each sample: the length and the width of the sepals and petals, in centimeters.\n",
    "\n",
    "The dataset contains a set of 150 records under five attributes - petal length, petal width, sepal length, sepal width and species."
   ]
  },
  {
   "cell_type": "markdown",
   "metadata": {
    "colab_type": "text",
    "id": "RMbmpriavLE9"
   },
   "source": [
    "### Specifying the TensorFlow version\n",
    "Running `import tensorflow` will import the default version (currently 1.x). You can use 2.x by running a cell with the `tensorflow_version` magic **before** you run `import tensorflow`."
   ]
  },
  {
   "cell_type": "code",
   "execution_count": 31,
   "metadata": {
    "colab": {
     "base_uri": "https://localhost:8080/",
     "height": 102
    },
    "colab_type": "code",
    "id": "fu8bUU__oa7h",
    "outputId": "34a7837d-3023-475d-db70-4dbbfaa259e4"
   },
   "outputs": [
    {
     "name": "stdout",
     "output_type": "stream",
     "text": [
      "`%tensorflow_version` only switches the major version: `1.x` or `2.x`.\n",
      "You set: `2.x #Take latest version of tensor flow`. This will be interpreted as: `2.x`.\n",
      "\n",
      "\n",
      "TensorFlow is already loaded. Please restart the runtime to change versions.\n"
     ]
    }
   ],
   "source": [
    "%tensorflow_version 2.x #Take latest version of tensor flow"
   ]
  },
  {
   "cell_type": "markdown",
   "metadata": {
    "colab_type": "text",
    "id": "bLz1Ckvfvn6D"
   },
   "source": [
    "### Import TensorFlow\n",
    "Once you have specified a version via this magic, you can run `import tensorflow` as normal and verify which version was imported as follows:"
   ]
  },
  {
   "cell_type": "code",
   "execution_count": 32,
   "metadata": {
    "colab": {
     "base_uri": "https://localhost:8080/",
     "height": 34
    },
    "colab_type": "code",
    "id": "CWrzVTLOvn6M",
    "outputId": "a8b52c40-ba2e-4e31-b97f-c541908a4396"
   },
   "outputs": [
    {
     "name": "stdout",
     "output_type": "stream",
     "text": [
      "2.0.0\n"
     ]
    }
   ],
   "source": [
    "import tensorflow as tf\n",
    "print(tf.__version__) #check the latest version you are working in"
   ]
  },
  {
   "cell_type": "markdown",
   "metadata": {
    "colab_type": "text",
    "id": "_uYeJgkNuXNC"
   },
   "source": [
    "### Set random seed"
   ]
  },
  {
   "cell_type": "code",
   "execution_count": 0,
   "metadata": {
    "colab": {},
    "colab_type": "code",
    "id": "lcASNsewsfQX"
   },
   "outputs": [],
   "source": [
    "tf.random.set_seed(42)"
   ]
  },
  {
   "cell_type": "markdown",
   "metadata": {
    "colab_type": "text",
    "id": "5-vVQBBqg7DI"
   },
   "source": [
    "## Question 1"
   ]
  },
  {
   "cell_type": "markdown",
   "metadata": {
    "colab_type": "text",
    "id": "kE0EDKvQhEIe"
   },
   "source": [
    "### Import dataset\n",
    "- Import iris dataset\n",
    "- Import the dataset using sklearn library"
   ]
  },
  {
   "cell_type": "code",
   "execution_count": 0,
   "metadata": {
    "colab": {},
    "colab_type": "code",
    "id": "IOOWpD26Haq3"
   },
   "outputs": [],
   "source": [
    "import pandas as pd\n",
    "import numpy as np\n",
    "from sklearn import datasets\n",
    "iris = datasets.load_iris()"
   ]
  },
  {
   "cell_type": "code",
   "execution_count": 9,
   "metadata": {
    "colab": {
     "base_uri": "https://localhost:8080/",
     "height": 1000
    },
    "colab_type": "code",
    "id": "chAnj3e-zwTQ",
    "outputId": "e6493738-e3ae-42ad-8424-2e59c15fb6e1"
   },
   "outputs": [
    {
     "data": {
      "text/plain": [
       "{'DESCR': '.. _iris_dataset:\\n\\nIris plants dataset\\n--------------------\\n\\n**Data Set Characteristics:**\\n\\n    :Number of Instances: 150 (50 in each of three classes)\\n    :Number of Attributes: 4 numeric, predictive attributes and the class\\n    :Attribute Information:\\n        - sepal length in cm\\n        - sepal width in cm\\n        - petal length in cm\\n        - petal width in cm\\n        - class:\\n                - Iris-Setosa\\n                - Iris-Versicolour\\n                - Iris-Virginica\\n                \\n    :Summary Statistics:\\n\\n    ============== ==== ==== ======= ===== ====================\\n                    Min  Max   Mean    SD   Class Correlation\\n    ============== ==== ==== ======= ===== ====================\\n    sepal length:   4.3  7.9   5.84   0.83    0.7826\\n    sepal width:    2.0  4.4   3.05   0.43   -0.4194\\n    petal length:   1.0  6.9   3.76   1.76    0.9490  (high!)\\n    petal width:    0.1  2.5   1.20   0.76    0.9565  (high!)\\n    ============== ==== ==== ======= ===== ====================\\n\\n    :Missing Attribute Values: None\\n    :Class Distribution: 33.3% for each of 3 classes.\\n    :Creator: R.A. Fisher\\n    :Donor: Michael Marshall (MARSHALL%PLU@io.arc.nasa.gov)\\n    :Date: July, 1988\\n\\nThe famous Iris database, first used by Sir R.A. Fisher. The dataset is taken\\nfrom Fisher\\'s paper. Note that it\\'s the same as in R, but not as in the UCI\\nMachine Learning Repository, which has two wrong data points.\\n\\nThis is perhaps the best known database to be found in the\\npattern recognition literature.  Fisher\\'s paper is a classic in the field and\\nis referenced frequently to this day.  (See Duda & Hart, for example.)  The\\ndata set contains 3 classes of 50 instances each, where each class refers to a\\ntype of iris plant.  One class is linearly separable from the other 2; the\\nlatter are NOT linearly separable from each other.\\n\\n.. topic:: References\\n\\n   - Fisher, R.A. \"The use of multiple measurements in taxonomic problems\"\\n     Annual Eugenics, 7, Part II, 179-188 (1936); also in \"Contributions to\\n     Mathematical Statistics\" (John Wiley, NY, 1950).\\n   - Duda, R.O., & Hart, P.E. (1973) Pattern Classification and Scene Analysis.\\n     (Q327.D83) John Wiley & Sons.  ISBN 0-471-22361-1.  See page 218.\\n   - Dasarathy, B.V. (1980) \"Nosing Around the Neighborhood: A New System\\n     Structure and Classification Rule for Recognition in Partially Exposed\\n     Environments\".  IEEE Transactions on Pattern Analysis and Machine\\n     Intelligence, Vol. PAMI-2, No. 1, 67-71.\\n   - Gates, G.W. (1972) \"The Reduced Nearest Neighbor Rule\".  IEEE Transactions\\n     on Information Theory, May 1972, 431-433.\\n   - See also: 1988 MLC Proceedings, 54-64.  Cheeseman et al\"s AUTOCLASS II\\n     conceptual clustering system finds 3 classes in the data.\\n   - Many, many more ...',\n",
       " 'data': array([[5.1, 3.5, 1.4, 0.2],\n",
       "        [4.9, 3. , 1.4, 0.2],\n",
       "        [4.7, 3.2, 1.3, 0.2],\n",
       "        [4.6, 3.1, 1.5, 0.2],\n",
       "        [5. , 3.6, 1.4, 0.2],\n",
       "        [5.4, 3.9, 1.7, 0.4],\n",
       "        [4.6, 3.4, 1.4, 0.3],\n",
       "        [5. , 3.4, 1.5, 0.2],\n",
       "        [4.4, 2.9, 1.4, 0.2],\n",
       "        [4.9, 3.1, 1.5, 0.1],\n",
       "        [5.4, 3.7, 1.5, 0.2],\n",
       "        [4.8, 3.4, 1.6, 0.2],\n",
       "        [4.8, 3. , 1.4, 0.1],\n",
       "        [4.3, 3. , 1.1, 0.1],\n",
       "        [5.8, 4. , 1.2, 0.2],\n",
       "        [5.7, 4.4, 1.5, 0.4],\n",
       "        [5.4, 3.9, 1.3, 0.4],\n",
       "        [5.1, 3.5, 1.4, 0.3],\n",
       "        [5.7, 3.8, 1.7, 0.3],\n",
       "        [5.1, 3.8, 1.5, 0.3],\n",
       "        [5.4, 3.4, 1.7, 0.2],\n",
       "        [5.1, 3.7, 1.5, 0.4],\n",
       "        [4.6, 3.6, 1. , 0.2],\n",
       "        [5.1, 3.3, 1.7, 0.5],\n",
       "        [4.8, 3.4, 1.9, 0.2],\n",
       "        [5. , 3. , 1.6, 0.2],\n",
       "        [5. , 3.4, 1.6, 0.4],\n",
       "        [5.2, 3.5, 1.5, 0.2],\n",
       "        [5.2, 3.4, 1.4, 0.2],\n",
       "        [4.7, 3.2, 1.6, 0.2],\n",
       "        [4.8, 3.1, 1.6, 0.2],\n",
       "        [5.4, 3.4, 1.5, 0.4],\n",
       "        [5.2, 4.1, 1.5, 0.1],\n",
       "        [5.5, 4.2, 1.4, 0.2],\n",
       "        [4.9, 3.1, 1.5, 0.2],\n",
       "        [5. , 3.2, 1.2, 0.2],\n",
       "        [5.5, 3.5, 1.3, 0.2],\n",
       "        [4.9, 3.6, 1.4, 0.1],\n",
       "        [4.4, 3. , 1.3, 0.2],\n",
       "        [5.1, 3.4, 1.5, 0.2],\n",
       "        [5. , 3.5, 1.3, 0.3],\n",
       "        [4.5, 2.3, 1.3, 0.3],\n",
       "        [4.4, 3.2, 1.3, 0.2],\n",
       "        [5. , 3.5, 1.6, 0.6],\n",
       "        [5.1, 3.8, 1.9, 0.4],\n",
       "        [4.8, 3. , 1.4, 0.3],\n",
       "        [5.1, 3.8, 1.6, 0.2],\n",
       "        [4.6, 3.2, 1.4, 0.2],\n",
       "        [5.3, 3.7, 1.5, 0.2],\n",
       "        [5. , 3.3, 1.4, 0.2],\n",
       "        [7. , 3.2, 4.7, 1.4],\n",
       "        [6.4, 3.2, 4.5, 1.5],\n",
       "        [6.9, 3.1, 4.9, 1.5],\n",
       "        [5.5, 2.3, 4. , 1.3],\n",
       "        [6.5, 2.8, 4.6, 1.5],\n",
       "        [5.7, 2.8, 4.5, 1.3],\n",
       "        [6.3, 3.3, 4.7, 1.6],\n",
       "        [4.9, 2.4, 3.3, 1. ],\n",
       "        [6.6, 2.9, 4.6, 1.3],\n",
       "        [5.2, 2.7, 3.9, 1.4],\n",
       "        [5. , 2. , 3.5, 1. ],\n",
       "        [5.9, 3. , 4.2, 1.5],\n",
       "        [6. , 2.2, 4. , 1. ],\n",
       "        [6.1, 2.9, 4.7, 1.4],\n",
       "        [5.6, 2.9, 3.6, 1.3],\n",
       "        [6.7, 3.1, 4.4, 1.4],\n",
       "        [5.6, 3. , 4.5, 1.5],\n",
       "        [5.8, 2.7, 4.1, 1. ],\n",
       "        [6.2, 2.2, 4.5, 1.5],\n",
       "        [5.6, 2.5, 3.9, 1.1],\n",
       "        [5.9, 3.2, 4.8, 1.8],\n",
       "        [6.1, 2.8, 4. , 1.3],\n",
       "        [6.3, 2.5, 4.9, 1.5],\n",
       "        [6.1, 2.8, 4.7, 1.2],\n",
       "        [6.4, 2.9, 4.3, 1.3],\n",
       "        [6.6, 3. , 4.4, 1.4],\n",
       "        [6.8, 2.8, 4.8, 1.4],\n",
       "        [6.7, 3. , 5. , 1.7],\n",
       "        [6. , 2.9, 4.5, 1.5],\n",
       "        [5.7, 2.6, 3.5, 1. ],\n",
       "        [5.5, 2.4, 3.8, 1.1],\n",
       "        [5.5, 2.4, 3.7, 1. ],\n",
       "        [5.8, 2.7, 3.9, 1.2],\n",
       "        [6. , 2.7, 5.1, 1.6],\n",
       "        [5.4, 3. , 4.5, 1.5],\n",
       "        [6. , 3.4, 4.5, 1.6],\n",
       "        [6.7, 3.1, 4.7, 1.5],\n",
       "        [6.3, 2.3, 4.4, 1.3],\n",
       "        [5.6, 3. , 4.1, 1.3],\n",
       "        [5.5, 2.5, 4. , 1.3],\n",
       "        [5.5, 2.6, 4.4, 1.2],\n",
       "        [6.1, 3. , 4.6, 1.4],\n",
       "        [5.8, 2.6, 4. , 1.2],\n",
       "        [5. , 2.3, 3.3, 1. ],\n",
       "        [5.6, 2.7, 4.2, 1.3],\n",
       "        [5.7, 3. , 4.2, 1.2],\n",
       "        [5.7, 2.9, 4.2, 1.3],\n",
       "        [6.2, 2.9, 4.3, 1.3],\n",
       "        [5.1, 2.5, 3. , 1.1],\n",
       "        [5.7, 2.8, 4.1, 1.3],\n",
       "        [6.3, 3.3, 6. , 2.5],\n",
       "        [5.8, 2.7, 5.1, 1.9],\n",
       "        [7.1, 3. , 5.9, 2.1],\n",
       "        [6.3, 2.9, 5.6, 1.8],\n",
       "        [6.5, 3. , 5.8, 2.2],\n",
       "        [7.6, 3. , 6.6, 2.1],\n",
       "        [4.9, 2.5, 4.5, 1.7],\n",
       "        [7.3, 2.9, 6.3, 1.8],\n",
       "        [6.7, 2.5, 5.8, 1.8],\n",
       "        [7.2, 3.6, 6.1, 2.5],\n",
       "        [6.5, 3.2, 5.1, 2. ],\n",
       "        [6.4, 2.7, 5.3, 1.9],\n",
       "        [6.8, 3. , 5.5, 2.1],\n",
       "        [5.7, 2.5, 5. , 2. ],\n",
       "        [5.8, 2.8, 5.1, 2.4],\n",
       "        [6.4, 3.2, 5.3, 2.3],\n",
       "        [6.5, 3. , 5.5, 1.8],\n",
       "        [7.7, 3.8, 6.7, 2.2],\n",
       "        [7.7, 2.6, 6.9, 2.3],\n",
       "        [6. , 2.2, 5. , 1.5],\n",
       "        [6.9, 3.2, 5.7, 2.3],\n",
       "        [5.6, 2.8, 4.9, 2. ],\n",
       "        [7.7, 2.8, 6.7, 2. ],\n",
       "        [6.3, 2.7, 4.9, 1.8],\n",
       "        [6.7, 3.3, 5.7, 2.1],\n",
       "        [7.2, 3.2, 6. , 1.8],\n",
       "        [6.2, 2.8, 4.8, 1.8],\n",
       "        [6.1, 3. , 4.9, 1.8],\n",
       "        [6.4, 2.8, 5.6, 2.1],\n",
       "        [7.2, 3. , 5.8, 1.6],\n",
       "        [7.4, 2.8, 6.1, 1.9],\n",
       "        [7.9, 3.8, 6.4, 2. ],\n",
       "        [6.4, 2.8, 5.6, 2.2],\n",
       "        [6.3, 2.8, 5.1, 1.5],\n",
       "        [6.1, 2.6, 5.6, 1.4],\n",
       "        [7.7, 3. , 6.1, 2.3],\n",
       "        [6.3, 3.4, 5.6, 2.4],\n",
       "        [6.4, 3.1, 5.5, 1.8],\n",
       "        [6. , 3. , 4.8, 1.8],\n",
       "        [6.9, 3.1, 5.4, 2.1],\n",
       "        [6.7, 3.1, 5.6, 2.4],\n",
       "        [6.9, 3.1, 5.1, 2.3],\n",
       "        [5.8, 2.7, 5.1, 1.9],\n",
       "        [6.8, 3.2, 5.9, 2.3],\n",
       "        [6.7, 3.3, 5.7, 2.5],\n",
       "        [6.7, 3. , 5.2, 2.3],\n",
       "        [6.3, 2.5, 5. , 1.9],\n",
       "        [6.5, 3. , 5.2, 2. ],\n",
       "        [6.2, 3.4, 5.4, 2.3],\n",
       "        [5.9, 3. , 5.1, 1.8]]),\n",
       " 'feature_names': ['sepal length (cm)',\n",
       "  'sepal width (cm)',\n",
       "  'petal length (cm)',\n",
       "  'petal width (cm)'],\n",
       " 'filename': '/usr/local/lib/python3.6/dist-packages/sklearn/datasets/data/iris.csv',\n",
       " 'target': array([0, 0, 0, 0, 0, 0, 0, 0, 0, 0, 0, 0, 0, 0, 0, 0, 0, 0, 0, 0, 0, 0,\n",
       "        0, 0, 0, 0, 0, 0, 0, 0, 0, 0, 0, 0, 0, 0, 0, 0, 0, 0, 0, 0, 0, 0,\n",
       "        0, 0, 0, 0, 0, 0, 1, 1, 1, 1, 1, 1, 1, 1, 1, 1, 1, 1, 1, 1, 1, 1,\n",
       "        1, 1, 1, 1, 1, 1, 1, 1, 1, 1, 1, 1, 1, 1, 1, 1, 1, 1, 1, 1, 1, 1,\n",
       "        1, 1, 1, 1, 1, 1, 1, 1, 1, 1, 1, 1, 2, 2, 2, 2, 2, 2, 2, 2, 2, 2,\n",
       "        2, 2, 2, 2, 2, 2, 2, 2, 2, 2, 2, 2, 2, 2, 2, 2, 2, 2, 2, 2, 2, 2,\n",
       "        2, 2, 2, 2, 2, 2, 2, 2, 2, 2, 2, 2, 2, 2, 2, 2, 2, 2]),\n",
       " 'target_names': array(['setosa', 'versicolor', 'virginica'], dtype='<U10')}"
      ]
     },
     "execution_count": 9,
     "metadata": {
      "tags": []
     },
     "output_type": "execute_result"
    }
   ],
   "source": [
    "iris #entire dataset is loaded as array"
   ]
  },
  {
   "cell_type": "markdown",
   "metadata": {
    "colab_type": "text",
    "id": "ta8YqInTh5v5"
   },
   "source": [
    "## Question 2"
   ]
  },
  {
   "cell_type": "markdown",
   "metadata": {
    "colab_type": "text",
    "id": "HERt3drbhX0i"
   },
   "source": [
    "### Get features and label from the dataset in separate variable\n",
    "- you can get the features using .data method\n",
    "- you can get the features using .target method"
   ]
  },
  {
   "cell_type": "code",
   "execution_count": 0,
   "metadata": {
    "colab": {},
    "colab_type": "code",
    "id": "0cV-_qHAHyvE"
   },
   "outputs": [],
   "source": [
    "X = iris.data   #since the dataset itself is an inbuilt dictionary(in array format), we have the inner data split into feature data (X) and target data (Y), hence we split x and y directly\n",
    "y = iris.target"
   ]
  },
  {
   "cell_type": "markdown",
   "metadata": {
    "colab_type": "text",
    "id": "Qg1A2lkUjFak"
   },
   "source": [
    "## Question 3"
   ]
  },
  {
   "cell_type": "markdown",
   "metadata": {
    "colab_type": "text",
    "id": "3YErwYLCH0N_"
   },
   "source": [
    "### Create train and test data\n",
    "- use train_test_split to get train and test set\n",
    "- set a random_state\n",
    "- test_size: 0.25"
   ]
  },
  {
   "cell_type": "code",
   "execution_count": 0,
   "metadata": {
    "colab": {},
    "colab_type": "code",
    "id": "TYKNJL85h7pQ"
   },
   "outputs": [],
   "source": [
    "from sklearn.model_selection import train_test_split\n",
    "X_train, X_test, y_train, y_test = train_test_split(X,y, test_size=.25, random_state=7)"
   ]
  },
  {
   "cell_type": "markdown",
   "metadata": {
    "colab_type": "text",
    "id": "g0KVP17Ozaix"
   },
   "source": [
    "## Question 4"
   ]
  },
  {
   "cell_type": "markdown",
   "metadata": {
    "colab_type": "text",
    "id": "SIjqxbhWv1zv"
   },
   "source": [
    "### One-hot encode the labels\n",
    "- convert class vectors (integers) to binary class matrix\n",
    "- convert labels\n",
    "- number of classes: 3\n",
    "- we are doing this to use categorical_crossentropy as loss"
   ]
  },
  {
   "cell_type": "code",
   "execution_count": 0,
   "metadata": {
    "colab": {},
    "colab_type": "code",
    "id": "R9vv-_gpyLY9"
   },
   "outputs": [],
   "source": [
    "y_train = tf.keras.utils.to_categorical(y_train, num_classes=3)\n",
    "y_test = tf.keras.utils.to_categorical(y_test, num_classes=3) # Since the caterigocal variable, it denotes the number of outputs, \n",
    "                                                              #which need to get, for 3 categorical varibale 3 outputs we need to get,\n",
    "                                                              # where 3 neurons - one for each here"
   ]
  },
  {
   "cell_type": "code",
   "execution_count": 38,
   "metadata": {
    "colab": {
     "base_uri": "https://localhost:8080/",
     "height": 663
    },
    "colab_type": "code",
    "id": "Zu8ucZys17p0",
    "outputId": "178a04ca-7fcd-4523-c6df-dab6c9edcddd"
   },
   "outputs": [
    {
     "data": {
      "text/plain": [
       "array([[0., 0., 1.],\n",
       "       [0., 1., 0.],\n",
       "       [1., 0., 0.],\n",
       "       [0., 1., 0.],\n",
       "       [0., 0., 1.],\n",
       "       [1., 0., 0.],\n",
       "       [0., 1., 0.],\n",
       "       [0., 1., 0.],\n",
       "       [1., 0., 0.],\n",
       "       [0., 1., 0.],\n",
       "       [0., 1., 0.],\n",
       "       [0., 1., 0.],\n",
       "       [1., 0., 0.],\n",
       "       [0., 0., 1.],\n",
       "       [1., 0., 0.],\n",
       "       [0., 1., 0.],\n",
       "       [0., 0., 1.],\n",
       "       [0., 0., 1.],\n",
       "       [1., 0., 0.],\n",
       "       [1., 0., 0.],\n",
       "       [0., 1., 0.],\n",
       "       [0., 0., 1.],\n",
       "       [0., 1., 0.],\n",
       "       [0., 0., 1.],\n",
       "       [0., 0., 1.],\n",
       "       [0., 0., 1.],\n",
       "       [0., 1., 0.],\n",
       "       [0., 1., 0.],\n",
       "       [0., 0., 1.],\n",
       "       [0., 0., 1.],\n",
       "       [0., 0., 1.],\n",
       "       [0., 1., 0.],\n",
       "       [1., 0., 0.],\n",
       "       [0., 0., 1.],\n",
       "       [0., 1., 0.],\n",
       "       [1., 0., 0.],\n",
       "       [1., 0., 0.],\n",
       "       [1., 0., 0.]], dtype=float32)"
      ]
     },
     "execution_count": 38,
     "metadata": {
      "tags": []
     },
     "output_type": "execute_result"
    }
   ],
   "source": [
    "y_test"
   ]
  },
  {
   "cell_type": "markdown",
   "metadata": {
    "colab_type": "text",
    "id": "ovjLyYzWkO9s"
   },
   "source": [
    "## Question 5"
   ]
  },
  {
   "cell_type": "markdown",
   "metadata": {
    "colab_type": "text",
    "id": "hbIFzoPNSyYo"
   },
   "source": [
    "### Initialize a sequential model\n",
    "- Define a sequential model"
   ]
  },
  {
   "cell_type": "code",
   "execution_count": 0,
   "metadata": {
    "colab": {},
    "colab_type": "code",
    "id": "4FvSbf1UjHtl"
   },
   "outputs": [],
   "source": [
    "model = tf.keras.models.Sequential() "
   ]
  },
  {
   "cell_type": "markdown",
   "metadata": {
    "colab_type": "text",
    "id": "dGMy999vlacX"
   },
   "source": [
    "## Question 6"
   ]
  },
  {
   "cell_type": "markdown",
   "metadata": {
    "colab_type": "text",
    "id": "72ibK5Jxm8iL"
   },
   "source": [
    "### Add a layer\n",
    "- Use Dense Layer  with input shape of 4 (according to the feature set) and number of outputs set to 3\n",
    "- Apply Softmax on Dense Layer outputs"
   ]
  },
  {
   "cell_type": "code",
   "execution_count": 0,
   "metadata": {
    "colab": {},
    "colab_type": "code",
    "id": "uZKrBNSRm_o9"
   },
   "outputs": [],
   "source": [
    "model.add(tf.keras.layers.Dense(3, input_shape=(4,), activation='softmax')) #3 defines the number of outputs, number of neuron in the last layer as the number of categorical variable is 3"
   ]
  },
  {
   "cell_type": "markdown",
   "metadata": {
    "colab_type": "text",
    "id": "i4uiTH8plmNX"
   },
   "source": [
    "## Question 7"
   ]
  },
  {
   "cell_type": "markdown",
   "metadata": {
    "colab_type": "text",
    "id": "yJL8n8vcSyYz"
   },
   "source": [
    "### Compile the model\n",
    "- Use SGD as Optimizer\n",
    "- Use categorical_crossentropy as loss function\n",
    "- Use accuracy as metrics"
   ]
  },
  {
   "cell_type": "code",
   "execution_count": 0,
   "metadata": {
    "colab": {},
    "colab_type": "code",
    "id": "Tc_-fjIEk1ve"
   },
   "outputs": [],
   "source": [
    "model.compile(optimizer='sgd', loss='categorical_crossentropy', metrics=['accuracy']) "
   ]
  },
  {
   "cell_type": "markdown",
   "metadata": {
    "colab_type": "text",
    "id": "sihIGbRll_jT"
   },
   "source": [
    "## Question 8"
   ]
  },
  {
   "cell_type": "markdown",
   "metadata": {
    "colab_type": "text",
    "id": "54ZZCfNGlu0i"
   },
   "source": [
    "### Summarize the model\n",
    "- Check model layers\n",
    "- Understand number of trainable parameters"
   ]
  },
  {
   "cell_type": "code",
   "execution_count": 42,
   "metadata": {
    "colab": {
     "base_uri": "https://localhost:8080/",
     "height": 187
    },
    "colab_type": "code",
    "id": "elER3F_4ln8n",
    "outputId": "73c6c75d-d947-4554-8f15-24e838cac7b7"
   },
   "outputs": [
    {
     "name": "stdout",
     "output_type": "stream",
     "text": [
      "Model: \"sequential_2\"\n",
      "_________________________________________________________________\n",
      "Layer (type)                 Output Shape              Param #   \n",
      "=================================================================\n",
      "dense_5 (Dense)              (None, 3)                 15        \n",
      "=================================================================\n",
      "Total params: 15\n",
      "Trainable params: 15\n",
      "Non-trainable params: 0\n",
      "_________________________________________________________________\n"
     ]
    }
   ],
   "source": [
    "model.summary() #earlier 5 results came because the cell has been executed 5 times, 15 params is 4 cols 3 catergocial variable, 4*3 = 12 and 3 bias(number of neurons)"
   ]
  },
  {
   "cell_type": "markdown",
   "metadata": {
    "colab_type": "text",
    "id": "2PiP7j3Vmj4p"
   },
   "source": [
    "## Question 9"
   ]
  },
  {
   "cell_type": "markdown",
   "metadata": {
    "colab_type": "text",
    "id": "rWdbfFCXmCHt"
   },
   "source": [
    "### Fit the model\n",
    "- Give train data as training features and labels\n",
    "- Epochs: 100\n",
    "- Give validation data as testing features and labels"
   ]
  },
  {
   "cell_type": "code",
   "execution_count": 43,
   "metadata": {
    "colab": {
     "base_uri": "https://localhost:8080/",
     "height": 1000
    },
    "colab_type": "code",
    "id": "cO1c-5tjmBVZ",
    "outputId": "66e67480-2624-407d-dc04-0b76959e6758"
   },
   "outputs": [
    {
     "name": "stdout",
     "output_type": "stream",
     "text": [
      "Train on 112 samples, validate on 38 samples\n",
      "Epoch 1/100\n",
      "112/112 [==============================] - 0s 3ms/sample - loss: 3.1426 - accuracy: 0.3482 - val_loss: 2.8766 - val_accuracy: 0.2895\n",
      "Epoch 2/100\n",
      "112/112 [==============================] - 0s 140us/sample - loss: 2.7259 - accuracy: 0.3482 - val_loss: 2.4734 - val_accuracy: 0.2895\n",
      "Epoch 3/100\n",
      "112/112 [==============================] - 0s 127us/sample - loss: 2.3545 - accuracy: 0.3482 - val_loss: 2.1354 - val_accuracy: 0.2895\n",
      "Epoch 4/100\n",
      "112/112 [==============================] - 0s 129us/sample - loss: 2.0456 - accuracy: 0.3482 - val_loss: 1.8736 - val_accuracy: 0.2895\n",
      "Epoch 5/100\n",
      "112/112 [==============================] - 0s 133us/sample - loss: 1.8090 - accuracy: 0.3482 - val_loss: 1.6840 - val_accuracy: 0.2895\n",
      "Epoch 6/100\n",
      "112/112 [==============================] - 0s 138us/sample - loss: 1.6395 - accuracy: 0.3482 - val_loss: 1.5509 - val_accuracy: 0.2632\n",
      "Epoch 7/100\n",
      "112/112 [==============================] - 0s 126us/sample - loss: 1.5212 - accuracy: 0.3304 - val_loss: 1.4569 - val_accuracy: 0.2368\n",
      "Epoch 8/100\n",
      "112/112 [==============================] - 0s 130us/sample - loss: 1.4377 - accuracy: 0.3036 - val_loss: 1.3889 - val_accuracy: 0.1316\n",
      "Epoch 9/100\n",
      "112/112 [==============================] - 0s 128us/sample - loss: 1.3767 - accuracy: 0.2143 - val_loss: 1.3386 - val_accuracy: 0.0263\n",
      "Epoch 10/100\n",
      "112/112 [==============================] - 0s 143us/sample - loss: 1.3308 - accuracy: 0.1429 - val_loss: 1.3004 - val_accuracy: 0.0526\n",
      "Epoch 11/100\n",
      "112/112 [==============================] - 0s 113us/sample - loss: 1.2952 - accuracy: 0.1429 - val_loss: 1.2709 - val_accuracy: 0.1053\n",
      "Epoch 12/100\n",
      "112/112 [==============================] - 0s 111us/sample - loss: 1.2670 - accuracy: 0.1250 - val_loss: 1.2475 - val_accuracy: 0.1579\n",
      "Epoch 13/100\n",
      "112/112 [==============================] - 0s 125us/sample - loss: 1.2441 - accuracy: 0.1250 - val_loss: 1.2286 - val_accuracy: 0.2105\n",
      "Epoch 14/100\n",
      "112/112 [==============================] - 0s 143us/sample - loss: 1.2250 - accuracy: 0.1429 - val_loss: 1.2129 - val_accuracy: 0.1842\n",
      "Epoch 15/100\n",
      "112/112 [==============================] - 0s 161us/sample - loss: 1.2087 - accuracy: 0.1607 - val_loss: 1.1995 - val_accuracy: 0.1842\n",
      "Epoch 16/100\n",
      "112/112 [==============================] - 0s 161us/sample - loss: 1.1945 - accuracy: 0.1786 - val_loss: 1.1878 - val_accuracy: 0.1842\n",
      "Epoch 17/100\n",
      "112/112 [==============================] - 0s 171us/sample - loss: 1.1817 - accuracy: 0.2054 - val_loss: 1.1772 - val_accuracy: 0.1316\n",
      "Epoch 18/100\n",
      "112/112 [==============================] - 0s 143us/sample - loss: 1.1700 - accuracy: 0.2143 - val_loss: 1.1674 - val_accuracy: 0.1316\n",
      "Epoch 19/100\n",
      "112/112 [==============================] - 0s 157us/sample - loss: 1.1591 - accuracy: 0.2232 - val_loss: 1.1582 - val_accuracy: 0.1579\n",
      "Epoch 20/100\n",
      "112/112 [==============================] - 0s 147us/sample - loss: 1.1488 - accuracy: 0.2321 - val_loss: 1.1494 - val_accuracy: 0.1842\n",
      "Epoch 21/100\n",
      "112/112 [==============================] - 0s 147us/sample - loss: 1.1389 - accuracy: 0.2589 - val_loss: 1.1410 - val_accuracy: 0.2105\n",
      "Epoch 22/100\n",
      "112/112 [==============================] - 0s 151us/sample - loss: 1.1293 - accuracy: 0.2589 - val_loss: 1.1328 - val_accuracy: 0.1842\n",
      "Epoch 23/100\n",
      "112/112 [==============================] - 0s 133us/sample - loss: 1.1201 - accuracy: 0.2589 - val_loss: 1.1248 - val_accuracy: 0.1842\n",
      "Epoch 24/100\n",
      "112/112 [==============================] - 0s 141us/sample - loss: 1.1110 - accuracy: 0.2500 - val_loss: 1.1170 - val_accuracy: 0.1842\n",
      "Epoch 25/100\n",
      "112/112 [==============================] - 0s 144us/sample - loss: 1.1021 - accuracy: 0.2500 - val_loss: 1.1094 - val_accuracy: 0.1842\n",
      "Epoch 26/100\n",
      "112/112 [==============================] - 0s 155us/sample - loss: 1.0934 - accuracy: 0.2589 - val_loss: 1.1018 - val_accuracy: 0.1842\n",
      "Epoch 27/100\n",
      "112/112 [==============================] - 0s 124us/sample - loss: 1.0849 - accuracy: 0.2589 - val_loss: 1.0944 - val_accuracy: 0.2105\n",
      "Epoch 28/100\n",
      "112/112 [==============================] - 0s 161us/sample - loss: 1.0765 - accuracy: 0.2589 - val_loss: 1.0872 - val_accuracy: 0.2105\n",
      "Epoch 29/100\n",
      "112/112 [==============================] - 0s 157us/sample - loss: 1.0683 - accuracy: 0.2589 - val_loss: 1.0800 - val_accuracy: 0.2105\n",
      "Epoch 30/100\n",
      "112/112 [==============================] - 0s 148us/sample - loss: 1.0602 - accuracy: 0.2589 - val_loss: 1.0730 - val_accuracy: 0.2105\n",
      "Epoch 31/100\n",
      "112/112 [==============================] - 0s 161us/sample - loss: 1.0523 - accuracy: 0.2589 - val_loss: 1.0660 - val_accuracy: 0.2105\n",
      "Epoch 32/100\n",
      "112/112 [==============================] - 0s 146us/sample - loss: 1.0444 - accuracy: 0.2589 - val_loss: 1.0592 - val_accuracy: 0.2105\n",
      "Epoch 33/100\n",
      "112/112 [==============================] - 0s 138us/sample - loss: 1.0367 - accuracy: 0.2589 - val_loss: 1.0525 - val_accuracy: 0.2368\n",
      "Epoch 34/100\n",
      "112/112 [==============================] - 0s 200us/sample - loss: 1.0292 - accuracy: 0.2589 - val_loss: 1.0459 - val_accuracy: 0.2105\n",
      "Epoch 35/100\n",
      "112/112 [==============================] - 0s 159us/sample - loss: 1.0217 - accuracy: 0.2679 - val_loss: 1.0394 - val_accuracy: 0.2105\n",
      "Epoch 36/100\n",
      "112/112 [==============================] - 0s 153us/sample - loss: 1.0144 - accuracy: 0.2857 - val_loss: 1.0330 - val_accuracy: 0.2368\n",
      "Epoch 37/100\n",
      "112/112 [==============================] - 0s 151us/sample - loss: 1.0072 - accuracy: 0.2946 - val_loss: 1.0267 - val_accuracy: 0.2632\n",
      "Epoch 38/100\n",
      "112/112 [==============================] - 0s 149us/sample - loss: 1.0001 - accuracy: 0.2946 - val_loss: 1.0205 - val_accuracy: 0.2632\n",
      "Epoch 39/100\n",
      "112/112 [==============================] - 0s 154us/sample - loss: 0.9931 - accuracy: 0.3125 - val_loss: 1.0144 - val_accuracy: 0.3158\n",
      "Epoch 40/100\n",
      "112/112 [==============================] - 0s 150us/sample - loss: 0.9863 - accuracy: 0.3125 - val_loss: 1.0084 - val_accuracy: 0.3158\n",
      "Epoch 41/100\n",
      "112/112 [==============================] - 0s 151us/sample - loss: 0.9795 - accuracy: 0.3304 - val_loss: 1.0025 - val_accuracy: 0.3158\n",
      "Epoch 42/100\n",
      "112/112 [==============================] - 0s 187us/sample - loss: 0.9729 - accuracy: 0.3393 - val_loss: 0.9967 - val_accuracy: 0.3158\n",
      "Epoch 43/100\n",
      "112/112 [==============================] - 0s 140us/sample - loss: 0.9664 - accuracy: 0.3393 - val_loss: 0.9910 - val_accuracy: 0.3158\n",
      "Epoch 44/100\n",
      "112/112 [==============================] - 0s 156us/sample - loss: 0.9599 - accuracy: 0.3482 - val_loss: 0.9853 - val_accuracy: 0.3947\n",
      "Epoch 45/100\n",
      "112/112 [==============================] - 0s 167us/sample - loss: 0.9536 - accuracy: 0.3929 - val_loss: 0.9798 - val_accuracy: 0.4211\n",
      "Epoch 46/100\n",
      "112/112 [==============================] - 0s 153us/sample - loss: 0.9474 - accuracy: 0.4286 - val_loss: 0.9743 - val_accuracy: 0.4211\n",
      "Epoch 47/100\n",
      "112/112 [==============================] - 0s 139us/sample - loss: 0.9413 - accuracy: 0.4375 - val_loss: 0.9690 - val_accuracy: 0.4474\n",
      "Epoch 48/100\n",
      "112/112 [==============================] - 0s 150us/sample - loss: 0.9353 - accuracy: 0.4643 - val_loss: 0.9637 - val_accuracy: 0.4737\n",
      "Epoch 49/100\n",
      "112/112 [==============================] - 0s 146us/sample - loss: 0.9294 - accuracy: 0.4911 - val_loss: 0.9585 - val_accuracy: 0.5000\n",
      "Epoch 50/100\n",
      "112/112 [==============================] - 0s 150us/sample - loss: 0.9235 - accuracy: 0.4911 - val_loss: 0.9534 - val_accuracy: 0.5263\n",
      "Epoch 51/100\n",
      "112/112 [==============================] - 0s 122us/sample - loss: 0.9178 - accuracy: 0.5089 - val_loss: 0.9484 - val_accuracy: 0.5263\n",
      "Epoch 52/100\n",
      "112/112 [==============================] - 0s 164us/sample - loss: 0.9122 - accuracy: 0.5179 - val_loss: 0.9434 - val_accuracy: 0.5263\n",
      "Epoch 53/100\n",
      "112/112 [==============================] - 0s 177us/sample - loss: 0.9066 - accuracy: 0.5179 - val_loss: 0.9385 - val_accuracy: 0.5263\n",
      "Epoch 54/100\n",
      "112/112 [==============================] - 0s 164us/sample - loss: 0.9012 - accuracy: 0.5446 - val_loss: 0.9337 - val_accuracy: 0.5263\n",
      "Epoch 55/100\n",
      "112/112 [==============================] - 0s 153us/sample - loss: 0.8958 - accuracy: 0.5446 - val_loss: 0.9290 - val_accuracy: 0.5526\n",
      "Epoch 56/100\n",
      "112/112 [==============================] - 0s 138us/sample - loss: 0.8905 - accuracy: 0.5446 - val_loss: 0.9244 - val_accuracy: 0.5526\n",
      "Epoch 57/100\n",
      "112/112 [==============================] - 0s 209us/sample - loss: 0.8853 - accuracy: 0.5446 - val_loss: 0.9198 - val_accuracy: 0.5526\n",
      "Epoch 58/100\n",
      "112/112 [==============================] - 0s 214us/sample - loss: 0.8802 - accuracy: 0.5536 - val_loss: 0.9153 - val_accuracy: 0.5789\n",
      "Epoch 59/100\n",
      "112/112 [==============================] - 0s 163us/sample - loss: 0.8752 - accuracy: 0.5625 - val_loss: 0.9109 - val_accuracy: 0.5789\n",
      "Epoch 60/100\n",
      "112/112 [==============================] - 0s 154us/sample - loss: 0.8702 - accuracy: 0.5714 - val_loss: 0.9065 - val_accuracy: 0.5789\n",
      "Epoch 61/100\n",
      "112/112 [==============================] - 0s 157us/sample - loss: 0.8653 - accuracy: 0.5714 - val_loss: 0.9022 - val_accuracy: 0.5789\n",
      "Epoch 62/100\n",
      "112/112 [==============================] - 0s 143us/sample - loss: 0.8605 - accuracy: 0.5714 - val_loss: 0.8980 - val_accuracy: 0.5789\n",
      "Epoch 63/100\n",
      "112/112 [==============================] - 0s 153us/sample - loss: 0.8558 - accuracy: 0.5982 - val_loss: 0.8938 - val_accuracy: 0.5789\n",
      "Epoch 64/100\n",
      "112/112 [==============================] - 0s 143us/sample - loss: 0.8511 - accuracy: 0.6161 - val_loss: 0.8897 - val_accuracy: 0.5789\n",
      "Epoch 65/100\n",
      "112/112 [==============================] - 0s 133us/sample - loss: 0.8466 - accuracy: 0.6250 - val_loss: 0.8856 - val_accuracy: 0.5789\n",
      "Epoch 66/100\n",
      "112/112 [==============================] - 0s 149us/sample - loss: 0.8421 - accuracy: 0.6250 - val_loss: 0.8817 - val_accuracy: 0.5789\n",
      "Epoch 67/100\n",
      "112/112 [==============================] - 0s 138us/sample - loss: 0.8376 - accuracy: 0.6250 - val_loss: 0.8777 - val_accuracy: 0.5789\n",
      "Epoch 68/100\n",
      "112/112 [==============================] - 0s 159us/sample - loss: 0.8332 - accuracy: 0.6250 - val_loss: 0.8739 - val_accuracy: 0.5789\n",
      "Epoch 69/100\n",
      "112/112 [==============================] - 0s 150us/sample - loss: 0.8289 - accuracy: 0.6250 - val_loss: 0.8701 - val_accuracy: 0.5789\n",
      "Epoch 70/100\n",
      "112/112 [==============================] - 0s 160us/sample - loss: 0.8247 - accuracy: 0.6250 - val_loss: 0.8663 - val_accuracy: 0.5789\n",
      "Epoch 71/100\n",
      "112/112 [==============================] - 0s 143us/sample - loss: 0.8205 - accuracy: 0.6250 - val_loss: 0.8626 - val_accuracy: 0.5789\n",
      "Epoch 72/100\n",
      "112/112 [==============================] - 0s 138us/sample - loss: 0.8164 - accuracy: 0.6250 - val_loss: 0.8590 - val_accuracy: 0.6053\n",
      "Epoch 73/100\n",
      "112/112 [==============================] - 0s 162us/sample - loss: 0.8123 - accuracy: 0.6339 - val_loss: 0.8554 - val_accuracy: 0.6053\n",
      "Epoch 74/100\n",
      "112/112 [==============================] - 0s 185us/sample - loss: 0.8084 - accuracy: 0.6339 - val_loss: 0.8518 - val_accuracy: 0.6053\n",
      "Epoch 75/100\n",
      "112/112 [==============================] - 0s 164us/sample - loss: 0.8044 - accuracy: 0.6429 - val_loss: 0.8484 - val_accuracy: 0.6053\n",
      "Epoch 76/100\n",
      "112/112 [==============================] - 0s 148us/sample - loss: 0.8006 - accuracy: 0.6518 - val_loss: 0.8449 - val_accuracy: 0.6053\n",
      "Epoch 77/100\n",
      "112/112 [==============================] - 0s 157us/sample - loss: 0.7967 - accuracy: 0.6518 - val_loss: 0.8415 - val_accuracy: 0.6053\n",
      "Epoch 78/100\n",
      "112/112 [==============================] - 0s 157us/sample - loss: 0.7930 - accuracy: 0.6607 - val_loss: 0.8382 - val_accuracy: 0.6053\n",
      "Epoch 79/100\n",
      "112/112 [==============================] - 0s 157us/sample - loss: 0.7893 - accuracy: 0.6696 - val_loss: 0.8349 - val_accuracy: 0.6053\n",
      "Epoch 80/100\n",
      "112/112 [==============================] - 0s 133us/sample - loss: 0.7856 - accuracy: 0.6696 - val_loss: 0.8317 - val_accuracy: 0.6053\n",
      "Epoch 81/100\n",
      "112/112 [==============================] - 0s 158us/sample - loss: 0.7820 - accuracy: 0.6696 - val_loss: 0.8285 - val_accuracy: 0.6053\n",
      "Epoch 82/100\n",
      "112/112 [==============================] - 0s 161us/sample - loss: 0.7785 - accuracy: 0.6786 - val_loss: 0.8253 - val_accuracy: 0.6053\n",
      "Epoch 83/100\n",
      "112/112 [==============================] - 0s 155us/sample - loss: 0.7750 - accuracy: 0.6786 - val_loss: 0.8222 - val_accuracy: 0.6053\n",
      "Epoch 84/100\n",
      "112/112 [==============================] - 0s 157us/sample - loss: 0.7715 - accuracy: 0.6875 - val_loss: 0.8192 - val_accuracy: 0.6053\n",
      "Epoch 85/100\n",
      "112/112 [==============================] - 0s 165us/sample - loss: 0.7681 - accuracy: 0.6964 - val_loss: 0.8162 - val_accuracy: 0.6053\n",
      "Epoch 86/100\n",
      "112/112 [==============================] - 0s 174us/sample - loss: 0.7648 - accuracy: 0.6964 - val_loss: 0.8132 - val_accuracy: 0.6053\n",
      "Epoch 87/100\n",
      "112/112 [==============================] - 0s 168us/sample - loss: 0.7615 - accuracy: 0.6964 - val_loss: 0.8102 - val_accuracy: 0.6053\n",
      "Epoch 88/100\n",
      "112/112 [==============================] - 0s 157us/sample - loss: 0.7582 - accuracy: 0.6964 - val_loss: 0.8073 - val_accuracy: 0.6053\n",
      "Epoch 89/100\n",
      "112/112 [==============================] - 0s 158us/sample - loss: 0.7550 - accuracy: 0.6964 - val_loss: 0.8045 - val_accuracy: 0.6316\n",
      "Epoch 90/100\n",
      "112/112 [==============================] - 0s 172us/sample - loss: 0.7518 - accuracy: 0.6964 - val_loss: 0.8017 - val_accuracy: 0.6316\n",
      "Epoch 91/100\n",
      "112/112 [==============================] - 0s 184us/sample - loss: 0.7487 - accuracy: 0.6964 - val_loss: 0.7989 - val_accuracy: 0.6316\n",
      "Epoch 92/100\n",
      "112/112 [==============================] - 0s 177us/sample - loss: 0.7456 - accuracy: 0.6964 - val_loss: 0.7961 - val_accuracy: 0.6316\n",
      "Epoch 93/100\n",
      "112/112 [==============================] - 0s 139us/sample - loss: 0.7426 - accuracy: 0.6964 - val_loss: 0.7934 - val_accuracy: 0.6316\n",
      "Epoch 94/100\n",
      "112/112 [==============================] - 0s 178us/sample - loss: 0.7396 - accuracy: 0.6964 - val_loss: 0.7908 - val_accuracy: 0.6316\n",
      "Epoch 95/100\n",
      "112/112 [==============================] - 0s 187us/sample - loss: 0.7366 - accuracy: 0.6964 - val_loss: 0.7881 - val_accuracy: 0.6316\n",
      "Epoch 96/100\n",
      "112/112 [==============================] - 0s 178us/sample - loss: 0.7337 - accuracy: 0.6964 - val_loss: 0.7855 - val_accuracy: 0.6316\n",
      "Epoch 97/100\n",
      "112/112 [==============================] - 0s 169us/sample - loss: 0.7308 - accuracy: 0.6964 - val_loss: 0.7830 - val_accuracy: 0.6316\n",
      "Epoch 98/100\n",
      "112/112 [==============================] - 0s 155us/sample - loss: 0.7280 - accuracy: 0.6964 - val_loss: 0.7804 - val_accuracy: 0.6316\n",
      "Epoch 99/100\n",
      "112/112 [==============================] - 0s 166us/sample - loss: 0.7252 - accuracy: 0.6964 - val_loss: 0.7779 - val_accuracy: 0.6316\n",
      "Epoch 100/100\n",
      "112/112 [==============================] - 0s 168us/sample - loss: 0.7224 - accuracy: 0.7054 - val_loss: 0.7755 - val_accuracy: 0.6316\n"
     ]
    },
    {
     "data": {
      "text/plain": [
       "<tensorflow.python.keras.callbacks.History at 0x7fbe5f56f0f0>"
      ]
     },
     "execution_count": 43,
     "metadata": {
      "tags": []
     },
     "output_type": "execute_result"
    }
   ],
   "source": [
    "model.fit(X_train, y_train, validation_data=(X_test, y_test), epochs=100,\n",
    "          batch_size = X_train.shape[0])       #X_train, X_test, y_train, y_test "
   ]
  },
  {
   "cell_type": "markdown",
   "metadata": {
    "colab_type": "text",
    "id": "re9ItAR3yS3J"
   },
   "source": [
    "## Question 10"
   ]
  },
  {
   "cell_type": "markdown",
   "metadata": {
    "colab_type": "text",
    "id": "liw0IFf9yVqH"
   },
   "source": [
    "### Make predictions\n",
    "- Predict labels on one row"
   ]
  },
  {
   "cell_type": "code",
   "execution_count": 46,
   "metadata": {
    "colab": {
     "base_uri": "https://localhost:8080/",
     "height": 34
    },
    "colab_type": "code",
    "id": "H5sBybi6mlLl",
    "outputId": "ed510130-31ea-48de-8885-d8d5b669fd0d"
   },
   "outputs": [
    {
     "data": {
      "text/plain": [
       "array([[0.10935906, 0.37774706, 0.51289386]], dtype=float32)"
      ]
     },
     "execution_count": 46,
     "metadata": {
      "tags": []
     },
     "output_type": "execute_result"
    }
   ],
   "source": [
    "y_predict=model.predict(X_test[0:1])\n",
    "y_predict   #[0.10935906, 0.37774706, 0.51289386] - 0.5 is the highest value hence the predicted values is 0.5 the highest value hence the predicted class \n",
    "            #is 2[0,1,2] for the first row\n",
    "            # hence the y_Test is projected as [0,0,1]\n",
    "            #Incase if [0.10935906, 0.51289386,0.37774706] - 0.5 is the highest hence the predicted values is 0.5 the highest value hence the predicted class \n",
    "            #will be as 1[0,1,2] for the first row\n",
    "            # hence the y_Test is projected as [0,1,0]"
   ]
  },
  {
   "cell_type": "code",
   "execution_count": 47,
   "metadata": {
    "colab": {
     "base_uri": "https://localhost:8080/",
     "height": 34
    },
    "colab_type": "code",
    "id": "1mMTKk4EA0jY",
    "outputId": "09a164a8-5fbd-4539-bcae-a9a8254cfafd"
   },
   "outputs": [
    {
     "data": {
      "text/plain": [
       "array([2])"
      ]
     },
     "execution_count": 47,
     "metadata": {
      "tags": []
     },
     "output_type": "execute_result"
    }
   ],
   "source": [
    "y_predict=model.predict_classes(X_test[0:1])\n",
    "y_predict"
   ]
  },
  {
   "cell_type": "code",
   "execution_count": 48,
   "metadata": {
    "colab": {
     "base_uri": "https://localhost:8080/",
     "height": 34
    },
    "colab_type": "code",
    "id": "k_Oxn6_1A6eC",
    "outputId": "ba5ddeaf-7475-4a6e-ef1e-e5489ad82f47"
   },
   "outputs": [
    {
     "data": {
      "text/plain": [
       "array([[0., 0., 1.]], dtype=float32)"
      ]
     },
     "execution_count": 48,
     "metadata": {
      "tags": []
     },
     "output_type": "execute_result"
    }
   ],
   "source": [
    "y_test[0:1]"
   ]
  },
  {
   "cell_type": "markdown",
   "metadata": {
    "colab_type": "text",
    "id": "hSUgMq3m0bG7"
   },
   "source": [
    "### Compare the prediction with actual label\n",
    "- Print the same row as done in the previous step but of actual labels"
   ]
  },
  {
   "cell_type": "code",
   "execution_count": 45,
   "metadata": {
    "colab": {
     "base_uri": "https://localhost:8080/",
     "height": 34
    },
    "colab_type": "code",
    "id": "K5WbwVPyz-qQ",
    "outputId": "e87188a3-2617-4530-91c5-24bd82f52c72"
   },
   "outputs": [
    {
     "data": {
      "text/plain": [
       "array([[0., 0., 1.]], dtype=float32)"
      ]
     },
     "execution_count": 45,
     "metadata": {
      "tags": []
     },
     "output_type": "execute_result"
    }
   ],
   "source": [
    "y_test[0:1]"
   ]
  },
  {
   "cell_type": "markdown",
   "metadata": {
    "colab_type": "text",
    "id": "FrTKwbgE7NFT"
   },
   "source": [
    "\n",
    "\n",
    "---\n",
    "\n"
   ]
  },
  {
   "cell_type": "markdown",
   "metadata": {
    "colab_type": "text",
    "id": "a1UBYPNp5Tn1"
   },
   "source": [
    "# Stock prices dataset\n",
    "The data is of tock exchange's stock listings for each trading day of 2010 to 2016.\n",
    "\n",
    "## Description\n",
    "A brief description of columns.\n",
    "- open: The opening market price of the equity symbol on the date\n",
    "- high: The highest market price of the equity symbol on the date\n",
    "- low: The lowest recorded market price of the equity symbol on the date\n",
    "- close: The closing recorded price of the equity symbol on the date\n",
    "- symbol: Symbol of the listed company\n",
    "- volume: Total traded volume of the equity symbol on the date\n",
    "- date: Date of record"
   ]
  },
  {
   "cell_type": "markdown",
   "metadata": {
    "colab_type": "text",
    "id": "ctH_ZW5g-M3g"
   },
   "source": [
    "### Specifying the TensorFlow version\n",
    "Running `import tensorflow` will import the default version (currently 1.x). You can use 2.x by running a cell with the `tensorflow_version` magic **before** you run `import tensorflow`."
   ]
  },
  {
   "cell_type": "code",
   "execution_count": 0,
   "metadata": {
    "colab": {},
    "colab_type": "code",
    "id": "vQbdODpH-M3r"
   },
   "outputs": [],
   "source": [
    "%tensorflow_version 2.x"
   ]
  },
  {
   "cell_type": "markdown",
   "metadata": {
    "colab_type": "text",
    "id": "nFQWH1tj-M38"
   },
   "source": [
    "### Import TensorFlow\n",
    "Once you have specified a version via this magic, you can run `import tensorflow` as normal and verify which version was imported as follows:"
   ]
  },
  {
   "cell_type": "code",
   "execution_count": 50,
   "metadata": {
    "colab": {
     "base_uri": "https://localhost:8080/",
     "height": 34
    },
    "colab_type": "code",
    "id": "Ho5n-xhd-M3_",
    "outputId": "e52d3c19-11f6-46c5-e0b2-863dbe968d8d"
   },
   "outputs": [
    {
     "name": "stdout",
     "output_type": "stream",
     "text": [
      "2.0.0\n"
     ]
    }
   ],
   "source": [
    "import tensorflow as tf\n",
    "print(tf.__version__)"
   ]
  },
  {
   "cell_type": "markdown",
   "metadata": {
    "colab_type": "text",
    "id": "tgkl0qu6-M4F"
   },
   "source": [
    "### Set random seed"
   ]
  },
  {
   "cell_type": "code",
   "execution_count": 0,
   "metadata": {
    "colab": {},
    "colab_type": "code",
    "id": "TKgTyuA3-M4G"
   },
   "outputs": [],
   "source": [
    "tf.random.set_seed(42)"
   ]
  },
  {
   "cell_type": "markdown",
   "metadata": {
    "colab_type": "text",
    "id": "_88voqAH-O6J"
   },
   "source": [
    "## Question 1"
   ]
  },
  {
   "cell_type": "markdown",
   "metadata": {
    "colab_type": "text",
    "id": "dRHCeJqP-evf"
   },
   "source": [
    "### Load the data\n",
    "- load the csv file and read it using pandas\n",
    "- file name is prices.csv"
   ]
  },
  {
   "cell_type": "code",
   "execution_count": 52,
   "metadata": {
    "colab": {
     "base_uri": "https://localhost:8080/",
     "height": 323
    },
    "colab_type": "code",
    "id": "cKVH5v7r-RmC",
    "outputId": "cba05a46-973e-4175-dc7b-733218ab2997"
   },
   "outputs": [
    {
     "ename": "MessageError",
     "evalue": "ignored",
     "output_type": "error",
     "traceback": [
      "\u001b[0;31m---------------------------------------------------------------------------\u001b[0m",
      "\u001b[0;31mMessageError\u001b[0m                              Traceback (most recent call last)",
      "\u001b[0;32m<ipython-input-52-5c2e8a8d365b>\u001b[0m in \u001b[0;36m<module>\u001b[0;34m()\u001b[0m\n\u001b[1;32m      1\u001b[0m \u001b[0;32mfrom\u001b[0m \u001b[0mgoogle\u001b[0m\u001b[0;34m.\u001b[0m\u001b[0mcolab\u001b[0m \u001b[0;32mimport\u001b[0m \u001b[0mfiles\u001b[0m\u001b[0;34m\u001b[0m\u001b[0;34m\u001b[0m\u001b[0m\n\u001b[0;32m----> 2\u001b[0;31m \u001b[0mfiles\u001b[0m\u001b[0;34m.\u001b[0m\u001b[0mupload\u001b[0m\u001b[0;34m(\u001b[0m\u001b[0;34m)\u001b[0m\u001b[0;34m\u001b[0m\u001b[0;34m\u001b[0m\u001b[0m\n\u001b[0m",
      "\u001b[0;32m/usr/local/lib/python3.6/dist-packages/google/colab/files.py\u001b[0m in \u001b[0;36mupload\u001b[0;34m()\u001b[0m\n\u001b[1;32m     70\u001b[0m     result = _output.eval_js(\n\u001b[1;32m     71\u001b[0m         'google.colab._files._uploadFilesContinue(\"{output_id}\")'.format(\n\u001b[0;32m---> 72\u001b[0;31m             output_id=output_id))\n\u001b[0m\u001b[1;32m     73\u001b[0m     \u001b[0;32mif\u001b[0m \u001b[0mresult\u001b[0m\u001b[0;34m[\u001b[0m\u001b[0;34m'action'\u001b[0m\u001b[0;34m]\u001b[0m \u001b[0;34m!=\u001b[0m \u001b[0;34m'append'\u001b[0m\u001b[0;34m:\u001b[0m\u001b[0;34m\u001b[0m\u001b[0;34m\u001b[0m\u001b[0m\n\u001b[1;32m     74\u001b[0m       \u001b[0;31m# JS side uses a generator of promises to process all of the files- some\u001b[0m\u001b[0;34m\u001b[0m\u001b[0;34m\u001b[0m\u001b[0;34m\u001b[0m\u001b[0m\n",
      "\u001b[0;32m/usr/local/lib/python3.6/dist-packages/google/colab/output/_js.py\u001b[0m in \u001b[0;36meval_js\u001b[0;34m(script, ignore_result)\u001b[0m\n\u001b[1;32m     37\u001b[0m   \u001b[0;32mif\u001b[0m \u001b[0mignore_result\u001b[0m\u001b[0;34m:\u001b[0m\u001b[0;34m\u001b[0m\u001b[0;34m\u001b[0m\u001b[0m\n\u001b[1;32m     38\u001b[0m     \u001b[0;32mreturn\u001b[0m\u001b[0;34m\u001b[0m\u001b[0;34m\u001b[0m\u001b[0m\n\u001b[0;32m---> 39\u001b[0;31m   \u001b[0;32mreturn\u001b[0m \u001b[0m_message\u001b[0m\u001b[0;34m.\u001b[0m\u001b[0mread_reply_from_input\u001b[0m\u001b[0;34m(\u001b[0m\u001b[0mrequest_id\u001b[0m\u001b[0;34m)\u001b[0m\u001b[0;34m\u001b[0m\u001b[0;34m\u001b[0m\u001b[0m\n\u001b[0m\u001b[1;32m     40\u001b[0m \u001b[0;34m\u001b[0m\u001b[0m\n\u001b[1;32m     41\u001b[0m \u001b[0;34m\u001b[0m\u001b[0m\n",
      "\u001b[0;32m/usr/local/lib/python3.6/dist-packages/google/colab/_message.py\u001b[0m in \u001b[0;36mread_reply_from_input\u001b[0;34m(message_id, timeout_sec)\u001b[0m\n\u001b[1;32m    104\u001b[0m         reply.get('colab_msg_id') == message_id):\n\u001b[1;32m    105\u001b[0m       \u001b[0;32mif\u001b[0m \u001b[0;34m'error'\u001b[0m \u001b[0;32min\u001b[0m \u001b[0mreply\u001b[0m\u001b[0;34m:\u001b[0m\u001b[0;34m\u001b[0m\u001b[0;34m\u001b[0m\u001b[0m\n\u001b[0;32m--> 106\u001b[0;31m         \u001b[0;32mraise\u001b[0m \u001b[0mMessageError\u001b[0m\u001b[0;34m(\u001b[0m\u001b[0mreply\u001b[0m\u001b[0;34m[\u001b[0m\u001b[0;34m'error'\u001b[0m\u001b[0;34m]\u001b[0m\u001b[0;34m)\u001b[0m\u001b[0;34m\u001b[0m\u001b[0;34m\u001b[0m\u001b[0m\n\u001b[0m\u001b[1;32m    107\u001b[0m       \u001b[0;32mreturn\u001b[0m \u001b[0mreply\u001b[0m\u001b[0;34m.\u001b[0m\u001b[0mget\u001b[0m\u001b[0;34m(\u001b[0m\u001b[0;34m'data'\u001b[0m\u001b[0;34m,\u001b[0m \u001b[0;32mNone\u001b[0m\u001b[0;34m)\u001b[0m\u001b[0;34m\u001b[0m\u001b[0;34m\u001b[0m\u001b[0m\n\u001b[1;32m    108\u001b[0m \u001b[0;34m\u001b[0m\u001b[0m\n",
      "\u001b[0;31mMessageError\u001b[0m: Error: Cell has no view"
     ]
    }
   ],
   "source": [
    "# run this cell to upload file if you are using google colab\n",
    "from google.colab import files\n",
    "files.upload()"
   ]
  },
  {
   "cell_type": "code",
   "execution_count": 53,
   "metadata": {
    "colab": {
     "base_uri": "https://localhost:8080/",
     "height": 122
    },
    "colab_type": "code",
    "id": "-gDC6cSW_FSK",
    "outputId": "665cad05-3a48-41c4-ed4f-ee6aefe47422"
   },
   "outputs": [
    {
     "name": "stdout",
     "output_type": "stream",
     "text": [
      "Go to this URL in a browser: https://accounts.google.com/o/oauth2/auth?client_id=947318989803-6bn6qk8qdgf4n4g3pfee6491hc0brc4i.apps.googleusercontent.com&redirect_uri=urn%3aietf%3awg%3aoauth%3a2.0%3aoob&response_type=code&scope=email%20https%3a%2f%2fwww.googleapis.com%2fauth%2fdocs.test%20https%3a%2f%2fwww.googleapis.com%2fauth%2fdrive%20https%3a%2f%2fwww.googleapis.com%2fauth%2fdrive.photos.readonly%20https%3a%2f%2fwww.googleapis.com%2fauth%2fpeopleapi.readonly\n",
      "\n",
      "Enter your authorization code:\n",
      "··········\n",
      "Mounted at /content/gdrive\n"
     ]
    }
   ],
   "source": [
    "from google.colab import drive\n",
    "drive.mount('/content/gdrive')"
   ]
  },
  {
   "cell_type": "code",
   "execution_count": 0,
   "metadata": {
    "colab": {},
    "colab_type": "code",
    "id": "pqX_9q1jD-D3"
   },
   "outputs": [],
   "source": [
    "import pandas as pd\n",
    "import numpy as np\n",
    "df1 = pd.read_csv('gdrive/My Drive/AIML/prices.csv')"
   ]
  },
  {
   "cell_type": "code",
   "execution_count": 56,
   "metadata": {
    "colab": {
     "base_uri": "https://localhost:8080/",
     "height": 204
    },
    "colab_type": "code",
    "id": "2Cqbo1DOERwB",
    "outputId": "e43f2a4b-5373-4d8d-d0e2-27f79abe4899"
   },
   "outputs": [
    {
     "data": {
      "text/html": [
       "<div>\n",
       "<style scoped>\n",
       "    .dataframe tbody tr th:only-of-type {\n",
       "        vertical-align: middle;\n",
       "    }\n",
       "\n",
       "    .dataframe tbody tr th {\n",
       "        vertical-align: top;\n",
       "    }\n",
       "\n",
       "    .dataframe thead th {\n",
       "        text-align: right;\n",
       "    }\n",
       "</style>\n",
       "<table border=\"1\" class=\"dataframe\">\n",
       "  <thead>\n",
       "    <tr style=\"text-align: right;\">\n",
       "      <th></th>\n",
       "      <th>date</th>\n",
       "      <th>symbol</th>\n",
       "      <th>open</th>\n",
       "      <th>close</th>\n",
       "      <th>low</th>\n",
       "      <th>high</th>\n",
       "      <th>volume</th>\n",
       "    </tr>\n",
       "  </thead>\n",
       "  <tbody>\n",
       "    <tr>\n",
       "      <th>0</th>\n",
       "      <td>2016-01-05 00:00:00</td>\n",
       "      <td>WLTW</td>\n",
       "      <td>123.430000</td>\n",
       "      <td>125.839996</td>\n",
       "      <td>122.309998</td>\n",
       "      <td>126.250000</td>\n",
       "      <td>2163600.0</td>\n",
       "    </tr>\n",
       "    <tr>\n",
       "      <th>1</th>\n",
       "      <td>2016-01-06 00:00:00</td>\n",
       "      <td>WLTW</td>\n",
       "      <td>125.239998</td>\n",
       "      <td>119.980003</td>\n",
       "      <td>119.940002</td>\n",
       "      <td>125.540001</td>\n",
       "      <td>2386400.0</td>\n",
       "    </tr>\n",
       "    <tr>\n",
       "      <th>2</th>\n",
       "      <td>2016-01-07 00:00:00</td>\n",
       "      <td>WLTW</td>\n",
       "      <td>116.379997</td>\n",
       "      <td>114.949997</td>\n",
       "      <td>114.930000</td>\n",
       "      <td>119.739998</td>\n",
       "      <td>2489500.0</td>\n",
       "    </tr>\n",
       "    <tr>\n",
       "      <th>3</th>\n",
       "      <td>2016-01-08 00:00:00</td>\n",
       "      <td>WLTW</td>\n",
       "      <td>115.480003</td>\n",
       "      <td>116.620003</td>\n",
       "      <td>113.500000</td>\n",
       "      <td>117.440002</td>\n",
       "      <td>2006300.0</td>\n",
       "    </tr>\n",
       "    <tr>\n",
       "      <th>4</th>\n",
       "      <td>2016-01-11 00:00:00</td>\n",
       "      <td>WLTW</td>\n",
       "      <td>117.010002</td>\n",
       "      <td>114.970001</td>\n",
       "      <td>114.089996</td>\n",
       "      <td>117.330002</td>\n",
       "      <td>1408600.0</td>\n",
       "    </tr>\n",
       "  </tbody>\n",
       "</table>\n",
       "</div>"
      ],
      "text/plain": [
       "                  date symbol        open  ...         low        high     volume\n",
       "0  2016-01-05 00:00:00   WLTW  123.430000  ...  122.309998  126.250000  2163600.0\n",
       "1  2016-01-06 00:00:00   WLTW  125.239998  ...  119.940002  125.540001  2386400.0\n",
       "2  2016-01-07 00:00:00   WLTW  116.379997  ...  114.930000  119.739998  2489500.0\n",
       "3  2016-01-08 00:00:00   WLTW  115.480003  ...  113.500000  117.440002  2006300.0\n",
       "4  2016-01-11 00:00:00   WLTW  117.010002  ...  114.089996  117.330002  1408600.0\n",
       "\n",
       "[5 rows x 7 columns]"
      ]
     },
     "execution_count": 56,
     "metadata": {
      "tags": []
     },
     "output_type": "execute_result"
    }
   ],
   "source": [
    "df1.head()"
   ]
  },
  {
   "cell_type": "markdown",
   "metadata": {
    "colab_type": "text",
    "id": "HlLKVPVH_BCT"
   },
   "source": [
    "## Question 2"
   ]
  },
  {
   "cell_type": "markdown",
   "metadata": {
    "colab_type": "text",
    "id": "9J4BlzVA_gZd"
   },
   "source": [
    "### Drop columnns\n",
    "- drop \"date\" and \"symbol\" column from the data"
   ]
  },
  {
   "cell_type": "code",
   "execution_count": 0,
   "metadata": {
    "colab": {},
    "colab_type": "code",
    "id": "IKEK8aEE_Csx"
   },
   "outputs": [],
   "source": [
    "df2 = df1.drop(['date','symbol'],axis = 1)"
   ]
  },
  {
   "cell_type": "markdown",
   "metadata": {
    "colab_type": "text",
    "id": "cTPhO6v-AiZt"
   },
   "source": [
    "## Question 3"
   ]
  },
  {
   "cell_type": "markdown",
   "metadata": {
    "colab_type": "text",
    "id": "SsZXmF3NAkna"
   },
   "source": [
    "### Take initial rows\n",
    "- Take first 1000 rows from the data\n",
    "- This step is done to make the execution faster"
   ]
  },
  {
   "cell_type": "code",
   "execution_count": 0,
   "metadata": {
    "colab": {},
    "colab_type": "code",
    "id": "aKs04iIHAjxN"
   },
   "outputs": [],
   "source": [
    "df3 = df2.head(1000)"
   ]
  },
  {
   "cell_type": "code",
   "execution_count": 62,
   "metadata": {
    "colab": {
     "base_uri": "https://localhost:8080/",
     "height": 34
    },
    "colab_type": "code",
    "id": "Plfkx_YrF8CR",
    "outputId": "3a388b31-96e2-493e-a373-31db94908708"
   },
   "outputs": [
    {
     "data": {
      "text/plain": [
       "(1000, 5)"
      ]
     },
     "execution_count": 62,
     "metadata": {
      "tags": []
     },
     "output_type": "execute_result"
    }
   ],
   "source": [
    "df3.shape"
   ]
  },
  {
   "cell_type": "markdown",
   "metadata": {
    "colab_type": "text",
    "id": "6vGtnapgBIJm"
   },
   "source": [
    "## Question 4"
   ]
  },
  {
   "cell_type": "markdown",
   "metadata": {
    "colab_type": "text",
    "id": "C8u_jlbABTip"
   },
   "source": [
    "### Get features and label from the dataset in separate variable\n",
    "- Take \"open\", \"close\", \"low\", \"high\" columns as features\n",
    "- Take \"volume\" column as label\n",
    "- Normalize label column by dividing it with 1000000"
   ]
  },
  {
   "cell_type": "code",
   "execution_count": 0,
   "metadata": {
    "colab": {},
    "colab_type": "code",
    "id": "xQjCMzUXBJbg"
   },
   "outputs": [],
   "source": [
    "features = df3.drop(\"volume\",axis=1)          #feature set\n",
    "label = df3[[\"volume\"]] /1000000"
   ]
  },
  {
   "cell_type": "code",
   "execution_count": 65,
   "metadata": {
    "colab": {
     "base_uri": "https://localhost:8080/",
     "height": 204
    },
    "colab_type": "code",
    "id": "BRxgxApCHhHx",
    "outputId": "1018e507-1ebc-4ad0-a8ae-6840819c3cab"
   },
   "outputs": [
    {
     "data": {
      "text/html": [
       "<div>\n",
       "<style scoped>\n",
       "    .dataframe tbody tr th:only-of-type {\n",
       "        vertical-align: middle;\n",
       "    }\n",
       "\n",
       "    .dataframe tbody tr th {\n",
       "        vertical-align: top;\n",
       "    }\n",
       "\n",
       "    .dataframe thead th {\n",
       "        text-align: right;\n",
       "    }\n",
       "</style>\n",
       "<table border=\"1\" class=\"dataframe\">\n",
       "  <thead>\n",
       "    <tr style=\"text-align: right;\">\n",
       "      <th></th>\n",
       "      <th>volume</th>\n",
       "    </tr>\n",
       "  </thead>\n",
       "  <tbody>\n",
       "    <tr>\n",
       "      <th>0</th>\n",
       "      <td>2.1636</td>\n",
       "    </tr>\n",
       "    <tr>\n",
       "      <th>1</th>\n",
       "      <td>2.3864</td>\n",
       "    </tr>\n",
       "    <tr>\n",
       "      <th>2</th>\n",
       "      <td>2.4895</td>\n",
       "    </tr>\n",
       "    <tr>\n",
       "      <th>3</th>\n",
       "      <td>2.0063</td>\n",
       "    </tr>\n",
       "    <tr>\n",
       "      <th>4</th>\n",
       "      <td>1.4086</td>\n",
       "    </tr>\n",
       "  </tbody>\n",
       "</table>\n",
       "</div>"
      ],
      "text/plain": [
       "   volume\n",
       "0  2.1636\n",
       "1  2.3864\n",
       "2  2.4895\n",
       "3  2.0063\n",
       "4  1.4086"
      ]
     },
     "execution_count": 65,
     "metadata": {
      "tags": []
     },
     "output_type": "execute_result"
    }
   ],
   "source": [
    "label.head()"
   ]
  },
  {
   "cell_type": "markdown",
   "metadata": {
    "colab_type": "text",
    "id": "aTAKzlxZBz0z"
   },
   "source": [
    "## Question 5"
   ]
  },
  {
   "cell_type": "markdown",
   "metadata": {
    "colab_type": "text",
    "id": "IfY8Km1Zzyt2"
   },
   "source": [
    "### Convert data\n",
    "- Convert features and labels to numpy array\n",
    "- Convert their data type to \"float32\""
   ]
  },
  {
   "cell_type": "code",
   "execution_count": 0,
   "metadata": {
    "colab": {},
    "colab_type": "code",
    "id": "Ko7nnQVbYENh"
   },
   "outputs": [],
   "source": [
    "features = features.values\n",
    "label = label.values"
   ]
  },
  {
   "cell_type": "code",
   "execution_count": 0,
   "metadata": {
    "colab": {},
    "colab_type": "code",
    "id": "U1u_6yVlIXoF"
   },
   "outputs": [],
   "source": [
    "features = features.astype('float32')\n",
    "label = label.astype('float32')"
   ]
  },
  {
   "cell_type": "code",
   "execution_count": 74,
   "metadata": {
    "colab": {
     "base_uri": "https://localhost:8080/",
     "height": 163
    },
    "colab_type": "code",
    "id": "3IGZEH7lIh4j",
    "outputId": "96164fd9-4ca5-4b9c-fd94-46e6cfe6efd3"
   },
   "outputs": [
    {
     "ename": "AttributeError",
     "evalue": "ignored",
     "output_type": "error",
     "traceback": [
      "\u001b[0;31m---------------------------------------------------------------------------\u001b[0m",
      "\u001b[0;31mAttributeError\u001b[0m                            Traceback (most recent call last)",
      "\u001b[0;32m<ipython-input-74-ea3967c82237>\u001b[0m in \u001b[0;36m<module>\u001b[0;34m()\u001b[0m\n\u001b[0;32m----> 1\u001b[0;31m \u001b[0mfeatures\u001b[0m\u001b[0;34m.\u001b[0m\u001b[0mdtypes\u001b[0m\u001b[0;34m\u001b[0m\u001b[0;34m\u001b[0m\u001b[0m\n\u001b[0m",
      "\u001b[0;31mAttributeError\u001b[0m: 'numpy.ndarray' object has no attribute 'dtypes'"
     ]
    }
   ],
   "source": [
    "features.dtypes"
   ]
  },
  {
   "cell_type": "code",
   "execution_count": 75,
   "metadata": {
    "colab": {
     "base_uri": "https://localhost:8080/",
     "height": 163
    },
    "colab_type": "code",
    "id": "NxK4coJtIocw",
    "outputId": "19765128-4fd9-4e50-c740-41b65898f0db"
   },
   "outputs": [
    {
     "ename": "AttributeError",
     "evalue": "ignored",
     "output_type": "error",
     "traceback": [
      "\u001b[0;31m---------------------------------------------------------------------------\u001b[0m",
      "\u001b[0;31mAttributeError\u001b[0m                            Traceback (most recent call last)",
      "\u001b[0;32m<ipython-input-75-20d8f1093c0a>\u001b[0m in \u001b[0;36m<module>\u001b[0;34m()\u001b[0m\n\u001b[0;32m----> 1\u001b[0;31m \u001b[0mlabel\u001b[0m\u001b[0;34m.\u001b[0m\u001b[0mdtypes\u001b[0m\u001b[0;34m\u001b[0m\u001b[0;34m\u001b[0m\u001b[0m\n\u001b[0m",
      "\u001b[0;31mAttributeError\u001b[0m: 'numpy.ndarray' object has no attribute 'dtypes'"
     ]
    }
   ],
   "source": [
    "label.dtypes"
   ]
  },
  {
   "cell_type": "markdown",
   "metadata": {
    "colab_type": "text",
    "id": "3TWpN0nVTpUx"
   },
   "source": [
    "## Question 6"
   ]
  },
  {
   "cell_type": "markdown",
   "metadata": {
    "colab_type": "text",
    "id": "WQ1FKEs-4btX"
   },
   "source": [
    "### Normalize data\n",
    "- Normalize features\n",
    "- Use tf.math.l2_normalize to normalize features\n",
    "- You can read more about it here https://www.tensorflow.org/api_docs/python/tf/math/l2_normalize"
   ]
  },
  {
   "cell_type": "code",
   "execution_count": 0,
   "metadata": {
    "colab": {},
    "colab_type": "code",
    "id": "V0Tfe00X78wB"
   },
   "outputs": [],
   "source": [
    "features = tf.math.l2_normalize(features)"
   ]
  },
  {
   "cell_type": "markdown",
   "metadata": {
    "colab_type": "text",
    "id": "wmXUGc2oTspa"
   },
   "source": [
    "## Question 7"
   ]
  },
  {
   "cell_type": "markdown",
   "metadata": {
    "colab_type": "text",
    "id": "VJelDMpzxs0L"
   },
   "source": [
    "### Define weight and bias\n",
    "- Initialize weight and bias with tf.zeros\n",
    "- tf.zeros is an initializer that generates tensors initialized to 0\n",
    "- Specify the value for shape"
   ]
  },
  {
   "cell_type": "code",
   "execution_count": 0,
   "metadata": {
    "colab": {},
    "colab_type": "code",
    "id": "8o9RPWVTxs0O"
   },
   "outputs": [],
   "source": [
    "w = tf.zeros(shape=(4, 1))\n",
    "b = tf.zeros(shape=(1)) # this itself assigns the bias accodring to the number of neuron you define"
   ]
  },
  {
   "cell_type": "markdown",
   "metadata": {
    "colab_type": "text",
    "id": "8a0wr94aTyjg"
   },
   "source": [
    "## Question 8"
   ]
  },
  {
   "cell_type": "markdown",
   "metadata": {
    "colab_type": "text",
    "id": "zMXXYdOSxs0Q"
   },
   "source": [
    "### Get prediction\n",
    "- Define a function to get prediction\n",
    "- Approach: prediction = (X * W) + b; here is X is features"
   ]
  },
  {
   "cell_type": "code",
   "execution_count": 0,
   "metadata": {
    "colab": {},
    "colab_type": "code",
    "id": "U8Cty1y0xs0S"
   },
   "outputs": [],
   "source": [
    "@tf.function\n",
    "def prediction(features, w, b):\n",
    "    y_pred = tf.add(tf.matmul(features, w), b)\n",
    "    return y_pred"
   ]
  },
  {
   "cell_type": "markdown",
   "metadata": {
    "colab_type": "text",
    "id": "lQmS3Tauxs0V"
   },
   "source": [
    "### Calculate loss\n",
    "- Calculate loss using predictions\n",
    "- Define a function to calculate loss\n",
    "- We are calculating mean squared error"
   ]
  },
  {
   "cell_type": "code",
   "execution_count": 0,
   "metadata": {
    "colab": {},
    "colab_type": "code",
    "id": "-FRXmDd5xs0X"
   },
   "outputs": [],
   "source": [
    "@tf.function\n",
    "def loss(y_actual, y_predicted):\n",
    "    diff = y_actual - y_predicted\n",
    "    sqr = tf.square(diff)\n",
    "    avg = tf.reduce_mean(sqr)\n",
    "    return avg"
   ]
  },
  {
   "cell_type": "markdown",
   "metadata": {
    "colab_type": "text",
    "id": "ZbBpnOtfT0wd"
   },
   "source": [
    "## Question 9"
   ]
  },
  {
   "cell_type": "markdown",
   "metadata": {
    "colab_type": "text",
    "id": "bkOzAUUsTmF_"
   },
   "source": [
    "### Define a function to train the model\n",
    "1.   Record all the mathematical steps to calculate Loss\n",
    "2.   Calculate Gradients of Loss w.r.t weights and bias\n",
    "3.   Update Weights and Bias based on gradients and learning rate to minimize loss"
   ]
  },
  {
   "cell_type": "code",
   "execution_count": 0,
   "metadata": {
    "colab": {},
    "colab_type": "code",
    "id": "2R4uieGYLYtM"
   },
   "outputs": [],
   "source": [
    "@tf.function\n",
    "def train(x, y_actual, w, b, learning_rate=0.01):\n",
    "    \n",
    "    # Record mathematical operations on 'tape' to calculate loss\n",
    "    with tf.GradientTape() as t:\n",
    "        t.watch([w,b])\n",
    "        current_prediction = prediction(x, w, b)\n",
    "        current_loss = loss(y_actual, current_prediction)\n",
    "    \n",
    "    # Calculate Gradients for Loss with respect to Weights and Bias\n",
    "    dw, db = t.gradient(current_loss,[w, b])\n",
    "    \n",
    "    # Update Weights and Bias\n",
    "    w = w - learning_rate * dw\n",
    "    b = b - learning_rate * db\n",
    "    \n",
    "    return w, b"
   ]
  },
  {
   "cell_type": "markdown",
   "metadata": {
    "colab_type": "text",
    "id": "AW4SEP8kT2ls"
   },
   "source": [
    "## Question 10"
   ]
  },
  {
   "cell_type": "markdown",
   "metadata": {
    "colab_type": "text",
    "id": "yeN0deOvT81N"
   },
   "source": [
    "### Train the model for 100 epochs \n",
    "- Observe the training loss at every iteration"
   ]
  },
  {
   "cell_type": "code",
   "execution_count": 97,
   "metadata": {
    "colab": {
     "base_uri": "https://localhost:8080/",
     "height": 1000
    },
    "colab_type": "code",
    "id": "Jjkn4gUgLevE",
    "outputId": "b587ab96-045f-47b1-c7f4-0660c4117286"
   },
   "outputs": [
    {
     "name": "stdout",
     "output_type": "stream",
     "text": [
      "Current Training Loss on iteration 0 236.16805\n",
      "Current Training Loss on iteration 1 235.09369\n",
      "Current Training Loss on iteration 2 234.06194\n",
      "Current Training Loss on iteration 3 233.07103\n",
      "Current Training Loss on iteration 4 232.1194\n",
      "Current Training Loss on iteration 5 231.20547\n",
      "Current Training Loss on iteration 6 230.32773\n",
      "Current Training Loss on iteration 7 229.48479\n",
      "Current Training Loss on iteration 8 228.67525\n",
      "Current Training Loss on iteration 9 227.89775\n",
      "Current Training Loss on iteration 10 227.1511\n",
      "Current Training Loss on iteration 11 226.43398\n",
      "Current Training Loss on iteration 12 225.7453\n",
      "Current Training Loss on iteration 13 225.08394\n",
      "Current Training Loss on iteration 14 224.4487\n",
      "Current Training Loss on iteration 15 223.83865\n",
      "Current Training Loss on iteration 16 223.25282\n",
      "Current Training Loss on iteration 17 222.69019\n",
      "Current Training Loss on iteration 18 222.14984\n",
      "Current Training Loss on iteration 19 221.6309\n",
      "Current Training Loss on iteration 20 221.13252\n",
      "Current Training Loss on iteration 21 220.65384\n",
      "Current Training Loss on iteration 22 220.19417\n",
      "Current Training Loss on iteration 23 219.75275\n",
      "Current Training Loss on iteration 24 219.32877\n",
      "Current Training Loss on iteration 25 218.92152\n",
      "Current Training Loss on iteration 26 218.53053\n",
      "Current Training Loss on iteration 27 218.15497\n",
      "Current Training Loss on iteration 28 217.79428\n",
      "Current Training Loss on iteration 29 217.44789\n",
      "Current Training Loss on iteration 30 217.11523\n",
      "Current Training Loss on iteration 31 216.79572\n",
      "Current Training Loss on iteration 32 216.48888\n",
      "Current Training Loss on iteration 33 216.19421\n",
      "Current Training Loss on iteration 34 215.91125\n",
      "Current Training Loss on iteration 35 215.63943\n",
      "Current Training Loss on iteration 36 215.37845\n",
      "Current Training Loss on iteration 37 215.12772\n",
      "Current Training Loss on iteration 38 214.887\n",
      "Current Training Loss on iteration 39 214.65575\n",
      "Current Training Loss on iteration 40 214.43372\n",
      "Current Training Loss on iteration 41 214.22044\n",
      "Current Training Loss on iteration 42 214.01562\n",
      "Current Training Loss on iteration 43 213.81891\n",
      "Current Training Loss on iteration 44 213.63005\n",
      "Current Training Loss on iteration 45 213.4486\n",
      "Current Training Loss on iteration 46 213.27434\n",
      "Current Training Loss on iteration 47 213.10704\n",
      "Current Training Loss on iteration 48 212.94633\n",
      "Current Training Loss on iteration 49 212.79198\n",
      "Current Training Loss on iteration 50 212.64375\n",
      "Current Training Loss on iteration 51 212.5014\n",
      "Current Training Loss on iteration 52 212.36465\n",
      "Current Training Loss on iteration 53 212.23338\n",
      "Current Training Loss on iteration 54 212.10727\n",
      "Current Training Loss on iteration 55 211.98619\n",
      "Current Training Loss on iteration 56 211.86984\n",
      "Current Training Loss on iteration 57 211.75818\n",
      "Current Training Loss on iteration 58 211.65086\n",
      "Current Training Loss on iteration 59 211.54784\n",
      "Current Training Loss on iteration 60 211.44887\n",
      "Current Training Loss on iteration 61 211.35385\n",
      "Current Training Loss on iteration 62 211.26256\n",
      "Current Training Loss on iteration 63 211.17491\n",
      "Current Training Loss on iteration 64 211.09074\n",
      "Current Training Loss on iteration 65 211.00987\n",
      "Current Training Loss on iteration 66 210.93222\n",
      "Current Training Loss on iteration 67 210.85762\n",
      "Current Training Loss on iteration 68 210.786\n",
      "Current Training Loss on iteration 69 210.71729\n",
      "Current Training Loss on iteration 70 210.65121\n",
      "Current Training Loss on iteration 71 210.58774\n",
      "Current Training Loss on iteration 72 210.52681\n",
      "Current Training Loss on iteration 73 210.46829\n",
      "Current Training Loss on iteration 74 210.4121\n",
      "Current Training Loss on iteration 75 210.3581\n",
      "Current Training Loss on iteration 76 210.30624\n",
      "Current Training Loss on iteration 77 210.25647\n",
      "Current Training Loss on iteration 78 210.20859\n",
      "Current Training Loss on iteration 79 210.16272\n",
      "Current Training Loss on iteration 80 210.11855\n",
      "Current Training Loss on iteration 81 210.07625\n",
      "Current Training Loss on iteration 82 210.03557\n",
      "Current Training Loss on iteration 83 209.99649\n",
      "Current Training Loss on iteration 84 209.95894\n",
      "Current Training Loss on iteration 85 209.92291\n",
      "Current Training Loss on iteration 86 209.88828\n",
      "Current Training Loss on iteration 87 209.85503\n",
      "Current Training Loss on iteration 88 209.82309\n",
      "Current Training Loss on iteration 89 209.7924\n",
      "Current Training Loss on iteration 90 209.76294\n",
      "Current Training Loss on iteration 91 209.73465\n",
      "Current Training Loss on iteration 92 209.7075\n",
      "Current Training Loss on iteration 93 209.68141\n",
      "Current Training Loss on iteration 94 209.65634\n",
      "Current Training Loss on iteration 95 209.63225\n",
      "Current Training Loss on iteration 96 209.60913\n",
      "Current Training Loss on iteration 97 209.5869\n",
      "Current Training Loss on iteration 98 209.56561\n",
      "Current Training Loss on iteration 99 209.5451\n"
     ]
    }
   ],
   "source": [
    "for i in range(100):    \n",
    "    w, b = train(features, label, w, b)\n",
    "    print('Current Training Loss on iteration', i, loss(label, prediction(features, w, b)).numpy())"
   ]
  },
  {
   "cell_type": "markdown",
   "metadata": {
    "colab_type": "text",
    "id": "vanvD93FV0_k"
   },
   "source": [
    "### Observe values of Weight\n",
    "- Print the updated values"
   ]
  },
  {
   "cell_type": "code",
   "execution_count": 98,
   "metadata": {
    "colab": {
     "base_uri": "https://localhost:8080/",
     "height": 85
    },
    "colab_type": "code",
    "id": "QSqpy4gtWaOD",
    "outputId": "f7571483-a863-4cd8-9649-13a7afa4482e"
   },
   "outputs": [
    {
     "data": {
      "text/plain": [
       "array([[0.0194333 ],\n",
       "       [0.01969694],\n",
       "       [0.01937149],\n",
       "       [0.01976266]], dtype=float32)"
      ]
     },
     "execution_count": 98,
     "metadata": {
      "tags": []
     },
     "output_type": "execute_result"
    }
   ],
   "source": [
    "w.numpy()"
   ]
  },
  {
   "cell_type": "markdown",
   "metadata": {
    "colab_type": "text",
    "id": "y9KpRupYUEwy"
   },
   "source": [
    "### Observe values of Bias\n",
    "- Print the updated values"
   ]
  },
  {
   "cell_type": "code",
   "execution_count": 99,
   "metadata": {
    "colab": {
     "base_uri": "https://localhost:8080/",
     "height": 34
    },
    "colab_type": "code",
    "id": "bhEWkGqHWohg",
    "outputId": "ecc65246-cd58-4bf2-8f6c-21f69d7d4a5b"
   },
   "outputs": [
    {
     "data": {
      "text/plain": [
       "array([4.608607], dtype=float32)"
      ]
     },
     "execution_count": 99,
     "metadata": {
      "tags": []
     },
     "output_type": "execute_result"
    }
   ],
   "source": [
    "b.numpy()"
   ]
  }
 ],
 "metadata": {
  "colab": {
   "collapsed_sections": [],
   "name": "Questions - Internal - R6 - AIML Labs.ipynb",
   "provenance": []
  },
  "kernelspec": {
   "display_name": "Python 3",
   "language": "python",
   "name": "python3"
  },
  "language_info": {
   "codemirror_mode": {
    "name": "ipython",
    "version": 3
   },
   "file_extension": ".py",
   "mimetype": "text/x-python",
   "name": "python",
   "nbconvert_exporter": "python",
   "pygments_lexer": "ipython3",
   "version": "3.7.3"
  }
 },
 "nbformat": 4,
 "nbformat_minor": 1
}
